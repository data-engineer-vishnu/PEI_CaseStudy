{
 "cells": [
  {
   "cell_type": "code",
   "execution_count": 0,
   "metadata": {
    "application/vnd.databricks.v1+cell": {
     "cellMetadata": {
      "byteLimit": 2048000,
      "implicitDf": true,
      "rowLimit": 10000
     },
     "inputWidgets": {},
     "nuid": "ce07b583-6c1a-48b0-997d-b0f991153afe",
     "showTitle": true,
     "title": "5a. \tProfit by Year"
    }
   },
   "outputs": [
    {
     "output_type": "display_data",
     "data": {
      "text/html": [
       "<style scoped>\n",
       "  .table-result-container {\n",
       "    max-height: 300px;\n",
       "    overflow: auto;\n",
       "  }\n",
       "  table, th, td {\n",
       "    border: 1px solid black;\n",
       "    border-collapse: collapse;\n",
       "  }\n",
       "  th, td {\n",
       "    padding: 5px;\n",
       "  }\n",
       "  th {\n",
       "    text-align: left;\n",
       "  }\n",
       "</style><div class='table-result-container'><table class='table-result'><thead style='background-color: white'><tr><th>ORDER_YEAR</th><th>TOTAL_PROFIT</th></tr></thead><tbody><tr><td>2016</td><td>65073.58</td></tr><tr><td>2017</td><td>111085.31</td></tr><tr><td>2014</td><td>39185.89</td></tr><tr><td>2015</td><td>63073.3</td></tr></tbody></table></div>"
      ]
     },
     "metadata": {
      "application/vnd.databricks.v1+output": {
       "addedWidgets": {},
       "aggData": [],
       "aggError": "",
       "aggOverflow": false,
       "aggSchema": [],
       "aggSeriesLimitReached": false,
       "aggType": "",
       "arguments": {},
       "columnCustomDisplayInfos": {},
       "data": [
        [
         "2016",
         65073.58
        ],
        [
         "2017",
         111085.31
        ],
        [
         "2014",
         39185.89
        ],
        [
         "2015",
         63073.3
        ]
       ],
       "datasetInfos": [],
       "dbfsResultPath": null,
       "isJsonSchema": true,
       "metadata": {},
       "overflow": false,
       "plotOptions": {
        "customPlotOptions": {},
        "displayType": "table",
        "pivotAggregation": null,
        "pivotColumns": null,
        "xColumns": null,
        "yColumns": null
       },
       "removedWidgets": [],
       "schema": [
        {
         "metadata": "{}",
         "name": "ORDER_YEAR",
         "type": "\"string\""
        },
        {
         "metadata": "{}",
         "name": "TOTAL_PROFIT",
         "type": "\"double\""
        }
       ],
       "type": "table"
      }
     },
     "output_type": "display_data"
    }
   ],
   "source": [
    "%sql\n",
    "SELECT ORDER_YEAR,\n",
    "  ROUND(SUM(Total_Profit),2) AS TOTAL_PROFIT\n",
    "FROM agg_profit\n",
    "GROUP BY ORDER_YEAR"
   ]
  },
  {
   "cell_type": "code",
   "execution_count": 0,
   "metadata": {
    "application/vnd.databricks.v1+cell": {
     "cellMetadata": {
      "byteLimit": 2048000,
      "implicitDf": true,
      "rowLimit": 10000
     },
     "inputWidgets": {},
     "nuid": "6c708e7a-8532-4a14-ac2a-38459ebc0459",
     "showTitle": true,
     "title": "5b.\tProfit by Year + Product Category"
    }
   },
   "outputs": [
    {
     "output_type": "display_data",
     "data": {
      "text/html": [
       "<style scoped>\n",
       "  .table-result-container {\n",
       "    max-height: 300px;\n",
       "    overflow: auto;\n",
       "  }\n",
       "  table, th, td {\n",
       "    border: 1px solid black;\n",
       "    border-collapse: collapse;\n",
       "  }\n",
       "  th, td {\n",
       "    padding: 5px;\n",
       "  }\n",
       "  th {\n",
       "    text-align: left;\n",
       "  }\n",
       "</style><div class='table-result-container'><table class='table-result'><thead style='background-color: white'><tr><th>ORDER_YEAR</th><th>PRODUCT_CATEGORY</th><th>TOTAL_PROFIT</th></tr></thead><tbody><tr><td>2016</td><td>null</td><td>38454.08</td></tr><tr><td>2017</td><td>null</td><td>57704.18</td></tr><tr><td>2014</td><td>null</td><td>17015.05</td></tr><tr><td>2016</td><td>Office Supplies</td><td>19140.31</td></tr><tr><td>2016</td><td>Furniture</td><td>3667.29</td></tr><tr><td>2015</td><td>Technology</td><td>19872.73</td></tr><tr><td>2015</td><td>Furniture</td><td>695.62</td></tr><tr><td>2014</td><td>Office Supplies</td><td>15562.3</td></tr><tr><td>2016</td><td>Technology</td><td>3811.9</td></tr><tr><td>2015</td><td>null</td><td>25186.94</td></tr><tr><td>2015</td><td>Office Supplies</td><td>17318.01</td></tr><tr><td>2017</td><td>Technology</td><td>19860.26</td></tr><tr><td>2014</td><td>Furniture</td><td>-7819.11</td></tr><tr><td>2017</td><td>Office Supplies</td><td>32421.46</td></tr><tr><td>2014</td><td>Technology</td><td>14427.65</td></tr><tr><td>2017</td><td>Furniture</td><td>1099.41</td></tr></tbody></table></div>"
      ]
     },
     "metadata": {
      "application/vnd.databricks.v1+output": {
       "addedWidgets": {},
       "aggData": [],
       "aggError": "",
       "aggOverflow": false,
       "aggSchema": [],
       "aggSeriesLimitReached": false,
       "aggType": "",
       "arguments": {},
       "columnCustomDisplayInfos": {},
       "data": [
        [
         "2016",
         null,
         38454.08
        ],
        [
         "2017",
         null,
         57704.18
        ],
        [
         "2014",
         null,
         17015.05
        ],
        [
         "2016",
         "Office Supplies",
         19140.31
        ],
        [
         "2016",
         "Furniture",
         3667.29
        ],
        [
         "2015",
         "Technology",
         19872.73
        ],
        [
         "2015",
         "Furniture",
         695.62
        ],
        [
         "2014",
         "Office Supplies",
         15562.3
        ],
        [
         "2016",
         "Technology",
         3811.9
        ],
        [
         "2015",
         null,
         25186.94
        ],
        [
         "2015",
         "Office Supplies",
         17318.01
        ],
        [
         "2017",
         "Technology",
         19860.26
        ],
        [
         "2014",
         "Furniture",
         -7819.11
        ],
        [
         "2017",
         "Office Supplies",
         32421.46
        ],
        [
         "2014",
         "Technology",
         14427.65
        ],
        [
         "2017",
         "Furniture",
         1099.41
        ]
       ],
       "datasetInfos": [],
       "dbfsResultPath": null,
       "isJsonSchema": true,
       "metadata": {},
       "overflow": false,
       "plotOptions": {
        "customPlotOptions": {},
        "displayType": "table",
        "pivotAggregation": null,
        "pivotColumns": null,
        "xColumns": null,
        "yColumns": null
       },
       "removedWidgets": [],
       "schema": [
        {
         "metadata": "{}",
         "name": "ORDER_YEAR",
         "type": "\"string\""
        },
        {
         "metadata": "{}",
         "name": "PRODUCT_CATEGORY",
         "type": "\"string\""
        },
        {
         "metadata": "{}",
         "name": "TOTAL_PROFIT",
         "type": "\"double\""
        }
       ],
       "type": "table"
      }
     },
     "output_type": "display_data"
    }
   ],
   "source": [
    "%sql\n",
    "SELECT ORDER_YEAR,\n",
    "  PRODUCT_CATEGORY,\n",
    "  ROUND(SUM(Total_Profit),2) AS TOTAL_PROFIT\n",
    "FROM agg_profit\n",
    "GROUP BY ORDER_YEAR,\n",
    "  PRODUCT_CATEGORY;"
   ]
  },
  {
   "cell_type": "code",
   "execution_count": 0,
   "metadata": {
    "application/vnd.databricks.v1+cell": {
     "cellMetadata": {
      "byteLimit": 2048000,
      "implicitDf": true,
      "rowLimit": 10000
     },
     "inputWidgets": {},
     "nuid": "5cdf54d3-abc8-4751-91d8-0c0d9ff764f4",
     "showTitle": true,
     "title": "5c.\tProfit by Customer"
    }
   },
   "outputs": [
    {
     "output_type": "display_data",
     "data": {
      "text/html": [
       "<style scoped>\n",
       "  .table-result-container {\n",
       "    max-height: 300px;\n",
       "    overflow: auto;\n",
       "  }\n",
       "  table, th, td {\n",
       "    border: 1px solid black;\n",
       "    border-collapse: collapse;\n",
       "  }\n",
       "  th, td {\n",
       "    padding: 5px;\n",
       "  }\n",
       "  th {\n",
       "    text-align: left;\n",
       "  }\n",
       "</style><div class='table-result-container'><table class='table-result'><thead style='background-color: white'><tr><th>Customer_name</th><th>Customer_ID</th><th>Total_Profit</th></tr></thead><tbody><tr><td>Alex Avila</td><td>AA-10315</td><td>-362.9</td></tr><tr><td>Allen Armold</td><td>AA-10375</td><td>277.4</td></tr><tr><td>Andrew Allen</td><td>AA-10480</td><td>436.08</td></tr><tr><td>Anna Andreadi</td><td>AA-10645</td><td>857.8</td></tr><tr><td>Aaron Bergman</td><td>AB-10015</td><td>129.68</td></tr><tr><td>Adam Bellavance</td><td>AB-10060</td><td>2054.6</td></tr><tr><td>Adrian Barton</td><td>AB-10105</td><td>5444.97</td></tr><tr><td>Aimee Bixby</td><td>AB-10150</td><td>313.66</td></tr><tr><td>Alan Barnes</td><td>AB-10165</td><td>220.61</td></tr><tr><td>Alejandro Ballentine</td><td>AB-10255</td><td>264.57</td></tr><tr><td>Ann Blume</td><td>AB-10600</td><td>-275.28</td></tr><tr><td>Alyssa Crouse</td><td>AC-10420</td><td>-62.13</td></tr><tr><td>Amy Cox</td><td>AC-10450</td><td>1366.5</td></tr><tr><td>Ann Chong</td><td>AC-10615</td><td>298.61</td></tr><tr><td>Anna Chung</td><td>AC-10660</td><td>-28.7</td></tr><tr><td>Alan Dominguez</td><td>AD-10180</td><td>1869.92</td></tr><tr><td>Art Ferguson</td><td>AF-10870</td><td>317.63</td></tr><tr><td>Art Foster</td><td>AF-10885</td><td>-163.13</td></tr><tr><td>Alejandro Grove</td><td>AG-10270</td><td>732.75</td></tr><tr><td>Aleksandra Gannaway</td><td>AG-10300</td><td>59.3</td></tr><tr><td>Alex Grayson</td><td>AG-10330</td><td>-5.36</td></tr><tr><td>Allen Goldenen</td><td>AG-10390</td><td>69.27</td></tr><tr><td>Andrew Gjertsen</td><td>AG-10495</td><td>295.84</td></tr><tr><td>Andy Gerbode</td><td>AG-10525</td><td>-152.75</td></tr><tr><td>Anna Gayman</td><td>AG-10675</td><td>-246.4</td></tr><tr><td>Anthony Garverick</td><td>AG-10765</td><td>-8.42</td></tr><tr><td>Arthur Gainer</td><td>AG-10900</td><td>343.67</td></tr><tr><td>Aaron Hawkins</td><td>AH-10030</td><td>365.22</td></tr><tr><td>Adam Hart</td><td>AH-10075</td><td>280.8</td></tr><tr><td>Adrian Hane</td><td>AH-10120</td><td>-2.5</td></tr><tr><td>Alan Haines</td><td>AH-10195</td><td>-378.04</td></tr><tr><td>Alan Hwang</td><td>AH-10210</td><td>1308.56</td></tr><tr><td>Amy Hunt</td><td>AH-10465</td><td>-195.99</td></tr><tr><td>Angele Hood</td><td>AH-10585</td><td>83.97</td></tr><tr><td>Anna Hberlin</td><td>AH-10690</td><td>1296.89</td></tr><tr><td>Arianne Irving</td><td>AI-10855</td><td>867.87</td></tr><tr><td>Anthony Jacobs</td><td>AJ-10780</td><td>150.72</td></tr><tr><td>Anthony Johnson</td><td>AJ-10795</td><td>1158.71</td></tr><tr><td>Ashley Jarboe</td><td>AJ-10945</td><td>521.14</td></tr><tr><td>Astrea Jones</td><td>AJ-10960</td><td>60.43</td></tr><tr><td>Alice Mc Carthy</td><td>AM-10360</td><td>194.99</td></tr><tr><td>Anne Mc Farland</td><td>AM-10705</td><td>969.06</td></tr><tr><td>Anthony O Donnell</td><td>AO-10810</td><td>12.1</td></tr><tr><td>Anne Pryor</td><td>AP-10720</td><td>285.8</td></tr><tr><td>Arthur Prichep</td><td>AP-10915</td><td>579.7</td></tr><tr><td>Alex Russell</td><td>AR-10345</td><td>-221.05</td></tr><tr><td>Allen Rosenblatt</td><td>AR-10405</td><td>-98.52</td></tr><tr><td>Andrew Roberts</td><td>AR-10510</td><td>43.65</td></tr><tr><td>Andy Reiter</td><td>AR-10540</td><td>2884.61</td></tr><tr><td>Anemone Ratner</td><td>AR-10570</td><td>32.64</td></tr><tr><td>Anthony Rawles</td><td>AR-10825</td><td>495.07</td></tr><tr><td>Aaron Smayling</td><td>AS-10045</td><td>-253.59</td></tr><tr><td>Adam Shillingsburg</td><td>AS-10090</td><td>64.32</td></tr><tr><td>Adrian Shami</td><td>AS-10135</td><td>21.84</td></tr><tr><td>Alan Schoenberger</td><td>AS-10225</td><td>719.77</td></tr><tr><td>Alan Shonely</td><td>AS-10240</td><td>33.69</td></tr><tr><td>Alejandro Savely</td><td>AS-10285</td><td>354.63</td></tr><tr><td>Ann Steele</td><td>AS-10630</td><td>136.6</td></tr><tr><td>Alyssa Tate</td><td>AT-10435</td><td>100.87</td></tr><tr><td>Annie Thurman</td><td>AT-10735</td><td>974.57</td></tr><tr><td>Anthony Witt</td><td>AW-10840</td><td>65.78</td></tr><tr><td>Arthur Wiediger</td><td>AW-10930</td><td>-104.44</td></tr><tr><td>Andy Yotov</td><td>AY-10555</td><td>103.34</td></tr><tr><td>Annie Zypern</td><td>AZ-10750</td><td>154.77</td></tr><tr><td>Barry Blumstein</td><td>BB-10990</td><td>11.57</td></tr><tr><td>Brenda Bowman</td><td>BB-11545</td><td>1014.65</td></tr><tr><td>Becky Castell</td><td>BC-11125</td><td>251.19</td></tr><tr><td>Bil Donatelli</td><td>BD-11320</td><td>1094.51</td></tr><tr><td>Bradley Drucker</td><td>BD-11500</td><td>1142.12</td></tr><tr><td>Brendan Dodson</td><td>BD-11560</td><td>116.71</td></tr><tr><td>Brian Dahlen</td><td>BD-11605</td><td>634.83</td></tr><tr><td>Brian De Cherney</td><td>BD-11620</td><td>207.02</td></tr><tr><td>Brian Derr</td><td>BD-11635</td><td>141.43</td></tr><tr><td>Bruce Degenhardt</td><td>BD-11725</td><td>334.47</td></tr><tr><td>Bryan Davis</td><td>BD-11770</td><td>141.28</td></tr><tr><td>Bil Eplett</td><td>BE-11335</td><td>1487.79</td></tr><tr><td>Bobby Elias</td><td>BE-11410</td><td>755.91</td></tr><tr><td>Brad Eason</td><td>BE-11455</td><td>139.21</td></tr><tr><td>Barbara Fisher</td><td>BF-10975</td><td>227.3</td></tr><tr><td>Barry Franz</td><td>BF-11005</td><td>-291.37</td></tr><tr><td>Barry Franzsisch</td><td>BF-11020</td><td>301.44</td></tr><tr><td>Bart Folk</td><td>BF-11080</td><td>110.99</td></tr><tr><td>Ben Ferrer</td><td>BF-11170</td><td>1938.67</td></tr><tr><td>Benjamin Farhat</td><td>BF-11215</td><td>523.09</td></tr><tr><td>Beth Fritzler</td><td>BF-11275</td><td>25.88</td></tr><tr><td>Barry Gonzalez</td><td>BG-11035</td><td>-710.8</td></tr><tr><td>Brooke Gillingham</td><td>BG-11695</td><td>107.59</td></tr><tr><td>Bruce Geld</td><td>BG-11740</td><td>119.35</td></tr><tr><td>Brosina Hoffman</td><td>BH-11710</td><td>789.63</td></tr><tr><td>Berenike Kampe</td><td>BK-11260</td><td>-63.3</td></tr><tr><td>Becky Martin</td><td>BM-11140</td><td>-1659.97</td></tr><tr><td>Brendan Murry</td><td>BM-11575</td><td>95.58</td></tr><tr><td>Brian Moss</td><td>BM-11650</td><td>2198.83</td></tr><tr><td>Bryan Mills</td><td>BM-11785</td><td>137.72</td></tr><tr><td>Brad Norvell</td><td>BN-11470</td><td>36.61</td></tr><tr><td>Bradley Nguyen</td><td>BN-11515</td><td>340.72</td></tr><tr><td>Bil Overfelt</td><td>BO-11350</td><td>278.43</td></tr><tr><td>Bobby Odegard</td><td>BO-11425</td><td>59.46</td></tr><tr><td>Barry Pond</td><td>BP-11050</td><td>209.66</td></tr><tr><td>Bart Pistole</td><td>BP-11095</td><td>433.59</td></tr><tr><td>Becky Pak</td><td>BP-11155</td><td>647.0</td></tr><tr><td>Ben Peterman</td><td>BP-11185</td><td>363.61</td></tr><tr><td>Benjamin Patterson</td><td>BP-11230</td><td>-197.39</td></tr><tr><td>Beth Paige</td><td>BP-11290</td><td>-318.85</td></tr><tr><td>Bil Shonely</td><td>BS-11365</td><td>2616.41</td></tr><tr><td>Bil Stewart</td><td>BS-11380</td><td>-17.53</td></tr><tr><td>Brendan Sweed</td><td>BS-11590</td><td>381.39</td></tr><tr><td>Brian Stugart</td><td>BS-11665</td><td>238.73</td></tr><tr><td>Bruce Stewart</td><td>BS-11755</td><td>-113.31</td></tr><tr><td>Bryan Spruell</td><td>BS-11800</td><td>194.05</td></tr><tr><td>Beth Thompson</td><td>BT-11305</td><td>417.58</td></tr><tr><td>Bil Tyler</td><td>BT-11395</td><td>257.9</td></tr><tr><td>Bobby Trafton</td><td>BT-11440</td><td>-77.27</td></tr><tr><td>Brad Thomas</td><td>BT-11485</td><td>126.87</td></tr><tr><td>Bradley Talbott</td><td>BT-11530</td><td>409.49</td></tr><tr><td>Brian Thompson</td><td>BT-11680</td><td>447.81</td></tr><tr><td>Benjamin Venier</td><td>BV-11245</td><td>315.23</td></tr><tr><td>Barry Weirich</td><td>BW-11065</td><td>-58.29</td></tr><tr><td>Bart Watters</td><td>BW-11110</td><td>921.38</td></tr><tr><td>Ben Wallace</td><td>BW-11200</td><td>247.0</td></tr><tr><td>Carol Adams</td><td>CA-11965</td><td>1143.39</td></tr><tr><td>Cthy Armstrong</td><td>CA-12055</td><td>211.64</td></tr><tr><td>Christina Anderson</td><td>CA-12265</td><td>279.9</td></tr><tr><td>Christine Abelman</td><td>CA-12310</td><td>246.86</td></tr><tr><td>Cynthia Arntzen</td><td>CA-12775</td><td>203.73</td></tr><tr><td>Cassandra Brandow</td><td>CB-12025</td><td>150.51</td></tr><tr><td>Christy Brittain</td><td>CB-12415</td><td>272.4</td></tr><tr><td>Claudia Bergmann</td><td>CB-12535</td><td>1049.28</td></tr><tr><td>Chad Cunningham</td><td>CC-12100</td><td>208.6</td></tr><tr><td>Charles Crestani</td><td>CC-12145</td><td>392.29</td></tr><tr><td>Chris Cortes</td><td>CC-12220</td><td>393.97</td></tr><tr><td>Christopher Conant</td><td>CC-12370</td><td>2177.07</td></tr><tr><td>Chuck Clark</td><td>CC-12430</td><td>424.68</td></tr><tr><td>Cindy Chapman</td><td>CC-12475</td><td>154.85</td></tr><tr><td>Clay Cheatham</td><td>CC-12550</td><td>34.3</td></tr><tr><td>Corey Catlett</td><td>CC-12610</td><td>331.27</td></tr><tr><td>Craig Carreira</td><td>CC-12670</td><td>187.88</td></tr><tr><td>Craig Carroll</td><td>CC-12685</td><td>850.03</td></tr><tr><td>Carlos Daly</td><td>CD-11920</td><td>426.21</td></tr><tr><td>Carol Darley</td><td>CD-11980</td><td>-206.71</td></tr><tr><td>Christina De Moss</td><td>CD-12280</td><td>233.48</td></tr><tr><td>Cynthia Delaney</td><td>CD-12790</td><td>389.45</td></tr><tr><td>Catherine Glotzbach</td><td>CG-12040</td><td>86.31</td></tr><tr><td>Claire Gute</td><td>CG-12520</td><td>169.93</td></tr><tr><td>Cathy Hwang</td><td>CH-12070</td><td>184.29</td></tr><tr><td>Carl Jackson</td><td>CJ-11875</td><td>1.65</td></tr><tr><td>Caroline Jumper</td><td>CJ-12010</td><td>858.75</td></tr><tr><td>Chloris Kastensmidt</td><td>CK-12205</td><td>141.59</td></tr><tr><td>Christine Kargatis</td><td>CK-12325</td><td>261.23</td></tr><tr><td>Clytie Kelty</td><td>CK-12595</td><td>491.12</td></tr><tr><td>Cyma Kinney</td><td>CK-12760</td><td>-338.44</td></tr><tr><td>Carl Ludwig</td><td>CL-11890</td><td>328.08</td></tr><tr><td>Clay Ludtke</td><td>CL-12565</td><td>1933.19</td></tr><tr><td>Craig Leslie</td><td>CL-12700</td><td>229.0</td></tr><tr><td>Candace Mc Mahon</td><td>CM-11815</td><td>214.85</td></tr><tr><td>Carlos Meador</td><td>CM-11935</td><td>-43.73</td></tr><tr><td>Chad Mc Guire</td><td>CM-12115</td><td>408.58</td></tr><tr><td>Charles Mc Crossin</td><td>CM-12160</td><td>-394.37</td></tr><tr><td>Charlotte Melton</td><td>CM-12190</td><td>91.21</td></tr><tr><td>Chris Mc Afee</td><td>CM-12235</td><td>365.03</td></tr><tr><td>Christopher Martinez</td><td>CM-12385</td><td>3900.04</td></tr><tr><td>Chuck Magee</td><td>CM-12445</td><td>63.97</td></tr><tr><td>Corinna Mitchell</td><td>CM-12655</td><td>1572.44</td></tr><tr><td>Craig Molinari</td><td>CM-12715</td><td>176.32</td></tr><tr><td>Cathy Prescott</td><td>CP-12085</td><td>426.94</td></tr><tr><td>Christine Phan</td><td>CP-12340</td><td>-1850.31</td></tr><tr><td>Clay Rozendal</td><td>CR-12580</td><td>74.4</td></tr><tr><td>Corey Roper</td><td>CR-12625</td><td>144.85</td></tr><tr><td>Craig Reiter</td><td>CR-12730</td><td>306.92</td></tr><tr><td>Cyra Reiten</td><td>CR-12820</td><td>83.27</td></tr><tr><td>Cari Sayre</td><td>CS-11845</td><td>185.55</td></tr><tr><td>Cari Schnelling</td><td>CS-11860</td><td>105.82</td></tr><tr><td>Carlos Soltero</td><td>CS-11950</td><td>-126.62</td></tr><tr><td>Chad Sievert</td><td>CS-12130</td><td>143.83</td></tr><tr><td>Charles Sheldon</td><td>CS-12175</td><td>113.15</td></tr><tr><td>Chris Selesnick</td><td>CS-12250</td><td>738.41</td></tr><tr><td>Christine Sundaresam</td><td>CS-12355</td><td>831.94</td></tr><tr><td>Christopher Schild</td><td>CS-12400</td><td>-342.8</td></tr><tr><td>Chuck Sachs</td><td>CS-12460</td><td>156.27</td></tr><tr><td>Cindy Schnelling</td><td>CS-12490</td><td>-302.86</td></tr><tr><td>Cindy Stewart</td><td>CS-12505</td><td>-6626.24</td></tr><tr><td>Carol Triggs</td><td>CT-11995</td><td>160.9</td></tr><tr><td>Christina Vander Zanden</td><td>CV-12295</td><td>493.09</td></tr><tr><td>Cynthia Voltz</td><td>CV-12805</td><td>98.7</td></tr><tr><td>Carl Weiss</td><td>CW-11905</td><td>370.84</td></tr><tr><td>Craig Yedwab</td><td>CY-12745</td><td>60.64</td></tr><tr><td>Corey Lock</td><td>Co-12640</td><td>205.9</td></tr><tr><td>Dianna Arnett</td><td>DA-13450</td><td>56.79</td></tr><tr><td>Daniel Byrd</td><td>DB-12910</td><td>431.38</td></tr><tr><td>Darren Budd</td><td>DB-12970</td><td>212.54</td></tr><tr><td>Dave Brooks</td><td>DB-13060</td><td>472.63</td></tr><tr><td>David Bremer</td><td>DB-13120</td><td>-1421.78</td></tr><tr><td>Dean Braden</td><td>DB-13210</td><td>169.71</td></tr><tr><td>Deborah Brumfield</td><td>DB-13270</td><td>841.84</td></tr><tr><td>Dennis Bolton</td><td>DB-13360</td><td>291.01</td></tr><tr><td>Denny Blanton</td><td>DB-13405</td><td>438.92</td></tr><tr><td>Dorothy Badders</td><td>DB-13555</td><td>109.64</td></tr><tr><td>Doug Bickford</td><td>DB-13615</td><td>438.8</td></tr><tr><td>Duane Benoit</td><td>DB-13660</td><td>177.94</td></tr><tr><td>Dan Campbell</td><td>DC-12850</td><td>-1441.28</td></tr><tr><td>Debra Catini</td><td>DC-13285</td><td>132.08</td></tr><tr><td>Dorothy Dickinson</td><td>DD-13570</td><td>36.44</td></tr><tr><td>Na N</td><td>DE-13255</td><td>464.48</td></tr><tr><td>David Flashing</td><td>DF-13135</td><td>-259.31</td></tr><tr><td>Deirdre Greer</td><td>DG-13300</td><td>562.77</td></tr><tr><td>Dave Hallsten</td><td>DH-13075</td><td>1193.75</td></tr><tr><td>Duane Huffman</td><td>DH-13675</td><td>116.68</td></tr><tr><td>Denny Joy</td><td>DJ-13420</td><td>483.03</td></tr><tr><td>Don Jones</td><td>DJ-13510</td><td>345.26</td></tr><tr><td>Doug Jacobs</td><td>DJ-13630</td><td>731.57</td></tr><tr><td>Damala Kotsonis</td><td>DK-12835</td><td>881.52</td></tr><tr><td>Dana Kaydos</td><td>DK-12895</td><td>925.97</td></tr><tr><td>Darren Koutras</td><td>DK-12985</td><td>-107.45</td></tr><tr><td>Dave Kipp</td><td>DK-13090</td><td>536.39</td></tr><tr><td>David Klendrick</td><td>DK-13150</td><td>250.27</td></tr><tr><td>Dean Katz</td><td>DK-13225</td><td>210.27</td></tr><tr><td>Dennis Kane</td><td>DK-13375</td><td>377.43</td></tr><tr><td>Dan Lawera</td><td>DL-12865</td><td>321.85</td></tr><tr><td>Daniel Lacy</td><td>DL-12925</td><td>4.39</td></tr><tr><td>Delfina Latchford</td><td>DL-13315</td><td>288.92</td></tr><tr><td>Denise Leinenbach</td><td>DL-13330</td><td>222.69</td></tr><tr><td>Dionis Lloyd</td><td>DL-13495</td><td>-52.39</td></tr><tr><td>Dario Medina</td><td>DM-12955</td><td>108.76</td></tr><tr><td>Darrin Martin</td><td>DM-13015</td><td>1677.98</td></tr><tr><td>Denise Monton</td><td>DM-13345</td><td>1319.07</td></tr><tr><td>Don Miller</td><td>DM-13525</td><td>200.2</td></tr><tr><td>Duane Noonan</td><td>DN-13690</td><td>540.53</td></tr><tr><td>Denny Ordway</td><td>DO-13435</td><td>-38.33</td></tr><tr><td>Doug O Connell</td><td>DO-13645</td><td>293.85</td></tr><tr><td>Darren Powers</td><td>DP-13000</td><td>241.69</td></tr><tr><td>Dave Poirier</td><td>DP-13105</td><td>562.95</td></tr><tr><td>David Philippe</td><td>DP-13165</td><td>-40.94</td></tr><tr><td>Dennis Pardue</td><td>DP-13390</td><td>1571.83</td></tr><tr><td>Dan Reichenbach</td><td>DR-12880</td><td>1641.54</td></tr><tr><td>Daniel Raglin</td><td>DR-12940</td><td>2869.08</td></tr><tr><td>Darrin Sayre</td><td>DS-13030</td><td>193.78</td></tr><tr><td>David Smith</td><td>DS-13180</td><td>163.66</td></tr><tr><td>Darrin Van Huff</td><td>DV-13045</td><td>-427.63</td></tr><tr><td>Dianna Vittorini</td><td>DV-13465</td><td>353.09</td></tr><tr><td>David Wiener</td><td>DW-13195</td><td>-86.97</td></tr><tr><td>Dianna Wilson</td><td>DW-13480</td><td>1348.75</td></tr><tr><td>Don Weiss</td><td>DW-13540</td><td>69.66</td></tr><tr><td>Dorothy Wardle</td><td>DW-13585</td><td>-266.9</td></tr><tr><td>Dorrisliebe</td><td>Dl-13600</td><td>175.23</td></tr><tr><td>Deanperce R</td><td>Dp-13240</td><td>333.37</td></tr><tr><td>Erin Ashbrook</td><td>EA-14035</td><td>-52.56</td></tr><tr><td>Ed Braxton</td><td>EB-13705</td><td>13.56</td></tr><tr><td>Edward Becker</td><td>EB-13750</td><td>-80.29</td></tr><tr><td>Ellis Ballard</td><td>EB-13840</td><td>656.2</td></tr><tr><td>Emily Burns</td><td>EB-13870</td><td>261.95</td></tr><tr><td>Eric Barreto</td><td>EB-13930</td><td>0.43</td></tr><tr><td>Erica Bern</td><td>EB-13975</td><td>162.89</td></tr><tr><td>Eugene Barchas</td><td>EB-14110</td><td>184.76</td></tr><tr><td>Evan Bailliet</td><td>EB-14170</td><td>282.41</td></tr><tr><td>Erin Creighton</td><td>EC-14050</td><td>96.44</td></tr><tr><td>Na N</td><td>ED-13885</td><td>670.45</td></tr><tr><td>Emily Grady</td><td>EG-13900</td><td>103.9</td></tr><tr><td>Edward Hooks</td><td>EH-13765</td><td>1393.5</td></tr><tr><td>Eric Hoffmann</td><td>EH-13945</td><td>53.79</td></tr><tr><td>Erica Hackney</td><td>EH-13990</td><td>150.37</td></tr><tr><td>Erica Hernandez</td><td>EH-14005</td><td>-94.72</td></tr><tr><td>Eugene Hildebrand</td><td>EH-14125</td><td>96.21</td></tr><tr><td>Evan Henry</td><td>EH-14185</td><td>242.13</td></tr><tr><td>Ed Jacobs</td><td>EJ-13720</td><td>-6964.03</td></tr><tr><td>Eva Jacobs</td><td>EJ-14155</td><td>451.88</td></tr><tr><td>Eileen Kiefer</td><td>EK-13795</td><td>97.1</td></tr><tr><td>Ed Ludwig</td><td>EL-13735</td><td>27.11</td></tr><tr><td>Na N</td><td>EM-13810</td><td>-133.99</td></tr><tr><td>Elizabeth Moffitt</td><td>EM-13825</td><td>682.56</td></tr><tr><td>Eric Murdock</td><td>EM-13960</td><td>102.3</td></tr><tr><td>Erin Mull</td><td>EM-14065</td><td>40.03</td></tr><tr><td>Eudokia Martin</td><td>EM-14095</td><td>240.23</td></tr><tr><td>Eugene Moren</td><td>EM-14140</td><td>1318.95</td></tr><tr><td>Evan Minnotte</td><td>EM-14200</td><td>21.83</td></tr><tr><td>Edward Nazzal</td><td>EN-13780</td><td>496.22</td></tr><tr><td>Emily Phan</td><td>EP-13915</td><td>145.14</td></tr><tr><td>Elpida Rittenbach</td><td>ER-13855</td><td>-295.33</td></tr><tr><td>Erica Smith</td><td>ES-14020</td><td>1003.08</td></tr><tr><td>Erin Smith</td><td>ES-14080</td><td>246.94</td></tr><tr><td>Frank Atkinson</td><td>FA-14230</td><td>520.33</td></tr><tr><td>Frank Carlisle</td><td>FC-14245</td><td>1217.18</td></tr><tr><td>Fred Chung</td><td>FC-14335</td><td>714.29</td></tr><tr><td>Frank Gastineau</td><td>FG-14260</td><td>394.95</td></tr><tr><td>Frank Hawley</td><td>FH-14275</td><td>13400.33</td></tr><tr><td>Fred Harton</td><td>FH-14350</td><td>706.05</td></tr><tr><td>Fred Hopkins</td><td>FH-14365</td><td>2051.01</td></tr><tr><td>Filia Mc Adams</td><td>FM-14215</td><td>249.95</td></tr><tr><td>Frank Merwin</td><td>FM-14290</td><td>197.89</td></tr><tr><td>Fred Mc Math</td><td>FM-14380</td><td>191.09</td></tr><tr><td>Frank Olsen</td><td>FO-14305</td><td>215.59</td></tr><tr><td>Frank Preis</td><td>FP-14320</td><td>406.46</td></tr><tr><td>Fred Waerman</td><td>FW-14395</td><td>23.5</td></tr><tr><td>George Ashbrook</td><td>GA-14515</td><td>840.89</td></tr><tr><td>Guy Armstrong</td><td>GA-14725</td><td>136.49</td></tr><tr><td>George Bell</td><td>GB-14530</td><td>7.85</td></tr><tr><td>Giulietta Baptist</td><td>GB-14575</td><td>1135.84</td></tr><tr><td>Giulietta Dortch</td><td>GD-14590</td><td>230.6</td></tr><tr><td>Greg Guthrie</td><td>GG-14650</td><td>12.69</td></tr><tr><td>Gary Hansen</td><td>GH-14410</td><td>-577.01</td></tr><tr><td>Gary Hwang</td><td>GH-14425</td><td>1176.39</td></tr><tr><td>Gene Hale</td><td>GH-14485</td><td>-95.49</td></tr><tr><td>Greg Hansen</td><td>GH-14665</td><td>-5.81</td></tr><tr><td>Grace Kelly</td><td>GK-14620</td><td>1448.59</td></tr><tr><td>Gary Mc Garr</td><td>GM-14440</td><td>347.27</td></tr><tr><td>Gary Mitchum</td><td>GM-14455</td><td>793.29</td></tr><tr><td>Gene Mc Clure</td><td>GM-14500</td><td>441.32</td></tr><tr><td>Greg Matthias</td><td>GM-14680</td><td>35.47</td></tr><tr><td>Greg Maxwell</td><td>GM-14695</td><td>188.46</td></tr><tr><td>Guy Phonely</td><td>GP-14740</td><td>31.84</td></tr><tr><td>Georgia Rosenberg</td><td>GR-14560</td><td>359.88</td></tr><tr><td>Grant Thornton</td><td>GT-14635</td><td>-4108.66</td></tr><tr><td>Greg Tran</td><td>GT-14710</td><td>2163.29</td></tr><tr><td>Guy Thornton</td><td>GT-14755</td><td>-6.14</td></tr><tr><td>Giulietta Weimer</td><td>GW-14605</td><td>-268.55</td></tr><tr><td>Gary Zandusky</td><td>GZ-14470</td><td>1088.16</td></tr><tr><td>George Zrebassa</td><td>GZ-14545</td><td>828.17</td></tr><tr><td>Helen Abelman</td><td>HA-14905</td><td>270.86</td></tr><tr><td>Helen Andreada</td><td>HA-14920</td><td>98.47</td></tr><tr><td>Harold Dahlen</td><td>HD-14785</td><td>-136.33</td></tr><tr><td>Harold Engle</td><td>HE-14800</td><td>273.97</td></tr><tr><td>Herbert Flentye</td><td>HF-14995</td><td>-14.35</td></tr><tr><td>Harry Greene</td><td>HG-14845</td><td>147.01</td></tr><tr><td>Henry Goldwyn</td><td>HG-14965</td><td>-2797.95</td></tr><tr><td>Hunter Glantz</td><td>HG-15025</td><td>804.62</td></tr><tr><td>Hilary Holden</td><td>HH-15010</td><td>86.73</td></tr><tr><td>Heather Jas</td><td>HJ-14875</td><td>98.67</td></tr><tr><td>Heather Kirkland</td><td>HK-14890</td><td>956.97</td></tr><tr><td>Hunter Lopez</td><td>HL-15040</td><td>5622.43</td></tr><tr><td>Harry Marie</td><td>HM-14860</td><td>2438.07</td></tr><tr><td>Henry Mac Allister</td><td>HM-14980</td><td>116.78</td></tr><tr><td>Harold Pawlan</td><td>HP-14815</td><td>373.87</td></tr><tr><td>Hallie Redmond</td><td>HR-14770</td><td>185.4</td></tr><tr><td>Harold Ryan</td><td>HR-14830</td><td>1197.37</td></tr><tr><td>Helen Waerman</td><td>HW-14935</td><td>2164.17</td></tr><tr><td>Henia Zydlo</td><td>HZ-14950</td><td>-130.39</td></tr><tr><td>Ivan Gibson</td><td>IG-15085</td><td>320.48</td></tr><tr><td>Ivan Liston</td><td>IL-15100</td><td>1121.83</td></tr><tr><td>Ionia Mc Grath</td><td>IM-15055</td><td>975.78</td></tr><tr><td>Irene Maddox</td><td>IM-15070</td><td>514.2</td></tr><tr><td>Joseph Airdo</td><td>JA-15970</td><td>-819.88</td></tr><tr><td>Jennifer Braxton</td><td>JB-15400</td><td>156.05</td></tr><tr><td>Joni Blumstein</td><td>JB-15925</td><td>-286.98</td></tr><tr><td>Joy Bell</td><td>JB-16000</td><td>127.06</td></tr><tr><td>Julia Barnett</td><td>JB-16045</td><td>201.4</td></tr><tr><td>Jasper Cacioppo</td><td>JC-15340</td><td>-0.35</td></tr><tr><td>Jenna Caffey</td><td>JC-15385</td><td>502.93</td></tr><tr><td>John Castell</td><td>JC-15775</td><td>279.57</td></tr><tr><td>Julie Creighton</td><td>JC-16105</td><td>201.6</td></tr><tr><td>John Dryer</td><td>JD-15790</td><td>-266.56</td></tr><tr><td>Jonathan Doherty</td><td>JD-15895</td><td>1050.44</td></tr><tr><td>Joy Daniels</td><td>JD-16015</td><td>26.72</td></tr><tr><td>Julia Dunbar</td><td>JD-16060</td><td>111.12</td></tr><tr><td>Justin Deggeller</td><td>JD-16150</td><td>1618.74</td></tr><tr><td>Jeremy Ellison</td><td>JE-15475</td><td>276.45</td></tr><tr><td>Jim Epp</td><td>JE-15610</td><td>1623.11</td></tr><tr><td>Joe Elijah</td><td>JE-15715</td><td>1262.11</td></tr><tr><td>Joel Eaton</td><td>JE-15745</td><td>222.23</td></tr><tr><td>Justin Ellison</td><td>JE-16165</td><td>790.02</td></tr><tr><td>Jamie Frazer</td><td>JF-15190</td><td>575.78</td></tr><tr><td>Jason Fortune</td><td>JF-15295</td><td>97.41</td></tr><tr><td>Jay Fein</td><td>JF-15355</td><td>330.2</td></tr><tr><td>Jennifer Ferguson</td><td>JF-15415</td><td>635.64</td></tr><tr><td>Jeremy Farry</td><td>JF-15490</td><td>-18.05</td></tr><tr><td>Jill Fjeld</td><td>JF-15565</td><td>1074.07</td></tr><tr><td>Jack Garza</td><td>JG-15115</td><td>684.53</td></tr><tr><td>James Galang</td><td>JG-15160</td><td>1415.36</td></tr><tr><td>Jason Gross</td><td>JG-15310</td><td>3.59</td></tr><tr><td>John Grady</td><td>JG-15805</td><td>206.1</td></tr><tr><td>Jennifer Halladay</td><td>JH-15430</td><td>-24.06</td></tr><tr><td>John Huston</td><td>JH-15820</td><td>26.07</td></tr><tr><td>Jonathan Howell</td><td>JH-15910</td><td>-13.55</td></tr><tr><td>Joseph Holt</td><td>JH-15985</td><td>-644.48</td></tr><tr><td>Justin Hirsh</td><td>JH-16180</td><td>-96.96</td></tr><tr><td>Jennifer Jackson</td><td>JJ-15445</td><td>200.56</td></tr><tr><td>Joel Jenkins</td><td>JJ-15760</td><td>34.46</td></tr><tr><td>Jamie Kunitz</td><td>JK-15205</td><td>1221.56</td></tr><tr><td>Jason Klamczynski</td><td>JK-15325</td><td>55.58</td></tr><tr><td>Jay Kimmel</td><td>JK-15370</td><td>329.85</td></tr><tr><td>Jim Karlsson</td><td>JK-15625</td><td>750.73</td></tr><tr><td>Jim Kriz</td><td>JK-15640</td><td>1172.9</td></tr><tr><td>Joe Kamberova</td><td>JK-15730</td><td>55.0</td></tr><tr><td>Juliana Krohn</td><td>JK-16090</td><td>586.67</td></tr><tr><td>Julie Kriz</td><td>JK-16120</td><td>122.66</td></tr><tr><td>Jack Lebron</td><td>JL-15130</td><td>-207.31</td></tr><tr><td>James Lanier</td><td>JL-15175</td><td>209.11</td></tr><tr><td>Janet Lee</td><td>JL-15235</td><td>54.51</td></tr><tr><td>Jeremy Lonsdale</td><td>JL-15505</td><td>592.04</td></tr><tr><td>John Lee</td><td>JL-15835</td><td>228.53</td></tr><tr><td>John Lucas</td><td>JL-15850</td><td>779.9</td></tr><tr><td>Janet Martin</td><td>JM-15250</td><td>19.58</td></tr><tr><td>Janet Molinari</td><td>JM-15265</td><td>502.99</td></tr><tr><td>Jessica Myrick</td><td>JM-15535</td><td>356.53</td></tr><tr><td>Jill Matthias</td><td>JM-15580</td><td>113.12</td></tr><tr><td>Jim Mitchum</td><td>JM-15655</td><td>117.2</td></tr><tr><td>John Murray</td><td>JM-15865</td><td>1575.07</td></tr><tr><td>Justin Mac Kendrick</td><td>JM-16195</td><td>753.7</td></tr><tr><td>Jack O Briant</td><td>JO-15145</td><td>581.44</td></tr><tr><td>Jas O Carroll</td><td>JO-15280</td><td>201.24</td></tr><tr><td>Jesus Ocampo</td><td>JO-15550</td><td>167.13</td></tr><tr><td>Jennifer Patt</td><td>JP-15460</td><td>429.74</td></tr><tr><td>Jeremy Pistek</td><td>JP-15520</td><td>757.19</td></tr><tr><td>Julie Prescott</td><td>JP-16135</td><td>309.3</td></tr><tr><td>Jim Radford</td><td>JR-15670</td><td>-785.16</td></tr><tr><td>Jocasta Rupert</td><td>JR-15700</td><td>107.99</td></tr><tr><td>Justin Ritter</td><td>JR-16210</td><td>452.37</td></tr><tr><td>Ji Stevenson</td><td>JS-15595</td><td>-174.94</td></tr><tr><td>Jim Sink</td><td>JS-15685</td><td>-54.86</td></tr><tr><td>John Stevenson</td><td>JS-15880</td><td>564.97</td></tr><tr><td>Joni Sundaresam</td><td>JS-15940</td><td>-327.93</td></tr><tr><td>Joy Smith</td><td>JS-16030</td><td>-311.25</td></tr><tr><td>Jane Waco</td><td>JW-15220</td><td>2174.05</td></tr><tr><td>Joni Waerman</td><td>JW-15955</td><td>-29.58</td></tr><tr><td>Julia West</td><td>JW-16075</td><td>153.89</td></tr><tr><td>Kelly Andreada</td><td>KA-16525</td><td>234.36</td></tr><tr><td>Karen Bern</td><td>KB-16240</td><td>764.23</td></tr><tr><td>Karl Braun</td><td>KB-16315</td><td>49.22</td></tr><tr><td>Katrina Bavinger</td><td>KB-16405</td><td>273.86</td></tr><tr><td>Ken Black</td><td>KB-16585</td><td>578.89</td></tr><tr><td>Ken Brennan</td><td>KB-16600</td><td>293.9</td></tr><tr><td>Karen Carlisle</td><td>KC-16255</td><td>846.14</td></tr><tr><td>Kelly Collister</td><td>KC-16540</td><td>709.43</td></tr><tr><td>Kimberly Carter</td><td>KC-16675</td><td>157.24</td></tr><tr><td>Karen Danels</td><td>KD-16270</td><td>1107.6</td></tr><tr><td>Katherine Ducich</td><td>KD-16345</td><td>328.59</td></tr><tr><td>Keith Dawkins</td><td>KD-16495</td><td>3038.93</td></tr><tr><td>Na N</td><td>KD-16615</td><td>539.72</td></tr><tr><td>Katrina Edelman</td><td>KE-16420</td><td>397.89</td></tr><tr><td>Karen Ferguson</td><td>KF-16285</td><td>1660.41</td></tr><tr><td>Katharine Harms</td><td>KH-16330</td><td>455.69</td></tr><tr><td>Katherine Hughes</td><td>KH-16360</td><td>528.29</td></tr><tr><td>Keith Herrera</td><td>KH-16510</td><td>656.12</td></tr><tr><td>Ken Heidel</td><td>KH-16630</td><td>727.51</td></tr><tr><td>Kristen Hastings</td><td>KH-16690</td><td>1227.13</td></tr><tr><td>Kelly Lampkin</td><td>KL-16555</td><td>-182.79</td></tr><tr><td>Ken Lonsdale</td><td>KL-16645</td><td>806.5</td></tr><tr><td>Kalyca Meade</td><td>KM-16225</td><td>635.43</td></tr><tr><td>Katherine Murray</td><td>KM-16375</td><td>973.37</td></tr><tr><td>Khloe Miller</td><td>KM-16660</td><td>90.67</td></tr><tr><td>Kunst Miller</td><td>KM-16720</td><td>745.4</td></tr><tr><td>Katherine Nockton</td><td>KN-16390</td><td>-151.15</td></tr><tr><td>Kean Nguyen</td><td>KN-16450</td><td>113.82</td></tr><tr><td>Kristina Nunn</td><td>KN-16705</td><td>329.77</td></tr><tr><td>Karen Seio</td><td>KS-16300</td><td>0.11</td></tr><tr><td>Kean Takahito</td><td>KT-16465</td><td>253.75</td></tr><tr><td>Kean Thornton</td><td>KT-16480</td><td>194.07</td></tr><tr><td>Katrina Willman</td><td>KW-16435</td><td>1756.14</td></tr><tr><td>Kelly Williams</td><td>KW-16570</td><td>108.39</td></tr><tr><td>Laura Armstrong</td><td>LA-16780</td><td>2025.19</td></tr><tr><td>Larry Blacks</td><td>LB-16735</td><td>18.65</td></tr><tr><td>Laurel Beltran</td><td>LB-16795</td><td>-51.99</td></tr><tr><td>Na N</td><td>LC-16870</td><td>-188.02</td></tr><tr><td>Lena Creighton</td><td>LC-16885</td><td>1288.74</td></tr><tr><td>Linda Cazamias</td><td>LC-16930</td><td>288.29</td></tr><tr><td>Lindsay Castell</td><td>LC-16960</td><td>299.47</td></tr><tr><td>Liz Carlisle</td><td>LC-17050</td><td>86.77</td></tr><tr><td>Logan Currie</td><td>LC-17140</td><td>230.53</td></tr><tr><td>Lela Donovan</td><td>LD-16855</td><td>0.46</td></tr><tr><td>Lisa De Cherney</td><td>LD-17005</td><td>556.77</td></tr><tr><td>Laurel Elliston</td><td>LE-16810</td><td>161.75</td></tr><tr><td>Luke Foster</td><td>LF-17185</td><td>-3583.61</td></tr><tr><td>Larry Hughes</td><td>LH-16750</td><td>12.63</td></tr><tr><td>Lena Hernandez</td><td>LH-16900</td><td>525.12</td></tr><tr><td>Lisa Hazard</td><td>LH-17020</td><td>-242.75</td></tr><tr><td>Logan Haushalter</td><td>LH-17155</td><td>316.53</td></tr><tr><td>Lauren Leatherbury</td><td>LL-16840</td><td>560.51</td></tr><tr><td>Liz Mac Kendrick</td><td>LM-17065</td><td>-44.88</td></tr><tr><td>Lori Olson</td><td>LO-17170</td><td>150.16</td></tr><tr><td>Liz Pelletier</td><td>LP-17080</td><td>110.79</td></tr><tr><td>Liz Preis</td><td>LP-17095</td><td>338.45</td></tr><tr><td>Lena Radford</td><td>LR-16915</td><td>535.29</td></tr><tr><td>Lisa Ryan</td><td>LR-17035</td><td>-383.19</td></tr><tr><td>Linda Southworth</td><td>LS-16945</td><td>-318.44</td></tr><tr><td>Lindsay Shagiari</td><td>LS-16975</td><td>262.27</td></tr><tr><td>Luke Schmidt</td><td>LS-17200</td><td>243.82</td></tr><tr><td>Lycoris Saunders</td><td>LS-17230</td><td>64.57</td></tr><tr><td>Lynn Smith</td><td>LS-17245</td><td>347.97</td></tr><tr><td>Larry Tron</td><td>LT-16765</td><td>59.04</td></tr><tr><td>Liz Thompson</td><td>LT-17110</td><td>320.98</td></tr><tr><td>Laurel Workman</td><td>LW-16825</td><td>32.59</td></tr><tr><td>Lindsay Williams</td><td>LW-16990</td><td>662.83</td></tr><tr><td>Liz Willingham</td><td>LW-17125</td><td>192.63</td></tr><tr><td>Luke Weiss</td><td>LW-17215</td><td>837.67</td></tr><tr><td>Matt Abelman</td><td>MA-17560</td><td>1240.56</td></tr><tr><td>Michelle Arnett</td><td>MA-17995</td><td>280.51</td></tr><tr><td>Maria Bertelson</td><td>MB-17305</td><td>213.34</td></tr><tr><td>Mick Brown</td><td>MB-18085</td><td>118.05</td></tr><tr><td>Marc Crier</td><td>MC-17275</td><td>461.02</td></tr><tr><td>Mark Cousins</td><td>MC-17425</td><td>1802.4</td></tr><tr><td>Matt Collins</td><td>MC-17575</td><td>210.92</td></tr><tr><td>Matt Collister</td><td>MC-17590</td><td>288.99</td></tr><tr><td>Matt Connell</td><td>MC-17605</td><td>195.45</td></tr><tr><td>Matthew Clasen</td><td>MC-17635</td><td>-247.72</td></tr><tr><td>Michael Chen</td><td>MC-17845</td><td>698.42</td></tr><tr><td>Mick Crebagga</td><td>MC-18100</td><td>-64.4</td></tr><tr><td>Mike Caudle</td><td>MC-18130</td><td>121.74</td></tr><tr><td>Maribeth Dona</td><td>MD-17350</td><td>-241.23</td></tr><tr><td>Michael Dominguez</td><td>MD-17860</td><td>-4.05</td></tr><tr><td>Maria Etezadi</td><td>ME-17320</td><td>1858.97</td></tr><tr><td>Max Engle</td><td>ME-17725</td><td>77.59</td></tr><tr><td>Michelle Ellison</td><td>ME-18010</td><td>107.35</td></tr><tr><td>Maureen Fritzler</td><td>MF-17665</td><td>-341.53</td></tr><tr><td>Monica Federle</td><td>MF-18250</td><td>456.86</td></tr><tr><td>Matthew Grinstein</td><td>MG-17650</td><td>341.91</td></tr><tr><td>Maureen Gastineau</td><td>MG-17680</td><td>25.89</td></tr><tr><td>Maureen Gnade</td><td>MG-17695</td><td>-398.8</td></tr><tr><td>Michael Grace</td><td>MG-17875</td><td>-470.77</td></tr><tr><td>Michael Granlund</td><td>MG-17890</td><td>171.45</td></tr><tr><td>Mike Gockenbach</td><td>MG-18145</td><td>-93.49</td></tr><tr><td>Mitch Gastineau</td><td>MG-18205</td><td>-1.24</td></tr><tr><td>Marc Harrigan</td><td>MH-17290</td><td>28.98</td></tr><tr><td>Mark Haberlin</td><td>MH-17440</td><td>61.43</td></tr><tr><td>Mark Hamilton</td><td>MH-17455</td><td>485.28</td></tr><tr><td>Matt Hagelstein</td><td>MH-17620</td><td>122.35</td></tr><tr><td>Maya Herman</td><td>MH-17785</td><td>239.02</td></tr><tr><td>Michelle Huthwaite</td><td>MH-18025</td><td>476.74</td></tr><tr><td>Mick Hernandez</td><td>MH-18115</td><td>170.98</td></tr><tr><td>Max Jones</td><td>MJ-17740</td><td>1054.54</td></tr><tr><td>Michael Kennedy</td><td>MK-17905</td><td>-405.43</td></tr><tr><td>Mike Kennedy</td><td>MK-18160</td><td>227.43</td></tr><tr><td>Marina Lichtenstein</td><td>ML-17395</td><td>684.93</td></tr><tr><td>Maris La Ware</td><td>ML-17410</td><td>-76.47</td></tr><tr><td>Max Ludwig</td><td>ML-17755</td><td>409.99</td></tr><tr><td>Michelle Lonsdale</td><td>ML-18040</td><td>138.71</td></tr><tr><td>Muhammed Lee</td><td>ML-18265</td><td>42.67</td></tr><tr><td>Magdelene Morse</td><td>MM-17260</td><td>178.41</td></tr><tr><td>Michael Moore</td><td>MM-17920</td><td>81.46</td></tr><tr><td>Michelle Moray</td><td>MM-18055</td><td>-520.45</td></tr><tr><td>Muhammed Mac Intyre</td><td>MM-18280</td><td>58.56</td></tr><tr><td>Michael Nguyen</td><td>MN-17935</td><td>290.82</td></tr><tr><td>Mary O Rourke</td><td>MO-17500</td><td>59.36</td></tr><tr><td>Meg O Connel</td><td>MO-17800</td><td>168.98</td></tr><tr><td>Michael Oakman</td><td>MO-17950</td><td>-82.01</td></tr><tr><td>Mark Packer</td><td>MP-17470</td><td>600.3</td></tr><tr><td>Michael Paige</td><td>MP-17965</td><td>637.74</td></tr><tr><td>Mike Pelletier</td><td>MP-18175</td><td>225.49</td></tr><tr><td>Mathew Reese</td><td>MR-17545</td><td>162.46</td></tr><tr><td>Maribethchnelling</td><td>MS-17365</td><td>844.95</td></tr><tr><td>Mary Beth Skach</td><td>MS-17530</td><td>84.02</td></tr><tr><td>Maurice Satty</td><td>MS-17710</td><td>247.43</td></tr><tr><td>Maxwell Schwartz</td><td>MS-17770</td><td>280.81</td></tr><tr><td>Melanie Seite</td><td>MS-17830</td><td>19.43</td></tr><tr><td>Michael Stewart</td><td>MS-17980</td><td>55.23</td></tr><tr><td>Meg Tillman</td><td>MT-17815</td><td>509.02</td></tr><tr><td>Michelle Tran</td><td>MT-18070</td><td>-23.45</td></tr><tr><td>Mark Van Huff</td><td>MV-17485</td><td>189.01</td></tr><tr><td>Mike Vittorini</td><td>MV-18190</td><td>273.99</td></tr><tr><td>Mitch Webber</td><td>MW-18220</td><td>1237.92</td></tr><tr><td>Mitch Willingham</td><td>MW-18235</td><td>1665.52</td></tr><tr><td>Maribeth Yedwab</td><td>MY-17380</td><td>319.14</td></tr><tr><td>Muhammed Ye Dwab</td><td>MY-18295</td><td>-371.71</td></tr><tr><td>Maria Zettner</td><td>MZ-17335</td><td>85.02</td></tr><tr><td>Mary Zewe</td><td>MZ-17515</td><td>787.15</td></tr><tr><td>Nicole Brennan</td><td>NB-18580</td><td>24.79</td></tr><tr><td>Nona Balk</td><td>NB-18655</td><td>117.64</td></tr><tr><td>Nat Carroll</td><td>NC-18340</td><td>580.31</td></tr><tr><td>Nathan Cano</td><td>NC-18415</td><td>-2204.81</td></tr><tr><td>Nick Crebassa</td><td>NC-18535</td><td>1314.02</td></tr><tr><td>Noah Childs</td><td>NC-18625</td><td>-358.91</td></tr><tr><td>Natalie De Cherney</td><td>ND-18370</td><td>353.24</td></tr><tr><td>Neil Ducich</td><td>ND-18460</td><td>443.34</td></tr><tr><td>Natalie Fritzler</td><td>NF-18385</td><td>-1696.35</td></tr><tr><td>Neil Franzsisch</td><td>NF-18475</td><td>85.92</td></tr><tr><td>Nicole Fjeld</td><td>NF-18595</td><td>388.31</td></tr><tr><td>Nat Gilpin</td><td>NG-18355</td><td>313.63</td></tr><tr><td>Nathan Gelder</td><td>NG-18430</td><td>217.1</td></tr><tr><td>Nicole Hansen</td><td>NH-18610</td><td>760.17</td></tr><tr><td>Neil Knudson</td><td>NK-18490</td><td>121.23</td></tr><tr><td>Nancy Lomonaco</td><td>NL-18310</td><td>343.8</td></tr><tr><td>Nathan Mautz</td><td>NM-18445</td><td>2751.7</td></tr><tr><td>Neoma Murray</td><td>NM-18520</td><td>788.95</td></tr><tr><td>Na N</td><td>NP-18325</td><td>1209.14</td></tr><tr><td>Nra Paige</td><td>NP-18670</td><td>513.15</td></tr><tr><td>Nora Pelletier</td><td>NP-18685</td><td>514.5</td></tr><tr><td>Nora Preis</td><td>NP-18700</td><td>630.82</td></tr><tr><td>Nick Radford</td><td>NR-18550</td><td>-25.13</td></tr><tr><td>Neola Schneider</td><td>NS-18505</td><td>-12.31</td></tr><tr><td>Noel Staavos</td><td>NS-18640</td><td>-234.89</td></tr><tr><td>Natalie Webber</td><td>NW-18400</td><td>1022.63</td></tr><tr><td>Nick Zandusky</td><td>NZ-18565</td><td>402.56</td></tr><tr><td>Odella Nelson</td><td>ON-18715</td><td>-5.53</td></tr><tr><td>Olvera Toch</td><td>OT-18730</td><td>-925.56</td></tr><tr><td>Pete Armstrong</td><td>PA-19060</td><td>225.86</td></tr><tr><td>Patrick Bzostek</td><td>PB-18805</td><td>228.77</td></tr><tr><td>Peter Bhler</td><td>PB-19105</td><td>218.16</td></tr><tr><td>Philip Brown</td><td>PB-19150</td><td>280.27</td></tr><tr><td>Phillip Breyer</td><td>PB-19210</td><td>21.9</td></tr><tr><td>Pamela Coakley</td><td>PC-18745</td><td>272.68</td></tr><tr><td>Pauline Chand</td><td>PC-19000</td><td>-184.34</td></tr><tr><td>Peter Fuller</td><td>PF-19120</td><td>-614.02</td></tr><tr><td>Philip Fox</td><td>PF-19165</td><td>196.88</td></tr><tr><td>Phillip Flathmann</td><td>PF-19225</td><td>591.29</td></tr><tr><td>Patrick Gardner</td><td>PG-18820</td><td>137.49</td></tr><tr><td>Paul Gonzalez</td><td>PG-18895</td><td>334.97</td></tr><tr><td>Patricia Hirasaki</td><td>PH-18790</td><td>47.89</td></tr><tr><td>Patrick Jones</td><td>PJ-18835</td><td>442.14</td></tr><tr><td>Pauline Johnson</td><td>PJ-19015</td><td>682.68</td></tr><tr><td>Paul Knutson</td><td>PK-18910</td><td>-798.71</td></tr><tr><td>Pete Kriz</td><td>PK-19075</td><td>2037.9</td></tr><tr><td>Paul Lucas</td><td>PL-18925</td><td>-0.76</td></tr><tr><td>Paul Mac Intyre</td><td>PM-18940</td><td>157.88</td></tr><tr><td>Peter Mc Vee</td><td>PM-19135</td><td>526.76</td></tr><tr><td>Parhena Norris</td><td>PN-18775</td><td>192.04</td></tr><tr><td>Patrick O Brill</td><td>PO-18850</td><td>37.64</td></tr><tr><td>Patrick O Donnell</td><td>PO-18865</td><td>437.94</td></tr><tr><td>Philisse Overcash</td><td>PO-19180</td><td>1155.24</td></tr><tr><td>Phillina Ober</td><td>PO-19195</td><td>-49.69</td></tr><tr><td>Paul Prost</td><td>PP-18955</td><td>1495.47</td></tr><tr><td>Patrick Ryan</td><td>PR-18880</td><td>5596.2</td></tr><tr><td>Pamela Stobb</td><td>PS-18760</td><td>-134.44</td></tr><tr><td>Paul Stevenson</td><td>PS-18970</td><td>198.53</td></tr><tr><td>Penelope Sewall</td><td>PS-19045</td><td>3183.78</td></tr><tr><td>Pete Takahito</td><td>PT-19090</td><td>-20.05</td></tr><tr><td>Paul Van Hugh</td><td>PV-18985</td><td>434.25</td></tr><tr><td>Pauline Webber</td><td>PW-19030</td><td>803.82</td></tr><tr><td>Pierre Wener</td><td>PW-19240</td><td>1291.15</td></tr><tr><td>Quincy Jones</td><td>QJ-19255</td><td>1203.69</td></tr><tr><td>Ralph Arnett</td><td>RA-19285</td><td>545.72</td></tr><tr><td>Ruben Ausman</td><td>RA-19885</td><td>1292.81</td></tr><tr><td>Russell Applegate</td><td>RA-19915</td><td>305.29</td></tr><tr><td>Ryan Akin</td><td>RA-19945</td><td>-445.69</td></tr><tr><td>Randy Bradley</td><td>RB-19330</td><td>-164.41</td></tr><tr><td>Raymond Buch</td><td>RB-19360</td><td>6976.36</td></tr><tr><td>Richard Bierner</td><td>RB-19435</td><td>477.63</td></tr><tr><td>Rick Bensley</td><td>RB-19465</td><td>640.55</td></tr><tr><td>Rob Beeghly</td><td>RB-19570</td><td>76.9</td></tr><tr><td>Robert Barroso</td><td>RB-19645</td><td>72.68</td></tr><tr><td>Roger Barcio</td><td>RB-19705</td><td>243.08</td></tr><tr><td>Ross Baird</td><td>RB-19795</td><td>-461.74</td></tr><tr><td>Roy Collins</td><td>RC-19825</td><td>63.57</td></tr><tr><td>Ryan Crowe</td><td>RC-19960</td><td>10.54</td></tr><tr><td>Rick Duston</td><td>RD-19480</td><td>480.59</td></tr><tr><td>Rob Dowd</td><td>RD-19585</td><td>734.52</td></tr><tr><td>Robert Dilbeck</td><td>RD-19660</td><td>835.77</td></tr><tr><td>Roger Demir</td><td>RD-19720</td><td>207.72</td></tr><tr><td>Ross De Vincentis</td><td>RD-19810</td><td>318.45</td></tr><tr><td>Ruben Dartt</td><td>RD-19900</td><td>455.52</td></tr><tr><td>Russell D Ascenzo</td><td>RD-19930</td><td>35.04</td></tr><tr><td>Ricardo Emerson</td><td>RE-19405</td><td>6.05</td></tr><tr><td>Richard Eichhorn</td><td>RE-19450</td><td>209.25</td></tr><tr><td>Randy Ferguson</td><td>RF-19345</td><td>633.68</td></tr><tr><td>Roland Fjeld</td><td>RF-19735</td><td>711.84</td></tr><tr><td>Roy Franzsisch</td><td>RF-19840</td><td>280.09</td></tr><tr><td>Rick Hansen</td><td>RH-19495</td><td>563.78</td></tr><tr><td>Rick Huthwaite</td><td>RH-19510</td><td>1289.45</td></tr><tr><td>Ritsa Hightower</td><td>RH-19555</td><td>0.31</td></tr><tr><td>Rob Haberlin</td><td>RH-19600</td><td>172.63</td></tr><tr><td>Ralph Kennedy</td><td>RK-19300</td><td>269.69</td></tr><tr><td>Rob Lucas</td><td>RL-19615</td><td>213.98</td></tr><tr><td>Raymond Messe</td><td>RM-19375</td><td>392.6</td></tr><tr><td>Robert Marley</td><td>RM-19675</td><td>1902.55</td></tr><tr><td>Roland Murray</td><td>RM-19750</td><td>28.68</td></tr><tr><td>Rose O Brian</td><td>RO-19780</td><td>-1262.8</td></tr><tr><td>Rachel Payne</td><td>RP-19270</td><td>59.52</td></tr><tr><td>Resi Plking</td><td>RP-19390</td><td>464.96</td></tr><tr><td>Roy Phan</td><td>RP-19855</td><td>594.78</td></tr><tr><td>Ralph Ritter</td><td>RR-19315</td><td>-73.83</td></tr><tr><td>Rick Reed</td><td>RR-19525</td><td>721.69</td></tr><tr><td>Ricardo Sperren</td><td>RS-19420</td><td>633.45</td></tr><tr><td>Roland Schwarz</td><td>RS-19765</td><td>1206.39</td></tr><tr><td>Roy Skaria</td><td>RS-19870</td><td>9.58</td></tr><tr><td>Rick Wilson</td><td>RW-19540</td><td>1586.23</td></tr><tr><td>Rob Williams</td><td>RW-19630</td><td>699.06</td></tr><tr><td>Robert Waldorf</td><td>RW-19690</td><td>707.55</td></tr><tr><td>Sue Ann Reed</td><td>SA-20830</td><td>610.14</td></tr><tr><td>Sarah Bern</td><td>SB-20170</td><td>157.68</td></tr><tr><td>Sarah Brown</td><td>SB-20185</td><td>885.96</td></tr><tr><td>Sean Braxton</td><td>SB-20290</td><td>-2082.75</td></tr><tr><td>Sam Craven</td><td>SC-20020</td><td>-317.51</td></tr><tr><td>Sample Company A</td><td>SC-20050</td><td>1011.73</td></tr><tr><td>Sanjit Chand</td><td>SC-20095</td><td>5757.3</td></tr><tr><td>Scot Coram</td><td>SC-20230</td><td>439.83</td></tr><tr><td>Scott Cohen</td><td>SC-20260</td><td>670.98</td></tr><tr><td>Sean Christensen</td><td>SC-20305</td><td>229.11</td></tr><tr><td>Shahi Collister</td><td>SC-20380</td><td>-3164.0</td></tr><tr><td>Shaun Chance</td><td>SC-20440</td><td>379.57</td></tr><tr><td>Sonia Cooley</td><td>SC-20575</td><td>100.23</td></tr><tr><td>Steve Carroll</td><td>SC-20680</td><td>370.17</td></tr><tr><td>Steve Chapman</td><td>SC-20695</td><td>611.82</td></tr><tr><td>Steven Cartwright</td><td>SC-20725</td><td>1276.42</td></tr><tr><td>Stewart Carmichael</td><td>SC-20770</td><td>-671.38</td></tr><tr><td>Stuart Calhoun</td><td>SC-20800</td><td>52.21</td></tr><tr><td>Sung Chung</td><td>SC-20845</td><td>31.18</td></tr><tr><td>Shirley Daniels</td><td>SD-20485</td><td>1985.19</td></tr><tr><td>Sanjit Engle</td><td>SE-20110</td><td>2650.67</td></tr><tr><td>Sandra Flanagan</td><td>SF-20065</td><td>227.76</td></tr><tr><td>Sarah Foster</td><td>SF-20200</td><td>287.0</td></tr><tr><td>Sylvia Foulston</td><td>SF-20965</td><td>539.94</td></tr><tr><td>Sandra Glassco</td><td>SG-20080</td><td>570.45</td></tr><tr><td>Sheri Gordon</td><td>SG-20470</td><td>-119.01</td></tr><tr><td>Speros Goranitis</td><td>SG-20605</td><td>463.27</td></tr><tr><td>Susan Gilcrest</td><td>SG-20890</td><td>-3.7</td></tr><tr><td>Na N</td><td>SH-19975</td><td>553.65</td></tr><tr><td>Shahi Hopkins</td><td>SH-20395</td><td>-144.52</td></tr><tr><td>Stefanie Holloman</td><td>SH-20635</td><td>260.63</td></tr><tr><td>Sanjit Jacobs</td><td>SJ-20125</td><td>143.73</td></tr><tr><td>Sarah Jordon</td><td>SJ-20215</td><td>-23.38</td></tr><tr><td>Shirley Jackson</td><td>SJ-20500</td><td>68.59</td></tr><tr><td>Sally Knutson</td><td>SK-19990</td><td>168.79</td></tr><tr><td>Sara Luxemburg</td><td>SL-20155</td><td>528.04</td></tr><tr><td>Sally Matthias</td><td>SM-20005</td><td>-26.59</td></tr><tr><td>Sean Miller</td><td>SM-20320</td><td>-1980.98</td></tr><tr><td>Susan Mac Kendrick</td><td>SM-20905</td><td>-16510.34</td></tr><tr><td>Suzanne Mc Nair</td><td>SM-20950</td><td>581.57</td></tr><tr><td>Skye Norling</td><td>SN-20560</td><td>-716.84</td></tr><tr><td>Steve Nguyen</td><td>SN-20710</td><td>481.75</td></tr><tr><td>Sean O Donnell</td><td>SO-20335</td><td>-81.42</td></tr><tr><td>Sibella Parks</td><td>SP-20545</td><td>-118.38</td></tr><tr><td>Stefania Perrino</td><td>SP-20620</td><td>-270.19</td></tr><tr><td>Stephanie Phelps</td><td>SP-20650</td><td>268.47</td></tr><tr><td>Sung Pak</td><td>SP-20860</td><td>567.12</td></tr><tr><td>Susan Pistek</td><td>SP-20920</td><td>14.37</td></tr><tr><td>Sharelle Roach</td><td>SR-20425</td><td>-3334.17</td></tr><tr><td>Steven Roelle</td><td>SR-20740</td><td>1990.43</td></tr><tr><td>Saphhira Shifley</td><td>SS-20140</td><td>332.03</td></tr><tr><td>Shahi Shariari</td><td>SS-20410</td><td>-1011.08</td></tr><tr><td>Shirley Schmidt</td><td>SS-20515</td><td>199.93</td></tr><tr><td>Sonia Sunley</td><td>SS-20590</td><td>135.91</td></tr><tr><td>Sung Shariari</td><td>SS-20875</td><td>-75.57</td></tr><tr><td>Shui Tom</td><td>ST-20530</td><td>85.12</td></tr><tr><td>Stephanie Ulpright</td><td>SU-20665</td><td>763.7</td></tr><tr><td>Seth Vernon</td><td>SV-20365</td><td>1200.14</td></tr><tr><td>Stewart Visinsky</td><td>SV-20785</td><td>484.85</td></tr><tr><td>Stuart Van</td><td>SV-20815</td><td>199.64</td></tr><tr><td>Susan Vittorini</td><td>SV-20935</td><td>106.62</td></tr><tr><td>Scot Wooten</td><td>SW-20245</td><td>-19.58</td></tr><tr><td>Scott Williamson</td><td>SW-20275</td><td>332.76</td></tr><tr><td>Sean Wendt</td><td>SW-20350</td><td>95.84</td></tr><tr><td>Shaun Weien</td><td>SW-20455</td><td>793.64</td></tr><tr><td>Steven Ward</td><td>SW-20755</td><td>68.24</td></tr><tr><td>Sam Zeldin</td><td>SZ-20035</td><td>366.42</td></tr><tr><td>Tom Ashbrook</td><td>TA-21385</td><td>4703.73</td></tr><tr><td>Ted Butterfield</td><td>TB-21055</td><td>389.76</td></tr><tr><td>Thomas Boland</td><td>TB-21175</td><td>828.71</td></tr><tr><td>Thomas Brumley</td><td>TB-21190</td><td>179.01</td></tr><tr><td>Tim Brockman</td><td>TB-21250</td><td>260.3</td></tr><tr><td>Toby Braunhardt</td><td>TB-21280</td><td>491.13</td></tr><tr><td>Todd Boyes</td><td>TB-21355</td><td>268.96</td></tr><tr><td>Tom Boeckenhauer</td><td>TB-21400</td><td>2798.06</td></tr><tr><td>Tracy Blumstein</td><td>TB-21520</td><td>-1603.05</td></tr><tr><td>Troy Blackwell</td><td>TB-21595</td><td>-136.47</td></tr><tr><td>Trudy Brown</td><td>TB-21625</td><td>379.81</td></tr><tr><td>Tamara Chand</td><td>TC-20980</td><td>8981.32</td></tr><tr><td>Theresa Coyne</td><td>TC-21145</td><td>265.59</td></tr><tr><td>Toby Carlisle</td><td>TC-21295</td><td>606.37</td></tr><tr><td>Tony Chapman</td><td>TC-21475</td><td>119.13</td></tr><tr><td>Tracy Collins</td><td>TC-21535</td><td>217.95</td></tr><tr><td>Tamara Dahlen</td><td>TD-20995</td><td>88.64</td></tr><tr><td>Toby Gnade</td><td>TG-21310</td><td>682.17</td></tr><tr><td>Trudy Glocke</td><td>TG-21640</td><td>365.12</td></tr><tr><td>Thea Hendricks</td><td>TH-21100</td><td>-135.22</td></tr><tr><td>Thea Hudgings</td><td>TH-21115</td><td>-252.55</td></tr><tr><td>Tiffany House</td><td>TH-21235</td><td>92.55</td></tr><tr><td>Tracy Hopkins</td><td>TH-21550</td><td>-571.98</td></tr><tr><td>Tamara Manning</td><td>TM-21010</td><td>573.46</td></tr><tr><td>Tony Molinari</td><td>TM-21490</td><td>292.53</td></tr><tr><td>Tanja Norvell</td><td>TN-21040</td><td>-692.05</td></tr><tr><td>Theone Pippenger</td><td>TP-21130</td><td>1128.65</td></tr><tr><td>Tom Prescott</td><td>TP-21415</td><td>-1087.38</td></tr><tr><td>Tracy Poddar</td><td>TP-21565</td><td>139.44</td></tr><tr><td>Toby Ritter</td><td>TR-21325</td><td>220.36</td></tr><tr><td>Thais Sissman</td><td>TS-21085</td><td>-3.32</td></tr><tr><td>Theresa Swint</td><td>TS-21160</td><td>260.63</td></tr><tr><td>Thomas Seio</td><td>TS-21205</td><td>862.94</td></tr><tr><td>Toby Swindell</td><td>TS-21340</td><td>-185.0</td></tr><tr><td>Todd Sumrall</td><td>TS-21370</td><td>2371.73</td></tr><tr><td>Tom Stivers</td><td>TS-21430</td><td>48.9</td></tr><tr><td>Na N</td><td>TS-21505</td><td>11.39</td></tr><tr><td>Troy Staebel</td><td>TS-21610</td><td>-294.89</td></tr><tr><td>Trudy Schmidt</td><td>TS-21655</td><td>220.73</td></tr><tr><td>Ted Trevino</td><td>TT-21070</td><td>752.17</td></tr><tr><td>Thomas Thornton</td><td>TT-21220</td><td>278.75</td></tr><tr><td>Tim Taslimi</td><td>TT-21265</td><td>93.92</td></tr><tr><td>Tonja Turnell</td><td>TT-21460</td><td>1124.38</td></tr><tr><td>Tamara Willingham</td><td>TW-21025</td><td>737.39</td></tr><tr><td>Tracy Zic</td><td>TZ-21580</td><td>224.9</td></tr><tr><td>Victoria Brennan</td><td>VB-21745</td><td>371.25</td></tr><tr><td>Valerie Dominguez</td><td>VD-21670</td><td>1617.61</td></tr><tr><td>Vicky Freymann</td><td>VF-21715</td><td>-96.28</td></tr><tr><td>Vivek Gonzalez</td><td>VG-21790</td><td>144.12</td></tr><tr><td>Vivek Grady</td><td>VG-21805</td><td>-52.33</td></tr><tr><td>Valerie Mitchum</td><td>VM-21685</td><td>513.63</td></tr><tr><td>Vivian Mathis</td><td>VM-21835</td><td>116.64</td></tr><tr><td>Victor Preis</td><td>VP-21730</td><td>205.39</td></tr><tr><td>Victoria Pisteka</td><td>VP-21760</td><td>-1018.91</td></tr><tr><td>Vivek Sundaresam</td><td>VS-21820</td><td>-263.08</td></tr><tr><td>Valerie Takahito</td><td>VT-21700</td><td>-224.93</td></tr><tr><td>Victoria Wilson</td><td>VW-21775</td><td>-874.66</td></tr><tr><td>William Brown</td><td>WB-21850</td><td>714.52</td></tr><tr><td>Xylona Preis</td><td>XP-21865</td><td>621.37</td></tr><tr><td>Yoseph Carroll</td><td>YC-21895</td><td>1305.64</td></tr><tr><td>Yana Sorensen</td><td>YS-21880</td><td>1778.31</td></tr><tr><td>Zuschuss Carroll</td><td>ZC-21910</td><td>-1032.36</td></tr><tr><td>Zuschuss Donatelli</td><td>ZD-21925</td><td>248.75</td></tr></tbody></table></div>"
      ]
     },
     "metadata": {
      "application/vnd.databricks.v1+output": {
       "addedWidgets": {},
       "aggData": [],
       "aggError": "",
       "aggOverflow": false,
       "aggSchema": [],
       "aggSeriesLimitReached": false,
       "aggType": "",
       "arguments": {},
       "columnCustomDisplayInfos": {},
       "data": [
        [
         "Alex Avila",
         "AA-10315",
         -362.9
        ],
        [
         "Allen Armold",
         "AA-10375",
         277.4
        ],
        [
         "Andrew Allen",
         "AA-10480",
         436.08
        ],
        [
         "Anna Andreadi",
         "AA-10645",
         857.8
        ],
        [
         "Aaron Bergman",
         "AB-10015",
         129.68
        ],
        [
         "Adam Bellavance",
         "AB-10060",
         2054.6
        ],
        [
         "Adrian Barton",
         "AB-10105",
         5444.97
        ],
        [
         "Aimee Bixby",
         "AB-10150",
         313.66
        ],
        [
         "Alan Barnes",
         "AB-10165",
         220.61
        ],
        [
         "Alejandro Ballentine",
         "AB-10255",
         264.57
        ],
        [
         "Ann Blume",
         "AB-10600",
         -275.28
        ],
        [
         "Alyssa Crouse",
         "AC-10420",
         -62.13
        ],
        [
         "Amy Cox",
         "AC-10450",
         1366.5
        ],
        [
         "Ann Chong",
         "AC-10615",
         298.61
        ],
        [
         "Anna Chung",
         "AC-10660",
         -28.7
        ],
        [
         "Alan Dominguez",
         "AD-10180",
         1869.92
        ],
        [
         "Art Ferguson",
         "AF-10870",
         317.63
        ],
        [
         "Art Foster",
         "AF-10885",
         -163.13
        ],
        [
         "Alejandro Grove",
         "AG-10270",
         732.75
        ],
        [
         "Aleksandra Gannaway",
         "AG-10300",
         59.3
        ],
        [
         "Alex Grayson",
         "AG-10330",
         -5.36
        ],
        [
         "Allen Goldenen",
         "AG-10390",
         69.27
        ],
        [
         "Andrew Gjertsen",
         "AG-10495",
         295.84
        ],
        [
         "Andy Gerbode",
         "AG-10525",
         -152.75
        ],
        [
         "Anna Gayman",
         "AG-10675",
         -246.4
        ],
        [
         "Anthony Garverick",
         "AG-10765",
         -8.42
        ],
        [
         "Arthur Gainer",
         "AG-10900",
         343.67
        ],
        [
         "Aaron Hawkins",
         "AH-10030",
         365.22
        ],
        [
         "Adam Hart",
         "AH-10075",
         280.8
        ],
        [
         "Adrian Hane",
         "AH-10120",
         -2.5
        ],
        [
         "Alan Haines",
         "AH-10195",
         -378.04
        ],
        [
         "Alan Hwang",
         "AH-10210",
         1308.56
        ],
        [
         "Amy Hunt",
         "AH-10465",
         -195.99
        ],
        [
         "Angele Hood",
         "AH-10585",
         83.97
        ],
        [
         "Anna Hberlin",
         "AH-10690",
         1296.89
        ],
        [
         "Arianne Irving",
         "AI-10855",
         867.87
        ],
        [
         "Anthony Jacobs",
         "AJ-10780",
         150.72
        ],
        [
         "Anthony Johnson",
         "AJ-10795",
         1158.71
        ],
        [
         "Ashley Jarboe",
         "AJ-10945",
         521.14
        ],
        [
         "Astrea Jones",
         "AJ-10960",
         60.43
        ],
        [
         "Alice Mc Carthy",
         "AM-10360",
         194.99
        ],
        [
         "Anne Mc Farland",
         "AM-10705",
         969.06
        ],
        [
         "Anthony O Donnell",
         "AO-10810",
         12.1
        ],
        [
         "Anne Pryor",
         "AP-10720",
         285.8
        ],
        [
         "Arthur Prichep",
         "AP-10915",
         579.7
        ],
        [
         "Alex Russell",
         "AR-10345",
         -221.05
        ],
        [
         "Allen Rosenblatt",
         "AR-10405",
         -98.52
        ],
        [
         "Andrew Roberts",
         "AR-10510",
         43.65
        ],
        [
         "Andy Reiter",
         "AR-10540",
         2884.61
        ],
        [
         "Anemone Ratner",
         "AR-10570",
         32.64
        ],
        [
         "Anthony Rawles",
         "AR-10825",
         495.07
        ],
        [
         "Aaron Smayling",
         "AS-10045",
         -253.59
        ],
        [
         "Adam Shillingsburg",
         "AS-10090",
         64.32
        ],
        [
         "Adrian Shami",
         "AS-10135",
         21.84
        ],
        [
         "Alan Schoenberger",
         "AS-10225",
         719.77
        ],
        [
         "Alan Shonely",
         "AS-10240",
         33.69
        ],
        [
         "Alejandro Savely",
         "AS-10285",
         354.63
        ],
        [
         "Ann Steele",
         "AS-10630",
         136.6
        ],
        [
         "Alyssa Tate",
         "AT-10435",
         100.87
        ],
        [
         "Annie Thurman",
         "AT-10735",
         974.57
        ],
        [
         "Anthony Witt",
         "AW-10840",
         65.78
        ],
        [
         "Arthur Wiediger",
         "AW-10930",
         -104.44
        ],
        [
         "Andy Yotov",
         "AY-10555",
         103.34
        ],
        [
         "Annie Zypern",
         "AZ-10750",
         154.77
        ],
        [
         "Barry Blumstein",
         "BB-10990",
         11.57
        ],
        [
         "Brenda Bowman",
         "BB-11545",
         1014.65
        ],
        [
         "Becky Castell",
         "BC-11125",
         251.19
        ],
        [
         "Bil Donatelli",
         "BD-11320",
         1094.51
        ],
        [
         "Bradley Drucker",
         "BD-11500",
         1142.12
        ],
        [
         "Brendan Dodson",
         "BD-11560",
         116.71
        ],
        [
         "Brian Dahlen",
         "BD-11605",
         634.83
        ],
        [
         "Brian De Cherney",
         "BD-11620",
         207.02
        ],
        [
         "Brian Derr",
         "BD-11635",
         141.43
        ],
        [
         "Bruce Degenhardt",
         "BD-11725",
         334.47
        ],
        [
         "Bryan Davis",
         "BD-11770",
         141.28
        ],
        [
         "Bil Eplett",
         "BE-11335",
         1487.79
        ],
        [
         "Bobby Elias",
         "BE-11410",
         755.91
        ],
        [
         "Brad Eason",
         "BE-11455",
         139.21
        ],
        [
         "Barbara Fisher",
         "BF-10975",
         227.3
        ],
        [
         "Barry Franz",
         "BF-11005",
         -291.37
        ],
        [
         "Barry Franzsisch",
         "BF-11020",
         301.44
        ],
        [
         "Bart Folk",
         "BF-11080",
         110.99
        ],
        [
         "Ben Ferrer",
         "BF-11170",
         1938.67
        ],
        [
         "Benjamin Farhat",
         "BF-11215",
         523.09
        ],
        [
         "Beth Fritzler",
         "BF-11275",
         25.88
        ],
        [
         "Barry Gonzalez",
         "BG-11035",
         -710.8
        ],
        [
         "Brooke Gillingham",
         "BG-11695",
         107.59
        ],
        [
         "Bruce Geld",
         "BG-11740",
         119.35
        ],
        [
         "Brosina Hoffman",
         "BH-11710",
         789.63
        ],
        [
         "Berenike Kampe",
         "BK-11260",
         -63.3
        ],
        [
         "Becky Martin",
         "BM-11140",
         -1659.97
        ],
        [
         "Brendan Murry",
         "BM-11575",
         95.58
        ],
        [
         "Brian Moss",
         "BM-11650",
         2198.83
        ],
        [
         "Bryan Mills",
         "BM-11785",
         137.72
        ],
        [
         "Brad Norvell",
         "BN-11470",
         36.61
        ],
        [
         "Bradley Nguyen",
         "BN-11515",
         340.72
        ],
        [
         "Bil Overfelt",
         "BO-11350",
         278.43
        ],
        [
         "Bobby Odegard",
         "BO-11425",
         59.46
        ],
        [
         "Barry Pond",
         "BP-11050",
         209.66
        ],
        [
         "Bart Pistole",
         "BP-11095",
         433.59
        ],
        [
         "Becky Pak",
         "BP-11155",
         647.0
        ],
        [
         "Ben Peterman",
         "BP-11185",
         363.61
        ],
        [
         "Benjamin Patterson",
         "BP-11230",
         -197.39
        ],
        [
         "Beth Paige",
         "BP-11290",
         -318.85
        ],
        [
         "Bil Shonely",
         "BS-11365",
         2616.41
        ],
        [
         "Bil Stewart",
         "BS-11380",
         -17.53
        ],
        [
         "Brendan Sweed",
         "BS-11590",
         381.39
        ],
        [
         "Brian Stugart",
         "BS-11665",
         238.73
        ],
        [
         "Bruce Stewart",
         "BS-11755",
         -113.31
        ],
        [
         "Bryan Spruell",
         "BS-11800",
         194.05
        ],
        [
         "Beth Thompson",
         "BT-11305",
         417.58
        ],
        [
         "Bil Tyler",
         "BT-11395",
         257.9
        ],
        [
         "Bobby Trafton",
         "BT-11440",
         -77.27
        ],
        [
         "Brad Thomas",
         "BT-11485",
         126.87
        ],
        [
         "Bradley Talbott",
         "BT-11530",
         409.49
        ],
        [
         "Brian Thompson",
         "BT-11680",
         447.81
        ],
        [
         "Benjamin Venier",
         "BV-11245",
         315.23
        ],
        [
         "Barry Weirich",
         "BW-11065",
         -58.29
        ],
        [
         "Bart Watters",
         "BW-11110",
         921.38
        ],
        [
         "Ben Wallace",
         "BW-11200",
         247.0
        ],
        [
         "Carol Adams",
         "CA-11965",
         1143.39
        ],
        [
         "Cthy Armstrong",
         "CA-12055",
         211.64
        ],
        [
         "Christina Anderson",
         "CA-12265",
         279.9
        ],
        [
         "Christine Abelman",
         "CA-12310",
         246.86
        ],
        [
         "Cynthia Arntzen",
         "CA-12775",
         203.73
        ],
        [
         "Cassandra Brandow",
         "CB-12025",
         150.51
        ],
        [
         "Christy Brittain",
         "CB-12415",
         272.4
        ],
        [
         "Claudia Bergmann",
         "CB-12535",
         1049.28
        ],
        [
         "Chad Cunningham",
         "CC-12100",
         208.6
        ],
        [
         "Charles Crestani",
         "CC-12145",
         392.29
        ],
        [
         "Chris Cortes",
         "CC-12220",
         393.97
        ],
        [
         "Christopher Conant",
         "CC-12370",
         2177.07
        ],
        [
         "Chuck Clark",
         "CC-12430",
         424.68
        ],
        [
         "Cindy Chapman",
         "CC-12475",
         154.85
        ],
        [
         "Clay Cheatham",
         "CC-12550",
         34.3
        ],
        [
         "Corey Catlett",
         "CC-12610",
         331.27
        ],
        [
         "Craig Carreira",
         "CC-12670",
         187.88
        ],
        [
         "Craig Carroll",
         "CC-12685",
         850.03
        ],
        [
         "Carlos Daly",
         "CD-11920",
         426.21
        ],
        [
         "Carol Darley",
         "CD-11980",
         -206.71
        ],
        [
         "Christina De Moss",
         "CD-12280",
         233.48
        ],
        [
         "Cynthia Delaney",
         "CD-12790",
         389.45
        ],
        [
         "Catherine Glotzbach",
         "CG-12040",
         86.31
        ],
        [
         "Claire Gute",
         "CG-12520",
         169.93
        ],
        [
         "Cathy Hwang",
         "CH-12070",
         184.29
        ],
        [
         "Carl Jackson",
         "CJ-11875",
         1.65
        ],
        [
         "Caroline Jumper",
         "CJ-12010",
         858.75
        ],
        [
         "Chloris Kastensmidt",
         "CK-12205",
         141.59
        ],
        [
         "Christine Kargatis",
         "CK-12325",
         261.23
        ],
        [
         "Clytie Kelty",
         "CK-12595",
         491.12
        ],
        [
         "Cyma Kinney",
         "CK-12760",
         -338.44
        ],
        [
         "Carl Ludwig",
         "CL-11890",
         328.08
        ],
        [
         "Clay Ludtke",
         "CL-12565",
         1933.19
        ],
        [
         "Craig Leslie",
         "CL-12700",
         229.0
        ],
        [
         "Candace Mc Mahon",
         "CM-11815",
         214.85
        ],
        [
         "Carlos Meador",
         "CM-11935",
         -43.73
        ],
        [
         "Chad Mc Guire",
         "CM-12115",
         408.58
        ],
        [
         "Charles Mc Crossin",
         "CM-12160",
         -394.37
        ],
        [
         "Charlotte Melton",
         "CM-12190",
         91.21
        ],
        [
         "Chris Mc Afee",
         "CM-12235",
         365.03
        ],
        [
         "Christopher Martinez",
         "CM-12385",
         3900.04
        ],
        [
         "Chuck Magee",
         "CM-12445",
         63.97
        ],
        [
         "Corinna Mitchell",
         "CM-12655",
         1572.44
        ],
        [
         "Craig Molinari",
         "CM-12715",
         176.32
        ],
        [
         "Cathy Prescott",
         "CP-12085",
         426.94
        ],
        [
         "Christine Phan",
         "CP-12340",
         -1850.31
        ],
        [
         "Clay Rozendal",
         "CR-12580",
         74.4
        ],
        [
         "Corey Roper",
         "CR-12625",
         144.85
        ],
        [
         "Craig Reiter",
         "CR-12730",
         306.92
        ],
        [
         "Cyra Reiten",
         "CR-12820",
         83.27
        ],
        [
         "Cari Sayre",
         "CS-11845",
         185.55
        ],
        [
         "Cari Schnelling",
         "CS-11860",
         105.82
        ],
        [
         "Carlos Soltero",
         "CS-11950",
         -126.62
        ],
        [
         "Chad Sievert",
         "CS-12130",
         143.83
        ],
        [
         "Charles Sheldon",
         "CS-12175",
         113.15
        ],
        [
         "Chris Selesnick",
         "CS-12250",
         738.41
        ],
        [
         "Christine Sundaresam",
         "CS-12355",
         831.94
        ],
        [
         "Christopher Schild",
         "CS-12400",
         -342.8
        ],
        [
         "Chuck Sachs",
         "CS-12460",
         156.27
        ],
        [
         "Cindy Schnelling",
         "CS-12490",
         -302.86
        ],
        [
         "Cindy Stewart",
         "CS-12505",
         -6626.24
        ],
        [
         "Carol Triggs",
         "CT-11995",
         160.9
        ],
        [
         "Christina Vander Zanden",
         "CV-12295",
         493.09
        ],
        [
         "Cynthia Voltz",
         "CV-12805",
         98.7
        ],
        [
         "Carl Weiss",
         "CW-11905",
         370.84
        ],
        [
         "Craig Yedwab",
         "CY-12745",
         60.64
        ],
        [
         "Corey Lock",
         "Co-12640",
         205.9
        ],
        [
         "Dianna Arnett",
         "DA-13450",
         56.79
        ],
        [
         "Daniel Byrd",
         "DB-12910",
         431.38
        ],
        [
         "Darren Budd",
         "DB-12970",
         212.54
        ],
        [
         "Dave Brooks",
         "DB-13060",
         472.63
        ],
        [
         "David Bremer",
         "DB-13120",
         -1421.78
        ],
        [
         "Dean Braden",
         "DB-13210",
         169.71
        ],
        [
         "Deborah Brumfield",
         "DB-13270",
         841.84
        ],
        [
         "Dennis Bolton",
         "DB-13360",
         291.01
        ],
        [
         "Denny Blanton",
         "DB-13405",
         438.92
        ],
        [
         "Dorothy Badders",
         "DB-13555",
         109.64
        ],
        [
         "Doug Bickford",
         "DB-13615",
         438.8
        ],
        [
         "Duane Benoit",
         "DB-13660",
         177.94
        ],
        [
         "Dan Campbell",
         "DC-12850",
         -1441.28
        ],
        [
         "Debra Catini",
         "DC-13285",
         132.08
        ],
        [
         "Dorothy Dickinson",
         "DD-13570",
         36.44
        ],
        [
         "Na N",
         "DE-13255",
         464.48
        ],
        [
         "David Flashing",
         "DF-13135",
         -259.31
        ],
        [
         "Deirdre Greer",
         "DG-13300",
         562.77
        ],
        [
         "Dave Hallsten",
         "DH-13075",
         1193.75
        ],
        [
         "Duane Huffman",
         "DH-13675",
         116.68
        ],
        [
         "Denny Joy",
         "DJ-13420",
         483.03
        ],
        [
         "Don Jones",
         "DJ-13510",
         345.26
        ],
        [
         "Doug Jacobs",
         "DJ-13630",
         731.57
        ],
        [
         "Damala Kotsonis",
         "DK-12835",
         881.52
        ],
        [
         "Dana Kaydos",
         "DK-12895",
         925.97
        ],
        [
         "Darren Koutras",
         "DK-12985",
         -107.45
        ],
        [
         "Dave Kipp",
         "DK-13090",
         536.39
        ],
        [
         "David Klendrick",
         "DK-13150",
         250.27
        ],
        [
         "Dean Katz",
         "DK-13225",
         210.27
        ],
        [
         "Dennis Kane",
         "DK-13375",
         377.43
        ],
        [
         "Dan Lawera",
         "DL-12865",
         321.85
        ],
        [
         "Daniel Lacy",
         "DL-12925",
         4.39
        ],
        [
         "Delfina Latchford",
         "DL-13315",
         288.92
        ],
        [
         "Denise Leinenbach",
         "DL-13330",
         222.69
        ],
        [
         "Dionis Lloyd",
         "DL-13495",
         -52.39
        ],
        [
         "Dario Medina",
         "DM-12955",
         108.76
        ],
        [
         "Darrin Martin",
         "DM-13015",
         1677.98
        ],
        [
         "Denise Monton",
         "DM-13345",
         1319.07
        ],
        [
         "Don Miller",
         "DM-13525",
         200.2
        ],
        [
         "Duane Noonan",
         "DN-13690",
         540.53
        ],
        [
         "Denny Ordway",
         "DO-13435",
         -38.33
        ],
        [
         "Doug O Connell",
         "DO-13645",
         293.85
        ],
        [
         "Darren Powers",
         "DP-13000",
         241.69
        ],
        [
         "Dave Poirier",
         "DP-13105",
         562.95
        ],
        [
         "David Philippe",
         "DP-13165",
         -40.94
        ],
        [
         "Dennis Pardue",
         "DP-13390",
         1571.83
        ],
        [
         "Dan Reichenbach",
         "DR-12880",
         1641.54
        ],
        [
         "Daniel Raglin",
         "DR-12940",
         2869.08
        ],
        [
         "Darrin Sayre",
         "DS-13030",
         193.78
        ],
        [
         "David Smith",
         "DS-13180",
         163.66
        ],
        [
         "Darrin Van Huff",
         "DV-13045",
         -427.63
        ],
        [
         "Dianna Vittorini",
         "DV-13465",
         353.09
        ],
        [
         "David Wiener",
         "DW-13195",
         -86.97
        ],
        [
         "Dianna Wilson",
         "DW-13480",
         1348.75
        ],
        [
         "Don Weiss",
         "DW-13540",
         69.66
        ],
        [
         "Dorothy Wardle",
         "DW-13585",
         -266.9
        ],
        [
         "Dorrisliebe",
         "Dl-13600",
         175.23
        ],
        [
         "Deanperce R",
         "Dp-13240",
         333.37
        ],
        [
         "Erin Ashbrook",
         "EA-14035",
         -52.56
        ],
        [
         "Ed Braxton",
         "EB-13705",
         13.56
        ],
        [
         "Edward Becker",
         "EB-13750",
         -80.29
        ],
        [
         "Ellis Ballard",
         "EB-13840",
         656.2
        ],
        [
         "Emily Burns",
         "EB-13870",
         261.95
        ],
        [
         "Eric Barreto",
         "EB-13930",
         0.43
        ],
        [
         "Erica Bern",
         "EB-13975",
         162.89
        ],
        [
         "Eugene Barchas",
         "EB-14110",
         184.76
        ],
        [
         "Evan Bailliet",
         "EB-14170",
         282.41
        ],
        [
         "Erin Creighton",
         "EC-14050",
         96.44
        ],
        [
         "Na N",
         "ED-13885",
         670.45
        ],
        [
         "Emily Grady",
         "EG-13900",
         103.9
        ],
        [
         "Edward Hooks",
         "EH-13765",
         1393.5
        ],
        [
         "Eric Hoffmann",
         "EH-13945",
         53.79
        ],
        [
         "Erica Hackney",
         "EH-13990",
         150.37
        ],
        [
         "Erica Hernandez",
         "EH-14005",
         -94.72
        ],
        [
         "Eugene Hildebrand",
         "EH-14125",
         96.21
        ],
        [
         "Evan Henry",
         "EH-14185",
         242.13
        ],
        [
         "Ed Jacobs",
         "EJ-13720",
         -6964.03
        ],
        [
         "Eva Jacobs",
         "EJ-14155",
         451.88
        ],
        [
         "Eileen Kiefer",
         "EK-13795",
         97.1
        ],
        [
         "Ed Ludwig",
         "EL-13735",
         27.11
        ],
        [
         "Na N",
         "EM-13810",
         -133.99
        ],
        [
         "Elizabeth Moffitt",
         "EM-13825",
         682.56
        ],
        [
         "Eric Murdock",
         "EM-13960",
         102.3
        ],
        [
         "Erin Mull",
         "EM-14065",
         40.03
        ],
        [
         "Eudokia Martin",
         "EM-14095",
         240.23
        ],
        [
         "Eugene Moren",
         "EM-14140",
         1318.95
        ],
        [
         "Evan Minnotte",
         "EM-14200",
         21.83
        ],
        [
         "Edward Nazzal",
         "EN-13780",
         496.22
        ],
        [
         "Emily Phan",
         "EP-13915",
         145.14
        ],
        [
         "Elpida Rittenbach",
         "ER-13855",
         -295.33
        ],
        [
         "Erica Smith",
         "ES-14020",
         1003.08
        ],
        [
         "Erin Smith",
         "ES-14080",
         246.94
        ],
        [
         "Frank Atkinson",
         "FA-14230",
         520.33
        ],
        [
         "Frank Carlisle",
         "FC-14245",
         1217.18
        ],
        [
         "Fred Chung",
         "FC-14335",
         714.29
        ],
        [
         "Frank Gastineau",
         "FG-14260",
         394.95
        ],
        [
         "Frank Hawley",
         "FH-14275",
         13400.33
        ],
        [
         "Fred Harton",
         "FH-14350",
         706.05
        ],
        [
         "Fred Hopkins",
         "FH-14365",
         2051.01
        ],
        [
         "Filia Mc Adams",
         "FM-14215",
         249.95
        ],
        [
         "Frank Merwin",
         "FM-14290",
         197.89
        ],
        [
         "Fred Mc Math",
         "FM-14380",
         191.09
        ],
        [
         "Frank Olsen",
         "FO-14305",
         215.59
        ],
        [
         "Frank Preis",
         "FP-14320",
         406.46
        ],
        [
         "Fred Waerman",
         "FW-14395",
         23.5
        ],
        [
         "George Ashbrook",
         "GA-14515",
         840.89
        ],
        [
         "Guy Armstrong",
         "GA-14725",
         136.49
        ],
        [
         "George Bell",
         "GB-14530",
         7.85
        ],
        [
         "Giulietta Baptist",
         "GB-14575",
         1135.84
        ],
        [
         "Giulietta Dortch",
         "GD-14590",
         230.6
        ],
        [
         "Greg Guthrie",
         "GG-14650",
         12.69
        ],
        [
         "Gary Hansen",
         "GH-14410",
         -577.01
        ],
        [
         "Gary Hwang",
         "GH-14425",
         1176.39
        ],
        [
         "Gene Hale",
         "GH-14485",
         -95.49
        ],
        [
         "Greg Hansen",
         "GH-14665",
         -5.81
        ],
        [
         "Grace Kelly",
         "GK-14620",
         1448.59
        ],
        [
         "Gary Mc Garr",
         "GM-14440",
         347.27
        ],
        [
         "Gary Mitchum",
         "GM-14455",
         793.29
        ],
        [
         "Gene Mc Clure",
         "GM-14500",
         441.32
        ],
        [
         "Greg Matthias",
         "GM-14680",
         35.47
        ],
        [
         "Greg Maxwell",
         "GM-14695",
         188.46
        ],
        [
         "Guy Phonely",
         "GP-14740",
         31.84
        ],
        [
         "Georgia Rosenberg",
         "GR-14560",
         359.88
        ],
        [
         "Grant Thornton",
         "GT-14635",
         -4108.66
        ],
        [
         "Greg Tran",
         "GT-14710",
         2163.29
        ],
        [
         "Guy Thornton",
         "GT-14755",
         -6.14
        ],
        [
         "Giulietta Weimer",
         "GW-14605",
         -268.55
        ],
        [
         "Gary Zandusky",
         "GZ-14470",
         1088.16
        ],
        [
         "George Zrebassa",
         "GZ-14545",
         828.17
        ],
        [
         "Helen Abelman",
         "HA-14905",
         270.86
        ],
        [
         "Helen Andreada",
         "HA-14920",
         98.47
        ],
        [
         "Harold Dahlen",
         "HD-14785",
         -136.33
        ],
        [
         "Harold Engle",
         "HE-14800",
         273.97
        ],
        [
         "Herbert Flentye",
         "HF-14995",
         -14.35
        ],
        [
         "Harry Greene",
         "HG-14845",
         147.01
        ],
        [
         "Henry Goldwyn",
         "HG-14965",
         -2797.95
        ],
        [
         "Hunter Glantz",
         "HG-15025",
         804.62
        ],
        [
         "Hilary Holden",
         "HH-15010",
         86.73
        ],
        [
         "Heather Jas",
         "HJ-14875",
         98.67
        ],
        [
         "Heather Kirkland",
         "HK-14890",
         956.97
        ],
        [
         "Hunter Lopez",
         "HL-15040",
         5622.43
        ],
        [
         "Harry Marie",
         "HM-14860",
         2438.07
        ],
        [
         "Henry Mac Allister",
         "HM-14980",
         116.78
        ],
        [
         "Harold Pawlan",
         "HP-14815",
         373.87
        ],
        [
         "Hallie Redmond",
         "HR-14770",
         185.4
        ],
        [
         "Harold Ryan",
         "HR-14830",
         1197.37
        ],
        [
         "Helen Waerman",
         "HW-14935",
         2164.17
        ],
        [
         "Henia Zydlo",
         "HZ-14950",
         -130.39
        ],
        [
         "Ivan Gibson",
         "IG-15085",
         320.48
        ],
        [
         "Ivan Liston",
         "IL-15100",
         1121.83
        ],
        [
         "Ionia Mc Grath",
         "IM-15055",
         975.78
        ],
        [
         "Irene Maddox",
         "IM-15070",
         514.2
        ],
        [
         "Joseph Airdo",
         "JA-15970",
         -819.88
        ],
        [
         "Jennifer Braxton",
         "JB-15400",
         156.05
        ],
        [
         "Joni Blumstein",
         "JB-15925",
         -286.98
        ],
        [
         "Joy Bell",
         "JB-16000",
         127.06
        ],
        [
         "Julia Barnett",
         "JB-16045",
         201.4
        ],
        [
         "Jasper Cacioppo",
         "JC-15340",
         -0.35
        ],
        [
         "Jenna Caffey",
         "JC-15385",
         502.93
        ],
        [
         "John Castell",
         "JC-15775",
         279.57
        ],
        [
         "Julie Creighton",
         "JC-16105",
         201.6
        ],
        [
         "John Dryer",
         "JD-15790",
         -266.56
        ],
        [
         "Jonathan Doherty",
         "JD-15895",
         1050.44
        ],
        [
         "Joy Daniels",
         "JD-16015",
         26.72
        ],
        [
         "Julia Dunbar",
         "JD-16060",
         111.12
        ],
        [
         "Justin Deggeller",
         "JD-16150",
         1618.74
        ],
        [
         "Jeremy Ellison",
         "JE-15475",
         276.45
        ],
        [
         "Jim Epp",
         "JE-15610",
         1623.11
        ],
        [
         "Joe Elijah",
         "JE-15715",
         1262.11
        ],
        [
         "Joel Eaton",
         "JE-15745",
         222.23
        ],
        [
         "Justin Ellison",
         "JE-16165",
         790.02
        ],
        [
         "Jamie Frazer",
         "JF-15190",
         575.78
        ],
        [
         "Jason Fortune",
         "JF-15295",
         97.41
        ],
        [
         "Jay Fein",
         "JF-15355",
         330.2
        ],
        [
         "Jennifer Ferguson",
         "JF-15415",
         635.64
        ],
        [
         "Jeremy Farry",
         "JF-15490",
         -18.05
        ],
        [
         "Jill Fjeld",
         "JF-15565",
         1074.07
        ],
        [
         "Jack Garza",
         "JG-15115",
         684.53
        ],
        [
         "James Galang",
         "JG-15160",
         1415.36
        ],
        [
         "Jason Gross",
         "JG-15310",
         3.59
        ],
        [
         "John Grady",
         "JG-15805",
         206.1
        ],
        [
         "Jennifer Halladay",
         "JH-15430",
         -24.06
        ],
        [
         "John Huston",
         "JH-15820",
         26.07
        ],
        [
         "Jonathan Howell",
         "JH-15910",
         -13.55
        ],
        [
         "Joseph Holt",
         "JH-15985",
         -644.48
        ],
        [
         "Justin Hirsh",
         "JH-16180",
         -96.96
        ],
        [
         "Jennifer Jackson",
         "JJ-15445",
         200.56
        ],
        [
         "Joel Jenkins",
         "JJ-15760",
         34.46
        ],
        [
         "Jamie Kunitz",
         "JK-15205",
         1221.56
        ],
        [
         "Jason Klamczynski",
         "JK-15325",
         55.58
        ],
        [
         "Jay Kimmel",
         "JK-15370",
         329.85
        ],
        [
         "Jim Karlsson",
         "JK-15625",
         750.73
        ],
        [
         "Jim Kriz",
         "JK-15640",
         1172.9
        ],
        [
         "Joe Kamberova",
         "JK-15730",
         55.0
        ],
        [
         "Juliana Krohn",
         "JK-16090",
         586.67
        ],
        [
         "Julie Kriz",
         "JK-16120",
         122.66
        ],
        [
         "Jack Lebron",
         "JL-15130",
         -207.31
        ],
        [
         "James Lanier",
         "JL-15175",
         209.11
        ],
        [
         "Janet Lee",
         "JL-15235",
         54.51
        ],
        [
         "Jeremy Lonsdale",
         "JL-15505",
         592.04
        ],
        [
         "John Lee",
         "JL-15835",
         228.53
        ],
        [
         "John Lucas",
         "JL-15850",
         779.9
        ],
        [
         "Janet Martin",
         "JM-15250",
         19.58
        ],
        [
         "Janet Molinari",
         "JM-15265",
         502.99
        ],
        [
         "Jessica Myrick",
         "JM-15535",
         356.53
        ],
        [
         "Jill Matthias",
         "JM-15580",
         113.12
        ],
        [
         "Jim Mitchum",
         "JM-15655",
         117.2
        ],
        [
         "John Murray",
         "JM-15865",
         1575.07
        ],
        [
         "Justin Mac Kendrick",
         "JM-16195",
         753.7
        ],
        [
         "Jack O Briant",
         "JO-15145",
         581.44
        ],
        [
         "Jas O Carroll",
         "JO-15280",
         201.24
        ],
        [
         "Jesus Ocampo",
         "JO-15550",
         167.13
        ],
        [
         "Jennifer Patt",
         "JP-15460",
         429.74
        ],
        [
         "Jeremy Pistek",
         "JP-15520",
         757.19
        ],
        [
         "Julie Prescott",
         "JP-16135",
         309.3
        ],
        [
         "Jim Radford",
         "JR-15670",
         -785.16
        ],
        [
         "Jocasta Rupert",
         "JR-15700",
         107.99
        ],
        [
         "Justin Ritter",
         "JR-16210",
         452.37
        ],
        [
         "Ji Stevenson",
         "JS-15595",
         -174.94
        ],
        [
         "Jim Sink",
         "JS-15685",
         -54.86
        ],
        [
         "John Stevenson",
         "JS-15880",
         564.97
        ],
        [
         "Joni Sundaresam",
         "JS-15940",
         -327.93
        ],
        [
         "Joy Smith",
         "JS-16030",
         -311.25
        ],
        [
         "Jane Waco",
         "JW-15220",
         2174.05
        ],
        [
         "Joni Waerman",
         "JW-15955",
         -29.58
        ],
        [
         "Julia West",
         "JW-16075",
         153.89
        ],
        [
         "Kelly Andreada",
         "KA-16525",
         234.36
        ],
        [
         "Karen Bern",
         "KB-16240",
         764.23
        ],
        [
         "Karl Braun",
         "KB-16315",
         49.22
        ],
        [
         "Katrina Bavinger",
         "KB-16405",
         273.86
        ],
        [
         "Ken Black",
         "KB-16585",
         578.89
        ],
        [
         "Ken Brennan",
         "KB-16600",
         293.9
        ],
        [
         "Karen Carlisle",
         "KC-16255",
         846.14
        ],
        [
         "Kelly Collister",
         "KC-16540",
         709.43
        ],
        [
         "Kimberly Carter",
         "KC-16675",
         157.24
        ],
        [
         "Karen Danels",
         "KD-16270",
         1107.6
        ],
        [
         "Katherine Ducich",
         "KD-16345",
         328.59
        ],
        [
         "Keith Dawkins",
         "KD-16495",
         3038.93
        ],
        [
         "Na N",
         "KD-16615",
         539.72
        ],
        [
         "Katrina Edelman",
         "KE-16420",
         397.89
        ],
        [
         "Karen Ferguson",
         "KF-16285",
         1660.41
        ],
        [
         "Katharine Harms",
         "KH-16330",
         455.69
        ],
        [
         "Katherine Hughes",
         "KH-16360",
         528.29
        ],
        [
         "Keith Herrera",
         "KH-16510",
         656.12
        ],
        [
         "Ken Heidel",
         "KH-16630",
         727.51
        ],
        [
         "Kristen Hastings",
         "KH-16690",
         1227.13
        ],
        [
         "Kelly Lampkin",
         "KL-16555",
         -182.79
        ],
        [
         "Ken Lonsdale",
         "KL-16645",
         806.5
        ],
        [
         "Kalyca Meade",
         "KM-16225",
         635.43
        ],
        [
         "Katherine Murray",
         "KM-16375",
         973.37
        ],
        [
         "Khloe Miller",
         "KM-16660",
         90.67
        ],
        [
         "Kunst Miller",
         "KM-16720",
         745.4
        ],
        [
         "Katherine Nockton",
         "KN-16390",
         -151.15
        ],
        [
         "Kean Nguyen",
         "KN-16450",
         113.82
        ],
        [
         "Kristina Nunn",
         "KN-16705",
         329.77
        ],
        [
         "Karen Seio",
         "KS-16300",
         0.11
        ],
        [
         "Kean Takahito",
         "KT-16465",
         253.75
        ],
        [
         "Kean Thornton",
         "KT-16480",
         194.07
        ],
        [
         "Katrina Willman",
         "KW-16435",
         1756.14
        ],
        [
         "Kelly Williams",
         "KW-16570",
         108.39
        ],
        [
         "Laura Armstrong",
         "LA-16780",
         2025.19
        ],
        [
         "Larry Blacks",
         "LB-16735",
         18.65
        ],
        [
         "Laurel Beltran",
         "LB-16795",
         -51.99
        ],
        [
         "Na N",
         "LC-16870",
         -188.02
        ],
        [
         "Lena Creighton",
         "LC-16885",
         1288.74
        ],
        [
         "Linda Cazamias",
         "LC-16930",
         288.29
        ],
        [
         "Lindsay Castell",
         "LC-16960",
         299.47
        ],
        [
         "Liz Carlisle",
         "LC-17050",
         86.77
        ],
        [
         "Logan Currie",
         "LC-17140",
         230.53
        ],
        [
         "Lela Donovan",
         "LD-16855",
         0.46
        ],
        [
         "Lisa De Cherney",
         "LD-17005",
         556.77
        ],
        [
         "Laurel Elliston",
         "LE-16810",
         161.75
        ],
        [
         "Luke Foster",
         "LF-17185",
         -3583.61
        ],
        [
         "Larry Hughes",
         "LH-16750",
         12.63
        ],
        [
         "Lena Hernandez",
         "LH-16900",
         525.12
        ],
        [
         "Lisa Hazard",
         "LH-17020",
         -242.75
        ],
        [
         "Logan Haushalter",
         "LH-17155",
         316.53
        ],
        [
         "Lauren Leatherbury",
         "LL-16840",
         560.51
        ],
        [
         "Liz Mac Kendrick",
         "LM-17065",
         -44.88
        ],
        [
         "Lori Olson",
         "LO-17170",
         150.16
        ],
        [
         "Liz Pelletier",
         "LP-17080",
         110.79
        ],
        [
         "Liz Preis",
         "LP-17095",
         338.45
        ],
        [
         "Lena Radford",
         "LR-16915",
         535.29
        ],
        [
         "Lisa Ryan",
         "LR-17035",
         -383.19
        ],
        [
         "Linda Southworth",
         "LS-16945",
         -318.44
        ],
        [
         "Lindsay Shagiari",
         "LS-16975",
         262.27
        ],
        [
         "Luke Schmidt",
         "LS-17200",
         243.82
        ],
        [
         "Lycoris Saunders",
         "LS-17230",
         64.57
        ],
        [
         "Lynn Smith",
         "LS-17245",
         347.97
        ],
        [
         "Larry Tron",
         "LT-16765",
         59.04
        ],
        [
         "Liz Thompson",
         "LT-17110",
         320.98
        ],
        [
         "Laurel Workman",
         "LW-16825",
         32.59
        ],
        [
         "Lindsay Williams",
         "LW-16990",
         662.83
        ],
        [
         "Liz Willingham",
         "LW-17125",
         192.63
        ],
        [
         "Luke Weiss",
         "LW-17215",
         837.67
        ],
        [
         "Matt Abelman",
         "MA-17560",
         1240.56
        ],
        [
         "Michelle Arnett",
         "MA-17995",
         280.51
        ],
        [
         "Maria Bertelson",
         "MB-17305",
         213.34
        ],
        [
         "Mick Brown",
         "MB-18085",
         118.05
        ],
        [
         "Marc Crier",
         "MC-17275",
         461.02
        ],
        [
         "Mark Cousins",
         "MC-17425",
         1802.4
        ],
        [
         "Matt Collins",
         "MC-17575",
         210.92
        ],
        [
         "Matt Collister",
         "MC-17590",
         288.99
        ],
        [
         "Matt Connell",
         "MC-17605",
         195.45
        ],
        [
         "Matthew Clasen",
         "MC-17635",
         -247.72
        ],
        [
         "Michael Chen",
         "MC-17845",
         698.42
        ],
        [
         "Mick Crebagga",
         "MC-18100",
         -64.4
        ],
        [
         "Mike Caudle",
         "MC-18130",
         121.74
        ],
        [
         "Maribeth Dona",
         "MD-17350",
         -241.23
        ],
        [
         "Michael Dominguez",
         "MD-17860",
         -4.05
        ],
        [
         "Maria Etezadi",
         "ME-17320",
         1858.97
        ],
        [
         "Max Engle",
         "ME-17725",
         77.59
        ],
        [
         "Michelle Ellison",
         "ME-18010",
         107.35
        ],
        [
         "Maureen Fritzler",
         "MF-17665",
         -341.53
        ],
        [
         "Monica Federle",
         "MF-18250",
         456.86
        ],
        [
         "Matthew Grinstein",
         "MG-17650",
         341.91
        ],
        [
         "Maureen Gastineau",
         "MG-17680",
         25.89
        ],
        [
         "Maureen Gnade",
         "MG-17695",
         -398.8
        ],
        [
         "Michael Grace",
         "MG-17875",
         -470.77
        ],
        [
         "Michael Granlund",
         "MG-17890",
         171.45
        ],
        [
         "Mike Gockenbach",
         "MG-18145",
         -93.49
        ],
        [
         "Mitch Gastineau",
         "MG-18205",
         -1.24
        ],
        [
         "Marc Harrigan",
         "MH-17290",
         28.98
        ],
        [
         "Mark Haberlin",
         "MH-17440",
         61.43
        ],
        [
         "Mark Hamilton",
         "MH-17455",
         485.28
        ],
        [
         "Matt Hagelstein",
         "MH-17620",
         122.35
        ],
        [
         "Maya Herman",
         "MH-17785",
         239.02
        ],
        [
         "Michelle Huthwaite",
         "MH-18025",
         476.74
        ],
        [
         "Mick Hernandez",
         "MH-18115",
         170.98
        ],
        [
         "Max Jones",
         "MJ-17740",
         1054.54
        ],
        [
         "Michael Kennedy",
         "MK-17905",
         -405.43
        ],
        [
         "Mike Kennedy",
         "MK-18160",
         227.43
        ],
        [
         "Marina Lichtenstein",
         "ML-17395",
         684.93
        ],
        [
         "Maris La Ware",
         "ML-17410",
         -76.47
        ],
        [
         "Max Ludwig",
         "ML-17755",
         409.99
        ],
        [
         "Michelle Lonsdale",
         "ML-18040",
         138.71
        ],
        [
         "Muhammed Lee",
         "ML-18265",
         42.67
        ],
        [
         "Magdelene Morse",
         "MM-17260",
         178.41
        ],
        [
         "Michael Moore",
         "MM-17920",
         81.46
        ],
        [
         "Michelle Moray",
         "MM-18055",
         -520.45
        ],
        [
         "Muhammed Mac Intyre",
         "MM-18280",
         58.56
        ],
        [
         "Michael Nguyen",
         "MN-17935",
         290.82
        ],
        [
         "Mary O Rourke",
         "MO-17500",
         59.36
        ],
        [
         "Meg O Connel",
         "MO-17800",
         168.98
        ],
        [
         "Michael Oakman",
         "MO-17950",
         -82.01
        ],
        [
         "Mark Packer",
         "MP-17470",
         600.3
        ],
        [
         "Michael Paige",
         "MP-17965",
         637.74
        ],
        [
         "Mike Pelletier",
         "MP-18175",
         225.49
        ],
        [
         "Mathew Reese",
         "MR-17545",
         162.46
        ],
        [
         "Maribethchnelling",
         "MS-17365",
         844.95
        ],
        [
         "Mary Beth Skach",
         "MS-17530",
         84.02
        ],
        [
         "Maurice Satty",
         "MS-17710",
         247.43
        ],
        [
         "Maxwell Schwartz",
         "MS-17770",
         280.81
        ],
        [
         "Melanie Seite",
         "MS-17830",
         19.43
        ],
        [
         "Michael Stewart",
         "MS-17980",
         55.23
        ],
        [
         "Meg Tillman",
         "MT-17815",
         509.02
        ],
        [
         "Michelle Tran",
         "MT-18070",
         -23.45
        ],
        [
         "Mark Van Huff",
         "MV-17485",
         189.01
        ],
        [
         "Mike Vittorini",
         "MV-18190",
         273.99
        ],
        [
         "Mitch Webber",
         "MW-18220",
         1237.92
        ],
        [
         "Mitch Willingham",
         "MW-18235",
         1665.52
        ],
        [
         "Maribeth Yedwab",
         "MY-17380",
         319.14
        ],
        [
         "Muhammed Ye Dwab",
         "MY-18295",
         -371.71
        ],
        [
         "Maria Zettner",
         "MZ-17335",
         85.02
        ],
        [
         "Mary Zewe",
         "MZ-17515",
         787.15
        ],
        [
         "Nicole Brennan",
         "NB-18580",
         24.79
        ],
        [
         "Nona Balk",
         "NB-18655",
         117.64
        ],
        [
         "Nat Carroll",
         "NC-18340",
         580.31
        ],
        [
         "Nathan Cano",
         "NC-18415",
         -2204.81
        ],
        [
         "Nick Crebassa",
         "NC-18535",
         1314.02
        ],
        [
         "Noah Childs",
         "NC-18625",
         -358.91
        ],
        [
         "Natalie De Cherney",
         "ND-18370",
         353.24
        ],
        [
         "Neil Ducich",
         "ND-18460",
         443.34
        ],
        [
         "Natalie Fritzler",
         "NF-18385",
         -1696.35
        ],
        [
         "Neil Franzsisch",
         "NF-18475",
         85.92
        ],
        [
         "Nicole Fjeld",
         "NF-18595",
         388.31
        ],
        [
         "Nat Gilpin",
         "NG-18355",
         313.63
        ],
        [
         "Nathan Gelder",
         "NG-18430",
         217.1
        ],
        [
         "Nicole Hansen",
         "NH-18610",
         760.17
        ],
        [
         "Neil Knudson",
         "NK-18490",
         121.23
        ],
        [
         "Nancy Lomonaco",
         "NL-18310",
         343.8
        ],
        [
         "Nathan Mautz",
         "NM-18445",
         2751.7
        ],
        [
         "Neoma Murray",
         "NM-18520",
         788.95
        ],
        [
         "Na N",
         "NP-18325",
         1209.14
        ],
        [
         "Nra Paige",
         "NP-18670",
         513.15
        ],
        [
         "Nora Pelletier",
         "NP-18685",
         514.5
        ],
        [
         "Nora Preis",
         "NP-18700",
         630.82
        ],
        [
         "Nick Radford",
         "NR-18550",
         -25.13
        ],
        [
         "Neola Schneider",
         "NS-18505",
         -12.31
        ],
        [
         "Noel Staavos",
         "NS-18640",
         -234.89
        ],
        [
         "Natalie Webber",
         "NW-18400",
         1022.63
        ],
        [
         "Nick Zandusky",
         "NZ-18565",
         402.56
        ],
        [
         "Odella Nelson",
         "ON-18715",
         -5.53
        ],
        [
         "Olvera Toch",
         "OT-18730",
         -925.56
        ],
        [
         "Pete Armstrong",
         "PA-19060",
         225.86
        ],
        [
         "Patrick Bzostek",
         "PB-18805",
         228.77
        ],
        [
         "Peter Bhler",
         "PB-19105",
         218.16
        ],
        [
         "Philip Brown",
         "PB-19150",
         280.27
        ],
        [
         "Phillip Breyer",
         "PB-19210",
         21.9
        ],
        [
         "Pamela Coakley",
         "PC-18745",
         272.68
        ],
        [
         "Pauline Chand",
         "PC-19000",
         -184.34
        ],
        [
         "Peter Fuller",
         "PF-19120",
         -614.02
        ],
        [
         "Philip Fox",
         "PF-19165",
         196.88
        ],
        [
         "Phillip Flathmann",
         "PF-19225",
         591.29
        ],
        [
         "Patrick Gardner",
         "PG-18820",
         137.49
        ],
        [
         "Paul Gonzalez",
         "PG-18895",
         334.97
        ],
        [
         "Patricia Hirasaki",
         "PH-18790",
         47.89
        ],
        [
         "Patrick Jones",
         "PJ-18835",
         442.14
        ],
        [
         "Pauline Johnson",
         "PJ-19015",
         682.68
        ],
        [
         "Paul Knutson",
         "PK-18910",
         -798.71
        ],
        [
         "Pete Kriz",
         "PK-19075",
         2037.9
        ],
        [
         "Paul Lucas",
         "PL-18925",
         -0.76
        ],
        [
         "Paul Mac Intyre",
         "PM-18940",
         157.88
        ],
        [
         "Peter Mc Vee",
         "PM-19135",
         526.76
        ],
        [
         "Parhena Norris",
         "PN-18775",
         192.04
        ],
        [
         "Patrick O Brill",
         "PO-18850",
         37.64
        ],
        [
         "Patrick O Donnell",
         "PO-18865",
         437.94
        ],
        [
         "Philisse Overcash",
         "PO-19180",
         1155.24
        ],
        [
         "Phillina Ober",
         "PO-19195",
         -49.69
        ],
        [
         "Paul Prost",
         "PP-18955",
         1495.47
        ],
        [
         "Patrick Ryan",
         "PR-18880",
         5596.2
        ],
        [
         "Pamela Stobb",
         "PS-18760",
         -134.44
        ],
        [
         "Paul Stevenson",
         "PS-18970",
         198.53
        ],
        [
         "Penelope Sewall",
         "PS-19045",
         3183.78
        ],
        [
         "Pete Takahito",
         "PT-19090",
         -20.05
        ],
        [
         "Paul Van Hugh",
         "PV-18985",
         434.25
        ],
        [
         "Pauline Webber",
         "PW-19030",
         803.82
        ],
        [
         "Pierre Wener",
         "PW-19240",
         1291.15
        ],
        [
         "Quincy Jones",
         "QJ-19255",
         1203.69
        ],
        [
         "Ralph Arnett",
         "RA-19285",
         545.72
        ],
        [
         "Ruben Ausman",
         "RA-19885",
         1292.81
        ],
        [
         "Russell Applegate",
         "RA-19915",
         305.29
        ],
        [
         "Ryan Akin",
         "RA-19945",
         -445.69
        ],
        [
         "Randy Bradley",
         "RB-19330",
         -164.41
        ],
        [
         "Raymond Buch",
         "RB-19360",
         6976.36
        ],
        [
         "Richard Bierner",
         "RB-19435",
         477.63
        ],
        [
         "Rick Bensley",
         "RB-19465",
         640.55
        ],
        [
         "Rob Beeghly",
         "RB-19570",
         76.9
        ],
        [
         "Robert Barroso",
         "RB-19645",
         72.68
        ],
        [
         "Roger Barcio",
         "RB-19705",
         243.08
        ],
        [
         "Ross Baird",
         "RB-19795",
         -461.74
        ],
        [
         "Roy Collins",
         "RC-19825",
         63.57
        ],
        [
         "Ryan Crowe",
         "RC-19960",
         10.54
        ],
        [
         "Rick Duston",
         "RD-19480",
         480.59
        ],
        [
         "Rob Dowd",
         "RD-19585",
         734.52
        ],
        [
         "Robert Dilbeck",
         "RD-19660",
         835.77
        ],
        [
         "Roger Demir",
         "RD-19720",
         207.72
        ],
        [
         "Ross De Vincentis",
         "RD-19810",
         318.45
        ],
        [
         "Ruben Dartt",
         "RD-19900",
         455.52
        ],
        [
         "Russell D Ascenzo",
         "RD-19930",
         35.04
        ],
        [
         "Ricardo Emerson",
         "RE-19405",
         6.05
        ],
        [
         "Richard Eichhorn",
         "RE-19450",
         209.25
        ],
        [
         "Randy Ferguson",
         "RF-19345",
         633.68
        ],
        [
         "Roland Fjeld",
         "RF-19735",
         711.84
        ],
        [
         "Roy Franzsisch",
         "RF-19840",
         280.09
        ],
        [
         "Rick Hansen",
         "RH-19495",
         563.78
        ],
        [
         "Rick Huthwaite",
         "RH-19510",
         1289.45
        ],
        [
         "Ritsa Hightower",
         "RH-19555",
         0.31
        ],
        [
         "Rob Haberlin",
         "RH-19600",
         172.63
        ],
        [
         "Ralph Kennedy",
         "RK-19300",
         269.69
        ],
        [
         "Rob Lucas",
         "RL-19615",
         213.98
        ],
        [
         "Raymond Messe",
         "RM-19375",
         392.6
        ],
        [
         "Robert Marley",
         "RM-19675",
         1902.55
        ],
        [
         "Roland Murray",
         "RM-19750",
         28.68
        ],
        [
         "Rose O Brian",
         "RO-19780",
         -1262.8
        ],
        [
         "Rachel Payne",
         "RP-19270",
         59.52
        ],
        [
         "Resi Plking",
         "RP-19390",
         464.96
        ],
        [
         "Roy Phan",
         "RP-19855",
         594.78
        ],
        [
         "Ralph Ritter",
         "RR-19315",
         -73.83
        ],
        [
         "Rick Reed",
         "RR-19525",
         721.69
        ],
        [
         "Ricardo Sperren",
         "RS-19420",
         633.45
        ],
        [
         "Roland Schwarz",
         "RS-19765",
         1206.39
        ],
        [
         "Roy Skaria",
         "RS-19870",
         9.58
        ],
        [
         "Rick Wilson",
         "RW-19540",
         1586.23
        ],
        [
         "Rob Williams",
         "RW-19630",
         699.06
        ],
        [
         "Robert Waldorf",
         "RW-19690",
         707.55
        ],
        [
         "Sue Ann Reed",
         "SA-20830",
         610.14
        ],
        [
         "Sarah Bern",
         "SB-20170",
         157.68
        ],
        [
         "Sarah Brown",
         "SB-20185",
         885.96
        ],
        [
         "Sean Braxton",
         "SB-20290",
         -2082.75
        ],
        [
         "Sam Craven",
         "SC-20020",
         -317.51
        ],
        [
         "Sample Company A",
         "SC-20050",
         1011.73
        ],
        [
         "Sanjit Chand",
         "SC-20095",
         5757.3
        ],
        [
         "Scot Coram",
         "SC-20230",
         439.83
        ],
        [
         "Scott Cohen",
         "SC-20260",
         670.98
        ],
        [
         "Sean Christensen",
         "SC-20305",
         229.11
        ],
        [
         "Shahi Collister",
         "SC-20380",
         -3164.0
        ],
        [
         "Shaun Chance",
         "SC-20440",
         379.57
        ],
        [
         "Sonia Cooley",
         "SC-20575",
         100.23
        ],
        [
         "Steve Carroll",
         "SC-20680",
         370.17
        ],
        [
         "Steve Chapman",
         "SC-20695",
         611.82
        ],
        [
         "Steven Cartwright",
         "SC-20725",
         1276.42
        ],
        [
         "Stewart Carmichael",
         "SC-20770",
         -671.38
        ],
        [
         "Stuart Calhoun",
         "SC-20800",
         52.21
        ],
        [
         "Sung Chung",
         "SC-20845",
         31.18
        ],
        [
         "Shirley Daniels",
         "SD-20485",
         1985.19
        ],
        [
         "Sanjit Engle",
         "SE-20110",
         2650.67
        ],
        [
         "Sandra Flanagan",
         "SF-20065",
         227.76
        ],
        [
         "Sarah Foster",
         "SF-20200",
         287.0
        ],
        [
         "Sylvia Foulston",
         "SF-20965",
         539.94
        ],
        [
         "Sandra Glassco",
         "SG-20080",
         570.45
        ],
        [
         "Sheri Gordon",
         "SG-20470",
         -119.01
        ],
        [
         "Speros Goranitis",
         "SG-20605",
         463.27
        ],
        [
         "Susan Gilcrest",
         "SG-20890",
         -3.7
        ],
        [
         "Na N",
         "SH-19975",
         553.65
        ],
        [
         "Shahi Hopkins",
         "SH-20395",
         -144.52
        ],
        [
         "Stefanie Holloman",
         "SH-20635",
         260.63
        ],
        [
         "Sanjit Jacobs",
         "SJ-20125",
         143.73
        ],
        [
         "Sarah Jordon",
         "SJ-20215",
         -23.38
        ],
        [
         "Shirley Jackson",
         "SJ-20500",
         68.59
        ],
        [
         "Sally Knutson",
         "SK-19990",
         168.79
        ],
        [
         "Sara Luxemburg",
         "SL-20155",
         528.04
        ],
        [
         "Sally Matthias",
         "SM-20005",
         -26.59
        ],
        [
         "Sean Miller",
         "SM-20320",
         -1980.98
        ],
        [
         "Susan Mac Kendrick",
         "SM-20905",
         -16510.34
        ],
        [
         "Suzanne Mc Nair",
         "SM-20950",
         581.57
        ],
        [
         "Skye Norling",
         "SN-20560",
         -716.84
        ],
        [
         "Steve Nguyen",
         "SN-20710",
         481.75
        ],
        [
         "Sean O Donnell",
         "SO-20335",
         -81.42
        ],
        [
         "Sibella Parks",
         "SP-20545",
         -118.38
        ],
        [
         "Stefania Perrino",
         "SP-20620",
         -270.19
        ],
        [
         "Stephanie Phelps",
         "SP-20650",
         268.47
        ],
        [
         "Sung Pak",
         "SP-20860",
         567.12
        ],
        [
         "Susan Pistek",
         "SP-20920",
         14.37
        ],
        [
         "Sharelle Roach",
         "SR-20425",
         -3334.17
        ],
        [
         "Steven Roelle",
         "SR-20740",
         1990.43
        ],
        [
         "Saphhira Shifley",
         "SS-20140",
         332.03
        ],
        [
         "Shahi Shariari",
         "SS-20410",
         -1011.08
        ],
        [
         "Shirley Schmidt",
         "SS-20515",
         199.93
        ],
        [
         "Sonia Sunley",
         "SS-20590",
         135.91
        ],
        [
         "Sung Shariari",
         "SS-20875",
         -75.57
        ],
        [
         "Shui Tom",
         "ST-20530",
         85.12
        ],
        [
         "Stephanie Ulpright",
         "SU-20665",
         763.7
        ],
        [
         "Seth Vernon",
         "SV-20365",
         1200.14
        ],
        [
         "Stewart Visinsky",
         "SV-20785",
         484.85
        ],
        [
         "Stuart Van",
         "SV-20815",
         199.64
        ],
        [
         "Susan Vittorini",
         "SV-20935",
         106.62
        ],
        [
         "Scot Wooten",
         "SW-20245",
         -19.58
        ],
        [
         "Scott Williamson",
         "SW-20275",
         332.76
        ],
        [
         "Sean Wendt",
         "SW-20350",
         95.84
        ],
        [
         "Shaun Weien",
         "SW-20455",
         793.64
        ],
        [
         "Steven Ward",
         "SW-20755",
         68.24
        ],
        [
         "Sam Zeldin",
         "SZ-20035",
         366.42
        ],
        [
         "Tom Ashbrook",
         "TA-21385",
         4703.73
        ],
        [
         "Ted Butterfield",
         "TB-21055",
         389.76
        ],
        [
         "Thomas Boland",
         "TB-21175",
         828.71
        ],
        [
         "Thomas Brumley",
         "TB-21190",
         179.01
        ],
        [
         "Tim Brockman",
         "TB-21250",
         260.3
        ],
        [
         "Toby Braunhardt",
         "TB-21280",
         491.13
        ],
        [
         "Todd Boyes",
         "TB-21355",
         268.96
        ],
        [
         "Tom Boeckenhauer",
         "TB-21400",
         2798.06
        ],
        [
         "Tracy Blumstein",
         "TB-21520",
         -1603.05
        ],
        [
         "Troy Blackwell",
         "TB-21595",
         -136.47
        ],
        [
         "Trudy Brown",
         "TB-21625",
         379.81
        ],
        [
         "Tamara Chand",
         "TC-20980",
         8981.32
        ],
        [
         "Theresa Coyne",
         "TC-21145",
         265.59
        ],
        [
         "Toby Carlisle",
         "TC-21295",
         606.37
        ],
        [
         "Tony Chapman",
         "TC-21475",
         119.13
        ],
        [
         "Tracy Collins",
         "TC-21535",
         217.95
        ],
        [
         "Tamara Dahlen",
         "TD-20995",
         88.64
        ],
        [
         "Toby Gnade",
         "TG-21310",
         682.17
        ],
        [
         "Trudy Glocke",
         "TG-21640",
         365.12
        ],
        [
         "Thea Hendricks",
         "TH-21100",
         -135.22
        ],
        [
         "Thea Hudgings",
         "TH-21115",
         -252.55
        ],
        [
         "Tiffany House",
         "TH-21235",
         92.55
        ],
        [
         "Tracy Hopkins",
         "TH-21550",
         -571.98
        ],
        [
         "Tamara Manning",
         "TM-21010",
         573.46
        ],
        [
         "Tony Molinari",
         "TM-21490",
         292.53
        ],
        [
         "Tanja Norvell",
         "TN-21040",
         -692.05
        ],
        [
         "Theone Pippenger",
         "TP-21130",
         1128.65
        ],
        [
         "Tom Prescott",
         "TP-21415",
         -1087.38
        ],
        [
         "Tracy Poddar",
         "TP-21565",
         139.44
        ],
        [
         "Toby Ritter",
         "TR-21325",
         220.36
        ],
        [
         "Thais Sissman",
         "TS-21085",
         -3.32
        ],
        [
         "Theresa Swint",
         "TS-21160",
         260.63
        ],
        [
         "Thomas Seio",
         "TS-21205",
         862.94
        ],
        [
         "Toby Swindell",
         "TS-21340",
         -185.0
        ],
        [
         "Todd Sumrall",
         "TS-21370",
         2371.73
        ],
        [
         "Tom Stivers",
         "TS-21430",
         48.9
        ],
        [
         "Na N",
         "TS-21505",
         11.39
        ],
        [
         "Troy Staebel",
         "TS-21610",
         -294.89
        ],
        [
         "Trudy Schmidt",
         "TS-21655",
         220.73
        ],
        [
         "Ted Trevino",
         "TT-21070",
         752.17
        ],
        [
         "Thomas Thornton",
         "TT-21220",
         278.75
        ],
        [
         "Tim Taslimi",
         "TT-21265",
         93.92
        ],
        [
         "Tonja Turnell",
         "TT-21460",
         1124.38
        ],
        [
         "Tamara Willingham",
         "TW-21025",
         737.39
        ],
        [
         "Tracy Zic",
         "TZ-21580",
         224.9
        ],
        [
         "Victoria Brennan",
         "VB-21745",
         371.25
        ],
        [
         "Valerie Dominguez",
         "VD-21670",
         1617.61
        ],
        [
         "Vicky Freymann",
         "VF-21715",
         -96.28
        ],
        [
         "Vivek Gonzalez",
         "VG-21790",
         144.12
        ],
        [
         "Vivek Grady",
         "VG-21805",
         -52.33
        ],
        [
         "Valerie Mitchum",
         "VM-21685",
         513.63
        ],
        [
         "Vivian Mathis",
         "VM-21835",
         116.64
        ],
        [
         "Victor Preis",
         "VP-21730",
         205.39
        ],
        [
         "Victoria Pisteka",
         "VP-21760",
         -1018.91
        ],
        [
         "Vivek Sundaresam",
         "VS-21820",
         -263.08
        ],
        [
         "Valerie Takahito",
         "VT-21700",
         -224.93
        ],
        [
         "Victoria Wilson",
         "VW-21775",
         -874.66
        ],
        [
         "William Brown",
         "WB-21850",
         714.52
        ],
        [
         "Xylona Preis",
         "XP-21865",
         621.37
        ],
        [
         "Yoseph Carroll",
         "YC-21895",
         1305.64
        ],
        [
         "Yana Sorensen",
         "YS-21880",
         1778.31
        ],
        [
         "Zuschuss Carroll",
         "ZC-21910",
         -1032.36
        ],
        [
         "Zuschuss Donatelli",
         "ZD-21925",
         248.75
        ]
       ],
       "datasetInfos": [],
       "dbfsResultPath": null,
       "isJsonSchema": true,
       "metadata": {},
       "overflow": false,
       "plotOptions": {
        "customPlotOptions": {},
        "displayType": "table",
        "pivotAggregation": null,
        "pivotColumns": null,
        "xColumns": null,
        "yColumns": null
       },
       "removedWidgets": [],
       "schema": [
        {
         "metadata": "{}",
         "name": "Customer_name",
         "type": "\"string\""
        },
        {
         "metadata": "{}",
         "name": "Customer_ID",
         "type": "\"string\""
        },
        {
         "metadata": "{}",
         "name": "Total_Profit",
         "type": "\"double\""
        }
       ],
       "type": "table"
      }
     },
     "output_type": "display_data"
    }
   ],
   "source": [
    "%sql\n",
    "SELECT max(CUSTOMER_NAME) as Customer_name,\n",
    "  Customer_ID,\n",
    "  ROUND(SUM(Total_Profit),2) AS Total_Profit\n",
    "FROM agg_profit\n",
    "GROUP BY Customer_ID;"
   ]
  },
  {
   "cell_type": "code",
   "execution_count": 0,
   "metadata": {
    "application/vnd.databricks.v1+cell": {
     "cellMetadata": {
      "byteLimit": 2048000,
      "implicitDf": true,
      "rowLimit": 10000
     },
     "inputWidgets": {},
     "nuid": "00ea2fd9-22ce-47b1-a0bb-e7710c4f5db8",
     "showTitle": true,
     "title": "5d.\tProfit by Customer + Year"
    }
   },
   "outputs": [
    {
     "output_type": "display_data",
     "data": {
      "text/html": [
       "<style scoped>\n",
       "  .table-result-container {\n",
       "    max-height: 300px;\n",
       "    overflow: auto;\n",
       "  }\n",
       "  table, th, td {\n",
       "    border: 1px solid black;\n",
       "    border-collapse: collapse;\n",
       "  }\n",
       "  th, td {\n",
       "    padding: 5px;\n",
       "  }\n",
       "  th {\n",
       "    text-align: left;\n",
       "  }\n",
       "</style><div class='table-result-container'><table class='table-result'><thead style='background-color: white'><tr><th>Customer_Name</th><th>Customer_ID</th><th>ORDER_YEAR</th><th>Total_Profit</th></tr></thead><tbody><tr><td>Alex Avila</td><td>AA-10315</td><td>2014</td><td>280.68</td></tr><tr><td>Alex Avila</td><td>AA-10315</td><td>2015</td><td>7.0</td></tr><tr><td>Alex Avila</td><td>AA-10315</td><td>2016</td><td>-747.09</td></tr><tr><td>Alex Avila</td><td>AA-10315</td><td>2017</td><td>96.51</td></tr><tr><td>Allen Armold</td><td>AA-10375</td><td>2014</td><td>16.72</td></tr><tr><td>Allen Armold</td><td>AA-10375</td><td>2015</td><td>69.03</td></tr><tr><td>Allen Armold</td><td>AA-10375</td><td>2016</td><td>122.73</td></tr><tr><td>Allen Armold</td><td>AA-10375</td><td>2017</td><td>68.92</td></tr><tr><td>Andrew Allen</td><td>AA-10480</td><td>2014</td><td>9.89</td></tr><tr><td>Andrew Allen</td><td>AA-10480</td><td>2016</td><td>420.75</td></tr><tr><td>Andrew Allen</td><td>AA-10480</td><td>2017</td><td>5.44</td></tr><tr><td>Anna Andreadi</td><td>AA-10645</td><td>2014</td><td>77.64</td></tr><tr><td>Anna Andreadi</td><td>AA-10645</td><td>2015</td><td>439.31</td></tr><tr><td>Anna Andreadi</td><td>AA-10645</td><td>2016</td><td>334.63</td></tr><tr><td>Anna Andreadi</td><td>AA-10645</td><td>2017</td><td>6.22</td></tr><tr><td>Aaron Bergman</td><td>AB-10015</td><td>2014</td><td>12.82</td></tr><tr><td>Aaron Bergman</td><td>AB-10015</td><td>2016</td><td>116.86</td></tr><tr><td>Adam Bellavance</td><td>AB-10060</td><td>2015</td><td>8.71</td></tr><tr><td>Adam Bellavance</td><td>AB-10060</td><td>2016</td><td>1568.05</td></tr><tr><td>Adam Bellavance</td><td>AB-10060</td><td>2017</td><td>477.84</td></tr><tr><td>Adrian Barton</td><td>AB-10105</td><td>2014</td><td>498.73</td></tr><tr><td>Adrian Barton</td><td>AB-10105</td><td>2015</td><td>-142.67</td></tr><tr><td>Adrian Barton</td><td>AB-10105</td><td>2016</td><td>4748.27</td></tr><tr><td>Adrian Barton</td><td>AB-10105</td><td>2017</td><td>340.64</td></tr><tr><td>Aimee Bixby</td><td>AB-10150</td><td>2014</td><td>261.2</td></tr><tr><td>Aimee Bixby</td><td>AB-10150</td><td>2015</td><td>7.02</td></tr><tr><td>Aimee Bixby</td><td>AB-10150</td><td>2016</td><td>5.44</td></tr><tr><td>Aimee Bixby</td><td>AB-10150</td><td>2017</td><td>40.0</td></tr><tr><td>Alan Barnes</td><td>AB-10165</td><td>2014</td><td>-1.07</td></tr><tr><td>Alan Barnes</td><td>AB-10165</td><td>2015</td><td>79.95</td></tr><tr><td>Alan Barnes</td><td>AB-10165</td><td>2017</td><td>141.73</td></tr><tr><td>Alejandro Ballentine</td><td>AB-10255</td><td>2014</td><td>6.49</td></tr><tr><td>Alejandro Ballentine</td><td>AB-10255</td><td>2015</td><td>34.34</td></tr><tr><td>Alejandro Ballentine</td><td>AB-10255</td><td>2016</td><td>26.07</td></tr><tr><td>Alejandro Ballentine</td><td>AB-10255</td><td>2017</td><td>197.67</td></tr><tr><td>Ann Blume</td><td>AB-10600</td><td>2014</td><td>-23.89</td></tr><tr><td>Ann Blume</td><td>AB-10600</td><td>2015</td><td>5.07</td></tr><tr><td>Ann Blume</td><td>AB-10600</td><td>2017</td><td>-256.46</td></tr><tr><td>Alyssa Crouse</td><td>AC-10420</td><td>2014</td><td>-14.66</td></tr><tr><td>Alyssa Crouse</td><td>AC-10420</td><td>2016</td><td>21.59</td></tr><tr><td>Alyssa Crouse</td><td>AC-10420</td><td>2017</td><td>-69.06</td></tr><tr><td>Amy Cox</td><td>AC-10450</td><td>2014</td><td>84.0</td></tr><tr><td>Amy Cox</td><td>AC-10450</td><td>2015</td><td>24.98</td></tr><tr><td>Amy Cox</td><td>AC-10450</td><td>2016</td><td>381.04</td></tr><tr><td>Amy Cox</td><td>AC-10450</td><td>2017</td><td>876.48</td></tr><tr><td>Ann Chong</td><td>AC-10615</td><td>2015</td><td>-32.3</td></tr><tr><td>Ann Chong</td><td>AC-10615</td><td>2017</td><td>330.91</td></tr><tr><td>Anna Chung</td><td>AC-10660</td><td>2014</td><td>-4.97</td></tr><tr><td>Anna Chung</td><td>AC-10660</td><td>2016</td><td>8.61</td></tr><tr><td>Anna Chung</td><td>AC-10660</td><td>2017</td><td>-32.34</td></tr><tr><td>Alan Dominguez</td><td>AD-10180</td><td>2014</td><td>-6.6</td></tr><tr><td>Alan Dominguez</td><td>AD-10180</td><td>2015</td><td>9.6</td></tr><tr><td>Alan Dominguez</td><td>AD-10180</td><td>2017</td><td>1866.92</td></tr><tr><td>Art Ferguson</td><td>AF-10870</td><td>2015</td><td>2.02</td></tr><tr><td>Art Ferguson</td><td>AF-10870</td><td>2016</td><td>390.8</td></tr><tr><td>Art Ferguson</td><td>AF-10870</td><td>2017</td><td>-75.19</td></tr><tr><td>Art Foster</td><td>AF-10885</td><td>2014</td><td>-258.56</td></tr><tr><td>Art Foster</td><td>AF-10885</td><td>2015</td><td>101.18</td></tr><tr><td>Art Foster</td><td>AF-10885</td><td>2016</td><td>-5.75</td></tr><tr><td>Alejandro Grove</td><td>AG-10270</td><td>2014</td><td>17.99</td></tr><tr><td>Alejandro Grove</td><td>AG-10270</td><td>2015</td><td>16.96</td></tr><tr><td>Alejandro Grove</td><td>AG-10270</td><td>2016</td><td>696.3</td></tr><tr><td>Alejandro Grove</td><td>AG-10270</td><td>2017</td><td>1.5</td></tr><tr><td>Aleksandra Gannaway</td><td>AG-10300</td><td>2014</td><td>28.75</td></tr><tr><td>Aleksandra Gannaway</td><td>AG-10300</td><td>2015</td><td>8.39</td></tr><tr><td>Aleksandra Gannaway</td><td>AG-10300</td><td>2016</td><td>20.49</td></tr><tr><td>Aleksandra Gannaway</td><td>AG-10300</td><td>2017</td><td>1.67</td></tr><tr><td>Alex Grayson</td><td>AG-10330</td><td>2016</td><td>61.74</td></tr><tr><td>Alex Grayson</td><td>AG-10330</td><td>2017</td><td>-67.1</td></tr><tr><td>Allen Goldenen</td><td>AG-10390</td><td>2014</td><td>67.97</td></tr><tr><td>Allen Goldenen</td><td>AG-10390</td><td>2016</td><td>-7.0</td></tr><tr><td>Allen Goldenen</td><td>AG-10390</td><td>2017</td><td>8.3</td></tr><tr><td>Andrew Gjertsen</td><td>AG-10495</td><td>2015</td><td>264.76</td></tr><tr><td>Andrew Gjertsen</td><td>AG-10495</td><td>2016</td><td>6.03</td></tr><tr><td>Andrew Gjertsen</td><td>AG-10495</td><td>2017</td><td>25.05</td></tr><tr><td>Andy Gerbode</td><td>AG-10525</td><td>2014</td><td>-93.53</td></tr><tr><td>Andy Gerbode</td><td>AG-10525</td><td>2015</td><td>-59.22</td></tr><tr><td>Anna Gayman</td><td>AG-10675</td><td>2015</td><td>-25.99</td></tr><tr><td>Anna Gayman</td><td>AG-10675</td><td>2016</td><td>-281.56</td></tr><tr><td>Anna Gayman</td><td>AG-10675</td><td>2017</td><td>61.15</td></tr><tr><td>Anthony Garverick</td><td>AG-10765</td><td>2014</td><td>-4.12</td></tr><tr><td>Anthony Garverick</td><td>AG-10765</td><td>2015</td><td>61.71</td></tr><tr><td>Anthony Garverick</td><td>AG-10765</td><td>2017</td><td>-66.01</td></tr><tr><td>Arthur Gainer</td><td>AG-10900</td><td>2014</td><td>144.46</td></tr><tr><td>Arthur Gainer</td><td>AG-10900</td><td>2015</td><td>18.82</td></tr><tr><td>Arthur Gainer</td><td>AG-10900</td><td>2016</td><td>252.36</td></tr><tr><td>Arthur Gainer</td><td>AG-10900</td><td>2017</td><td>-71.97</td></tr><tr><td>Aaron Hawkins</td><td>AH-10030</td><td>2014</td><td>188.28</td></tr><tr><td>Aaron Hawkins</td><td>AH-10030</td><td>2015</td><td>136.56</td></tr><tr><td>Aaron Hawkins</td><td>AH-10030</td><td>2016</td><td>38.04</td></tr><tr><td>Aaron Hawkins</td><td>AH-10030</td><td>2017</td><td>2.34</td></tr><tr><td>Adam Hart</td><td>AH-10075</td><td>2014</td><td>2.4</td></tr><tr><td>Adam Hart</td><td>AH-10075</td><td>2015</td><td>0.34</td></tr><tr><td>Adam Hart</td><td>AH-10075</td><td>2016</td><td>332.64</td></tr><tr><td>Adam Hart</td><td>AH-10075</td><td>2017</td><td>-54.58</td></tr><tr><td>Adrian Hane</td><td>AH-10120</td><td>2014</td><td>-25.91</td></tr><tr><td>Adrian Hane</td><td>AH-10120</td><td>2016</td><td>-299.15</td></tr><tr><td>Adrian Hane</td><td>AH-10120</td><td>2017</td><td>322.56</td></tr><tr><td>Alan Haines</td><td>AH-10195</td><td>2015</td><td>-12.1</td></tr><tr><td>Alan Haines</td><td>AH-10195</td><td>2016</td><td>-349.36</td></tr><tr><td>Alan Haines</td><td>AH-10195</td><td>2017</td><td>-16.58</td></tr><tr><td>Alan Hwang</td><td>AH-10210</td><td>2014</td><td>87.19</td></tr><tr><td>Alan Hwang</td><td>AH-10210</td><td>2015</td><td>269.15</td></tr><tr><td>Alan Hwang</td><td>AH-10210</td><td>2016</td><td>5.57</td></tr><tr><td>Alan Hwang</td><td>AH-10210</td><td>2017</td><td>946.65</td></tr><tr><td>Amy Hunt</td><td>AH-10465</td><td>2015</td><td>-342.08</td></tr><tr><td>Amy Hunt</td><td>AH-10465</td><td>2016</td><td>-1.78</td></tr><tr><td>Amy Hunt</td><td>AH-10465</td><td>2017</td><td>147.87</td></tr><tr><td>Angele Hood</td><td>AH-10585</td><td>2014</td><td>41.6</td></tr><tr><td>Angele Hood</td><td>AH-10585</td><td>2016</td><td>13.45</td></tr><tr><td>Angele Hood</td><td>AH-10585</td><td>2017</td><td>28.92</td></tr><tr><td>Anna Hberlin</td><td>AH-10690</td><td>2014</td><td>46.2</td></tr><tr><td>Anna Hberlin</td><td>AH-10690</td><td>2015</td><td>106.62</td></tr><tr><td>Anna Hberlin</td><td>AH-10690</td><td>2016</td><td>1144.07</td></tr><tr><td>Arianne Irving</td><td>AI-10855</td><td>2014</td><td>288.24</td></tr><tr><td>Arianne Irving</td><td>AI-10855</td><td>2015</td><td>17.03</td></tr><tr><td>Arianne Irving</td><td>AI-10855</td><td>2016</td><td>485.32</td></tr><tr><td>Arianne Irving</td><td>AI-10855</td><td>2017</td><td>77.28</td></tr><tr><td>Anthony Jacobs</td><td>AJ-10780</td><td>2014</td><td>-56.95</td></tr><tr><td>Anthony Jacobs</td><td>AJ-10780</td><td>2015</td><td>5.32</td></tr><tr><td>Anthony Jacobs</td><td>AJ-10780</td><td>2016</td><td>-5.7</td></tr><tr><td>Anthony Jacobs</td><td>AJ-10780</td><td>2017</td><td>208.05</td></tr><tr><td>Anthony Johnson</td><td>AJ-10795</td><td>2014</td><td>503.26</td></tr><tr><td>Anthony Johnson</td><td>AJ-10795</td><td>2016</td><td>400.21</td></tr><tr><td>Anthony Johnson</td><td>AJ-10795</td><td>2017</td><td>255.24</td></tr><tr><td>Ashley Jarboe</td><td>AJ-10945</td><td>2014</td><td>3.4</td></tr><tr><td>Ashley Jarboe</td><td>AJ-10945</td><td>2015</td><td>316.58</td></tr><tr><td>Ashley Jarboe</td><td>AJ-10945</td><td>2016</td><td>33.22</td></tr><tr><td>Ashley Jarboe</td><td>AJ-10945</td><td>2017</td><td>167.94</td></tr><tr><td>Astrea Jones</td><td>AJ-10960</td><td>2014</td><td>57.66</td></tr><tr><td>Astrea Jones</td><td>AJ-10960</td><td>2017</td><td>2.77</td></tr><tr><td>Alice Mc Carthy</td><td>AM-10360</td><td>2014</td><td>7.68</td></tr><tr><td>Alice Mc Carthy</td><td>AM-10360</td><td>2015</td><td>178.9</td></tr><tr><td>Alice Mc Carthy</td><td>AM-10360</td><td>2016</td><td>9.98</td></tr><tr><td>Alice Mc Carthy</td><td>AM-10360</td><td>2017</td><td>-1.57</td></tr><tr><td>Anne Mc Farland</td><td>AM-10705</td><td>2014</td><td>472.09</td></tr><tr><td>Anne Mc Farland</td><td>AM-10705</td><td>2015</td><td>14.7</td></tr><tr><td>Anne Mc Farland</td><td>AM-10705</td><td>2016</td><td>90.26</td></tr><tr><td>Anne Mc Farland</td><td>AM-10705</td><td>2017</td><td>392.01</td></tr><tr><td>Anthony O Donnell</td><td>AO-10810</td><td>2016</td><td>12.1</td></tr><tr><td>Anne Pryor</td><td>AP-10720</td><td>2014</td><td>54.65</td></tr><tr><td>Anne Pryor</td><td>AP-10720</td><td>2015</td><td>-1.36</td></tr><tr><td>Anne Pryor</td><td>AP-10720</td><td>2016</td><td>243.58</td></tr><tr><td>Anne Pryor</td><td>AP-10720</td><td>2017</td><td>-11.07</td></tr><tr><td>Arthur Prichep</td><td>AP-10915</td><td>2014</td><td>420.7</td></tr><tr><td>Arthur Prichep</td><td>AP-10915</td><td>2016</td><td>338.86</td></tr><tr><td>Arthur Prichep</td><td>AP-10915</td><td>2017</td><td>-179.86</td></tr><tr><td>Alex Russell</td><td>AR-10345</td><td>2014</td><td>-242.44</td></tr><tr><td>Alex Russell</td><td>AR-10345</td><td>2015</td><td>-2.57</td></tr><tr><td>Alex Russell</td><td>AR-10345</td><td>2017</td><td>23.96</td></tr><tr><td>Allen Rosenblatt</td><td>AR-10405</td><td>2014</td><td>17.59</td></tr><tr><td>Allen Rosenblatt</td><td>AR-10405</td><td>2015</td><td>105.47</td></tr><tr><td>Allen Rosenblatt</td><td>AR-10405</td><td>2017</td><td>-221.58</td></tr><tr><td>Andrew Roberts</td><td>AR-10510</td><td>2014</td><td>-8.41</td></tr><tr><td>Andrew Roberts</td><td>AR-10510</td><td>2015</td><td>27.99</td></tr><tr><td>Andrew Roberts</td><td>AR-10510</td><td>2016</td><td>18.89</td></tr><tr><td>Andrew Roberts</td><td>AR-10510</td><td>2017</td><td>5.18</td></tr><tr><td>Andy Reiter</td><td>AR-10540</td><td>2014</td><td>20.12</td></tr><tr><td>Andy Reiter</td><td>AR-10540</td><td>2015</td><td>247.28</td></tr><tr><td>Andy Reiter</td><td>AR-10540</td><td>2016</td><td>9.53</td></tr><tr><td>Andy Reiter</td><td>AR-10540</td><td>2017</td><td>2607.68</td></tr><tr><td>Anemone Ratner</td><td>AR-10570</td><td>2016</td><td>32.64</td></tr><tr><td>Anthony Rawles</td><td>AR-10825</td><td>2014</td><td>10.37</td></tr><tr><td>Anthony Rawles</td><td>AR-10825</td><td>2015</td><td>9.33</td></tr><tr><td>Anthony Rawles</td><td>AR-10825</td><td>2016</td><td>370.3</td></tr><tr><td>Anthony Rawles</td><td>AR-10825</td><td>2017</td><td>105.07</td></tr><tr><td>Aaron Smayling</td><td>AS-10045</td><td>2014</td><td>32.23</td></tr><tr><td>Aaron Smayling</td><td>AS-10045</td><td>2016</td><td>92.14</td></tr><tr><td>Aaron Smayling</td><td>AS-10045</td><td>2017</td><td>-377.96</td></tr><tr><td>Adam Shillingsburg</td><td>AS-10090</td><td>2014</td><td>129.55</td></tr><tr><td>Adam Shillingsburg</td><td>AS-10090</td><td>2015</td><td>243.86</td></tr><tr><td>Adam Shillingsburg</td><td>AS-10090</td><td>2016</td><td>22.55</td></tr><tr><td>Adam Shillingsburg</td><td>AS-10090</td><td>2017</td><td>-331.64</td></tr><tr><td>Adrian Shami</td><td>AS-10135</td><td>2016</td><td>1.5</td></tr><tr><td>Adrian Shami</td><td>AS-10135</td><td>2017</td><td>20.34</td></tr><tr><td>Alan Schoenberger</td><td>AS-10225</td><td>2014</td><td>444.69</td></tr><tr><td>Alan Schoenberger</td><td>AS-10225</td><td>2015</td><td>12.86</td></tr><tr><td>Alan Schoenberger</td><td>AS-10225</td><td>2016</td><td>-6.21</td></tr><tr><td>Alan Schoenberger</td><td>AS-10225</td><td>2017</td><td>268.43</td></tr><tr><td>Alan Shonely</td><td>AS-10240</td><td>2014</td><td>37.35</td></tr><tr><td>Alan Shonely</td><td>AS-10240</td><td>2015</td><td>5.08</td></tr><tr><td>Alan Shonely</td><td>AS-10240</td><td>2016</td><td>23.18</td></tr><tr><td>Alan Shonely</td><td>AS-10240</td><td>2017</td><td>-31.92</td></tr><tr><td>Alejandro Savely</td><td>AS-10285</td><td>2016</td><td>331.37</td></tr><tr><td>Alejandro Savely</td><td>AS-10285</td><td>2017</td><td>23.26</td></tr><tr><td>Ann Steele</td><td>AS-10630</td><td>2014</td><td>71.95</td></tr><tr><td>Ann Steele</td><td>AS-10630</td><td>2015</td><td>-10.81</td></tr><tr><td>Ann Steele</td><td>AS-10630</td><td>2016</td><td>6.37</td></tr><tr><td>Ann Steele</td><td>AS-10630</td><td>2017</td><td>69.09</td></tr><tr><td>Alyssa Tate</td><td>AT-10435</td><td>2014</td><td>0.84</td></tr><tr><td>Alyssa Tate</td><td>AT-10435</td><td>2015</td><td>-2.53</td></tr><tr><td>Alyssa Tate</td><td>AT-10435</td><td>2016</td><td>6.43</td></tr><tr><td>Alyssa Tate</td><td>AT-10435</td><td>2017</td><td>96.13</td></tr><tr><td>Annie Thurman</td><td>AT-10735</td><td>2014</td><td>71.66</td></tr><tr><td>Annie Thurman</td><td>AT-10735</td><td>2015</td><td>739.52</td></tr><tr><td>Annie Thurman</td><td>AT-10735</td><td>2016</td><td>51.67</td></tr><tr><td>Annie Thurman</td><td>AT-10735</td><td>2017</td><td>111.72</td></tr><tr><td>Anthony Witt</td><td>AW-10840</td><td>2015</td><td>-13.5</td></tr><tr><td>Anthony Witt</td><td>AW-10840</td><td>2017</td><td>79.28</td></tr><tr><td>Arthur Wiediger</td><td>AW-10930</td><td>2014</td><td>-42.56</td></tr><tr><td>Arthur Wiediger</td><td>AW-10930</td><td>2015</td><td>64.25</td></tr><tr><td>Arthur Wiediger</td><td>AW-10930</td><td>2016</td><td>-213.35</td></tr><tr><td>Arthur Wiediger</td><td>AW-10930</td><td>2017</td><td>87.22</td></tr><tr><td>Andy Yotov</td><td>AY-10555</td><td>2014</td><td>65.6</td></tr><tr><td>Andy Yotov</td><td>AY-10555</td><td>2016</td><td>6.7</td></tr><tr><td>Andy Yotov</td><td>AY-10555</td><td>2017</td><td>31.04</td></tr><tr><td>Annie Zypern</td><td>AZ-10750</td><td>2014</td><td>72.86</td></tr><tr><td>Annie Zypern</td><td>AZ-10750</td><td>2015</td><td>34.34</td></tr><tr><td>Annie Zypern</td><td>AZ-10750</td><td>2016</td><td>32.57</td></tr><tr><td>Annie Zypern</td><td>AZ-10750</td><td>2017</td><td>15.0</td></tr><tr><td>Barry Blumstein</td><td>BB-10990</td><td>2014</td><td>0.0</td></tr><tr><td>Barry Blumstein</td><td>BB-10990</td><td>2015</td><td>-8.22</td></tr><tr><td>Barry Blumstein</td><td>BB-10990</td><td>2016</td><td>12.87</td></tr><tr><td>Barry Blumstein</td><td>BB-10990</td><td>2017</td><td>6.92</td></tr><tr><td>Brenda Bowman</td><td>BB-11545</td><td>2015</td><td>-77.85</td></tr><tr><td>Brenda Bowman</td><td>BB-11545</td><td>2016</td><td>431.81</td></tr><tr><td>Brenda Bowman</td><td>BB-11545</td><td>2017</td><td>660.69</td></tr><tr><td>Becky Castell</td><td>BC-11125</td><td>2014</td><td>38.13</td></tr><tr><td>Becky Castell</td><td>BC-11125</td><td>2015</td><td>92.0</td></tr><tr><td>Becky Castell</td><td>BC-11125</td><td>2016</td><td>62.26</td></tr><tr><td>Becky Castell</td><td>BC-11125</td><td>2017</td><td>58.8</td></tr><tr><td>Bil Donatelli</td><td>BD-11320</td><td>2015</td><td>799.49</td></tr><tr><td>Bil Donatelli</td><td>BD-11320</td><td>2016</td><td>97.23</td></tr><tr><td>Bil Donatelli</td><td>BD-11320</td><td>2017</td><td>197.79</td></tr><tr><td>Bradley Drucker</td><td>BD-11500</td><td>2014</td><td>309.08</td></tr><tr><td>Bradley Drucker</td><td>BD-11500</td><td>2015</td><td>70.98</td></tr><tr><td>Bradley Drucker</td><td>BD-11500</td><td>2017</td><td>762.06</td></tr><tr><td>Brendan Dodson</td><td>BD-11560</td><td>2015</td><td>36.47</td></tr><tr><td>Brendan Dodson</td><td>BD-11560</td><td>2017</td><td>80.24</td></tr><tr><td>Brian Dahlen</td><td>BD-11605</td><td>2014</td><td>342.92</td></tr><tr><td>Brian Dahlen</td><td>BD-11605</td><td>2015</td><td>79.41</td></tr><tr><td>Brian Dahlen</td><td>BD-11605</td><td>2016</td><td>124.51</td></tr><tr><td>Brian Dahlen</td><td>BD-11605</td><td>2017</td><td>87.99</td></tr><tr><td>Brian De Cherney</td><td>BD-11620</td><td>2014</td><td>108.74</td></tr><tr><td>Brian De Cherney</td><td>BD-11620</td><td>2016</td><td>20.18</td></tr><tr><td>Brian De Cherney</td><td>BD-11620</td><td>2017</td><td>78.1</td></tr><tr><td>Brian Derr</td><td>BD-11635</td><td>2014</td><td>11.49</td></tr><tr><td>Brian Derr</td><td>BD-11635</td><td>2015</td><td>102.25</td></tr><tr><td>Brian Derr</td><td>BD-11635</td><td>2017</td><td>27.69</td></tr><tr><td>Bruce Degenhardt</td><td>BD-11725</td><td>2015</td><td>149.49</td></tr><tr><td>Bruce Degenhardt</td><td>BD-11725</td><td>2016</td><td>18.0</td></tr><tr><td>Bruce Degenhardt</td><td>BD-11725</td><td>2017</td><td>166.98</td></tr><tr><td>Bryan Davis</td><td>BD-11770</td><td>2016</td><td>110.7</td></tr><tr><td>Bryan Davis</td><td>BD-11770</td><td>2017</td><td>30.58</td></tr><tr><td>Bil Eplett</td><td>BE-11335</td><td>2016</td><td>47.24</td></tr><tr><td>Bil Eplett</td><td>BE-11335</td><td>2017</td><td>1440.55</td></tr><tr><td>Bobby Elias</td><td>BE-11410</td><td>2016</td><td>577.2</td></tr><tr><td>Bobby Elias</td><td>BE-11410</td><td>2017</td><td>178.71</td></tr><tr><td>Brad Eason</td><td>BE-11455</td><td>2015</td><td>120.21</td></tr><tr><td>Brad Eason</td><td>BE-11455</td><td>2016</td><td>71.07</td></tr><tr><td>Brad Eason</td><td>BE-11455</td><td>2017</td><td>-52.07</td></tr><tr><td>Barbara Fisher</td><td>BF-10975</td><td>2014</td><td>61.99</td></tr><tr><td>Barbara Fisher</td><td>BF-10975</td><td>2015</td><td>0.96</td></tr><tr><td>Barbara Fisher</td><td>BF-10975</td><td>2016</td><td>157.38</td></tr><tr><td>Barbara Fisher</td><td>BF-10975</td><td>2017</td><td>6.97</td></tr><tr><td>Barry Franz</td><td>BF-11005</td><td>2014</td><td>2.37</td></tr><tr><td>Barry Franz</td><td>BF-11005</td><td>2016</td><td>-365.72</td></tr><tr><td>Barry Franz</td><td>BF-11005</td><td>2017</td><td>71.98</td></tr><tr><td>Barry Franzsisch</td><td>BF-11020</td><td>2014</td><td>7.21</td></tr><tr><td>Barry Franzsisch</td><td>BF-11020</td><td>2015</td><td>269.31</td></tr><tr><td>Barry Franzsisch</td><td>BF-11020</td><td>2016</td><td>20.32</td></tr><tr><td>Barry Franzsisch</td><td>BF-11020</td><td>2017</td><td>4.6</td></tr><tr><td>Bart Folk</td><td>BF-11080</td><td>2014</td><td>3.96</td></tr><tr><td>Bart Folk</td><td>BF-11080</td><td>2017</td><td>107.03</td></tr><tr><td>Ben Ferrer</td><td>BF-11170</td><td>2014</td><td>666.39</td></tr><tr><td>Ben Ferrer</td><td>BF-11170</td><td>2015</td><td>137.03</td></tr><tr><td>Ben Ferrer</td><td>BF-11170</td><td>2016</td><td>697.47</td></tr><tr><td>Ben Ferrer</td><td>BF-11170</td><td>2017</td><td>437.78</td></tr><tr><td>Benjamin Farhat</td><td>BF-11215</td><td>2014</td><td>21.48</td></tr><tr><td>Benjamin Farhat</td><td>BF-11215</td><td>2016</td><td>173.24</td></tr><tr><td>Benjamin Farhat</td><td>BF-11215</td><td>2017</td><td>328.37</td></tr><tr><td>Beth Fritzler</td><td>BF-11275</td><td>2014</td><td>-12.12</td></tr><tr><td>Beth Fritzler</td><td>BF-11275</td><td>2017</td><td>38.0</td></tr><tr><td>Barry Gonzalez</td><td>BG-11035</td><td>2014</td><td>54.19</td></tr><tr><td>Barry Gonzalez</td><td>BG-11035</td><td>2015</td><td>-998.91</td></tr><tr><td>Barry Gonzalez</td><td>BG-11035</td><td>2016</td><td>12.24</td></tr><tr><td>Barry Gonzalez</td><td>BG-11035</td><td>2017</td><td>221.68</td></tr><tr><td>Brooke Gillingham</td><td>BG-11695</td><td>2014</td><td>9.7</td></tr><tr><td>Brooke Gillingham</td><td>BG-11695</td><td>2015</td><td>28.31</td></tr><tr><td>Brooke Gillingham</td><td>BG-11695</td><td>2016</td><td>57.92</td></tr><tr><td>Brooke Gillingham</td><td>BG-11695</td><td>2017</td><td>11.66</td></tr><tr><td>Bruce Geld</td><td>BG-11740</td><td>2014</td><td>3.22</td></tr><tr><td>Bruce Geld</td><td>BG-11740</td><td>2015</td><td>15.07</td></tr><tr><td>Bruce Geld</td><td>BG-11740</td><td>2016</td><td>59.3</td></tr><tr><td>Bruce Geld</td><td>BG-11740</td><td>2017</td><td>41.76</td></tr><tr><td>Brosina Hoffman</td><td>BH-11710</td><td>2014</td><td>235.35</td></tr><tr><td>Brosina Hoffman</td><td>BH-11710</td><td>2015</td><td>5.84</td></tr><tr><td>Brosina Hoffman</td><td>BH-11710</td><td>2016</td><td>428.93</td></tr><tr><td>Brosina Hoffman</td><td>BH-11710</td><td>2017</td><td>119.51</td></tr><tr><td>Berenike Kampe</td><td>BK-11260</td><td>2014</td><td>-129.02</td></tr><tr><td>Berenike Kampe</td><td>BK-11260</td><td>2015</td><td>42.04</td></tr><tr><td>Berenike Kampe</td><td>BK-11260</td><td>2016</td><td>2.23</td></tr><tr><td>Berenike Kampe</td><td>BK-11260</td><td>2017</td><td>21.45</td></tr><tr><td>Becky Martin</td><td>BM-11140</td><td>2014</td><td>-1878.79</td></tr><tr><td>Becky Martin</td><td>BM-11140</td><td>2016</td><td>118.92</td></tr><tr><td>Becky Martin</td><td>BM-11140</td><td>2017</td><td>99.9</td></tr><tr><td>Brendan Murry</td><td>BM-11575</td><td>2015</td><td>37.33</td></tr><tr><td>Brendan Murry</td><td>BM-11575</td><td>2016</td><td>109.44</td></tr><tr><td>Brendan Murry</td><td>BM-11575</td><td>2017</td><td>-51.19</td></tr><tr><td>Brian Moss</td><td>BM-11650</td><td>2014</td><td>81.65</td></tr><tr><td>Brian Moss</td><td>BM-11650</td><td>2015</td><td>181.48</td></tr><tr><td>Brian Moss</td><td>BM-11650</td><td>2016</td><td>-2.03</td></tr><tr><td>Brian Moss</td><td>BM-11650</td><td>2017</td><td>1937.73</td></tr><tr><td>Bryan Mills</td><td>BM-11785</td><td>2014</td><td>114.1</td></tr><tr><td>Bryan Mills</td><td>BM-11785</td><td>2015</td><td>-39.67</td></tr><tr><td>Bryan Mills</td><td>BM-11785</td><td>2016</td><td>56.37</td></tr><tr><td>Bryan Mills</td><td>BM-11785</td><td>2017</td><td>6.92</td></tr><tr><td>Brad Norvell</td><td>BN-11470</td><td>2014</td><td>24.68</td></tr><tr><td>Brad Norvell</td><td>BN-11470</td><td>2015</td><td>4.09</td></tr><tr><td>Brad Norvell</td><td>BN-11470</td><td>2017</td><td>7.84</td></tr><tr><td>Bradley Nguyen</td><td>BN-11515</td><td>2014</td><td>185.37</td></tr><tr><td>Bradley Nguyen</td><td>BN-11515</td><td>2016</td><td>112.78</td></tr><tr><td>Bradley Nguyen</td><td>BN-11515</td><td>2017</td><td>42.57</td></tr><tr><td>Bil Overfelt</td><td>BO-11350</td><td>2016</td><td>358.03</td></tr><tr><td>Bil Overfelt</td><td>BO-11350</td><td>2017</td><td>-79.6</td></tr><tr><td>Bobby Odegard</td><td>BO-11425</td><td>2015</td><td>2.07</td></tr><tr><td>Bobby Odegard</td><td>BO-11425</td><td>2017</td><td>57.39</td></tr><tr><td>Barry Pond</td><td>BP-11050</td><td>2014</td><td>2.5</td></tr><tr><td>Barry Pond</td><td>BP-11050</td><td>2016</td><td>182.98</td></tr><tr><td>Barry Pond</td><td>BP-11050</td><td>2017</td><td>24.18</td></tr><tr><td>Bart Pistole</td><td>BP-11095</td><td>2014</td><td>131.71</td></tr><tr><td>Bart Pistole</td><td>BP-11095</td><td>2015</td><td>53.56</td></tr><tr><td>Bart Pistole</td><td>BP-11095</td><td>2016</td><td>19.68</td></tr><tr><td>Bart Pistole</td><td>BP-11095</td><td>2017</td><td>228.64</td></tr><tr><td>Becky Pak</td><td>BP-11155</td><td>2015</td><td>431.98</td></tr><tr><td>Becky Pak</td><td>BP-11155</td><td>2016</td><td>188.78</td></tr><tr><td>Becky Pak</td><td>BP-11155</td><td>2017</td><td>26.24</td></tr><tr><td>Ben Peterman</td><td>BP-11185</td><td>2015</td><td>66.76</td></tr><tr><td>Ben Peterman</td><td>BP-11185</td><td>2016</td><td>-33.89</td></tr><tr><td>Ben Peterman</td><td>BP-11185</td><td>2017</td><td>330.74</td></tr><tr><td>Benjamin Patterson</td><td>BP-11230</td><td>2014</td><td>27.56</td></tr><tr><td>Benjamin Patterson</td><td>BP-11230</td><td>2015</td><td>-255.74</td></tr><tr><td>Benjamin Patterson</td><td>BP-11230</td><td>2016</td><td>10.21</td></tr><tr><td>Benjamin Patterson</td><td>BP-11230</td><td>2017</td><td>20.58</td></tr><tr><td>Beth Paige</td><td>BP-11290</td><td>2014</td><td>-70.1</td></tr><tr><td>Beth Paige</td><td>BP-11290</td><td>2016</td><td>-65.75</td></tr><tr><td>Beth Paige</td><td>BP-11290</td><td>2017</td><td>-183.0</td></tr><tr><td>Bil Shonely</td><td>BS-11365</td><td>2014</td><td>210.7</td></tr><tr><td>Bil Shonely</td><td>BS-11365</td><td>2016</td><td>2405.71</td></tr><tr><td>Bil Stewart</td><td>BS-11380</td><td>2014</td><td>3.95</td></tr><tr><td>Bil Stewart</td><td>BS-11380</td><td>2015</td><td>206.62</td></tr><tr><td>Bil Stewart</td><td>BS-11380</td><td>2017</td><td>-228.1</td></tr><tr><td>Brendan Sweed</td><td>BS-11590</td><td>2014</td><td>97.46</td></tr><tr><td>Brendan Sweed</td><td>BS-11590</td><td>2015</td><td>103.1</td></tr><tr><td>Brendan Sweed</td><td>BS-11590</td><td>2016</td><td>12.36</td></tr><tr><td>Brendan Sweed</td><td>BS-11590</td><td>2017</td><td>168.47</td></tr><tr><td>Brian Stugart</td><td>BS-11665</td><td>2014</td><td>1.08</td></tr><tr><td>Brian Stugart</td><td>BS-11665</td><td>2015</td><td>175.39</td></tr><tr><td>Brian Stugart</td><td>BS-11665</td><td>2016</td><td>62.26</td></tr><tr><td>Bruce Stewart</td><td>BS-11755</td><td>2014</td><td>-330.55</td></tr><tr><td>Bruce Stewart</td><td>BS-11755</td><td>2015</td><td>18.45</td></tr><tr><td>Bruce Stewart</td><td>BS-11755</td><td>2016</td><td>82.95</td></tr><tr><td>Bruce Stewart</td><td>BS-11755</td><td>2017</td><td>115.84</td></tr><tr><td>Bryan Spruell</td><td>BS-11800</td><td>2015</td><td>77.11</td></tr><tr><td>Bryan Spruell</td><td>BS-11800</td><td>2017</td><td>116.94</td></tr><tr><td>Beth Thompson</td><td>BT-11305</td><td>2014</td><td>290.89</td></tr><tr><td>Beth Thompson</td><td>BT-11305</td><td>2015</td><td>87.46</td></tr><tr><td>Beth Thompson</td><td>BT-11305</td><td>2017</td><td>39.23</td></tr><tr><td>Bil Tyler</td><td>BT-11395</td><td>2014</td><td>74.81</td></tr><tr><td>Bil Tyler</td><td>BT-11395</td><td>2015</td><td>194.73</td></tr><tr><td>Bil Tyler</td><td>BT-11395</td><td>2016</td><td>3.35</td></tr><tr><td>Bil Tyler</td><td>BT-11395</td><td>2017</td><td>-14.99</td></tr><tr><td>Bobby Trafton</td><td>BT-11440</td><td>2014</td><td>-5.37</td></tr><tr><td>Bobby Trafton</td><td>BT-11440</td><td>2016</td><td>-71.9</td></tr><tr><td>Brad Thomas</td><td>BT-11485</td><td>2015</td><td>117.39</td></tr><tr><td>Brad Thomas</td><td>BT-11485</td><td>2016</td><td>9.48</td></tr><tr><td>Bradley Talbott</td><td>BT-11530</td><td>2014</td><td>66.77</td></tr><tr><td>Bradley Talbott</td><td>BT-11530</td><td>2016</td><td>-4.38</td></tr><tr><td>Bradley Talbott</td><td>BT-11530</td><td>2017</td><td>347.1</td></tr><tr><td>Brian Thompson</td><td>BT-11680</td><td>2014</td><td>-199.77</td></tr><tr><td>Brian Thompson</td><td>BT-11680</td><td>2015</td><td>435.64</td></tr><tr><td>Brian Thompson</td><td>BT-11680</td><td>2016</td><td>176.51</td></tr><tr><td>Brian Thompson</td><td>BT-11680</td><td>2017</td><td>35.43</td></tr><tr><td>Benjamin Venier</td><td>BV-11245</td><td>2015</td><td>82.28</td></tr><tr><td>Benjamin Venier</td><td>BV-11245</td><td>2016</td><td>127.01</td></tr><tr><td>Benjamin Venier</td><td>BV-11245</td><td>2017</td><td>105.94</td></tr><tr><td>Barry Weirich</td><td>BW-11065</td><td>2014</td><td>6.73</td></tr><tr><td>Barry Weirich</td><td>BW-11065</td><td>2015</td><td>12.11</td></tr><tr><td>Barry Weirich</td><td>BW-11065</td><td>2017</td><td>-77.13</td></tr><tr><td>Bart Watters</td><td>BW-11110</td><td>2015</td><td>103.49</td></tr><tr><td>Bart Watters</td><td>BW-11110</td><td>2016</td><td>97.06</td></tr><tr><td>Bart Watters</td><td>BW-11110</td><td>2017</td><td>720.83</td></tr><tr><td>Ben Wallace</td><td>BW-11200</td><td>2014</td><td>87.45</td></tr><tr><td>Ben Wallace</td><td>BW-11200</td><td>2016</td><td>173.66</td></tr><tr><td>Ben Wallace</td><td>BW-11200</td><td>2017</td><td>-14.11</td></tr><tr><td>Carol Adams</td><td>CA-11965</td><td>2014</td><td>44.77</td></tr><tr><td>Carol Adams</td><td>CA-11965</td><td>2015</td><td>182.16</td></tr><tr><td>Carol Adams</td><td>CA-11965</td><td>2016</td><td>899.98</td></tr><tr><td>Carol Adams</td><td>CA-11965</td><td>2017</td><td>16.48</td></tr><tr><td>Cthy Armstrong</td><td>CA-12055</td><td>2015</td><td>-47.73</td></tr><tr><td>Cthy Armstrong</td><td>CA-12055</td><td>2016</td><td>259.37</td></tr><tr><td>Christina Anderson</td><td>CA-12265</td><td>2014</td><td>16.97</td></tr><tr><td>Christina Anderson</td><td>CA-12265</td><td>2015</td><td>118.66</td></tr><tr><td>Christina Anderson</td><td>CA-12265</td><td>2016</td><td>24.6</td></tr><tr><td>Christina Anderson</td><td>CA-12265</td><td>2017</td><td>119.67</td></tr><tr><td>Christine Abelman</td><td>CA-12310</td><td>2014</td><td>101.4</td></tr><tr><td>Christine Abelman</td><td>CA-12310</td><td>2016</td><td>2.1</td></tr><tr><td>Christine Abelman</td><td>CA-12310</td><td>2017</td><td>143.36</td></tr><tr><td>Cynthia Arntzen</td><td>CA-12775</td><td>2014</td><td>111.79</td></tr><tr><td>Cynthia Arntzen</td><td>CA-12775</td><td>2015</td><td>-101.6</td></tr><tr><td>Cynthia Arntzen</td><td>CA-12775</td><td>2016</td><td>1.67</td></tr><tr><td>Cynthia Arntzen</td><td>CA-12775</td><td>2017</td><td>191.87</td></tr><tr><td>Cassandra Brandow</td><td>CB-12025</td><td>2014</td><td>5.27</td></tr><tr><td>Cassandra Brandow</td><td>CB-12025</td><td>2015</td><td>223.45</td></tr><tr><td>Cassandra Brandow</td><td>CB-12025</td><td>2016</td><td>161.25</td></tr><tr><td>Cassandra Brandow</td><td>CB-12025</td><td>2017</td><td>-239.46</td></tr><tr><td>Christy Brittain</td><td>CB-12415</td><td>2015</td><td>-3.49</td></tr><tr><td>Christy Brittain</td><td>CB-12415</td><td>2016</td><td>201.66</td></tr><tr><td>Christy Brittain</td><td>CB-12415</td><td>2017</td><td>74.23</td></tr><tr><td>Claudia Bergmann</td><td>CB-12535</td><td>2015</td><td>249.13</td></tr><tr><td>Claudia Bergmann</td><td>CB-12535</td><td>2016</td><td>458.64</td></tr><tr><td>Claudia Bergmann</td><td>CB-12535</td><td>2017</td><td>341.51</td></tr><tr><td>Chad Cunningham</td><td>CC-12100</td><td>2014</td><td>142.85</td></tr><tr><td>Chad Cunningham</td><td>CC-12100</td><td>2015</td><td>77.45</td></tr><tr><td>Chad Cunningham</td><td>CC-12100</td><td>2016</td><td>-11.7</td></tr><tr><td>Charles Crestani</td><td>CC-12145</td><td>2014</td><td>78.74</td></tr><tr><td>Charles Crestani</td><td>CC-12145</td><td>2015</td><td>297.36</td></tr><tr><td>Charles Crestani</td><td>CC-12145</td><td>2016</td><td>7.86</td></tr><tr><td>Charles Crestani</td><td>CC-12145</td><td>2017</td><td>8.33</td></tr><tr><td>Chris Cortes</td><td>CC-12220</td><td>2014</td><td>12.41</td></tr><tr><td>Chris Cortes</td><td>CC-12220</td><td>2015</td><td>21.01</td></tr><tr><td>Chris Cortes</td><td>CC-12220</td><td>2016</td><td>-33.05</td></tr><tr><td>Chris Cortes</td><td>CC-12220</td><td>2017</td><td>393.6</td></tr><tr><td>Christopher Conant</td><td>CC-12370</td><td>2016</td><td>2083.34</td></tr><tr><td>Christopher Conant</td><td>CC-12370</td><td>2017</td><td>93.73</td></tr><tr><td>Chuck Clark</td><td>CC-12430</td><td>2015</td><td>60.39</td></tr><tr><td>Chuck Clark</td><td>CC-12430</td><td>2016</td><td>255.32</td></tr><tr><td>Chuck Clark</td><td>CC-12430</td><td>2017</td><td>108.97</td></tr><tr><td>Cindy Chapman</td><td>CC-12475</td><td>2014</td><td>3.38</td></tr><tr><td>Cindy Chapman</td><td>CC-12475</td><td>2016</td><td>111.12</td></tr><tr><td>Cindy Chapman</td><td>CC-12475</td><td>2017</td><td>40.35</td></tr><tr><td>Clay Cheatham</td><td>CC-12550</td><td>2017</td><td>34.3</td></tr><tr><td>Corey Catlett</td><td>CC-12610</td><td>2014</td><td>481.45</td></tr><tr><td>Corey Catlett</td><td>CC-12610</td><td>2015</td><td>18.31</td></tr><tr><td>Corey Catlett</td><td>CC-12610</td><td>2016</td><td>-202.27</td></tr><tr><td>Corey Catlett</td><td>CC-12610</td><td>2017</td><td>33.78</td></tr><tr><td>Craig Carreira</td><td>CC-12670</td><td>2014</td><td>11.3</td></tr><tr><td>Craig Carreira</td><td>CC-12670</td><td>2015</td><td>8.57</td></tr><tr><td>Craig Carreira</td><td>CC-12670</td><td>2016</td><td>53.66</td></tr><tr><td>Craig Carreira</td><td>CC-12670</td><td>2017</td><td>114.35</td></tr><tr><td>Craig Carroll</td><td>CC-12685</td><td>2014</td><td>-45.32</td></tr><tr><td>Craig Carroll</td><td>CC-12685</td><td>2015</td><td>895.35</td></tr><tr><td>Carlos Daly</td><td>CD-11920</td><td>2014</td><td>11.7</td></tr><tr><td>Carlos Daly</td><td>CD-11920</td><td>2015</td><td>17.75</td></tr><tr><td>Carlos Daly</td><td>CD-11920</td><td>2016</td><td>46.94</td></tr><tr><td>Carlos Daly</td><td>CD-11920</td><td>2017</td><td>349.82</td></tr><tr><td>Carol Darley</td><td>CD-11980</td><td>2016</td><td>7.75</td></tr><tr><td>Carol Darley</td><td>CD-11980</td><td>2017</td><td>-214.46</td></tr><tr><td>Christina De Moss</td><td>CD-12280</td><td>2017</td><td>233.48</td></tr><tr><td>Cynthia Delaney</td><td>CD-12790</td><td>2014</td><td>40.21</td></tr><tr><td>Cynthia Delaney</td><td>CD-12790</td><td>2015</td><td>2.53</td></tr><tr><td>Cynthia Delaney</td><td>CD-12790</td><td>2016</td><td>346.71</td></tr><tr><td>Catherine Glotzbach</td><td>CG-12040</td><td>2015</td><td>5.76</td></tr><tr><td>Catherine Glotzbach</td><td>CG-12040</td><td>2016</td><td>58.68</td></tr><tr><td>Catherine Glotzbach</td><td>CG-12040</td><td>2017</td><td>21.87</td></tr><tr><td>Claire Gute</td><td>CG-12520</td><td>2015</td><td>-93.38</td></tr><tr><td>Claire Gute</td><td>CG-12520</td><td>2016</td><td>261.49</td></tr><tr><td>Claire Gute</td><td>CG-12520</td><td>2017</td><td>1.82</td></tr><tr><td>Cathy Hwang</td><td>CH-12070</td><td>2015</td><td>57.39</td></tr><tr><td>Cathy Hwang</td><td>CH-12070</td><td>2016</td><td>126.9</td></tr><tr><td>Carl Jackson</td><td>CJ-11875</td><td>2016</td><td>1.65</td></tr><tr><td>Caroline Jumper</td><td>CJ-12010</td><td>2016</td><td>1382.97</td></tr><tr><td>Caroline Jumper</td><td>CJ-12010</td><td>2017</td><td>-524.22</td></tr><tr><td>Chloris Kastensmidt</td><td>CK-12205</td><td>2014</td><td>82.99</td></tr><tr><td>Chloris Kastensmidt</td><td>CK-12205</td><td>2015</td><td>5.53</td></tr><tr><td>Chloris Kastensmidt</td><td>CK-12205</td><td>2016</td><td>-128.01</td></tr><tr><td>Chloris Kastensmidt</td><td>CK-12205</td><td>2017</td><td>181.08</td></tr><tr><td>Christine Kargatis</td><td>CK-12325</td><td>2014</td><td>326.42</td></tr><tr><td>Christine Kargatis</td><td>CK-12325</td><td>2016</td><td>59.08</td></tr><tr><td>Christine Kargatis</td><td>CK-12325</td><td>2017</td><td>-124.27</td></tr><tr><td>Clytie Kelty</td><td>CK-12595</td><td>2014</td><td>1.23</td></tr><tr><td>Clytie Kelty</td><td>CK-12595</td><td>2015</td><td>-36.93</td></tr><tr><td>Clytie Kelty</td><td>CK-12595</td><td>2016</td><td>315.73</td></tr><tr><td>Clytie Kelty</td><td>CK-12595</td><td>2017</td><td>211.09</td></tr><tr><td>Cyma Kinney</td><td>CK-12760</td><td>2014</td><td>66.59</td></tr><tr><td>Cyma Kinney</td><td>CK-12760</td><td>2015</td><td>14.5</td></tr><tr><td>Cyma Kinney</td><td>CK-12760</td><td>2016</td><td>101.86</td></tr><tr><td>Cyma Kinney</td><td>CK-12760</td><td>2017</td><td>-521.39</td></tr><tr><td>Carl Ludwig</td><td>CL-11890</td><td>2014</td><td>-29.34</td></tr><tr><td>Carl Ludwig</td><td>CL-11890</td><td>2016</td><td>4.35</td></tr><tr><td>Carl Ludwig</td><td>CL-11890</td><td>2017</td><td>353.07</td></tr><tr><td>Clay Ludtke</td><td>CL-12565</td><td>2014</td><td>199.77</td></tr><tr><td>Clay Ludtke</td><td>CL-12565</td><td>2015</td><td>490.37</td></tr><tr><td>Clay Ludtke</td><td>CL-12565</td><td>2016</td><td>713.45</td></tr><tr><td>Clay Ludtke</td><td>CL-12565</td><td>2017</td><td>529.6</td></tr><tr><td>Craig Leslie</td><td>CL-12700</td><td>2016</td><td>64.09</td></tr><tr><td>Craig Leslie</td><td>CL-12700</td><td>2017</td><td>164.91</td></tr><tr><td>Candace Mc Mahon</td><td>CM-11815</td><td>2014</td><td>25.23</td></tr><tr><td>Candace Mc Mahon</td><td>CM-11815</td><td>2016</td><td>3.69</td></tr><tr><td>Candace Mc Mahon</td><td>CM-11815</td><td>2017</td><td>185.93</td></tr><tr><td>Carlos Meador</td><td>CM-11935</td><td>2015</td><td>13.17</td></tr><tr><td>Carlos Meador</td><td>CM-11935</td><td>2016</td><td>-56.9</td></tr><tr><td>Chad Mc Guire</td><td>CM-12115</td><td>2015</td><td>8.11</td></tr><tr><td>Chad Mc Guire</td><td>CM-12115</td><td>2017</td><td>400.47</td></tr><tr><td>Charles Mc Crossin</td><td>CM-12160</td><td>2016</td><td>-315.75</td></tr><tr><td>Charles Mc Crossin</td><td>CM-12160</td><td>2017</td><td>-78.62</td></tr><tr><td>Charlotte Melton</td><td>CM-12190</td><td>2015</td><td>16.89</td></tr><tr><td>Charlotte Melton</td><td>CM-12190</td><td>2017</td><td>74.32</td></tr><tr><td>Chris Mc Afee</td><td>CM-12235</td><td>2016</td><td>365.03</td></tr><tr><td>Christopher Martinez</td><td>CM-12385</td><td>2015</td><td>3197.78</td></tr><tr><td>Christopher Martinez</td><td>CM-12385</td><td>2017</td><td>702.26</td></tr><tr><td>Chuck Magee</td><td>CM-12445</td><td>2014</td><td>10.78</td></tr><tr><td>Chuck Magee</td><td>CM-12445</td><td>2016</td><td>53.19</td></tr><tr><td>Corinna Mitchell</td><td>CM-12655</td><td>2015</td><td>116.62</td></tr><tr><td>Corinna Mitchell</td><td>CM-12655</td><td>2016</td><td>599.89</td></tr><tr><td>Corinna Mitchell</td><td>CM-12655</td><td>2017</td><td>855.93</td></tr><tr><td>Craig Molinari</td><td>CM-12715</td><td>2014</td><td>206.22</td></tr><tr><td>Craig Molinari</td><td>CM-12715</td><td>2015</td><td>-29.9</td></tr><tr><td>Cathy Prescott</td><td>CP-12085</td><td>2014</td><td>62.39</td></tr><tr><td>Cathy Prescott</td><td>CP-12085</td><td>2015</td><td>102.44</td></tr><tr><td>Cathy Prescott</td><td>CP-12085</td><td>2016</td><td>31.54</td></tr><tr><td>Cathy Prescott</td><td>CP-12085</td><td>2017</td><td>230.57</td></tr><tr><td>Christine Phan</td><td>CP-12340</td><td>2014</td><td>-1031.67</td></tr><tr><td>Christine Phan</td><td>CP-12340</td><td>2015</td><td>-1044.46</td></tr><tr><td>Christine Phan</td><td>CP-12340</td><td>2016</td><td>242.84</td></tr><tr><td>Christine Phan</td><td>CP-12340</td><td>2017</td><td>-17.02</td></tr><tr><td>Clay Rozendal</td><td>CR-12580</td><td>2016</td><td>-34.4</td></tr><tr><td>Clay Rozendal</td><td>CR-12580</td><td>2017</td><td>108.8</td></tr><tr><td>Corey Roper</td><td>CR-12625</td><td>2014</td><td>114.4</td></tr><tr><td>Corey Roper</td><td>CR-12625</td><td>2016</td><td>30.45</td></tr><tr><td>Craig Reiter</td><td>CR-12730</td><td>2014</td><td>-6.02</td></tr><tr><td>Craig Reiter</td><td>CR-12730</td><td>2016</td><td>59.57</td></tr><tr><td>Craig Reiter</td><td>CR-12730</td><td>2017</td><td>253.37</td></tr><tr><td>Cyra Reiten</td><td>CR-12820</td><td>2015</td><td>2.13</td></tr><tr><td>Cyra Reiten</td><td>CR-12820</td><td>2017</td><td>81.14</td></tr><tr><td>Cari Sayre</td><td>CS-11845</td><td>2014</td><td>-13.9</td></tr><tr><td>Cari Sayre</td><td>CS-11845</td><td>2015</td><td>-5.73</td></tr><tr><td>Cari Sayre</td><td>CS-11845</td><td>2017</td><td>205.18</td></tr><tr><td>Cari Schnelling</td><td>CS-11860</td><td>2014</td><td>93.74</td></tr><tr><td>Cari Schnelling</td><td>CS-11860</td><td>2015</td><td>-2.84</td></tr><tr><td>Cari Schnelling</td><td>CS-11860</td><td>2017</td><td>14.92</td></tr><tr><td>Carlos Soltero</td><td>CS-11950</td><td>2014</td><td>-88.07</td></tr><tr><td>Carlos Soltero</td><td>CS-11950</td><td>2015</td><td>16.46</td></tr><tr><td>Carlos Soltero</td><td>CS-11950</td><td>2016</td><td>-131.21</td></tr><tr><td>Carlos Soltero</td><td>CS-11950</td><td>2017</td><td>76.2</td></tr><tr><td>Chad Sievert</td><td>CS-12130</td><td>2014</td><td>84.36</td></tr><tr><td>Chad Sievert</td><td>CS-12130</td><td>2015</td><td>45.72</td></tr><tr><td>Chad Sievert</td><td>CS-12130</td><td>2016</td><td>13.75</td></tr><tr><td>Charles Sheldon</td><td>CS-12175</td><td>2014</td><td>98.11</td></tr><tr><td>Charles Sheldon</td><td>CS-12175</td><td>2016</td><td>18.35</td></tr><tr><td>Charles Sheldon</td><td>CS-12175</td><td>2017</td><td>-3.31</td></tr><tr><td>Chris Selesnick</td><td>CS-12250</td><td>2014</td><td>446.75</td></tr><tr><td>Chris Selesnick</td><td>CS-12250</td><td>2015</td><td>95.26</td></tr><tr><td>Chris Selesnick</td><td>CS-12250</td><td>2016</td><td>22.14</td></tr><tr><td>Chris Selesnick</td><td>CS-12250</td><td>2017</td><td>174.26</td></tr><tr><td>Christine Sundaresam</td><td>CS-12355</td><td>2014</td><td>77.03</td></tr><tr><td>Christine Sundaresam</td><td>CS-12355</td><td>2015</td><td>288.11</td></tr><tr><td>Christine Sundaresam</td><td>CS-12355</td><td>2016</td><td>10.32</td></tr><tr><td>Christine Sundaresam</td><td>CS-12355</td><td>2017</td><td>456.48</td></tr><tr><td>Christopher Schild</td><td>CS-12400</td><td>2014</td><td>80.63</td></tr><tr><td>Christopher Schild</td><td>CS-12400</td><td>2015</td><td>75.7</td></tr><tr><td>Christopher Schild</td><td>CS-12400</td><td>2016</td><td>-114.17</td></tr><tr><td>Christopher Schild</td><td>CS-12400</td><td>2017</td><td>-384.96</td></tr><tr><td>Chuck Sachs</td><td>CS-12460</td><td>2017</td><td>156.27</td></tr><tr><td>Cindy Schnelling</td><td>CS-12490</td><td>2015</td><td>-58.13</td></tr><tr><td>Cindy Schnelling</td><td>CS-12490</td><td>2016</td><td>-244.73</td></tr><tr><td>Cindy Stewart</td><td>CS-12505</td><td>2014</td><td>9.0</td></tr><tr><td>Cindy Stewart</td><td>CS-12505</td><td>2015</td><td>17.34</td></tr><tr><td>Cindy Stewart</td><td>CS-12505</td><td>2016</td><td>-6696.29</td></tr><tr><td>Cindy Stewart</td><td>CS-12505</td><td>2017</td><td>43.71</td></tr><tr><td>Carol Triggs</td><td>CT-11995</td><td>2014</td><td>285.45</td></tr><tr><td>Carol Triggs</td><td>CT-11995</td><td>2015</td><td>19.45</td></tr><tr><td>Carol Triggs</td><td>CT-11995</td><td>2016</td><td>-303.26</td></tr><tr><td>Carol Triggs</td><td>CT-11995</td><td>2017</td><td>159.26</td></tr><tr><td>Christina Vander Zanden</td><td>CV-12295</td><td>2014</td><td>163.49</td></tr><tr><td>Christina Vander Zanden</td><td>CV-12295</td><td>2016</td><td>51.98</td></tr><tr><td>Christina Vander Zanden</td><td>CV-12295</td><td>2017</td><td>277.62</td></tr><tr><td>Cynthia Voltz</td><td>CV-12805</td><td>2016</td><td>-35.39</td></tr><tr><td>Cynthia Voltz</td><td>CV-12805</td><td>2017</td><td>134.09</td></tr><tr><td>Carl Weiss</td><td>CW-11905</td><td>2014</td><td>17.16</td></tr><tr><td>Carl Weiss</td><td>CW-11905</td><td>2015</td><td>21.11</td></tr><tr><td>Carl Weiss</td><td>CW-11905</td><td>2016</td><td>22.77</td></tr><tr><td>Carl Weiss</td><td>CW-11905</td><td>2017</td><td>309.8</td></tr><tr><td>Craig Yedwab</td><td>CY-12745</td><td>2014</td><td>-336.63</td></tr><tr><td>Craig Yedwab</td><td>CY-12745</td><td>2015</td><td>107.0</td></tr><tr><td>Craig Yedwab</td><td>CY-12745</td><td>2016</td><td>49.73</td></tr><tr><td>Craig Yedwab</td><td>CY-12745</td><td>2017</td><td>240.54</td></tr><tr><td>Corey Lock</td><td>Co-12640</td><td>2014</td><td>142.68</td></tr><tr><td>Corey Lock</td><td>Co-12640</td><td>2015</td><td>44.03</td></tr><tr><td>Corey Lock</td><td>Co-12640</td><td>2016</td><td>19.19</td></tr><tr><td>Dianna Arnett</td><td>DA-13450</td><td>2014</td><td>21.72</td></tr><tr><td>Dianna Arnett</td><td>DA-13450</td><td>2017</td><td>35.07</td></tr><tr><td>Daniel Byrd</td><td>DB-12910</td><td>2014</td><td>3.63</td></tr><tr><td>Daniel Byrd</td><td>DB-12910</td><td>2016</td><td>146.83</td></tr><tr><td>Daniel Byrd</td><td>DB-12910</td><td>2017</td><td>280.92</td></tr><tr><td>Darren Budd</td><td>DB-12970</td><td>2014</td><td>17.78</td></tr><tr><td>Darren Budd</td><td>DB-12970</td><td>2015</td><td>45.65</td></tr><tr><td>Darren Budd</td><td>DB-12970</td><td>2016</td><td>84.3</td></tr><tr><td>Darren Budd</td><td>DB-12970</td><td>2017</td><td>64.81</td></tr><tr><td>Dave Brooks</td><td>DB-13060</td><td>2014</td><td>409.76</td></tr><tr><td>Dave Brooks</td><td>DB-13060</td><td>2016</td><td>294.18</td></tr><tr><td>Dave Brooks</td><td>DB-13060</td><td>2017</td><td>-231.31</td></tr><tr><td>David Bremer</td><td>DB-13120</td><td>2015</td><td>-285.06</td></tr><tr><td>David Bremer</td><td>DB-13120</td><td>2017</td><td>-1136.72</td></tr><tr><td>Dean Braden</td><td>DB-13210</td><td>2015</td><td>-41.79</td></tr><tr><td>Dean Braden</td><td>DB-13210</td><td>2016</td><td>-66.47</td></tr><tr><td>Dean Braden</td><td>DB-13210</td><td>2017</td><td>277.97</td></tr><tr><td>Deborah Brumfield</td><td>DB-13270</td><td>2014</td><td>45.1</td></tr><tr><td>Deborah Brumfield</td><td>DB-13270</td><td>2015</td><td>1.72</td></tr><tr><td>Deborah Brumfield</td><td>DB-13270</td><td>2016</td><td>810.57</td></tr><tr><td>Deborah Brumfield</td><td>DB-13270</td><td>2017</td><td>-15.55</td></tr><tr><td>Dennis Bolton</td><td>DB-13360</td><td>2014</td><td>79.89</td></tr><tr><td>Dennis Bolton</td><td>DB-13360</td><td>2015</td><td>15.61</td></tr><tr><td>Dennis Bolton</td><td>DB-13360</td><td>2016</td><td>81.97</td></tr><tr><td>Dennis Bolton</td><td>DB-13360</td><td>2017</td><td>113.54</td></tr><tr><td>Denny Blanton</td><td>DB-13405</td><td>2015</td><td>266.33</td></tr><tr><td>Denny Blanton</td><td>DB-13405</td><td>2017</td><td>172.59</td></tr><tr><td>Dorothy Badders</td><td>DB-13555</td><td>2014</td><td>8.35</td></tr><tr><td>Dorothy Badders</td><td>DB-13555</td><td>2017</td><td>101.29</td></tr><tr><td>Doug Bickford</td><td>DB-13615</td><td>2014</td><td>13.49</td></tr><tr><td>Doug Bickford</td><td>DB-13615</td><td>2015</td><td>342.08</td></tr><tr><td>Doug Bickford</td><td>DB-13615</td><td>2016</td><td>22.73</td></tr><tr><td>Doug Bickford</td><td>DB-13615</td><td>2017</td><td>60.5</td></tr><tr><td>Duane Benoit</td><td>DB-13660</td><td>2014</td><td>31.01</td></tr><tr><td>Duane Benoit</td><td>DB-13660</td><td>2015</td><td>-17.29</td></tr><tr><td>Duane Benoit</td><td>DB-13660</td><td>2016</td><td>-35.22</td></tr><tr><td>Duane Benoit</td><td>DB-13660</td><td>2017</td><td>199.44</td></tr><tr><td>Dan Campbell</td><td>DC-12850</td><td>2014</td><td>-77.87</td></tr><tr><td>Dan Campbell</td><td>DC-12850</td><td>2015</td><td>4.89</td></tr><tr><td>Dan Campbell</td><td>DC-12850</td><td>2016</td><td>-239.55</td></tr><tr><td>Dan Campbell</td><td>DC-12850</td><td>2017</td><td>-1128.75</td></tr><tr><td>Debra Catini</td><td>DC-13285</td><td>2014</td><td>54.8</td></tr><tr><td>Debra Catini</td><td>DC-13285</td><td>2015</td><td>55.75</td></tr><tr><td>Debra Catini</td><td>DC-13285</td><td>2016</td><td>10.47</td></tr><tr><td>Debra Catini</td><td>DC-13285</td><td>2017</td><td>11.06</td></tr><tr><td>Dorothy Dickinson</td><td>DD-13570</td><td>2014</td><td>-8.63</td></tr><tr><td>Dorothy Dickinson</td><td>DD-13570</td><td>2016</td><td>-6.9</td></tr><tr><td>Dorothy Dickinson</td><td>DD-13570</td><td>2017</td><td>51.97</td></tr><tr><td>Na N</td><td>DE-13255</td><td>2014</td><td>9.85</td></tr><tr><td>Na N</td><td>DE-13255</td><td>2015</td><td>438.48</td></tr><tr><td>Na N</td><td>DE-13255</td><td>2016</td><td>16.15</td></tr><tr><td>David Flashing</td><td>DF-13135</td><td>2014</td><td>37.88</td></tr><tr><td>David Flashing</td><td>DF-13135</td><td>2015</td><td>99.94</td></tr><tr><td>David Flashing</td><td>DF-13135</td><td>2016</td><td>-397.13</td></tr><tr><td>Deirdre Greer</td><td>DG-13300</td><td>2014</td><td>22.07</td></tr><tr><td>Deirdre Greer</td><td>DG-13300</td><td>2015</td><td>0.42</td></tr><tr><td>Deirdre Greer</td><td>DG-13300</td><td>2016</td><td>9.33</td></tr><tr><td>Deirdre Greer</td><td>DG-13300</td><td>2017</td><td>530.95</td></tr><tr><td>Dave Hallsten</td><td>DH-13075</td><td>2014</td><td>323.13</td></tr><tr><td>Dave Hallsten</td><td>DH-13075</td><td>2015</td><td>783.24</td></tr><tr><td>Dave Hallsten</td><td>DH-13075</td><td>2016</td><td>-19.6</td></tr><tr><td>Dave Hallsten</td><td>DH-13075</td><td>2017</td><td>106.98</td></tr><tr><td>Duane Huffman</td><td>DH-13675</td><td>2014</td><td>87.79</td></tr><tr><td>Duane Huffman</td><td>DH-13675</td><td>2015</td><td>28.89</td></tr><tr><td>Denny Joy</td><td>DJ-13420</td><td>2014</td><td>39.77</td></tr><tr><td>Denny Joy</td><td>DJ-13420</td><td>2015</td><td>64.99</td></tr><tr><td>Denny Joy</td><td>DJ-13420</td><td>2016</td><td>378.27</td></tr><tr><td>Don Jones</td><td>DJ-13510</td><td>2014</td><td>187.74</td></tr><tr><td>Don Jones</td><td>DJ-13510</td><td>2016</td><td>100.2</td></tr><tr><td>Don Jones</td><td>DJ-13510</td><td>2017</td><td>57.32</td></tr><tr><td>Doug Jacobs</td><td>DJ-13630</td><td>2015</td><td>36.0</td></tr><tr><td>Doug Jacobs</td><td>DJ-13630</td><td>2016</td><td>25.78</td></tr><tr><td>Doug Jacobs</td><td>DJ-13630</td><td>2017</td><td>669.79</td></tr><tr><td>Damala Kotsonis</td><td>DK-12835</td><td>2014</td><td>-22.36</td></tr><tr><td>Damala Kotsonis</td><td>DK-12835</td><td>2015</td><td>369.26</td></tr><tr><td>Damala Kotsonis</td><td>DK-12835</td><td>2016</td><td>185.34</td></tr><tr><td>Damala Kotsonis</td><td>DK-12835</td><td>2017</td><td>349.28</td></tr><tr><td>Dana Kaydos</td><td>DK-12895</td><td>2015</td><td>609.59</td></tr><tr><td>Dana Kaydos</td><td>DK-12895</td><td>2017</td><td>316.38</td></tr><tr><td>Darren Koutras</td><td>DK-12985</td><td>2014</td><td>-8.08</td></tr><tr><td>Darren Koutras</td><td>DK-12985</td><td>2015</td><td>-76.43</td></tr><tr><td>Darren Koutras</td><td>DK-12985</td><td>2017</td><td>-22.94</td></tr><tr><td>Dave Kipp</td><td>DK-13090</td><td>2015</td><td>173.71</td></tr><tr><td>Dave Kipp</td><td>DK-13090</td><td>2016</td><td>-38.31</td></tr><tr><td>Dave Kipp</td><td>DK-13090</td><td>2017</td><td>400.99</td></tr><tr><td>David Klendrick</td><td>DK-13150</td><td>2014</td><td>78.5</td></tr><tr><td>David Klendrick</td><td>DK-13150</td><td>2017</td><td>171.77</td></tr><tr><td>Dean Katz</td><td>DK-13225</td><td>2014</td><td>6.0</td></tr><tr><td>Dean Katz</td><td>DK-13225</td><td>2015</td><td>-339.65</td></tr><tr><td>Dean Katz</td><td>DK-13225</td><td>2016</td><td>227.45</td></tr><tr><td>Dean Katz</td><td>DK-13225</td><td>2017</td><td>316.47</td></tr><tr><td>Dennis Kane</td><td>DK-13375</td><td>2014</td><td>109.61</td></tr><tr><td>Dennis Kane</td><td>DK-13375</td><td>2015</td><td>-95.8</td></tr><tr><td>Dennis Kane</td><td>DK-13375</td><td>2016</td><td>360.97</td></tr><tr><td>Dennis Kane</td><td>DK-13375</td><td>2017</td><td>2.65</td></tr><tr><td>Dan Lawera</td><td>DL-12865</td><td>2014</td><td>7.73</td></tr><tr><td>Dan Lawera</td><td>DL-12865</td><td>2015</td><td>9.04</td></tr><tr><td>Dan Lawera</td><td>DL-12865</td><td>2016</td><td>311.98</td></tr><tr><td>Dan Lawera</td><td>DL-12865</td><td>2017</td><td>-6.9</td></tr><tr><td>Daniel Lacy</td><td>DL-12925</td><td>2014</td><td>-324.87</td></tr><tr><td>Daniel Lacy</td><td>DL-12925</td><td>2015</td><td>304.39</td></tr><tr><td>Daniel Lacy</td><td>DL-12925</td><td>2017</td><td>24.87</td></tr><tr><td>Delfina Latchford</td><td>DL-13315</td><td>2014</td><td>-11.89</td></tr><tr><td>Delfina Latchford</td><td>DL-13315</td><td>2016</td><td>206.58</td></tr><tr><td>Delfina Latchford</td><td>DL-13315</td><td>2017</td><td>94.23</td></tr><tr><td>Denise Leinenbach</td><td>DL-13330</td><td>2014</td><td>2.1</td></tr><tr><td>Denise Leinenbach</td><td>DL-13330</td><td>2015</td><td>197.99</td></tr><tr><td>Denise Leinenbach</td><td>DL-13330</td><td>2016</td><td>5.22</td></tr><tr><td>Denise Leinenbach</td><td>DL-13330</td><td>2017</td><td>17.38</td></tr><tr><td>Dionis Lloyd</td><td>DL-13495</td><td>2015</td><td>50.35</td></tr><tr><td>Dionis Lloyd</td><td>DL-13495</td><td>2016</td><td>97.84</td></tr><tr><td>Dionis Lloyd</td><td>DL-13495</td><td>2017</td><td>-200.58</td></tr><tr><td>Dario Medina</td><td>DM-12955</td><td>2014</td><td>58.4</td></tr><tr><td>Dario Medina</td><td>DM-12955</td><td>2015</td><td>42.96</td></tr><tr><td>Dario Medina</td><td>DM-12955</td><td>2016</td><td>0.26</td></tr><tr><td>Dario Medina</td><td>DM-12955</td><td>2017</td><td>7.14</td></tr><tr><td>Darrin Martin</td><td>DM-13015</td><td>2014</td><td>1600.06</td></tr><tr><td>Darrin Martin</td><td>DM-13015</td><td>2015</td><td>6.6</td></tr><tr><td>Darrin Martin</td><td>DM-13015</td><td>2016</td><td>-35.45</td></tr><tr><td>Darrin Martin</td><td>DM-13015</td><td>2017</td><td>106.77</td></tr><tr><td>Denise Monton</td><td>DM-13345</td><td>2014</td><td>3.71</td></tr><tr><td>Denise Monton</td><td>DM-13345</td><td>2015</td><td>2.84</td></tr><tr><td>Denise Monton</td><td>DM-13345</td><td>2016</td><td>-61.9</td></tr><tr><td>Denise Monton</td><td>DM-13345</td><td>2017</td><td>1374.42</td></tr><tr><td>Don Miller</td><td>DM-13525</td><td>2014</td><td>14.49</td></tr><tr><td>Don Miller</td><td>DM-13525</td><td>2015</td><td>167.54</td></tr><tr><td>Don Miller</td><td>DM-13525</td><td>2016</td><td>18.17</td></tr><tr><td>Duane Noonan</td><td>DN-13690</td><td>2014</td><td>179.72</td></tr><tr><td>Duane Noonan</td><td>DN-13690</td><td>2016</td><td>222.39</td></tr><tr><td>Duane Noonan</td><td>DN-13690</td><td>2017</td><td>138.42</td></tr><tr><td>Denny Ordway</td><td>DO-13435</td><td>2014</td><td>6.09</td></tr><tr><td>Denny Ordway</td><td>DO-13435</td><td>2015</td><td>-136.09</td></tr><tr><td>Denny Ordway</td><td>DO-13435</td><td>2016</td><td>8.5</td></tr><tr><td>Denny Ordway</td><td>DO-13435</td><td>2017</td><td>83.17</td></tr><tr><td>Doug O Connell</td><td>DO-13645</td><td>2015</td><td>26.82</td></tr><tr><td>Doug O Connell</td><td>DO-13645</td><td>2017</td><td>267.03</td></tr><tr><td>Darren Powers</td><td>DP-13000</td><td>2014</td><td>24.24</td></tr><tr><td>Darren Powers</td><td>DP-13000</td><td>2015</td><td>260.74</td></tr><tr><td>Darren Powers</td><td>DP-13000</td><td>2016</td><td>4.88</td></tr><tr><td>Darren Powers</td><td>DP-13000</td><td>2017</td><td>-48.17</td></tr><tr><td>Dave Poirier</td><td>DP-13105</td><td>2015</td><td>16.29</td></tr><tr><td>Dave Poirier</td><td>DP-13105</td><td>2016</td><td>486.12</td></tr><tr><td>Dave Poirier</td><td>DP-13105</td><td>2017</td><td>60.54</td></tr><tr><td>David Philippe</td><td>DP-13165</td><td>2014</td><td>-41.94</td></tr><tr><td>David Philippe</td><td>DP-13165</td><td>2015</td><td>1.0</td></tr><tr><td>Dennis Pardue</td><td>DP-13390</td><td>2014</td><td>83.79</td></tr><tr><td>Dennis Pardue</td><td>DP-13390</td><td>2015</td><td>-223.85</td></tr><tr><td>Dennis Pardue</td><td>DP-13390</td><td>2016</td><td>1694.64</td></tr><tr><td>Dennis Pardue</td><td>DP-13390</td><td>2017</td><td>17.25</td></tr><tr><td>Dan Reichenbach</td><td>DR-12880</td><td>2015</td><td>428.64</td></tr><tr><td>Dan Reichenbach</td><td>DR-12880</td><td>2016</td><td>126.06</td></tr><tr><td>Dan Reichenbach</td><td>DR-12880</td><td>2017</td><td>1086.84</td></tr><tr><td>Daniel Raglin</td><td>DR-12940</td><td>2014</td><td>22.68</td></tr><tr><td>Daniel Raglin</td><td>DR-12940</td><td>2015</td><td>296.67</td></tr><tr><td>Daniel Raglin</td><td>DR-12940</td><td>2016</td><td>2337.76</td></tr><tr><td>Daniel Raglin</td><td>DR-12940</td><td>2017</td><td>211.97</td></tr><tr><td>Darrin Sayre</td><td>DS-13030</td><td>2014</td><td>29.47</td></tr><tr><td>Darrin Sayre</td><td>DS-13030</td><td>2017</td><td>164.31</td></tr><tr><td>David Smith</td><td>DS-13180</td><td>2014</td><td>57.59</td></tr><tr><td>David Smith</td><td>DS-13180</td><td>2015</td><td>182.58</td></tr><tr><td>David Smith</td><td>DS-13180</td><td>2016</td><td>-46.95</td></tr><tr><td>David Smith</td><td>DS-13180</td><td>2017</td><td>-29.56</td></tr><tr><td>Darrin Van Huff</td><td>DV-13045</td><td>2016</td><td>17.48</td></tr><tr><td>Darrin Van Huff</td><td>DV-13045</td><td>2017</td><td>-445.11</td></tr><tr><td>Dianna Vittorini</td><td>DV-13465</td><td>2014</td><td>9.72</td></tr><tr><td>Dianna Vittorini</td><td>DV-13465</td><td>2015</td><td>101.77</td></tr><tr><td>Dianna Vittorini</td><td>DV-13465</td><td>2016</td><td>89.95</td></tr><tr><td>Dianna Vittorini</td><td>DV-13465</td><td>2017</td><td>151.65</td></tr><tr><td>David Wiener</td><td>DW-13195</td><td>2014</td><td>55.47</td></tr><tr><td>David Wiener</td><td>DW-13195</td><td>2016</td><td>-34.16</td></tr><tr><td>David Wiener</td><td>DW-13195</td><td>2017</td><td>-108.28</td></tr><tr><td>Dianna Wilson</td><td>DW-13480</td><td>2014</td><td>1154.67</td></tr><tr><td>Dianna Wilson</td><td>DW-13480</td><td>2016</td><td>31.09</td></tr><tr><td>Dianna Wilson</td><td>DW-13480</td><td>2017</td><td>162.99</td></tr><tr><td>Don Weiss</td><td>DW-13540</td><td>2016</td><td>16.01</td></tr><tr><td>Don Weiss</td><td>DW-13540</td><td>2017</td><td>53.65</td></tr><tr><td>Dorothy Wardle</td><td>DW-13585</td><td>2014</td><td>6.63</td></tr><tr><td>Dorothy Wardle</td><td>DW-13585</td><td>2015</td><td>-371.25</td></tr><tr><td>Dorothy Wardle</td><td>DW-13585</td><td>2016</td><td>92.61</td></tr><tr><td>Dorothy Wardle</td><td>DW-13585</td><td>2017</td><td>5.11</td></tr><tr><td>Dorrisliebe</td><td>Dl-13600</td><td>2014</td><td>29.17</td></tr><tr><td>Dorrisliebe</td><td>Dl-13600</td><td>2016</td><td>146.39</td></tr><tr><td>Dorrisliebe</td><td>Dl-13600</td><td>2017</td><td>-0.33</td></tr><tr><td>Deanperce R</td><td>Dp-13240</td><td>2014</td><td>100.92</td></tr><tr><td>Deanperce R</td><td>Dp-13240</td><td>2015</td><td>1145.83</td></tr><tr><td>Deanperce R</td><td>Dp-13240</td><td>2016</td><td>117.74</td></tr><tr><td>Deanperce R</td><td>Dp-13240</td><td>2017</td><td>-1031.12</td></tr><tr><td>Erin Ashbrook</td><td>EA-14035</td><td>2014</td><td>-53.44</td></tr><tr><td>Erin Ashbrook</td><td>EA-14035</td><td>2015</td><td>321.74</td></tr><tr><td>Erin Ashbrook</td><td>EA-14035</td><td>2016</td><td>-342.69</td></tr><tr><td>Erin Ashbrook</td><td>EA-14035</td><td>2017</td><td>21.83</td></tr><tr><td>Ed Braxton</td><td>EB-13705</td><td>2014</td><td>-127.42</td></tr><tr><td>Ed Braxton</td><td>EB-13705</td><td>2015</td><td>47.96</td></tr><tr><td>Ed Braxton</td><td>EB-13705</td><td>2016</td><td>82.42</td></tr><tr><td>Ed Braxton</td><td>EB-13705</td><td>2017</td><td>10.6</td></tr><tr><td>Edward Becker</td><td>EB-13750</td><td>2015</td><td>177.41</td></tr><tr><td>Edward Becker</td><td>EB-13750</td><td>2016</td><td>139.81</td></tr><tr><td>Edward Becker</td><td>EB-13750</td><td>2017</td><td>-397.51</td></tr><tr><td>Ellis Ballard</td><td>EB-13840</td><td>2014</td><td>-36.36</td></tr><tr><td>Ellis Ballard</td><td>EB-13840</td><td>2015</td><td>610.86</td></tr><tr><td>Ellis Ballard</td><td>EB-13840</td><td>2016</td><td>0.0</td></tr><tr><td>Ellis Ballard</td><td>EB-13840</td><td>2017</td><td>81.7</td></tr><tr><td>Emily Burns</td><td>EB-13870</td><td>2014</td><td>16.02</td></tr><tr><td>Emily Burns</td><td>EB-13870</td><td>2015</td><td>242.3</td></tr><tr><td>Emily Burns</td><td>EB-13870</td><td>2016</td><td>84.07</td></tr><tr><td>Emily Burns</td><td>EB-13870</td><td>2017</td><td>-80.44</td></tr><tr><td>Eric Barreto</td><td>EB-13930</td><td>2014</td><td>1.35</td></tr><tr><td>Eric Barreto</td><td>EB-13930</td><td>2016</td><td>74.27</td></tr><tr><td>Eric Barreto</td><td>EB-13930</td><td>2017</td><td>-75.19</td></tr><tr><td>Erica Bern</td><td>EB-13975</td><td>2016</td><td>151.89</td></tr><tr><td>Erica Bern</td><td>EB-13975</td><td>2017</td><td>11.0</td></tr><tr><td>Eugene Barchas</td><td>EB-14110</td><td>2015</td><td>44.54</td></tr><tr><td>Eugene Barchas</td><td>EB-14110</td><td>2016</td><td>187.62</td></tr><tr><td>Eugene Barchas</td><td>EB-14110</td><td>2017</td><td>-47.4</td></tr><tr><td>Evan Bailliet</td><td>EB-14170</td><td>2014</td><td>155.02</td></tr><tr><td>Evan Bailliet</td><td>EB-14170</td><td>2015</td><td>119.43</td></tr><tr><td>Evan Bailliet</td><td>EB-14170</td><td>2016</td><td>4.44</td></tr><tr><td>Evan Bailliet</td><td>EB-14170</td><td>2017</td><td>3.52</td></tr><tr><td>Erin Creighton</td><td>EC-14050</td><td>2014</td><td>-4.02</td></tr><tr><td>Erin Creighton</td><td>EC-14050</td><td>2016</td><td>43.09</td></tr><tr><td>Erin Creighton</td><td>EC-14050</td><td>2017</td><td>57.37</td></tr><tr><td>Na N</td><td>ED-13885</td><td>2014</td><td>18.48</td></tr><tr><td>Na N</td><td>ED-13885</td><td>2015</td><td>574.81</td></tr><tr><td>Na N</td><td>ED-13885</td><td>2016</td><td>185.14</td></tr><tr><td>Na N</td><td>ED-13885</td><td>2017</td><td>-107.98</td></tr><tr><td>Emily Grady</td><td>EG-13900</td><td>2015</td><td>55.0</td></tr><tr><td>Emily Grady</td><td>EG-13900</td><td>2016</td><td>46.31</td></tr><tr><td>Emily Grady</td><td>EG-13900</td><td>2017</td><td>2.59</td></tr><tr><td>Edward Hooks</td><td>EH-13765</td><td>2014</td><td>4.05</td></tr><tr><td>Edward Hooks</td><td>EH-13765</td><td>2015</td><td>224.83</td></tr><tr><td>Edward Hooks</td><td>EH-13765</td><td>2016</td><td>758.8</td></tr><tr><td>Edward Hooks</td><td>EH-13765</td><td>2017</td><td>405.82</td></tr><tr><td>Eric Hoffmann</td><td>EH-13945</td><td>2014</td><td>22.15</td></tr><tr><td>Eric Hoffmann</td><td>EH-13945</td><td>2015</td><td>10.62</td></tr><tr><td>Eric Hoffmann</td><td>EH-13945</td><td>2016</td><td>-13.38</td></tr><tr><td>Eric Hoffmann</td><td>EH-13945</td><td>2017</td><td>34.4</td></tr><tr><td>Erica Hackney</td><td>EH-13990</td><td>2014</td><td>54.09</td></tr><tr><td>Erica Hackney</td><td>EH-13990</td><td>2015</td><td>28.38</td></tr><tr><td>Erica Hackney</td><td>EH-13990</td><td>2016</td><td>67.9</td></tr><tr><td>Erica Hernandez</td><td>EH-14005</td><td>2014</td><td>-248.96</td></tr><tr><td>Erica Hernandez</td><td>EH-14005</td><td>2016</td><td>9.95</td></tr><tr><td>Erica Hernandez</td><td>EH-14005</td><td>2017</td><td>144.29</td></tr><tr><td>Eugene Hildebrand</td><td>EH-14125</td><td>2014</td><td>20.1</td></tr><tr><td>Eugene Hildebrand</td><td>EH-14125</td><td>2015</td><td>-117.87</td></tr><tr><td>Eugene Hildebrand</td><td>EH-14125</td><td>2016</td><td>-71.64</td></tr><tr><td>Eugene Hildebrand</td><td>EH-14125</td><td>2017</td><td>265.62</td></tr><tr><td>Evan Henry</td><td>EH-14185</td><td>2014</td><td>26.43</td></tr><tr><td>Evan Henry</td><td>EH-14185</td><td>2016</td><td>209.28</td></tr><tr><td>Evan Henry</td><td>EH-14185</td><td>2017</td><td>6.42</td></tr><tr><td>Ed Jacobs</td><td>EJ-13720</td><td>2014</td><td>-7403.61</td></tr><tr><td>Ed Jacobs</td><td>EJ-13720</td><td>2015</td><td>15.86</td></tr><tr><td>Ed Jacobs</td><td>EJ-13720</td><td>2017</td><td>423.72</td></tr><tr><td>Eva Jacobs</td><td>EJ-14155</td><td>2014</td><td>-23.49</td></tr><tr><td>Eva Jacobs</td><td>EJ-14155</td><td>2016</td><td>335.35</td></tr><tr><td>Eva Jacobs</td><td>EJ-14155</td><td>2017</td><td>140.02</td></tr><tr><td>Eileen Kiefer</td><td>EK-13795</td><td>2014</td><td>70.49</td></tr><tr><td>Eileen Kiefer</td><td>EK-13795</td><td>2015</td><td>20.54</td></tr><tr><td>Eileen Kiefer</td><td>EK-13795</td><td>2017</td><td>6.07</td></tr><tr><td>Ed Ludwig</td><td>EL-13735</td><td>2016</td><td>8.66</td></tr><tr><td>Ed Ludwig</td><td>EL-13735</td><td>2017</td><td>18.45</td></tr><tr><td>Na N</td><td>EM-13810</td><td>2015</td><td>-202.06</td></tr><tr><td>Na N</td><td>EM-13810</td><td>2016</td><td>57.59</td></tr><tr><td>Na N</td><td>EM-13810</td><td>2017</td><td>10.48</td></tr><tr><td>Elizabeth Moffitt</td><td>EM-13825</td><td>2014</td><td>7.99</td></tr><tr><td>Elizabeth Moffitt</td><td>EM-13825</td><td>2015</td><td>238.47</td></tr><tr><td>Elizabeth Moffitt</td><td>EM-13825</td><td>2016</td><td>-8.32</td></tr><tr><td>Elizabeth Moffitt</td><td>EM-13825</td><td>2017</td><td>444.42</td></tr><tr><td>Eric Murdock</td><td>EM-13960</td><td>2015</td><td>51.93</td></tr><tr><td>Eric Murdock</td><td>EM-13960</td><td>2017</td><td>50.37</td></tr><tr><td>Erin Mull</td><td>EM-14065</td><td>2014</td><td>59.26</td></tr><tr><td>Erin Mull</td><td>EM-14065</td><td>2016</td><td>-4.79</td></tr><tr><td>Erin Mull</td><td>EM-14065</td><td>2017</td><td>-14.44</td></tr><tr><td>Eudokia Martin</td><td>EM-14095</td><td>2015</td><td>192.67</td></tr><tr><td>Eudokia Martin</td><td>EM-14095</td><td>2016</td><td>30.63</td></tr><tr><td>Eudokia Martin</td><td>EM-14095</td><td>2017</td><td>16.93</td></tr><tr><td>Eugene Moren</td><td>EM-14140</td><td>2014</td><td>2.21</td></tr><tr><td>Eugene Moren</td><td>EM-14140</td><td>2015</td><td>271.41</td></tr><tr><td>Eugene Moren</td><td>EM-14140</td><td>2016</td><td>968.57</td></tr><tr><td>Eugene Moren</td><td>EM-14140</td><td>2017</td><td>76.76</td></tr><tr><td>Evan Minnotte</td><td>EM-14200</td><td>2015</td><td>4.0</td></tr><tr><td>Evan Minnotte</td><td>EM-14200</td><td>2017</td><td>17.83</td></tr><tr><td>Edward Nazzal</td><td>EN-13780</td><td>2015</td><td>51.27</td></tr><tr><td>Edward Nazzal</td><td>EN-13780</td><td>2016</td><td>438.4</td></tr><tr><td>Edward Nazzal</td><td>EN-13780</td><td>2017</td><td>6.55</td></tr><tr><td>Emily Phan</td><td>EP-13915</td><td>2014</td><td>175.0</td></tr><tr><td>Emily Phan</td><td>EP-13915</td><td>2015</td><td>361.2</td></tr><tr><td>Emily Phan</td><td>EP-13915</td><td>2016</td><td>-393.66</td></tr><tr><td>Emily Phan</td><td>EP-13915</td><td>2017</td><td>2.6</td></tr><tr><td>Elpida Rittenbach</td><td>ER-13855</td><td>2015</td><td>4.57</td></tr><tr><td>Elpida Rittenbach</td><td>ER-13855</td><td>2016</td><td>-299.9</td></tr><tr><td>Erica Smith</td><td>ES-14020</td><td>2014</td><td>15.22</td></tr><tr><td>Erica Smith</td><td>ES-14020</td><td>2015</td><td>44.05</td></tr><tr><td>Erica Smith</td><td>ES-14020</td><td>2016</td><td>71.99</td></tr><tr><td>Erica Smith</td><td>ES-14020</td><td>2017</td><td>871.82</td></tr><tr><td>Erin Smith</td><td>ES-14080</td><td>2014</td><td>134.03</td></tr><tr><td>Erin Smith</td><td>ES-14080</td><td>2015</td><td>-27.16</td></tr><tr><td>Erin Smith</td><td>ES-14080</td><td>2016</td><td>-99.22</td></tr><tr><td>Erin Smith</td><td>ES-14080</td><td>2017</td><td>239.29</td></tr><tr><td>Frank Atkinson</td><td>FA-14230</td><td>2014</td><td>3.58</td></tr><tr><td>Frank Atkinson</td><td>FA-14230</td><td>2015</td><td>224.56</td></tr><tr><td>Frank Atkinson</td><td>FA-14230</td><td>2016</td><td>39.81</td></tr><tr><td>Frank Atkinson</td><td>FA-14230</td><td>2017</td><td>252.38</td></tr><tr><td>Frank Carlisle</td><td>FC-14245</td><td>2015</td><td>35.53</td></tr><tr><td>Frank Carlisle</td><td>FC-14245</td><td>2016</td><td>972.25</td></tr><tr><td>Frank Carlisle</td><td>FC-14245</td><td>2017</td><td>209.4</td></tr><tr><td>Fred Chung</td><td>FC-14335</td><td>2014</td><td>112.57</td></tr><tr><td>Fred Chung</td><td>FC-14335</td><td>2015</td><td>12.6</td></tr><tr><td>Fred Chung</td><td>FC-14335</td><td>2016</td><td>86.15</td></tr><tr><td>Fred Chung</td><td>FC-14335</td><td>2017</td><td>502.97</td></tr><tr><td>Frank Gastineau</td><td>FG-14260</td><td>2014</td><td>314.52</td></tr><tr><td>Frank Gastineau</td><td>FG-14260</td><td>2017</td><td>80.43</td></tr><tr><td>Frank Hawley</td><td>FH-14275</td><td>2014</td><td>297.18</td></tr><tr><td>Frank Hawley</td><td>FH-14275</td><td>2016</td><td>166.29</td></tr><tr><td>Frank Hawley</td><td>FH-14275</td><td>2017</td><td>12936.86</td></tr><tr><td>Fred Harton</td><td>FH-14350</td><td>2015</td><td>365.68</td></tr><tr><td>Fred Harton</td><td>FH-14350</td><td>2017</td><td>340.37</td></tr><tr><td>Fred Hopkins</td><td>FH-14365</td><td>2014</td><td>-172.46</td></tr><tr><td>Fred Hopkins</td><td>FH-14365</td><td>2015</td><td>2139.74</td></tr><tr><td>Fred Hopkins</td><td>FH-14365</td><td>2016</td><td>6.91</td></tr><tr><td>Fred Hopkins</td><td>FH-14365</td><td>2017</td><td>76.82</td></tr><tr><td>Filia Mc Adams</td><td>FM-14215</td><td>2014</td><td>228.77</td></tr><tr><td>Filia Mc Adams</td><td>FM-14215</td><td>2016</td><td>45.93</td></tr><tr><td>Filia Mc Adams</td><td>FM-14215</td><td>2017</td><td>-24.75</td></tr><tr><td>Frank Merwin</td><td>FM-14290</td><td>2014</td><td>22.98</td></tr><tr><td>Frank Merwin</td><td>FM-14290</td><td>2015</td><td>1.03</td></tr><tr><td>Frank Merwin</td><td>FM-14290</td><td>2016</td><td>-356.98</td></tr><tr><td>Frank Merwin</td><td>FM-14290</td><td>2017</td><td>530.86</td></tr><tr><td>Fred Mc Math</td><td>FM-14380</td><td>2015</td><td>17.48</td></tr><tr><td>Fred Mc Math</td><td>FM-14380</td><td>2016</td><td>134.91</td></tr><tr><td>Fred Mc Math</td><td>FM-14380</td><td>2017</td><td>38.7</td></tr><tr><td>Frank Olsen</td><td>FO-14305</td><td>2014</td><td>245.02</td></tr><tr><td>Frank Olsen</td><td>FO-14305</td><td>2015</td><td>18.99</td></tr><tr><td>Frank Olsen</td><td>FO-14305</td><td>2016</td><td>22.56</td></tr><tr><td>Frank Olsen</td><td>FO-14305</td><td>2017</td><td>-70.98</td></tr><tr><td>Frank Preis</td><td>FP-14320</td><td>2014</td><td>138.01</td></tr><tr><td>Frank Preis</td><td>FP-14320</td><td>2015</td><td>-140.57</td></tr><tr><td>Frank Preis</td><td>FP-14320</td><td>2016</td><td>359.7</td></tr><tr><td>Frank Preis</td><td>FP-14320</td><td>2017</td><td>49.32</td></tr><tr><td>Fred Waerman</td><td>FW-14395</td><td>2015</td><td>5.48</td></tr><tr><td>Fred Waerman</td><td>FW-14395</td><td>2016</td><td>12.21</td></tr><tr><td>Fred Waerman</td><td>FW-14395</td><td>2017</td><td>5.81</td></tr><tr><td>George Ashbrook</td><td>GA-14515</td><td>2014</td><td>22.41</td></tr><tr><td>George Ashbrook</td><td>GA-14515</td><td>2015</td><td>625.85</td></tr><tr><td>George Ashbrook</td><td>GA-14515</td><td>2016</td><td>53.56</td></tr><tr><td>George Ashbrook</td><td>GA-14515</td><td>2017</td><td>139.07</td></tr><tr><td>Guy Armstrong</td><td>GA-14725</td><td>2014</td><td>101.45</td></tr><tr><td>Guy Armstrong</td><td>GA-14725</td><td>2015</td><td>11.54</td></tr><tr><td>Guy Armstrong</td><td>GA-14725</td><td>2017</td><td>23.5</td></tr><tr><td>George Bell</td><td>GB-14530</td><td>2014</td><td>-33.19</td></tr><tr><td>George Bell</td><td>GB-14530</td><td>2015</td><td>74.29</td></tr><tr><td>George Bell</td><td>GB-14530</td><td>2016</td><td>-77.54</td></tr><tr><td>George Bell</td><td>GB-14530</td><td>2017</td><td>44.29</td></tr><tr><td>Giulietta Baptist</td><td>GB-14575</td><td>2015</td><td>767.6</td></tr><tr><td>Giulietta Baptist</td><td>GB-14575</td><td>2016</td><td>73.22</td></tr><tr><td>Giulietta Baptist</td><td>GB-14575</td><td>2017</td><td>295.02</td></tr><tr><td>Giulietta Dortch</td><td>GD-14590</td><td>2014</td><td>21.66</td></tr><tr><td>Giulietta Dortch</td><td>GD-14590</td><td>2016</td><td>-155.3</td></tr><tr><td>Giulietta Dortch</td><td>GD-14590</td><td>2017</td><td>364.24</td></tr><tr><td>Greg Guthrie</td><td>GG-14650</td><td>2014</td><td>122.55</td></tr><tr><td>Greg Guthrie</td><td>GG-14650</td><td>2015</td><td>-115.72</td></tr><tr><td>Greg Guthrie</td><td>GG-14650</td><td>2016</td><td>15.93</td></tr><tr><td>Greg Guthrie</td><td>GG-14650</td><td>2017</td><td>-10.07</td></tr><tr><td>Gary Hansen</td><td>GH-14410</td><td>2014</td><td>53.34</td></tr><tr><td>Gary Hansen</td><td>GH-14410</td><td>2015</td><td>38.97</td></tr><tr><td>Gary Hansen</td><td>GH-14410</td><td>2016</td><td>-173.08</td></tr><tr><td>Gary Hansen</td><td>GH-14410</td><td>2017</td><td>-496.24</td></tr><tr><td>Gary Hwang</td><td>GH-14425</td><td>2014</td><td>1073.14</td></tr><tr><td>Gary Hwang</td><td>GH-14425</td><td>2015</td><td>59.65</td></tr><tr><td>Gary Hwang</td><td>GH-14425</td><td>2017</td><td>43.6</td></tr><tr><td>Gene Hale</td><td>GH-14485</td><td>2015</td><td>-71.0</td></tr><tr><td>Gene Hale</td><td>GH-14485</td><td>2016</td><td>-24.49</td></tr><tr><td>Greg Hansen</td><td>GH-14665</td><td>2015</td><td>3.07</td></tr><tr><td>Greg Hansen</td><td>GH-14665</td><td>2017</td><td>-8.88</td></tr><tr><td>Grace Kelly</td><td>GK-14620</td><td>2014</td><td>42.92</td></tr><tr><td>Grace Kelly</td><td>GK-14620</td><td>2015</td><td>86.65</td></tr><tr><td>Grace Kelly</td><td>GK-14620</td><td>2016</td><td>1315.57</td></tr><tr><td>Grace Kelly</td><td>GK-14620</td><td>2017</td><td>3.45</td></tr><tr><td>Gary Mc Garr</td><td>GM-14440</td><td>2014</td><td>202.78</td></tr><tr><td>Gary Mc Garr</td><td>GM-14440</td><td>2016</td><td>108.18</td></tr><tr><td>Gary Mc Garr</td><td>GM-14440</td><td>2017</td><td>36.31</td></tr><tr><td>Gary Mitchum</td><td>GM-14455</td><td>2014</td><td>316.15</td></tr><tr><td>Gary Mitchum</td><td>GM-14455</td><td>2016</td><td>102.52</td></tr><tr><td>Gary Mitchum</td><td>GM-14455</td><td>2017</td><td>374.62</td></tr><tr><td>Gene Mc Clure</td><td>GM-14500</td><td>2014</td><td>2.69</td></tr><tr><td>Gene Mc Clure</td><td>GM-14500</td><td>2015</td><td>359.46</td></tr><tr><td>Gene Mc Clure</td><td>GM-14500</td><td>2016</td><td>17.57</td></tr><tr><td>Gene Mc Clure</td><td>GM-14500</td><td>2017</td><td>61.6</td></tr><tr><td>Greg Matthias</td><td>GM-14680</td><td>2014</td><td>214.53</td></tr><tr><td>Greg Matthias</td><td>GM-14680</td><td>2016</td><td>-121.94</td></tr><tr><td>Greg Matthias</td><td>GM-14680</td><td>2017</td><td>-57.12</td></tr><tr><td>Greg Maxwell</td><td>GM-14695</td><td>2014</td><td>112.28</td></tr><tr><td>Greg Maxwell</td><td>GM-14695</td><td>2016</td><td>175.36</td></tr><tr><td>Greg Maxwell</td><td>GM-14695</td><td>2017</td><td>-99.18</td></tr><tr><td>Guy Phonely</td><td>GP-14740</td><td>2014</td><td>-35.93</td></tr><tr><td>Guy Phonely</td><td>GP-14740</td><td>2015</td><td>67.77</td></tr><tr><td>Georgia Rosenberg</td><td>GR-14560</td><td>2014</td><td>359.88</td></tr><tr><td>Grant Thornton</td><td>GT-14635</td><td>2014</td><td>-292.19</td></tr><tr><td>Grant Thornton</td><td>GT-14635</td><td>2015</td><td>8.87</td></tr><tr><td>Grant Thornton</td><td>GT-14635</td><td>2017</td><td>-3825.34</td></tr><tr><td>Greg Tran</td><td>GT-14710</td><td>2014</td><td>738.65</td></tr><tr><td>Greg Tran</td><td>GT-14710</td><td>2015</td><td>974.31</td></tr><tr><td>Greg Tran</td><td>GT-14710</td><td>2016</td><td>366.71</td></tr><tr><td>Greg Tran</td><td>GT-14710</td><td>2017</td><td>83.62</td></tr><tr><td>Guy Thornton</td><td>GT-14755</td><td>2015</td><td>27.2</td></tr><tr><td>Guy Thornton</td><td>GT-14755</td><td>2016</td><td>6.3</td></tr><tr><td>Guy Thornton</td><td>GT-14755</td><td>2017</td><td>-39.64</td></tr><tr><td>Giulietta Weimer</td><td>GW-14605</td><td>2014</td><td>3.63</td></tr><tr><td>Giulietta Weimer</td><td>GW-14605</td><td>2015</td><td>134.33</td></tr><tr><td>Giulietta Weimer</td><td>GW-14605</td><td>2016</td><td>44.58</td></tr><tr><td>Giulietta Weimer</td><td>GW-14605</td><td>2017</td><td>-451.09</td></tr><tr><td>Gary Zandusky</td><td>GZ-14470</td><td>2014</td><td>50.43</td></tr><tr><td>Gary Zandusky</td><td>GZ-14470</td><td>2015</td><td>126.31</td></tr><tr><td>Gary Zandusky</td><td>GZ-14470</td><td>2016</td><td>652.32</td></tr><tr><td>Gary Zandusky</td><td>GZ-14470</td><td>2017</td><td>259.1</td></tr><tr><td>George Zrebassa</td><td>GZ-14545</td><td>2014</td><td>12.0</td></tr><tr><td>George Zrebassa</td><td>GZ-14545</td><td>2017</td><td>816.17</td></tr><tr><td>Helen Abelman</td><td>HA-14905</td><td>2014</td><td>108.8</td></tr><tr><td>Helen Abelman</td><td>HA-14905</td><td>2015</td><td>111.29</td></tr><tr><td>Helen Abelman</td><td>HA-14905</td><td>2016</td><td>129.77</td></tr><tr><td>Helen Abelman</td><td>HA-14905</td><td>2017</td><td>-79.0</td></tr><tr><td>Helen Andreada</td><td>HA-14920</td><td>2014</td><td>-57.04</td></tr><tr><td>Helen Andreada</td><td>HA-14920</td><td>2015</td><td>197.84</td></tr><tr><td>Helen Andreada</td><td>HA-14920</td><td>2016</td><td>-55.04</td></tr><tr><td>Helen Andreada</td><td>HA-14920</td><td>2017</td><td>12.71</td></tr><tr><td>Harold Dahlen</td><td>HD-14785</td><td>2014</td><td>-167.32</td></tr><tr><td>Harold Dahlen</td><td>HD-14785</td><td>2015</td><td>30.99</td></tr><tr><td>Harold Engle</td><td>HE-14800</td><td>2016</td><td>112.71</td></tr><tr><td>Harold Engle</td><td>HE-14800</td><td>2017</td><td>161.26</td></tr><tr><td>Herbert Flentye</td><td>HF-14995</td><td>2014</td><td>132.47</td></tr><tr><td>Herbert Flentye</td><td>HF-14995</td><td>2016</td><td>-167.31</td></tr><tr><td>Herbert Flentye</td><td>HF-14995</td><td>2017</td><td>20.49</td></tr><tr><td>Harry Greene</td><td>HG-14845</td><td>2014</td><td>21.6</td></tr><tr><td>Harry Greene</td><td>HG-14845</td><td>2015</td><td>-2.01</td></tr><tr><td>Harry Greene</td><td>HG-14845</td><td>2017</td><td>127.42</td></tr><tr><td>Henry Goldwyn</td><td>HG-14965</td><td>2014</td><td>2.45</td></tr><tr><td>Henry Goldwyn</td><td>HG-14965</td><td>2015</td><td>34.84</td></tr><tr><td>Henry Goldwyn</td><td>HG-14965</td><td>2016</td><td>136.14</td></tr><tr><td>Henry Goldwyn</td><td>HG-14965</td><td>2017</td><td>-2971.38</td></tr><tr><td>Hunter Glantz</td><td>HG-15025</td><td>2014</td><td>616.46</td></tr><tr><td>Hunter Glantz</td><td>HG-15025</td><td>2015</td><td>55.9</td></tr><tr><td>Hunter Glantz</td><td>HG-15025</td><td>2016</td><td>50.24</td></tr><tr><td>Hunter Glantz</td><td>HG-15025</td><td>2017</td><td>82.02</td></tr><tr><td>Hilary Holden</td><td>HH-15010</td><td>2014</td><td>60.27</td></tr><tr><td>Hilary Holden</td><td>HH-15010</td><td>2017</td><td>26.46</td></tr><tr><td>Heather Jas</td><td>HJ-14875</td><td>2015</td><td>28.71</td></tr><tr><td>Heather Jas</td><td>HJ-14875</td><td>2016</td><td>55.99</td></tr><tr><td>Heather Jas</td><td>HJ-14875</td><td>2017</td><td>13.97</td></tr><tr><td>Heather Kirkland</td><td>HK-14890</td><td>2014</td><td>240.86</td></tr><tr><td>Heather Kirkland</td><td>HK-14890</td><td>2015</td><td>300.07</td></tr><tr><td>Heather Kirkland</td><td>HK-14890</td><td>2016</td><td>17.03</td></tr><tr><td>Heather Kirkland</td><td>HK-14890</td><td>2017</td><td>399.01</td></tr><tr><td>Hunter Lopez</td><td>HL-15040</td><td>2014</td><td>448.03</td></tr><tr><td>Hunter Lopez</td><td>HL-15040</td><td>2016</td><td>128.54</td></tr><tr><td>Hunter Lopez</td><td>HL-15040</td><td>2017</td><td>5045.86</td></tr><tr><td>Harry Marie</td><td>HM-14860</td><td>2014</td><td>-79.13</td></tr><tr><td>Harry Marie</td><td>HM-14860</td><td>2015</td><td>2451.01</td></tr><tr><td>Harry Marie</td><td>HM-14860</td><td>2016</td><td>82.75</td></tr><tr><td>Harry Marie</td><td>HM-14860</td><td>2017</td><td>-16.56</td></tr><tr><td>Henry Mac Allister</td><td>HM-14980</td><td>2015</td><td>73.82</td></tr><tr><td>Henry Mac Allister</td><td>HM-14980</td><td>2016</td><td>1.73</td></tr><tr><td>Henry Mac Allister</td><td>HM-14980</td><td>2017</td><td>41.23</td></tr><tr><td>Harold Pawlan</td><td>HP-14815</td><td>2014</td><td>101.69</td></tr><tr><td>Harold Pawlan</td><td>HP-14815</td><td>2015</td><td>-21.7</td></tr><tr><td>Harold Pawlan</td><td>HP-14815</td><td>2017</td><td>293.88</td></tr><tr><td>Hallie Redmond</td><td>HR-14770</td><td>2014</td><td>1.6</td></tr><tr><td>Hallie Redmond</td><td>HR-14770</td><td>2015</td><td>48.12</td></tr><tr><td>Hallie Redmond</td><td>HR-14770</td><td>2017</td><td>135.68</td></tr><tr><td>Harold Ryan</td><td>HR-14830</td><td>2014</td><td>79.74</td></tr><tr><td>Harold Ryan</td><td>HR-14830</td><td>2015</td><td>116.94</td></tr><tr><td>Harold Ryan</td><td>HR-14830</td><td>2017</td><td>1000.69</td></tr><tr><td>Helen Waerman</td><td>HW-14935</td><td>2015</td><td>17.2</td></tr><tr><td>Helen Waerman</td><td>HW-14935</td><td>2016</td><td>200.27</td></tr><tr><td>Helen Waerman</td><td>HW-14935</td><td>2017</td><td>1946.7</td></tr><tr><td>Henia Zydlo</td><td>HZ-14950</td><td>2016</td><td>6.29</td></tr><tr><td>Henia Zydlo</td><td>HZ-14950</td><td>2017</td><td>-136.68</td></tr><tr><td>Ivan Gibson</td><td>IG-15085</td><td>2014</td><td>28.35</td></tr><tr><td>Ivan Gibson</td><td>IG-15085</td><td>2015</td><td>144.35</td></tr><tr><td>Ivan Gibson</td><td>IG-15085</td><td>2016</td><td>54.86</td></tr><tr><td>Ivan Gibson</td><td>IG-15085</td><td>2017</td><td>92.92</td></tr><tr><td>Ivan Liston</td><td>IL-15100</td><td>2014</td><td>6.91</td></tr><tr><td>Ivan Liston</td><td>IL-15100</td><td>2015</td><td>656.68</td></tr><tr><td>Ivan Liston</td><td>IL-15100</td><td>2016</td><td>19.56</td></tr><tr><td>Ivan Liston</td><td>IL-15100</td><td>2017</td><td>438.68</td></tr><tr><td>Ionia Mc Grath</td><td>IM-15055</td><td>2014</td><td>19.24</td></tr><tr><td>Ionia Mc Grath</td><td>IM-15055</td><td>2016</td><td>956.54</td></tr><tr><td>Irene Maddox</td><td>IM-15070</td><td>2014</td><td>240.6</td></tr><tr><td>Irene Maddox</td><td>IM-15070</td><td>2015</td><td>-55.7</td></tr><tr><td>Irene Maddox</td><td>IM-15070</td><td>2016</td><td>329.3</td></tr><tr><td>Joseph Airdo</td><td>JA-15970</td><td>2014</td><td>96.93</td></tr><tr><td>Joseph Airdo</td><td>JA-15970</td><td>2016</td><td>114.19</td></tr><tr><td>Joseph Airdo</td><td>JA-15970</td><td>2017</td><td>-1031.0</td></tr><tr><td>Jennifer Braxton</td><td>JB-15400</td><td>2014</td><td>-124.57</td></tr><tr><td>Jennifer Braxton</td><td>JB-15400</td><td>2015</td><td>128.05</td></tr><tr><td>Jennifer Braxton</td><td>JB-15400</td><td>2016</td><td>-98.62</td></tr><tr><td>Jennifer Braxton</td><td>JB-15400</td><td>2017</td><td>251.19</td></tr><tr><td>Joni Blumstein</td><td>JB-15925</td><td>2014</td><td>72.58</td></tr><tr><td>Joni Blumstein</td><td>JB-15925</td><td>2015</td><td>-359.56</td></tr><tr><td>Joy Bell</td><td>JB-16000</td><td>2016</td><td>15.97</td></tr><tr><td>Joy Bell</td><td>JB-16000</td><td>2017</td><td>111.09</td></tr><tr><td>Julia Barnett</td><td>JB-16045</td><td>2015</td><td>106.54</td></tr><tr><td>Julia Barnett</td><td>JB-16045</td><td>2016</td><td>84.97</td></tr><tr><td>Julia Barnett</td><td>JB-16045</td><td>2017</td><td>9.89</td></tr><tr><td>Jasper Cacioppo</td><td>JC-15340</td><td>2014</td><td>1.33</td></tr><tr><td>Jasper Cacioppo</td><td>JC-15340</td><td>2016</td><td>-4.08</td></tr><tr><td>Jasper Cacioppo</td><td>JC-15340</td><td>2017</td><td>2.4</td></tr><tr><td>Jenna Caffey</td><td>JC-15385</td><td>2017</td><td>502.93</td></tr><tr><td>John Castell</td><td>JC-15775</td><td>2014</td><td>64.08</td></tr><tr><td>John Castell</td><td>JC-15775</td><td>2015</td><td>27.63</td></tr><tr><td>John Castell</td><td>JC-15775</td><td>2016</td><td>70.55</td></tr><tr><td>John Castell</td><td>JC-15775</td><td>2017</td><td>117.31</td></tr><tr><td>Julie Creighton</td><td>JC-16105</td><td>2014</td><td>76.49</td></tr><tr><td>Julie Creighton</td><td>JC-16105</td><td>2015</td><td>62.81</td></tr><tr><td>Julie Creighton</td><td>JC-16105</td><td>2017</td><td>62.3</td></tr><tr><td>John Dryer</td><td>JD-15790</td><td>2015</td><td>-313.52</td></tr><tr><td>John Dryer</td><td>JD-15790</td><td>2016</td><td>36.47</td></tr><tr><td>John Dryer</td><td>JD-15790</td><td>2017</td><td>10.49</td></tr><tr><td>Jonathan Doherty</td><td>JD-15895</td><td>2014</td><td>-194.2</td></tr><tr><td>Jonathan Doherty</td><td>JD-15895</td><td>2015</td><td>64.82</td></tr><tr><td>Jonathan Doherty</td><td>JD-15895</td><td>2016</td><td>1179.82</td></tr><tr><td>Joy Daniels</td><td>JD-16015</td><td>2014</td><td>-10.34</td></tr><tr><td>Joy Daniels</td><td>JD-16015</td><td>2017</td><td>37.06</td></tr><tr><td>Julia Dunbar</td><td>JD-16060</td><td>2014</td><td>8.48</td></tr><tr><td>Julia Dunbar</td><td>JD-16060</td><td>2015</td><td>-29.25</td></tr><tr><td>Julia Dunbar</td><td>JD-16060</td><td>2017</td><td>131.89</td></tr><tr><td>Justin Deggeller</td><td>JD-16150</td><td>2014</td><td>17.56</td></tr><tr><td>Justin Deggeller</td><td>JD-16150</td><td>2015</td><td>212.64</td></tr><tr><td>Justin Deggeller</td><td>JD-16150</td><td>2016</td><td>272.2</td></tr><tr><td>Justin Deggeller</td><td>JD-16150</td><td>2017</td><td>1116.34</td></tr><tr><td>Jeremy Ellison</td><td>JE-15475</td><td>2015</td><td>57.22</td></tr><tr><td>Jeremy Ellison</td><td>JE-15475</td><td>2016</td><td>185.63</td></tr><tr><td>Jeremy Ellison</td><td>JE-15475</td><td>2017</td><td>33.6</td></tr><tr><td>Jim Epp</td><td>JE-15610</td><td>2014</td><td>27.19</td></tr><tr><td>Jim Epp</td><td>JE-15610</td><td>2015</td><td>-129.89</td></tr><tr><td>Jim Epp</td><td>JE-15610</td><td>2016</td><td>22.24</td></tr><tr><td>Jim Epp</td><td>JE-15610</td><td>2017</td><td>1703.57</td></tr><tr><td>Joe Elijah</td><td>JE-15715</td><td>2014</td><td>-59.8</td></tr><tr><td>Joe Elijah</td><td>JE-15715</td><td>2015</td><td>50.83</td></tr><tr><td>Joe Elijah</td><td>JE-15715</td><td>2016</td><td>1210.66</td></tr><tr><td>Joe Elijah</td><td>JE-15715</td><td>2017</td><td>60.42</td></tr><tr><td>Joel Eaton</td><td>JE-15745</td><td>2014</td><td>42.09</td></tr><tr><td>Joel Eaton</td><td>JE-15745</td><td>2015</td><td>-507.06</td></tr><tr><td>Joel Eaton</td><td>JE-15745</td><td>2016</td><td>126.62</td></tr><tr><td>Joel Eaton</td><td>JE-15745</td><td>2017</td><td>560.58</td></tr><tr><td>Justin Ellison</td><td>JE-16165</td><td>2016</td><td>776.35</td></tr><tr><td>Justin Ellison</td><td>JE-16165</td><td>2017</td><td>13.67</td></tr><tr><td>Jamie Frazer</td><td>JF-15190</td><td>2014</td><td>37.4</td></tr><tr><td>Jamie Frazer</td><td>JF-15190</td><td>2015</td><td>17.99</td></tr><tr><td>Jamie Frazer</td><td>JF-15190</td><td>2016</td><td>173.31</td></tr><tr><td>Jamie Frazer</td><td>JF-15190</td><td>2017</td><td>347.08</td></tr><tr><td>Jason Fortune</td><td>JF-15295</td><td>2014</td><td>47.35</td></tr><tr><td>Jason Fortune</td><td>JF-15295</td><td>2016</td><td>-9.88</td></tr><tr><td>Jason Fortune</td><td>JF-15295</td><td>2017</td><td>59.94</td></tr><tr><td>Jay Fein</td><td>JF-15355</td><td>2015</td><td>161.11</td></tr><tr><td>Jay Fein</td><td>JF-15355</td><td>2016</td><td>40.75</td></tr><tr><td>Jay Fein</td><td>JF-15355</td><td>2017</td><td>128.34</td></tr><tr><td>Jennifer Ferguson</td><td>JF-15415</td><td>2014</td><td>28.14</td></tr><tr><td>Jennifer Ferguson</td><td>JF-15415</td><td>2015</td><td>56.64</td></tr><tr><td>Jennifer Ferguson</td><td>JF-15415</td><td>2017</td><td>550.86</td></tr><tr><td>Jeremy Farry</td><td>JF-15490</td><td>2014</td><td>35.4</td></tr><tr><td>Jeremy Farry</td><td>JF-15490</td><td>2015</td><td>-103.54</td></tr><tr><td>Jeremy Farry</td><td>JF-15490</td><td>2016</td><td>13.11</td></tr><tr><td>Jeremy Farry</td><td>JF-15490</td><td>2017</td><td>36.98</td></tr><tr><td>Jill Fjeld</td><td>JF-15565</td><td>2014</td><td>78.55</td></tr><tr><td>Jill Fjeld</td><td>JF-15565</td><td>2015</td><td>147.35</td></tr><tr><td>Jill Fjeld</td><td>JF-15565</td><td>2016</td><td>849.66</td></tr><tr><td>Jill Fjeld</td><td>JF-15565</td><td>2017</td><td>-1.49</td></tr><tr><td>Jack Garza</td><td>JG-15115</td><td>2014</td><td>734.7</td></tr><tr><td>Jack Garza</td><td>JG-15115</td><td>2015</td><td>-50.17</td></tr><tr><td>James Galang</td><td>JG-15160</td><td>2014</td><td>378.39</td></tr><tr><td>James Galang</td><td>JG-15160</td><td>2015</td><td>736.76</td></tr><tr><td>James Galang</td><td>JG-15160</td><td>2016</td><td>230.36</td></tr><tr><td>James Galang</td><td>JG-15160</td><td>2017</td><td>69.85</td></tr><tr><td>Jason Gross</td><td>JG-15310</td><td>2016</td><td>-22.93</td></tr><tr><td>Jason Gross</td><td>JG-15310</td><td>2017</td><td>26.52</td></tr><tr><td>John Grady</td><td>JG-15805</td><td>2014</td><td>28.26</td></tr><tr><td>John Grady</td><td>JG-15805</td><td>2015</td><td>8.69</td></tr><tr><td>John Grady</td><td>JG-15805</td><td>2016</td><td>91.13</td></tr><tr><td>John Grady</td><td>JG-15805</td><td>2017</td><td>78.02</td></tr><tr><td>Jennifer Halladay</td><td>JH-15430</td><td>2014</td><td>18.79</td></tr><tr><td>Jennifer Halladay</td><td>JH-15430</td><td>2017</td><td>-42.85</td></tr><tr><td>John Huston</td><td>JH-15820</td><td>2014</td><td>26.41</td></tr><tr><td>John Huston</td><td>JH-15820</td><td>2015</td><td>19.6</td></tr><tr><td>John Huston</td><td>JH-15820</td><td>2017</td><td>-19.94</td></tr><tr><td>Jonathan Howell</td><td>JH-15910</td><td>2015</td><td>48.66</td></tr><tr><td>Jonathan Howell</td><td>JH-15910</td><td>2016</td><td>63.17</td></tr><tr><td>Jonathan Howell</td><td>JH-15910</td><td>2017</td><td>-125.38</td></tr><tr><td>Joseph Holt</td><td>JH-15985</td><td>2014</td><td>644.0</td></tr><tr><td>Joseph Holt</td><td>JH-15985</td><td>2015</td><td>-1429.38</td></tr><tr><td>Joseph Holt</td><td>JH-15985</td><td>2016</td><td>72.03</td></tr><tr><td>Joseph Holt</td><td>JH-15985</td><td>2017</td><td>68.87</td></tr><tr><td>Justin Hirsh</td><td>JH-16180</td><td>2015</td><td>106.41</td></tr><tr><td>Justin Hirsh</td><td>JH-16180</td><td>2016</td><td>-203.37</td></tr><tr><td>Jennifer Jackson</td><td>JJ-15445</td><td>2015</td><td>181.85</td></tr><tr><td>Jennifer Jackson</td><td>JJ-15445</td><td>2016</td><td>18.71</td></tr><tr><td>Joel Jenkins</td><td>JJ-15760</td><td>2015</td><td>34.46</td></tr><tr><td>Jamie Kunitz</td><td>JK-15205</td><td>2014</td><td>47.81</td></tr><tr><td>Jamie Kunitz</td><td>JK-15205</td><td>2015</td><td>615.03</td></tr><tr><td>Jamie Kunitz</td><td>JK-15205</td><td>2016</td><td>1.03</td></tr><tr><td>Jamie Kunitz</td><td>JK-15205</td><td>2017</td><td>557.69</td></tr><tr><td>Jason Klamczynski</td><td>JK-15325</td><td>2014</td><td>17.55</td></tr><tr><td>Jason Klamczynski</td><td>JK-15325</td><td>2016</td><td>11.68</td></tr><tr><td>Jason Klamczynski</td><td>JK-15325</td><td>2017</td><td>26.35</td></tr><tr><td>Jay Kimmel</td><td>JK-15370</td><td>2014</td><td>129.54</td></tr><tr><td>Jay Kimmel</td><td>JK-15370</td><td>2015</td><td>37.34</td></tr><tr><td>Jay Kimmel</td><td>JK-15370</td><td>2016</td><td>83.5</td></tr><tr><td>Jay Kimmel</td><td>JK-15370</td><td>2017</td><td>79.47</td></tr><tr><td>Jim Karlsson</td><td>JK-15625</td><td>2014</td><td>303.87</td></tr><tr><td>Jim Karlsson</td><td>JK-15625</td><td>2015</td><td>438.0</td></tr><tr><td>Jim Karlsson</td><td>JK-15625</td><td>2017</td><td>8.86</td></tr><tr><td>Jim Kriz</td><td>JK-15640</td><td>2014</td><td>10.19</td></tr><tr><td>Jim Kriz</td><td>JK-15640</td><td>2015</td><td>181.04</td></tr><tr><td>Jim Kriz</td><td>JK-15640</td><td>2017</td><td>981.67</td></tr><tr><td>Joe Kamberova</td><td>JK-15730</td><td>2014</td><td>-212.61</td></tr><tr><td>Joe Kamberova</td><td>JK-15730</td><td>2015</td><td>42.08</td></tr><tr><td>Joe Kamberova</td><td>JK-15730</td><td>2016</td><td>194.58</td></tr><tr><td>Joe Kamberova</td><td>JK-15730</td><td>2017</td><td>30.95</td></tr><tr><td>Juliana Krohn</td><td>JK-16090</td><td>2015</td><td>228.9</td></tr><tr><td>Juliana Krohn</td><td>JK-16090</td><td>2017</td><td>357.77</td></tr><tr><td>Julie Kriz</td><td>JK-16120</td><td>2014</td><td>239.98</td></tr><tr><td>Julie Kriz</td><td>JK-16120</td><td>2015</td><td>47.93</td></tr><tr><td>Julie Kriz</td><td>JK-16120</td><td>2016</td><td>108.52</td></tr><tr><td>Julie Kriz</td><td>JK-16120</td><td>2017</td><td>-273.77</td></tr><tr><td>Jack Lebron</td><td>JL-15130</td><td>2014</td><td>9.87</td></tr><tr><td>Jack Lebron</td><td>JL-15130</td><td>2016</td><td>1.39</td></tr><tr><td>Jack Lebron</td><td>JL-15130</td><td>2017</td><td>-218.57</td></tr><tr><td>James Lanier</td><td>JL-15175</td><td>2014</td><td>59.49</td></tr><tr><td>James Lanier</td><td>JL-15175</td><td>2015</td><td>41.14</td></tr><tr><td>James Lanier</td><td>JL-15175</td><td>2016</td><td>-2.0</td></tr><tr><td>James Lanier</td><td>JL-15175</td><td>2017</td><td>110.48</td></tr><tr><td>Janet Lee</td><td>JL-15235</td><td>2014</td><td>-190.51</td></tr><tr><td>Janet Lee</td><td>JL-15235</td><td>2015</td><td>53.47</td></tr><tr><td>Janet Lee</td><td>JL-15235</td><td>2016</td><td>103.36</td></tr><tr><td>Janet Lee</td><td>JL-15235</td><td>2017</td><td>88.19</td></tr><tr><td>Jeremy Lonsdale</td><td>JL-15505</td><td>2014</td><td>41.27</td></tr><tr><td>Jeremy Lonsdale</td><td>JL-15505</td><td>2016</td><td>21.75</td></tr><tr><td>Jeremy Lonsdale</td><td>JL-15505</td><td>2017</td><td>529.02</td></tr><tr><td>John Lee</td><td>JL-15835</td><td>2014</td><td>-863.93</td></tr><tr><td>John Lee</td><td>JL-15835</td><td>2015</td><td>252.43</td></tr><tr><td>John Lee</td><td>JL-15835</td><td>2016</td><td>2.8</td></tr><tr><td>John Lee</td><td>JL-15835</td><td>2017</td><td>837.23</td></tr><tr><td>John Lucas</td><td>JL-15850</td><td>2014</td><td>1.33</td></tr><tr><td>John Lucas</td><td>JL-15850</td><td>2015</td><td>816.52</td></tr><tr><td>John Lucas</td><td>JL-15850</td><td>2016</td><td>-37.95</td></tr><tr><td>Janet Martin</td><td>JM-15250</td><td>2016</td><td>155.23</td></tr><tr><td>Janet Martin</td><td>JM-15250</td><td>2017</td><td>-135.65</td></tr><tr><td>Janet Molinari</td><td>JM-15265</td><td>2014</td><td>59.06</td></tr><tr><td>Janet Molinari</td><td>JM-15265</td><td>2015</td><td>-11.9</td></tr><tr><td>Janet Molinari</td><td>JM-15265</td><td>2016</td><td>306.55</td></tr><tr><td>Janet Molinari</td><td>JM-15265</td><td>2017</td><td>149.28</td></tr><tr><td>Jessica Myrick</td><td>JM-15535</td><td>2014</td><td>58.99</td></tr><tr><td>Jessica Myrick</td><td>JM-15535</td><td>2015</td><td>46.85</td></tr><tr><td>Jessica Myrick</td><td>JM-15535</td><td>2016</td><td>232.13</td></tr><tr><td>Jessica Myrick</td><td>JM-15535</td><td>2017</td><td>18.56</td></tr><tr><td>Jill Matthias</td><td>JM-15580</td><td>2016</td><td>113.72</td></tr><tr><td>Jill Matthias</td><td>JM-15580</td><td>2017</td><td>-0.6</td></tr><tr><td>Jim Mitchum</td><td>JM-15655</td><td>2014</td><td>7.72</td></tr><tr><td>Jim Mitchum</td><td>JM-15655</td><td>2016</td><td>65.9</td></tr><tr><td>Jim Mitchum</td><td>JM-15655</td><td>2017</td><td>43.58</td></tr><tr><td>John Murray</td><td>JM-15865</td><td>2014</td><td>1228.18</td></tr><tr><td>John Murray</td><td>JM-15865</td><td>2015</td><td>371.88</td></tr><tr><td>John Murray</td><td>JM-15865</td><td>2016</td><td>-49.62</td></tr><tr><td>John Murray</td><td>JM-15865</td><td>2017</td><td>24.63</td></tr><tr><td>Justin Mac Kendrick</td><td>JM-16195</td><td>2014</td><td>273.4</td></tr><tr><td>Justin Mac Kendrick</td><td>JM-16195</td><td>2015</td><td>221.33</td></tr><tr><td>Justin Mac Kendrick</td><td>JM-16195</td><td>2016</td><td>23.86</td></tr><tr><td>Justin Mac Kendrick</td><td>JM-16195</td><td>2017</td><td>235.11</td></tr><tr><td>Jack O Briant</td><td>JO-15145</td><td>2014</td><td>101.03</td></tr><tr><td>Jack O Briant</td><td>JO-15145</td><td>2016</td><td>440.01</td></tr><tr><td>Jack O Briant</td><td>JO-15145</td><td>2017</td><td>40.4</td></tr><tr><td>Jas O Carroll</td><td>JO-15280</td><td>2014</td><td>0.97</td></tr><tr><td>Jas O Carroll</td><td>JO-15280</td><td>2015</td><td>203.94</td></tr><tr><td>Jas O Carroll</td><td>JO-15280</td><td>2016</td><td>51.21</td></tr><tr><td>Jas O Carroll</td><td>JO-15280</td><td>2017</td><td>-54.88</td></tr><tr><td>Jesus Ocampo</td><td>JO-15550</td><td>2015</td><td>153.91</td></tr><tr><td>Jesus Ocampo</td><td>JO-15550</td><td>2017</td><td>13.22</td></tr><tr><td>Jennifer Patt</td><td>JP-15460</td><td>2014</td><td>10.81</td></tr><tr><td>Jennifer Patt</td><td>JP-15460</td><td>2015</td><td>100.93</td></tr><tr><td>Jennifer Patt</td><td>JP-15460</td><td>2016</td><td>307.34</td></tr><tr><td>Jennifer Patt</td><td>JP-15460</td><td>2017</td><td>10.66</td></tr><tr><td>Jeremy Pistek</td><td>JP-15520</td><td>2014</td><td>199.41</td></tr><tr><td>Jeremy Pistek</td><td>JP-15520</td><td>2015</td><td>5.01</td></tr><tr><td>Jeremy Pistek</td><td>JP-15520</td><td>2016</td><td>130.51</td></tr><tr><td>Jeremy Pistek</td><td>JP-15520</td><td>2017</td><td>422.26</td></tr><tr><td>Julie Prescott</td><td>JP-16135</td><td>2014</td><td>6.92</td></tr><tr><td>Julie Prescott</td><td>JP-16135</td><td>2015</td><td>7.43</td></tr><tr><td>Julie Prescott</td><td>JP-16135</td><td>2016</td><td>275.44</td></tr><tr><td>Julie Prescott</td><td>JP-16135</td><td>2017</td><td>19.51</td></tr><tr><td>Jim Radford</td><td>JR-15670</td><td>2015</td><td>-785.16</td></tr><tr><td>Jim Radford</td><td>JR-15670</td><td>2016</td><td>0.0</td></tr><tr><td>Jocasta Rupert</td><td>JR-15700</td><td>2017</td><td>107.99</td></tr><tr><td>Justin Ritter</td><td>JR-16210</td><td>2015</td><td>152.39</td></tr><tr><td>Justin Ritter</td><td>JR-16210</td><td>2016</td><td>44.21</td></tr><tr><td>Justin Ritter</td><td>JR-16210</td><td>2017</td><td>255.77</td></tr><tr><td>Ji Stevenson</td><td>JS-15595</td><td>2014</td><td>-204.14</td></tr><tr><td>Ji Stevenson</td><td>JS-15595</td><td>2015</td><td>4.53</td></tr><tr><td>Ji Stevenson</td><td>JS-15595</td><td>2016</td><td>78.4</td></tr><tr><td>Ji Stevenson</td><td>JS-15595</td><td>2017</td><td>-53.73</td></tr><tr><td>Jim Sink</td><td>JS-15685</td><td>2016</td><td>-99.99</td></tr><tr><td>Jim Sink</td><td>JS-15685</td><td>2017</td><td>45.13</td></tr><tr><td>John Stevenson</td><td>JS-15880</td><td>2014</td><td>-94.66</td></tr><tr><td>John Stevenson</td><td>JS-15880</td><td>2015</td><td>392.89</td></tr><tr><td>John Stevenson</td><td>JS-15880</td><td>2016</td><td>266.74</td></tr><tr><td>Joni Sundaresam</td><td>JS-15940</td><td>2014</td><td>2.87</td></tr><tr><td>Joni Sundaresam</td><td>JS-15940</td><td>2015</td><td>-312.06</td></tr><tr><td>Joni Sundaresam</td><td>JS-15940</td><td>2016</td><td>-18.74</td></tr><tr><td>Joy Smith</td><td>JS-16030</td><td>2014</td><td>3.4</td></tr><tr><td>Joy Smith</td><td>JS-16030</td><td>2016</td><td>451.92</td></tr><tr><td>Joy Smith</td><td>JS-16030</td><td>2017</td><td>-766.57</td></tr><tr><td>Jane Waco</td><td>JW-15220</td><td>2015</td><td>89.2</td></tr><tr><td>Jane Waco</td><td>JW-15220</td><td>2016</td><td>131.25</td></tr><tr><td>Jane Waco</td><td>JW-15220</td><td>2017</td><td>1953.6</td></tr><tr><td>Joni Waerman</td><td>JW-15955</td><td>2015</td><td>-201.65</td></tr><tr><td>Joni Waerman</td><td>JW-15955</td><td>2016</td><td>1.2</td></tr><tr><td>Joni Waerman</td><td>JW-15955</td><td>2017</td><td>170.87</td></tr><tr><td>Julia West</td><td>JW-16075</td><td>2015</td><td>133.51</td></tr><tr><td>Julia West</td><td>JW-16075</td><td>2016</td><td>20.38</td></tr><tr><td>Kelly Andreada</td><td>KA-16525</td><td>2014</td><td>49.01</td></tr><tr><td>Kelly Andreada</td><td>KA-16525</td><td>2015</td><td>77.97</td></tr><tr><td>Kelly Andreada</td><td>KA-16525</td><td>2016</td><td>67.44</td></tr><tr><td>Kelly Andreada</td><td>KA-16525</td><td>2017</td><td>39.94</td></tr><tr><td>Karen Bern</td><td>KB-16240</td><td>2014</td><td>-1.0</td></tr><tr><td>Karen Bern</td><td>KB-16240</td><td>2015</td><td>19.85</td></tr><tr><td>Karen Bern</td><td>KB-16240</td><td>2016</td><td>-18.18</td></tr><tr><td>Karen Bern</td><td>KB-16240</td><td>2017</td><td>763.56</td></tr><tr><td>Karl Braun</td><td>KB-16315</td><td>2014</td><td>-29.74</td></tr><tr><td>Karl Braun</td><td>KB-16315</td><td>2015</td><td>-18.21</td></tr><tr><td>Karl Braun</td><td>KB-16315</td><td>2016</td><td>27.53</td></tr><tr><td>Karl Braun</td><td>KB-16315</td><td>2017</td><td>69.64</td></tr><tr><td>Katrina Bavinger</td><td>KB-16405</td><td>2015</td><td>42.96</td></tr><tr><td>Katrina Bavinger</td><td>KB-16405</td><td>2017</td><td>230.9</td></tr><tr><td>Ken Black</td><td>KB-16585</td><td>2014</td><td>175.16</td></tr><tr><td>Ken Black</td><td>KB-16585</td><td>2015</td><td>66.42</td></tr><tr><td>Ken Black</td><td>KB-16585</td><td>2016</td><td>96.32</td></tr><tr><td>Ken Black</td><td>KB-16585</td><td>2017</td><td>240.99</td></tr><tr><td>Ken Brennan</td><td>KB-16600</td><td>2014</td><td>2.85</td></tr><tr><td>Ken Brennan</td><td>KB-16600</td><td>2015</td><td>17.0</td></tr><tr><td>Ken Brennan</td><td>KB-16600</td><td>2016</td><td>14.62</td></tr><tr><td>Ken Brennan</td><td>KB-16600</td><td>2017</td><td>259.43</td></tr><tr><td>Karen Carlisle</td><td>KC-16255</td><td>2014</td><td>43.06</td></tr><tr><td>Karen Carlisle</td><td>KC-16255</td><td>2015</td><td>279.99</td></tr><tr><td>Karen Carlisle</td><td>KC-16255</td><td>2016</td><td>523.09</td></tr><tr><td>Kelly Collister</td><td>KC-16540</td><td>2015</td><td>49.27</td></tr><tr><td>Kelly Collister</td><td>KC-16540</td><td>2016</td><td>635.68</td></tr><tr><td>Kelly Collister</td><td>KC-16540</td><td>2017</td><td>24.48</td></tr><tr><td>Kimberly Carter</td><td>KC-16675</td><td>2014</td><td>5.82</td></tr><tr><td>Kimberly Carter</td><td>KC-16675</td><td>2016</td><td>-4.95</td></tr><tr><td>Kimberly Carter</td><td>KC-16675</td><td>2017</td><td>156.37</td></tr><tr><td>Karen Danels</td><td>KD-16270</td><td>2014</td><td>-1340.6</td></tr><tr><td>Karen Danels</td><td>KD-16270</td><td>2015</td><td>129.49</td></tr><tr><td>Karen Danels</td><td>KD-16270</td><td>2016</td><td>2318.71</td></tr><tr><td>Katherine Ducich</td><td>KD-16345</td><td>2014</td><td>64.7</td></tr><tr><td>Katherine Ducich</td><td>KD-16345</td><td>2015</td><td>243.53</td></tr><tr><td>Katherine Ducich</td><td>KD-16345</td><td>2017</td><td>20.36</td></tr><tr><td>Keith Dawkins</td><td>KD-16495</td><td>2014</td><td>35.02</td></tr><tr><td>Keith Dawkins</td><td>KD-16495</td><td>2015</td><td>2810.35</td></tr><tr><td>Keith Dawkins</td><td>KD-16495</td><td>2016</td><td>58.72</td></tr><tr><td>Keith Dawkins</td><td>KD-16495</td><td>2017</td><td>134.84</td></tr><tr><td>Na N</td><td>KD-16615</td><td>2015</td><td>272.58</td></tr><tr><td>Na N</td><td>KD-16615</td><td>2016</td><td>68.22</td></tr><tr><td>Na N</td><td>KD-16615</td><td>2017</td><td>198.92</td></tr><tr><td>Katrina Edelman</td><td>KE-16420</td><td>2014</td><td>161.63</td></tr><tr><td>Katrina Edelman</td><td>KE-16420</td><td>2015</td><td>235.64</td></tr><tr><td>Katrina Edelman</td><td>KE-16420</td><td>2016</td><td>19.0</td></tr><tr><td>Katrina Edelman</td><td>KE-16420</td><td>2017</td><td>-18.38</td></tr><tr><td>Karen Ferguson</td><td>KF-16285</td><td>2014</td><td>82.52</td></tr><tr><td>Karen Ferguson</td><td>KF-16285</td><td>2016</td><td>371.05</td></tr><tr><td>Karen Ferguson</td><td>KF-16285</td><td>2017</td><td>1206.84</td></tr><tr><td>Katharine Harms</td><td>KH-16330</td><td>2014</td><td>261.33</td></tr><tr><td>Katharine Harms</td><td>KH-16330</td><td>2016</td><td>43.9</td></tr><tr><td>Katharine Harms</td><td>KH-16330</td><td>2017</td><td>150.46</td></tr><tr><td>Katherine Hughes</td><td>KH-16360</td><td>2014</td><td>-32.05</td></tr><tr><td>Katherine Hughes</td><td>KH-16360</td><td>2016</td><td>57.83</td></tr><tr><td>Katherine Hughes</td><td>KH-16360</td><td>2017</td><td>502.51</td></tr><tr><td>Keith Herrera</td><td>KH-16510</td><td>2014</td><td>-2.74</td></tr><tr><td>Keith Herrera</td><td>KH-16510</td><td>2015</td><td>227.57</td></tr><tr><td>Keith Herrera</td><td>KH-16510</td><td>2017</td><td>431.29</td></tr><tr><td>Ken Heidel</td><td>KH-16630</td><td>2014</td><td>128.43</td></tr><tr><td>Ken Heidel</td><td>KH-16630</td><td>2015</td><td>501.54</td></tr><tr><td>Ken Heidel</td><td>KH-16630</td><td>2016</td><td>30.61</td></tr><tr><td>Ken Heidel</td><td>KH-16630</td><td>2017</td><td>66.93</td></tr><tr><td>Kristen Hastings</td><td>KH-16690</td><td>2014</td><td>1038.59</td></tr><tr><td>Kristen Hastings</td><td>KH-16690</td><td>2015</td><td>-36.13</td></tr><tr><td>Kristen Hastings</td><td>KH-16690</td><td>2016</td><td>7.18</td></tr><tr><td>Kristen Hastings</td><td>KH-16690</td><td>2017</td><td>217.49</td></tr><tr><td>Kelly Lampkin</td><td>KL-16555</td><td>2014</td><td>-69.25</td></tr><tr><td>Kelly Lampkin</td><td>KL-16555</td><td>2016</td><td>50.12</td></tr><tr><td>Kelly Lampkin</td><td>KL-16555</td><td>2017</td><td>-163.66</td></tr><tr><td>Ken Lonsdale</td><td>KL-16645</td><td>2014</td><td>395.6</td></tr><tr><td>Ken Lonsdale</td><td>KL-16645</td><td>2015</td><td>252.53</td></tr><tr><td>Ken Lonsdale</td><td>KL-16645</td><td>2016</td><td>-3.35</td></tr><tr><td>Ken Lonsdale</td><td>KL-16645</td><td>2017</td><td>161.72</td></tr><tr><td>Kalyca Meade</td><td>KM-16225</td><td>2015</td><td>450.16</td></tr><tr><td>Kalyca Meade</td><td>KM-16225</td><td>2016</td><td>56.34</td></tr><tr><td>Kalyca Meade</td><td>KM-16225</td><td>2017</td><td>128.93</td></tr><tr><td>Katherine Murray</td><td>KM-16375</td><td>2014</td><td>955.86</td></tr><tr><td>Katherine Murray</td><td>KM-16375</td><td>2015</td><td>29.31</td></tr><tr><td>Katherine Murray</td><td>KM-16375</td><td>2016</td><td>128.9</td></tr><tr><td>Katherine Murray</td><td>KM-16375</td><td>2017</td><td>-140.7</td></tr><tr><td>Khloe Miller</td><td>KM-16660</td><td>2014</td><td>3.0</td></tr><tr><td>Khloe Miller</td><td>KM-16660</td><td>2015</td><td>34.35</td></tr><tr><td>Khloe Miller</td><td>KM-16660</td><td>2016</td><td>11.83</td></tr><tr><td>Khloe Miller</td><td>KM-16660</td><td>2017</td><td>41.49</td></tr><tr><td>Kunst Miller</td><td>KM-16720</td><td>2014</td><td>213.7</td></tr><tr><td>Kunst Miller</td><td>KM-16720</td><td>2015</td><td>112.1</td></tr><tr><td>Kunst Miller</td><td>KM-16720</td><td>2016</td><td>54.92</td></tr><tr><td>Kunst Miller</td><td>KM-16720</td><td>2017</td><td>364.68</td></tr><tr><td>Katherine Nockton</td><td>KN-16390</td><td>2014</td><td>29.95</td></tr><tr><td>Katherine Nockton</td><td>KN-16390</td><td>2015</td><td>-191.36</td></tr><tr><td>Katherine Nockton</td><td>KN-16390</td><td>2017</td><td>10.26</td></tr><tr><td>Kean Nguyen</td><td>KN-16450</td><td>2014</td><td>119.98</td></tr><tr><td>Kean Nguyen</td><td>KN-16450</td><td>2015</td><td>-118.58</td></tr><tr><td>Kean Nguyen</td><td>KN-16450</td><td>2017</td><td>112.42</td></tr><tr><td>Kristina Nunn</td><td>KN-16705</td><td>2014</td><td>186.0</td></tr><tr><td>Kristina Nunn</td><td>KN-16705</td><td>2015</td><td>-183.11</td></tr><tr><td>Kristina Nunn</td><td>KN-16705</td><td>2016</td><td>25.0</td></tr><tr><td>Kristina Nunn</td><td>KN-16705</td><td>2017</td><td>301.88</td></tr><tr><td>Karen Seio</td><td>KS-16300</td><td>2015</td><td>6.49</td></tr><tr><td>Karen Seio</td><td>KS-16300</td><td>2017</td><td>-6.38</td></tr><tr><td>Kean Takahito</td><td>KT-16465</td><td>2014</td><td>68.8</td></tr><tr><td>Kean Takahito</td><td>KT-16465</td><td>2015</td><td>28.81</td></tr><tr><td>Kean Takahito</td><td>KT-16465</td><td>2016</td><td>156.14</td></tr><tr><td>Kean Thornton</td><td>KT-16480</td><td>2014</td><td>103.44</td></tr><tr><td>Kean Thornton</td><td>KT-16480</td><td>2015</td><td>36.7</td></tr><tr><td>Kean Thornton</td><td>KT-16480</td><td>2016</td><td>19.61</td></tr><tr><td>Kean Thornton</td><td>KT-16480</td><td>2017</td><td>34.32</td></tr><tr><td>Katrina Willman</td><td>KW-16435</td><td>2015</td><td>1600.85</td></tr><tr><td>Katrina Willman</td><td>KW-16435</td><td>2016</td><td>32.16</td></tr><tr><td>Katrina Willman</td><td>KW-16435</td><td>2017</td><td>123.13</td></tr><tr><td>Kelly Williams</td><td>KW-16570</td><td>2014</td><td>11.25</td></tr><tr><td>Kelly Williams</td><td>KW-16570</td><td>2015</td><td>97.14</td></tr><tr><td>Laura Armstrong</td><td>LA-16780</td><td>2014</td><td>482.57</td></tr><tr><td>Laura Armstrong</td><td>LA-16780</td><td>2015</td><td>-0.12</td></tr><tr><td>Laura Armstrong</td><td>LA-16780</td><td>2016</td><td>1526.67</td></tr><tr><td>Laura Armstrong</td><td>LA-16780</td><td>2017</td><td>16.07</td></tr><tr><td>Larry Blacks</td><td>LB-16735</td><td>2016</td><td>10.74</td></tr><tr><td>Larry Blacks</td><td>LB-16735</td><td>2017</td><td>7.91</td></tr><tr><td>Laurel Beltran</td><td>LB-16795</td><td>2014</td><td>-21.36</td></tr><tr><td>Laurel Beltran</td><td>LB-16795</td><td>2016</td><td>-658.62</td></tr><tr><td>Laurel Beltran</td><td>LB-16795</td><td>2017</td><td>627.99</td></tr><tr><td>Na N</td><td>LC-16870</td><td>2015</td><td>107.63</td></tr><tr><td>Na N</td><td>LC-16870</td><td>2016</td><td>-291.75</td></tr><tr><td>Na N</td><td>LC-16870</td><td>2017</td><td>-3.9</td></tr><tr><td>Lena Creighton</td><td>LC-16885</td><td>2014</td><td>201.07</td></tr><tr><td>Lena Creighton</td><td>LC-16885</td><td>2015</td><td>1007.76</td></tr><tr><td>Lena Creighton</td><td>LC-16885</td><td>2016</td><td>147.88</td></tr><tr><td>Lena Creighton</td><td>LC-16885</td><td>2017</td><td>-67.97</td></tr><tr><td>Linda Cazamias</td><td>LC-16930</td><td>2014</td><td>29.34</td></tr><tr><td>Linda Cazamias</td><td>LC-16930</td><td>2016</td><td>246.91</td></tr><tr><td>Linda Cazamias</td><td>LC-16930</td><td>2017</td><td>12.04</td></tr><tr><td>Lindsay Castell</td><td>LC-16960</td><td>2015</td><td>278.2</td></tr><tr><td>Lindsay Castell</td><td>LC-16960</td><td>2016</td><td>21.27</td></tr><tr><td>Liz Carlisle</td><td>LC-17050</td><td>2014</td><td>-128.09</td></tr><tr><td>Liz Carlisle</td><td>LC-17050</td><td>2016</td><td>225.26</td></tr><tr><td>Liz Carlisle</td><td>LC-17050</td><td>2017</td><td>-10.4</td></tr><tr><td>Logan Currie</td><td>LC-17140</td><td>2014</td><td>-26.6</td></tr><tr><td>Logan Currie</td><td>LC-17140</td><td>2015</td><td>19.4</td></tr><tr><td>Logan Currie</td><td>LC-17140</td><td>2016</td><td>235.33</td></tr><tr><td>Logan Currie</td><td>LC-17140</td><td>2017</td><td>2.4</td></tr><tr><td>Lela Donovan</td><td>LD-16855</td><td>2016</td><td>0.46</td></tr><tr><td>Lisa De Cherney</td><td>LD-17005</td><td>2014</td><td>445.51</td></tr><tr><td>Lisa De Cherney</td><td>LD-17005</td><td>2016</td><td>111.26</td></tr><tr><td>Laurel Elliston</td><td>LE-16810</td><td>2014</td><td>-12.84</td></tr><tr><td>Laurel Elliston</td><td>LE-16810</td><td>2015</td><td>5.08</td></tr><tr><td>Laurel Elliston</td><td>LE-16810</td><td>2016</td><td>179.75</td></tr><tr><td>Laurel Elliston</td><td>LE-16810</td><td>2017</td><td>-10.24</td></tr><tr><td>Luke Foster</td><td>LF-17185</td><td>2014</td><td>-3802.08</td></tr><tr><td>Luke Foster</td><td>LF-17185</td><td>2015</td><td>146.21</td></tr><tr><td>Luke Foster</td><td>LF-17185</td><td>2016</td><td>0.72</td></tr><tr><td>Luke Foster</td><td>LF-17185</td><td>2017</td><td>71.54</td></tr><tr><td>Larry Hughes</td><td>LH-16750</td><td>2014</td><td>-5.04</td></tr><tr><td>Larry Hughes</td><td>LH-16750</td><td>2017</td><td>17.67</td></tr><tr><td>Lena Hernandez</td><td>LH-16900</td><td>2014</td><td>282.09</td></tr><tr><td>Lena Hernandez</td><td>LH-16900</td><td>2015</td><td>121.11</td></tr><tr><td>Lena Hernandez</td><td>LH-16900</td><td>2016</td><td>56.7</td></tr><tr><td>Lena Hernandez</td><td>LH-16900</td><td>2017</td><td>65.22</td></tr><tr><td>Lisa Hazard</td><td>LH-17020</td><td>2014</td><td>-79.34</td></tr><tr><td>Lisa Hazard</td><td>LH-17020</td><td>2015</td><td>-27.0</td></tr><tr><td>Lisa Hazard</td><td>LH-17020</td><td>2016</td><td>16.46</td></tr><tr><td>Lisa Hazard</td><td>LH-17020</td><td>2017</td><td>-152.87</td></tr><tr><td>Logan Haushalter</td><td>LH-17155</td><td>2014</td><td>9.58</td></tr><tr><td>Logan Haushalter</td><td>LH-17155</td><td>2015</td><td>94.85</td></tr><tr><td>Logan Haushalter</td><td>LH-17155</td><td>2016</td><td>212.1</td></tr><tr><td>Lauren Leatherbury</td><td>LL-16840</td><td>2014</td><td>110.88</td></tr><tr><td>Lauren Leatherbury</td><td>LL-16840</td><td>2015</td><td>404.91</td></tr><tr><td>Lauren Leatherbury</td><td>LL-16840</td><td>2017</td><td>44.72</td></tr><tr><td>Liz Mac Kendrick</td><td>LM-17065</td><td>2014</td><td>76.1</td></tr><tr><td>Liz Mac Kendrick</td><td>LM-17065</td><td>2015</td><td>-142.52</td></tr><tr><td>Liz Mac Kendrick</td><td>LM-17065</td><td>2016</td><td>21.54</td></tr><tr><td>Lori Olson</td><td>LO-17170</td><td>2015</td><td>34.45</td></tr><tr><td>Lori Olson</td><td>LO-17170</td><td>2017</td><td>115.71</td></tr><tr><td>Liz Pelletier</td><td>LP-17080</td><td>2014</td><td>0.96</td></tr><tr><td>Liz Pelletier</td><td>LP-17080</td><td>2016</td><td>21.94</td></tr><tr><td>Liz Pelletier</td><td>LP-17080</td><td>2017</td><td>87.89</td></tr><tr><td>Liz Preis</td><td>LP-17095</td><td>2016</td><td>79.36</td></tr><tr><td>Liz Preis</td><td>LP-17095</td><td>2017</td><td>259.09</td></tr><tr><td>Lena Radford</td><td>LR-16915</td><td>2014</td><td>604.58</td></tr><tr><td>Lena Radford</td><td>LR-16915</td><td>2015</td><td>30.79</td></tr><tr><td>Lena Radford</td><td>LR-16915</td><td>2016</td><td>172.5</td></tr><tr><td>Lena Radford</td><td>LR-16915</td><td>2017</td><td>-272.58</td></tr><tr><td>Lisa Ryan</td><td>LR-17035</td><td>2014</td><td>48.13</td></tr><tr><td>Lisa Ryan</td><td>LR-17035</td><td>2015</td><td>-142.91</td></tr><tr><td>Lisa Ryan</td><td>LR-17035</td><td>2016</td><td>-387.68</td></tr><tr><td>Lisa Ryan</td><td>LR-17035</td><td>2017</td><td>99.27</td></tr><tr><td>Linda Southworth</td><td>LS-16945</td><td>2015</td><td>9.82</td></tr><tr><td>Linda Southworth</td><td>LS-16945</td><td>2016</td><td>21.74</td></tr><tr><td>Linda Southworth</td><td>LS-16945</td><td>2017</td><td>-350.0</td></tr><tr><td>Lindsay Shagiari</td><td>LS-16975</td><td>2014</td><td>138.16</td></tr><tr><td>Lindsay Shagiari</td><td>LS-16975</td><td>2015</td><td>-108.2</td></tr><tr><td>Lindsay Shagiari</td><td>LS-16975</td><td>2016</td><td>2.94</td></tr><tr><td>Lindsay Shagiari</td><td>LS-16975</td><td>2017</td><td>229.37</td></tr><tr><td>Luke Schmidt</td><td>LS-17200</td><td>2014</td><td>167.72</td></tr><tr><td>Luke Schmidt</td><td>LS-17200</td><td>2016</td><td>18.28</td></tr><tr><td>Luke Schmidt</td><td>LS-17200</td><td>2017</td><td>57.82</td></tr><tr><td>Lycoris Saunders</td><td>LS-17230</td><td>2014</td><td>9.33</td></tr><tr><td>Lycoris Saunders</td><td>LS-17230</td><td>2015</td><td>55.24</td></tr><tr><td>Lynn Smith</td><td>LS-17245</td><td>2014</td><td>230.21</td></tr><tr><td>Lynn Smith</td><td>LS-17245</td><td>2015</td><td>4.8</td></tr><tr><td>Lynn Smith</td><td>LS-17245</td><td>2016</td><td>60.37</td></tr><tr><td>Lynn Smith</td><td>LS-17245</td><td>2017</td><td>52.59</td></tr><tr><td>Larry Tron</td><td>LT-16765</td><td>2014</td><td>15.64</td></tr><tr><td>Larry Tron</td><td>LT-16765</td><td>2015</td><td>20.16</td></tr><tr><td>Larry Tron</td><td>LT-16765</td><td>2017</td><td>23.24</td></tr><tr><td>Liz Thompson</td><td>LT-17110</td><td>2014</td><td>238.4</td></tr><tr><td>Liz Thompson</td><td>LT-17110</td><td>2015</td><td>76.22</td></tr><tr><td>Liz Thompson</td><td>LT-17110</td><td>2016</td><td>28.38</td></tr><tr><td>Liz Thompson</td><td>LT-17110</td><td>2017</td><td>-22.02</td></tr><tr><td>Laurel Workman</td><td>LW-16825</td><td>2014</td><td>423.61</td></tr><tr><td>Laurel Workman</td><td>LW-16825</td><td>2016</td><td>-393.34</td></tr><tr><td>Laurel Workman</td><td>LW-16825</td><td>2017</td><td>2.32</td></tr><tr><td>Lindsay Williams</td><td>LW-16990</td><td>2016</td><td>322.32</td></tr><tr><td>Lindsay Williams</td><td>LW-16990</td><td>2017</td><td>340.51</td></tr><tr><td>Liz Willingham</td><td>LW-17125</td><td>2014</td><td>21.75</td></tr><tr><td>Liz Willingham</td><td>LW-17125</td><td>2016</td><td>165.8</td></tr><tr><td>Liz Willingham</td><td>LW-17125</td><td>2017</td><td>5.08</td></tr><tr><td>Luke Weiss</td><td>LW-17215</td><td>2014</td><td>420.59</td></tr><tr><td>Luke Weiss</td><td>LW-17215</td><td>2016</td><td>350.01</td></tr><tr><td>Luke Weiss</td><td>LW-17215</td><td>2017</td><td>67.07</td></tr><tr><td>Matt Abelman</td><td>MA-17560</td><td>2014</td><td>562.98</td></tr><tr><td>Matt Abelman</td><td>MA-17560</td><td>2015</td><td>619.07</td></tr><tr><td>Matt Abelman</td><td>MA-17560</td><td>2016</td><td>28.38</td></tr><tr><td>Matt Abelman</td><td>MA-17560</td><td>2017</td><td>30.13</td></tr><tr><td>Michelle Arnett</td><td>MA-17995</td><td>2014</td><td>53.7</td></tr><tr><td>Michelle Arnett</td><td>MA-17995</td><td>2015</td><td>3.48</td></tr><tr><td>Michelle Arnett</td><td>MA-17995</td><td>2016</td><td>191.39</td></tr><tr><td>Michelle Arnett</td><td>MA-17995</td><td>2017</td><td>31.94</td></tr><tr><td>Maria Bertelson</td><td>MB-17305</td><td>2014</td><td>-13.83</td></tr><tr><td>Maria Bertelson</td><td>MB-17305</td><td>2015</td><td>77.99</td></tr><tr><td>Maria Bertelson</td><td>MB-17305</td><td>2016</td><td>83.51</td></tr><tr><td>Maria Bertelson</td><td>MB-17305</td><td>2017</td><td>65.67</td></tr><tr><td>Mick Brown</td><td>MB-18085</td><td>2014</td><td>4.88</td></tr><tr><td>Mick Brown</td><td>MB-18085</td><td>2016</td><td>45.32</td></tr><tr><td>Mick Brown</td><td>MB-18085</td><td>2017</td><td>67.85</td></tr><tr><td>Marc Crier</td><td>MC-17275</td><td>2014</td><td>235.23</td></tr><tr><td>Marc Crier</td><td>MC-17275</td><td>2015</td><td>197.66</td></tr><tr><td>Marc Crier</td><td>MC-17275</td><td>2016</td><td>20.91</td></tr><tr><td>Marc Crier</td><td>MC-17275</td><td>2017</td><td>7.22</td></tr><tr><td>Mark Cousins</td><td>MC-17425</td><td>2014</td><td>135.0</td></tr><tr><td>Mark Cousins</td><td>MC-17425</td><td>2015</td><td>57.2</td></tr><tr><td>Mark Cousins</td><td>MC-17425</td><td>2016</td><td>1610.2</td></tr><tr><td>Matt Collins</td><td>MC-17575</td><td>2014</td><td>-6.34</td></tr><tr><td>Matt Collins</td><td>MC-17575</td><td>2015</td><td>62.77</td></tr><tr><td>Matt Collins</td><td>MC-17575</td><td>2016</td><td>15.59</td></tr><tr><td>Matt Collins</td><td>MC-17575</td><td>2017</td><td>138.9</td></tr><tr><td>Matt Collister</td><td>MC-17590</td><td>2014</td><td>-137.2</td></tr><tr><td>Matt Collister</td><td>MC-17590</td><td>2016</td><td>379.01</td></tr><tr><td>Matt Collister</td><td>MC-17590</td><td>2017</td><td>47.18</td></tr><tr><td>Matt Connell</td><td>MC-17605</td><td>2014</td><td>49.37</td></tr><tr><td>Matt Connell</td><td>MC-17605</td><td>2015</td><td>13.08</td></tr><tr><td>Matt Connell</td><td>MC-17605</td><td>2016</td><td>11.31</td></tr><tr><td>Matt Connell</td><td>MC-17605</td><td>2017</td><td>121.69</td></tr><tr><td>Matthew Clasen</td><td>MC-17635</td><td>2014</td><td>41.89</td></tr><tr><td>Matthew Clasen</td><td>MC-17635</td><td>2016</td><td>27.42</td></tr><tr><td>Matthew Clasen</td><td>MC-17635</td><td>2017</td><td>-317.03</td></tr><tr><td>Michael Chen</td><td>MC-17845</td><td>2014</td><td>395.76</td></tr><tr><td>Michael Chen</td><td>MC-17845</td><td>2016</td><td>60.54</td></tr><tr><td>Michael Chen</td><td>MC-17845</td><td>2017</td><td>242.12</td></tr><tr><td>Mick Crebagga</td><td>MC-18100</td><td>2014</td><td>-18.73</td></tr><tr><td>Mick Crebagga</td><td>MC-18100</td><td>2015</td><td>-73.3</td></tr><tr><td>Mick Crebagga</td><td>MC-18100</td><td>2016</td><td>0.93</td></tr><tr><td>Mick Crebagga</td><td>MC-18100</td><td>2017</td><td>26.7</td></tr><tr><td>Mike Caudle</td><td>MC-18130</td><td>2014</td><td>24.98</td></tr><tr><td>Mike Caudle</td><td>MC-18130</td><td>2015</td><td>9.81</td></tr><tr><td>Mike Caudle</td><td>MC-18130</td><td>2016</td><td>86.95</td></tr><tr><td>Maribeth Dona</td><td>MD-17350</td><td>2014</td><td>-84.11</td></tr><tr><td>Maribeth Dona</td><td>MD-17350</td><td>2015</td><td>51.66</td></tr><tr><td>Maribeth Dona</td><td>MD-17350</td><td>2016</td><td>-14.22</td></tr><tr><td>Maribeth Dona</td><td>MD-17350</td><td>2017</td><td>-194.56</td></tr><tr><td>Michael Dominguez</td><td>MD-17860</td><td>2014</td><td>-47.36</td></tr><tr><td>Michael Dominguez</td><td>MD-17860</td><td>2017</td><td>43.31</td></tr><tr><td>Maria Etezadi</td><td>ME-17320</td><td>2014</td><td>1343.07</td></tr><tr><td>Maria Etezadi</td><td>ME-17320</td><td>2015</td><td>-9.56</td></tr><tr><td>Maria Etezadi</td><td>ME-17320</td><td>2016</td><td>451.46</td></tr><tr><td>Maria Etezadi</td><td>ME-17320</td><td>2017</td><td>74.0</td></tr><tr><td>Max Engle</td><td>ME-17725</td><td>2014</td><td>16.28</td></tr><tr><td>Max Engle</td><td>ME-17725</td><td>2015</td><td>39.77</td></tr><tr><td>Max Engle</td><td>ME-17725</td><td>2016</td><td>-1.62</td></tr><tr><td>Max Engle</td><td>ME-17725</td><td>2017</td><td>23.16</td></tr><tr><td>Michelle Ellison</td><td>ME-18010</td><td>2014</td><td>104.98</td></tr><tr><td>Michelle Ellison</td><td>ME-18010</td><td>2015</td><td>8.77</td></tr><tr><td>Michelle Ellison</td><td>ME-18010</td><td>2017</td><td>-6.4</td></tr><tr><td>Maureen Fritzler</td><td>MF-17665</td><td>2014</td><td>-459.99</td></tr><tr><td>Maureen Fritzler</td><td>MF-17665</td><td>2016</td><td>118.46</td></tr><tr><td>Monica Federle</td><td>MF-18250</td><td>2014</td><td>16.89</td></tr><tr><td>Monica Federle</td><td>MF-18250</td><td>2015</td><td>152.73</td></tr><tr><td>Monica Federle</td><td>MF-18250</td><td>2017</td><td>287.24</td></tr><tr><td>Matthew Grinstein</td><td>MG-17650</td><td>2014</td><td>24.37</td></tr><tr><td>Matthew Grinstein</td><td>MG-17650</td><td>2016</td><td>204.85</td></tr><tr><td>Matthew Grinstein</td><td>MG-17650</td><td>2017</td><td>112.69</td></tr><tr><td>Maureen Gastineau</td><td>MG-17680</td><td>2014</td><td>12.91</td></tr><tr><td>Maureen Gastineau</td><td>MG-17680</td><td>2015</td><td>-1.2</td></tr><tr><td>Maureen Gastineau</td><td>MG-17680</td><td>2017</td><td>14.18</td></tr><tr><td>Maureen Gnade</td><td>MG-17695</td><td>2014</td><td>-22.64</td></tr><tr><td>Maureen Gnade</td><td>MG-17695</td><td>2015</td><td>-392.86</td></tr><tr><td>Maureen Gnade</td><td>MG-17695</td><td>2016</td><td>16.7</td></tr><tr><td>Michael Grace</td><td>MG-17875</td><td>2014</td><td>-4.52</td></tr><tr><td>Michael Grace</td><td>MG-17875</td><td>2015</td><td>-499.05</td></tr><tr><td>Michael Grace</td><td>MG-17875</td><td>2016</td><td>62.24</td></tr><tr><td>Michael Grace</td><td>MG-17875</td><td>2017</td><td>-29.44</td></tr><tr><td>Michael Granlund</td><td>MG-17890</td><td>2014</td><td>-4.8</td></tr><tr><td>Michael Granlund</td><td>MG-17890</td><td>2015</td><td>112.33</td></tr><tr><td>Michael Granlund</td><td>MG-17890</td><td>2016</td><td>25.93</td></tr><tr><td>Michael Granlund</td><td>MG-17890</td><td>2017</td><td>37.99</td></tr><tr><td>Mike Gockenbach</td><td>MG-18145</td><td>2014</td><td>-152.72</td></tr><tr><td>Mike Gockenbach</td><td>MG-18145</td><td>2015</td><td>-137.49</td></tr><tr><td>Mike Gockenbach</td><td>MG-18145</td><td>2017</td><td>196.72</td></tr><tr><td>Mitch Gastineau</td><td>MG-18205</td><td>2017</td><td>-1.24</td></tr><tr><td>Marc Harrigan</td><td>MH-17290</td><td>2014</td><td>12.21</td></tr><tr><td>Marc Harrigan</td><td>MH-17290</td><td>2015</td><td>2.18</td></tr><tr><td>Marc Harrigan</td><td>MH-17290</td><td>2016</td><td>57.21</td></tr><tr><td>Marc Harrigan</td><td>MH-17290</td><td>2017</td><td>-42.62</td></tr><tr><td>Mark Haberlin</td><td>MH-17440</td><td>2014</td><td>48.85</td></tr><tr><td>Mark Haberlin</td><td>MH-17440</td><td>2016</td><td>12.58</td></tr><tr><td>Mark Hamilton</td><td>MH-17455</td><td>2014</td><td>8.49</td></tr><tr><td>Mark Hamilton</td><td>MH-17455</td><td>2015</td><td>16.18</td></tr><tr><td>Mark Hamilton</td><td>MH-17455</td><td>2016</td><td>375.67</td></tr><tr><td>Mark Hamilton</td><td>MH-17455</td><td>2017</td><td>84.94</td></tr><tr><td>Matt Hagelstein</td><td>MH-17620</td><td>2015</td><td>14.67</td></tr><tr><td>Matt Hagelstein</td><td>MH-17620</td><td>2016</td><td>-0.37</td></tr><tr><td>Matt Hagelstein</td><td>MH-17620</td><td>2017</td><td>108.05</td></tr><tr><td>Maya Herman</td><td>MH-17785</td><td>2014</td><td>133.96</td></tr><tr><td>Maya Herman</td><td>MH-17785</td><td>2015</td><td>94.71</td></tr><tr><td>Maya Herman</td><td>MH-17785</td><td>2016</td><td>7.0</td></tr><tr><td>Maya Herman</td><td>MH-17785</td><td>2017</td><td>3.35</td></tr><tr><td>Michelle Huthwaite</td><td>MH-18025</td><td>2014</td><td>10.65</td></tr><tr><td>Michelle Huthwaite</td><td>MH-18025</td><td>2015</td><td>91.16</td></tr><tr><td>Michelle Huthwaite</td><td>MH-18025</td><td>2017</td><td>374.93</td></tr><tr><td>Mick Hernandez</td><td>MH-18115</td><td>2016</td><td>-216.22</td></tr><tr><td>Mick Hernandez</td><td>MH-18115</td><td>2017</td><td>387.2</td></tr><tr><td>Max Jones</td><td>MJ-17740</td><td>2015</td><td>-77.93</td></tr><tr><td>Max Jones</td><td>MJ-17740</td><td>2016</td><td>728.75</td></tr><tr><td>Max Jones</td><td>MJ-17740</td><td>2017</td><td>403.72</td></tr><tr><td>Michael Kennedy</td><td>MK-17905</td><td>2014</td><td>43.22</td></tr><tr><td>Michael Kennedy</td><td>MK-17905</td><td>2015</td><td>0.6</td></tr><tr><td>Michael Kennedy</td><td>MK-17905</td><td>2016</td><td>-456.26</td></tr><tr><td>Michael Kennedy</td><td>MK-17905</td><td>2017</td><td>7.01</td></tr><tr><td>Mike Kennedy</td><td>MK-18160</td><td>2014</td><td>-22.69</td></tr><tr><td>Mike Kennedy</td><td>MK-18160</td><td>2016</td><td>41.08</td></tr><tr><td>Mike Kennedy</td><td>MK-18160</td><td>2017</td><td>209.04</td></tr><tr><td>Marina Lichtenstein</td><td>ML-17395</td><td>2014</td><td>486.58</td></tr><tr><td>Marina Lichtenstein</td><td>ML-17395</td><td>2015</td><td>-4.94</td></tr><tr><td>Marina Lichtenstein</td><td>ML-17395</td><td>2016</td><td>192.19</td></tr><tr><td>Marina Lichtenstein</td><td>ML-17395</td><td>2017</td><td>11.1</td></tr><tr><td>Maris La Ware</td><td>ML-17410</td><td>2014</td><td>254.24</td></tr><tr><td>Maris La Ware</td><td>ML-17410</td><td>2016</td><td>15.0</td></tr><tr><td>Maris La Ware</td><td>ML-17410</td><td>2017</td><td>-345.71</td></tr><tr><td>Max Ludwig</td><td>ML-17755</td><td>2016</td><td>63.83</td></tr><tr><td>Max Ludwig</td><td>ML-17755</td><td>2017</td><td>346.16</td></tr><tr><td>Michelle Lonsdale</td><td>ML-18040</td><td>2017</td><td>138.71</td></tr><tr><td>Muhammed Lee</td><td>ML-18265</td><td>2015</td><td>1.16</td></tr><tr><td>Muhammed Lee</td><td>ML-18265</td><td>2017</td><td>41.51</td></tr><tr><td>Magdelene Morse</td><td>MM-17260</td><td>2014</td><td>51.36</td></tr><tr><td>Magdelene Morse</td><td>MM-17260</td><td>2016</td><td>166.51</td></tr><tr><td>Magdelene Morse</td><td>MM-17260</td><td>2017</td><td>-39.46</td></tr><tr><td>Michael Moore</td><td>MM-17920</td><td>2014</td><td>55.03</td></tr><tr><td>Michael Moore</td><td>MM-17920</td><td>2015</td><td>-373.3</td></tr><tr><td>Michael Moore</td><td>MM-17920</td><td>2016</td><td>447.84</td></tr><tr><td>Michael Moore</td><td>MM-17920</td><td>2017</td><td>-48.11</td></tr><tr><td>Michelle Moray</td><td>MM-18055</td><td>2014</td><td>130.68</td></tr><tr><td>Michelle Moray</td><td>MM-18055</td><td>2015</td><td>-247.37</td></tr><tr><td>Michelle Moray</td><td>MM-18055</td><td>2017</td><td>-403.76</td></tr><tr><td>Muhammed Mac Intyre</td><td>MM-18280</td><td>2014</td><td>-51.52</td></tr><tr><td>Muhammed Mac Intyre</td><td>MM-18280</td><td>2015</td><td>68.2</td></tr><tr><td>Muhammed Mac Intyre</td><td>MM-18280</td><td>2016</td><td>8.84</td></tr><tr><td>Muhammed Mac Intyre</td><td>MM-18280</td><td>2017</td><td>33.04</td></tr><tr><td>Michael Nguyen</td><td>MN-17935</td><td>2014</td><td>31.17</td></tr><tr><td>Michael Nguyen</td><td>MN-17935</td><td>2016</td><td>5.52</td></tr><tr><td>Michael Nguyen</td><td>MN-17935</td><td>2017</td><td>254.13</td></tr><tr><td>Mary O Rourke</td><td>MO-17500</td><td>2014</td><td>6.04</td></tr><tr><td>Mary O Rourke</td><td>MO-17500</td><td>2016</td><td>120.86</td></tr><tr><td>Mary O Rourke</td><td>MO-17500</td><td>2017</td><td>-67.54</td></tr><tr><td>Meg O Connel</td><td>MO-17800</td><td>2015</td><td>-16.97</td></tr><tr><td>Meg O Connel</td><td>MO-17800</td><td>2016</td><td>5.5</td></tr><tr><td>Meg O Connel</td><td>MO-17800</td><td>2017</td><td>180.45</td></tr><tr><td>Michael Oakman</td><td>MO-17950</td><td>2015</td><td>-79.31</td></tr><tr><td>Michael Oakman</td><td>MO-17950</td><td>2017</td><td>-2.7</td></tr><tr><td>Mark Packer</td><td>MP-17470</td><td>2014</td><td>279.86</td></tr><tr><td>Mark Packer</td><td>MP-17470</td><td>2015</td><td>311.5</td></tr><tr><td>Mark Packer</td><td>MP-17470</td><td>2016</td><td>8.94</td></tr><tr><td>Michael Paige</td><td>MP-17965</td><td>2015</td><td>255.75</td></tr><tr><td>Michael Paige</td><td>MP-17965</td><td>2016</td><td>265.54</td></tr><tr><td>Michael Paige</td><td>MP-17965</td><td>2017</td><td>116.45</td></tr><tr><td>Mike Pelletier</td><td>MP-18175</td><td>2014</td><td>-125.29</td></tr><tr><td>Mike Pelletier</td><td>MP-18175</td><td>2015</td><td>526.73</td></tr><tr><td>Mike Pelletier</td><td>MP-18175</td><td>2016</td><td>-295.64</td></tr><tr><td>Mike Pelletier</td><td>MP-18175</td><td>2017</td><td>119.69</td></tr><tr><td>Mathew Reese</td><td>MR-17545</td><td>2014</td><td>9.11</td></tr><tr><td>Mathew Reese</td><td>MR-17545</td><td>2017</td><td>153.35</td></tr><tr><td>Maribethchnelling</td><td>MS-17365</td><td>2014</td><td>143.9</td></tr><tr><td>Maribethchnelling</td><td>MS-17365</td><td>2015</td><td>145.51</td></tr><tr><td>Maribethchnelling</td><td>MS-17365</td><td>2016</td><td>514.79</td></tr><tr><td>Maribethchnelling</td><td>MS-17365</td><td>2017</td><td>40.75</td></tr><tr><td>Mary Beth Skach</td><td>MS-17530</td><td>2014</td><td>2.69</td></tr><tr><td>Mary Beth Skach</td><td>MS-17530</td><td>2015</td><td>45.29</td></tr><tr><td>Mary Beth Skach</td><td>MS-17530</td><td>2016</td><td>36.04</td></tr><tr><td>Maurice Satty</td><td>MS-17710</td><td>2014</td><td>40.73</td></tr><tr><td>Maurice Satty</td><td>MS-17710</td><td>2015</td><td>299.8</td></tr><tr><td>Maurice Satty</td><td>MS-17710</td><td>2016</td><td>-93.1</td></tr><tr><td>Maxwell Schwartz</td><td>MS-17770</td><td>2014</td><td>-102.26</td></tr><tr><td>Maxwell Schwartz</td><td>MS-17770</td><td>2015</td><td>209.33</td></tr><tr><td>Maxwell Schwartz</td><td>MS-17770</td><td>2016</td><td>164.04</td></tr><tr><td>Maxwell Schwartz</td><td>MS-17770</td><td>2017</td><td>9.7</td></tr><tr><td>Melanie Seite</td><td>MS-17830</td><td>2014</td><td>10.92</td></tr><tr><td>Melanie Seite</td><td>MS-17830</td><td>2015</td><td>32.45</td></tr><tr><td>Melanie Seite</td><td>MS-17830</td><td>2016</td><td>-23.94</td></tr><tr><td>Michael Stewart</td><td>MS-17980</td><td>2014</td><td>16.26</td></tr><tr><td>Michael Stewart</td><td>MS-17980</td><td>2015</td><td>59.35</td></tr><tr><td>Michael Stewart</td><td>MS-17980</td><td>2017</td><td>-20.38</td></tr><tr><td>Meg Tillman</td><td>MT-17815</td><td>2015</td><td>1.78</td></tr><tr><td>Meg Tillman</td><td>MT-17815</td><td>2016</td><td>432.26</td></tr><tr><td>Meg Tillman</td><td>MT-17815</td><td>2017</td><td>74.98</td></tr><tr><td>Michelle Tran</td><td>MT-18070</td><td>2014</td><td>-89.7</td></tr><tr><td>Michelle Tran</td><td>MT-18070</td><td>2015</td><td>-6.29</td></tr><tr><td>Michelle Tran</td><td>MT-18070</td><td>2016</td><td>70.49</td></tr><tr><td>Michelle Tran</td><td>MT-18070</td><td>2017</td><td>2.05</td></tr><tr><td>Mark Van Huff</td><td>MV-17485</td><td>2014</td><td>15.08</td></tr><tr><td>Mark Van Huff</td><td>MV-17485</td><td>2015</td><td>-1.28</td></tr><tr><td>Mark Van Huff</td><td>MV-17485</td><td>2016</td><td>106.42</td></tr><tr><td>Mark Van Huff</td><td>MV-17485</td><td>2017</td><td>68.79</td></tr><tr><td>Mike Vittorini</td><td>MV-18190</td><td>2014</td><td>11.9</td></tr><tr><td>Mike Vittorini</td><td>MV-18190</td><td>2015</td><td>15.36</td></tr><tr><td>Mike Vittorini</td><td>MV-18190</td><td>2016</td><td>225.26</td></tr><tr><td>Mike Vittorini</td><td>MV-18190</td><td>2017</td><td>21.47</td></tr><tr><td>Mitch Webber</td><td>MW-18220</td><td>2014</td><td>1204.43</td></tr><tr><td>Mitch Webber</td><td>MW-18220</td><td>2015</td><td>24.5</td></tr><tr><td>Mitch Webber</td><td>MW-18220</td><td>2016</td><td>0.5</td></tr><tr><td>Mitch Webber</td><td>MW-18220</td><td>2017</td><td>8.49</td></tr><tr><td>Mitch Willingham</td><td>MW-18235</td><td>2014</td><td>1449.52</td></tr><tr><td>Mitch Willingham</td><td>MW-18235</td><td>2017</td><td>216.0</td></tr><tr><td>Maribeth Yedwab</td><td>MY-17380</td><td>2015</td><td>2.65</td></tr><tr><td>Maribeth Yedwab</td><td>MY-17380</td><td>2016</td><td>33.05</td></tr><tr><td>Maribeth Yedwab</td><td>MY-17380</td><td>2017</td><td>283.44</td></tr><tr><td>Muhammed Ye Dwab</td><td>MY-18295</td><td>2014</td><td>-103.13</td></tr><tr><td>Muhammed Ye Dwab</td><td>MY-18295</td><td>2016</td><td>-290.17</td></tr><tr><td>Muhammed Ye Dwab</td><td>MY-18295</td><td>2017</td><td>21.59</td></tr><tr><td>Maria Zettner</td><td>MZ-17335</td><td>2015</td><td>69.35</td></tr><tr><td>Maria Zettner</td><td>MZ-17335</td><td>2016</td><td>0.16</td></tr><tr><td>Maria Zettner</td><td>MZ-17335</td><td>2017</td><td>15.51</td></tr><tr><td>Mary Zewe</td><td>MZ-17515</td><td>2014</td><td>786.8</td></tr><tr><td>Mary Zewe</td><td>MZ-17515</td><td>2015</td><td>8.21</td></tr><tr><td>Mary Zewe</td><td>MZ-17515</td><td>2016</td><td>-25.24</td></tr><tr><td>Mary Zewe</td><td>MZ-17515</td><td>2017</td><td>17.38</td></tr><tr><td>Nicole Brennan</td><td>NB-18580</td><td>2014</td><td>24.79</td></tr><tr><td>Nona Balk</td><td>NB-18655</td><td>2014</td><td>87.38</td></tr><tr><td>Nona Balk</td><td>NB-18655</td><td>2015</td><td>127.06</td></tr><tr><td>Nona Balk</td><td>NB-18655</td><td>2016</td><td>-157.96</td></tr><tr><td>Nona Balk</td><td>NB-18655</td><td>2017</td><td>61.16</td></tr><tr><td>Nat Carroll</td><td>NC-18340</td><td>2014</td><td>11.16</td></tr><tr><td>Nat Carroll</td><td>NC-18340</td><td>2015</td><td>326.28</td></tr><tr><td>Nat Carroll</td><td>NC-18340</td><td>2016</td><td>26.29</td></tr><tr><td>Nat Carroll</td><td>NC-18340</td><td>2017</td><td>216.58</td></tr><tr><td>Nathan Cano</td><td>NC-18415</td><td>2014</td><td>10.04</td></tr><tr><td>Nathan Cano</td><td>NC-18415</td><td>2015</td><td>36.23</td></tr><tr><td>Nathan Cano</td><td>NC-18415</td><td>2016</td><td>79.19</td></tr><tr><td>Nathan Cano</td><td>NC-18415</td><td>2017</td><td>-2330.27</td></tr><tr><td>Nick Crebassa</td><td>NC-18535</td><td>2014</td><td>690.2</td></tr><tr><td>Nick Crebassa</td><td>NC-18535</td><td>2016</td><td>16.79</td></tr><tr><td>Nick Crebassa</td><td>NC-18535</td><td>2017</td><td>607.03</td></tr><tr><td>Noah Childs</td><td>NC-18625</td><td>2014</td><td>36.66</td></tr><tr><td>Noah Childs</td><td>NC-18625</td><td>2015</td><td>16.85</td></tr><tr><td>Noah Childs</td><td>NC-18625</td><td>2016</td><td>-461.2</td></tr><tr><td>Noah Childs</td><td>NC-18625</td><td>2017</td><td>48.78</td></tr><tr><td>Natalie De Cherney</td><td>ND-18370</td><td>2014</td><td>47.61</td></tr><tr><td>Natalie De Cherney</td><td>ND-18370</td><td>2015</td><td>330.8</td></tr><tr><td>Natalie De Cherney</td><td>ND-18370</td><td>2016</td><td>58.86</td></tr><tr><td>Natalie De Cherney</td><td>ND-18370</td><td>2017</td><td>-84.03</td></tr><tr><td>Neil Ducich</td><td>ND-18460</td><td>2014</td><td>45.43</td></tr><tr><td>Neil Ducich</td><td>ND-18460</td><td>2015</td><td>18.66</td></tr><tr><td>Neil Ducich</td><td>ND-18460</td><td>2017</td><td>379.25</td></tr><tr><td>Natalie Fritzler</td><td>NF-18385</td><td>2014</td><td>186.74</td></tr><tr><td>Natalie Fritzler</td><td>NF-18385</td><td>2015</td><td>-1980.38</td></tr><tr><td>Natalie Fritzler</td><td>NF-18385</td><td>2016</td><td>-66.17</td></tr><tr><td>Natalie Fritzler</td><td>NF-18385</td><td>2017</td><td>163.46</td></tr><tr><td>Neil Franzsisch</td><td>NF-18475</td><td>2014</td><td>31.87</td></tr><tr><td>Neil Franzsisch</td><td>NF-18475</td><td>2015</td><td>72.89</td></tr><tr><td>Neil Franzsisch</td><td>NF-18475</td><td>2016</td><td>-18.84</td></tr><tr><td>Nicole Fjeld</td><td>NF-18595</td><td>2014</td><td>42.35</td></tr><tr><td>Nicole Fjeld</td><td>NF-18595</td><td>2015</td><td>258.1</td></tr><tr><td>Nicole Fjeld</td><td>NF-18595</td><td>2017</td><td>87.86</td></tr><tr><td>Nat Gilpin</td><td>NG-18355</td><td>2014</td><td>219.08</td></tr><tr><td>Nat Gilpin</td><td>NG-18355</td><td>2015</td><td>8.05</td></tr><tr><td>Nat Gilpin</td><td>NG-18355</td><td>2017</td><td>86.5</td></tr><tr><td>Nathan Gelder</td><td>NG-18430</td><td>2014</td><td>134.82</td></tr><tr><td>Nathan Gelder</td><td>NG-18430</td><td>2015</td><td>54.0</td></tr><tr><td>Nathan Gelder</td><td>NG-18430</td><td>2017</td><td>28.28</td></tr><tr><td>Nicole Hansen</td><td>NH-18610</td><td>2014</td><td>33.2</td></tr><tr><td>Nicole Hansen</td><td>NH-18610</td><td>2015</td><td>85.83</td></tr><tr><td>Nicole Hansen</td><td>NH-18610</td><td>2016</td><td>5.18</td></tr><tr><td>Nicole Hansen</td><td>NH-18610</td><td>2017</td><td>635.96</td></tr><tr><td>Neil Knudson</td><td>NK-18490</td><td>2015</td><td>1.79</td></tr><tr><td>Neil Knudson</td><td>NK-18490</td><td>2016</td><td>39.41</td></tr><tr><td>Neil Knudson</td><td>NK-18490</td><td>2017</td><td>80.03</td></tr><tr><td>Nancy Lomonaco</td><td>NL-18310</td><td>2014</td><td>8.28</td></tr><tr><td>Nancy Lomonaco</td><td>NL-18310</td><td>2015</td><td>34.59</td></tr><tr><td>Nancy Lomonaco</td><td>NL-18310</td><td>2016</td><td>18.66</td></tr><tr><td>Nancy Lomonaco</td><td>NL-18310</td><td>2017</td><td>282.27</td></tr><tr><td>Nathan Mautz</td><td>NM-18445</td><td>2014</td><td>2413.85</td></tr><tr><td>Nathan Mautz</td><td>NM-18445</td><td>2015</td><td>333.5</td></tr><tr><td>Nathan Mautz</td><td>NM-18445</td><td>2017</td><td>4.35</td></tr><tr><td>Neoma Murray</td><td>NM-18520</td><td>2015</td><td>-26.66</td></tr><tr><td>Neoma Murray</td><td>NM-18520</td><td>2016</td><td>812.79</td></tr><tr><td>Neoma Murray</td><td>NM-18520</td><td>2017</td><td>2.82</td></tr><tr><td>Na N</td><td>NP-18325</td><td>2014</td><td>314.4</td></tr><tr><td>Na N</td><td>NP-18325</td><td>2015</td><td>852.92</td></tr><tr><td>Na N</td><td>NP-18325</td><td>2017</td><td>41.82</td></tr><tr><td>Nra Paige</td><td>NP-18670</td><td>2015</td><td>80.84</td></tr><tr><td>Nra Paige</td><td>NP-18670</td><td>2016</td><td>246.1</td></tr><tr><td>Nra Paige</td><td>NP-18670</td><td>2017</td><td>186.21</td></tr><tr><td>Nora Pelletier</td><td>NP-18685</td><td>2014</td><td>33.64</td></tr><tr><td>Nora Pelletier</td><td>NP-18685</td><td>2015</td><td>449.44</td></tr><tr><td>Nora Pelletier</td><td>NP-18685</td><td>2016</td><td>31.42</td></tr><tr><td>Nora Preis</td><td>NP-18700</td><td>2014</td><td>285.95</td></tr><tr><td>Nora Preis</td><td>NP-18700</td><td>2016</td><td>272.92</td></tr><tr><td>Nora Preis</td><td>NP-18700</td><td>2017</td><td>71.95</td></tr><tr><td>Nick Radford</td><td>NR-18550</td><td>2014</td><td>-123.79</td></tr><tr><td>Nick Radford</td><td>NR-18550</td><td>2016</td><td>50.59</td></tr><tr><td>Nick Radford</td><td>NR-18550</td><td>2017</td><td>48.07</td></tr><tr><td>Neola Schneider</td><td>NS-18505</td><td>2016</td><td>19.55</td></tr><tr><td>Neola Schneider</td><td>NS-18505</td><td>2017</td><td>-31.86</td></tr><tr><td>Noel Staavos</td><td>NS-18640</td><td>2014</td><td>11.2</td></tr><tr><td>Noel Staavos</td><td>NS-18640</td><td>2015</td><td>151.68</td></tr><tr><td>Noel Staavos</td><td>NS-18640</td><td>2016</td><td>-298.25</td></tr><tr><td>Noel Staavos</td><td>NS-18640</td><td>2017</td><td>-99.52</td></tr><tr><td>Natalie Webber</td><td>NW-18400</td><td>2014</td><td>-387.79</td></tr><tr><td>Natalie Webber</td><td>NW-18400</td><td>2015</td><td>1654.06</td></tr><tr><td>Natalie Webber</td><td>NW-18400</td><td>2016</td><td>-255.46</td></tr><tr><td>Natalie Webber</td><td>NW-18400</td><td>2017</td><td>11.82</td></tr><tr><td>Nick Zandusky</td><td>NZ-18565</td><td>2014</td><td>248.03</td></tr><tr><td>Nick Zandusky</td><td>NZ-18565</td><td>2015</td><td>82.82</td></tr><tr><td>Nick Zandusky</td><td>NZ-18565</td><td>2016</td><td>-30.61</td></tr><tr><td>Nick Zandusky</td><td>NZ-18565</td><td>2017</td><td>102.32</td></tr><tr><td>Odella Nelson</td><td>ON-18715</td><td>2014</td><td>183.11</td></tr><tr><td>Odella Nelson</td><td>ON-18715</td><td>2015</td><td>-31.11</td></tr><tr><td>Odella Nelson</td><td>ON-18715</td><td>2016</td><td>-157.53</td></tr><tr><td>Olvera Toch</td><td>OT-18730</td><td>2015</td><td>81.0</td></tr><tr><td>Olvera Toch</td><td>OT-18730</td><td>2016</td><td>-1182.11</td></tr><tr><td>Olvera Toch</td><td>OT-18730</td><td>2017</td><td>175.55</td></tr><tr><td>Pete Armstrong</td><td>PA-19060</td><td>2014</td><td>45.84</td></tr><tr><td>Pete Armstrong</td><td>PA-19060</td><td>2015</td><td>121.57</td></tr><tr><td>Pete Armstrong</td><td>PA-19060</td><td>2016</td><td>22.56</td></tr><tr><td>Pete Armstrong</td><td>PA-19060</td><td>2017</td><td>35.89</td></tr><tr><td>Patrick Bzostek</td><td>PB-18805</td><td>2015</td><td>7.56</td></tr><tr><td>Patrick Bzostek</td><td>PB-18805</td><td>2016</td><td>95.85</td></tr><tr><td>Patrick Bzostek</td><td>PB-18805</td><td>2017</td><td>125.36</td></tr><tr><td>Peter Bhler</td><td>PB-19105</td><td>2014</td><td>204.07</td></tr><tr><td>Peter Bhler</td><td>PB-19105</td><td>2016</td><td>0.9</td></tr><tr><td>Peter Bhler</td><td>PB-19105</td><td>2017</td><td>13.19</td></tr><tr><td>Philip Brown</td><td>PB-19150</td><td>2014</td><td>12.3</td></tr><tr><td>Philip Brown</td><td>PB-19150</td><td>2015</td><td>157.66</td></tr><tr><td>Philip Brown</td><td>PB-19150</td><td>2016</td><td>38.38</td></tr><tr><td>Philip Brown</td><td>PB-19150</td><td>2017</td><td>71.93</td></tr><tr><td>Phillip Breyer</td><td>PB-19210</td><td>2014</td><td>21.2</td></tr><tr><td>Phillip Breyer</td><td>PB-19210</td><td>2016</td><td>0.7</td></tr><tr><td>Pamela Coakley</td><td>PC-18745</td><td>2014</td><td>196.69</td></tr><tr><td>Pamela Coakley</td><td>PC-18745</td><td>2016</td><td>76.98</td></tr><tr><td>Pamela Coakley</td><td>PC-18745</td><td>2017</td><td>-0.99</td></tr><tr><td>Pauline Chand</td><td>PC-19000</td><td>2014</td><td>-11.83</td></tr><tr><td>Pauline Chand</td><td>PC-19000</td><td>2015</td><td>-172.51</td></tr><tr><td>Peter Fuller</td><td>PF-19120</td><td>2014</td><td>17.68</td></tr><tr><td>Peter Fuller</td><td>PF-19120</td><td>2015</td><td>-631.7</td></tr><tr><td>Philip Fox</td><td>PF-19165</td><td>2014</td><td>-407.68</td></tr><tr><td>Philip Fox</td><td>PF-19165</td><td>2015</td><td>75.23</td></tr><tr><td>Philip Fox</td><td>PF-19165</td><td>2016</td><td>478.68</td></tr><tr><td>Philip Fox</td><td>PF-19165</td><td>2017</td><td>50.65</td></tr><tr><td>Phillip Flathmann</td><td>PF-19225</td><td>2016</td><td>513.27</td></tr><tr><td>Phillip Flathmann</td><td>PF-19225</td><td>2017</td><td>78.02</td></tr><tr><td>Patrick Gardner</td><td>PG-18820</td><td>2014</td><td>54.45</td></tr><tr><td>Patrick Gardner</td><td>PG-18820</td><td>2015</td><td>-564.68</td></tr><tr><td>Patrick Gardner</td><td>PG-18820</td><td>2016</td><td>551.3</td></tr><tr><td>Patrick Gardner</td><td>PG-18820</td><td>2017</td><td>96.42</td></tr><tr><td>Paul Gonzalez</td><td>PG-18895</td><td>2014</td><td>-70.73</td></tr><tr><td>Paul Gonzalez</td><td>PG-18895</td><td>2015</td><td>174.73</td></tr><tr><td>Paul Gonzalez</td><td>PG-18895</td><td>2016</td><td>10.71</td></tr><tr><td>Paul Gonzalez</td><td>PG-18895</td><td>2017</td><td>220.26</td></tr><tr><td>Patricia Hirasaki</td><td>PH-18790</td><td>2017</td><td>47.89</td></tr><tr><td>Patrick Jones</td><td>PJ-18835</td><td>2014</td><td>7.95</td></tr><tr><td>Patrick Jones</td><td>PJ-18835</td><td>2015</td><td>382.38</td></tr><tr><td>Patrick Jones</td><td>PJ-18835</td><td>2016</td><td>8.2</td></tr><tr><td>Patrick Jones</td><td>PJ-18835</td><td>2017</td><td>43.61</td></tr><tr><td>Pauline Johnson</td><td>PJ-19015</td><td>2014</td><td>2.78</td></tr><tr><td>Pauline Johnson</td><td>PJ-19015</td><td>2015</td><td>40.07</td></tr><tr><td>Pauline Johnson</td><td>PJ-19015</td><td>2016</td><td>30.4</td></tr><tr><td>Pauline Johnson</td><td>PJ-19015</td><td>2017</td><td>609.43</td></tr><tr><td>Paul Knutson</td><td>PK-18910</td><td>2014</td><td>9.07</td></tr><tr><td>Paul Knutson</td><td>PK-18910</td><td>2016</td><td>-807.78</td></tr><tr><td>Pete Kriz</td><td>PK-19075</td><td>2014</td><td>13.32</td></tr><tr><td>Pete Kriz</td><td>PK-19075</td><td>2016</td><td>407.41</td></tr><tr><td>Pete Kriz</td><td>PK-19075</td><td>2017</td><td>1617.17</td></tr><tr><td>Paul Lucas</td><td>PL-18925</td><td>2014</td><td>31.83</td></tr><tr><td>Paul Lucas</td><td>PL-18925</td><td>2016</td><td>-13.65</td></tr><tr><td>Paul Lucas</td><td>PL-18925</td><td>2017</td><td>-18.94</td></tr><tr><td>Paul Mac Intyre</td><td>PM-18940</td><td>2014</td><td>21.06</td></tr><tr><td>Paul Mac Intyre</td><td>PM-18940</td><td>2015</td><td>-21.71</td></tr><tr><td>Paul Mac Intyre</td><td>PM-18940</td><td>2016</td><td>158.53</td></tr><tr><td>Peter Mc Vee</td><td>PM-19135</td><td>2015</td><td>426.81</td></tr><tr><td>Peter Mc Vee</td><td>PM-19135</td><td>2016</td><td>30.35</td></tr><tr><td>Peter Mc Vee</td><td>PM-19135</td><td>2017</td><td>69.6</td></tr><tr><td>Parhena Norris</td><td>PN-18775</td><td>2015</td><td>6.46</td></tr><tr><td>Parhena Norris</td><td>PN-18775</td><td>2016</td><td>137.23</td></tr><tr><td>Parhena Norris</td><td>PN-18775</td><td>2017</td><td>48.35</td></tr><tr><td>Patrick O Brill</td><td>PO-18850</td><td>2014</td><td>56.31</td></tr><tr><td>Patrick O Brill</td><td>PO-18850</td><td>2015</td><td>7.32</td></tr><tr><td>Patrick O Brill</td><td>PO-18850</td><td>2016</td><td>-316.63</td></tr><tr><td>Patrick O Brill</td><td>PO-18850</td><td>2017</td><td>290.64</td></tr><tr><td>Patrick O Donnell</td><td>PO-18865</td><td>2014</td><td>132.18</td></tr><tr><td>Patrick O Donnell</td><td>PO-18865</td><td>2016</td><td>67.6</td></tr><tr><td>Patrick O Donnell</td><td>PO-18865</td><td>2017</td><td>238.16</td></tr><tr><td>Philisse Overcash</td><td>PO-19180</td><td>2015</td><td>823.24</td></tr><tr><td>Philisse Overcash</td><td>PO-19180</td><td>2016</td><td>178.45</td></tr><tr><td>Philisse Overcash</td><td>PO-19180</td><td>2017</td><td>153.55</td></tr><tr><td>Phillina Ober</td><td>PO-19195</td><td>2014</td><td>-65.99</td></tr><tr><td>Phillina Ober</td><td>PO-19195</td><td>2015</td><td>-12.5</td></tr><tr><td>Phillina Ober</td><td>PO-19195</td><td>2017</td><td>28.8</td></tr><tr><td>Paul Prost</td><td>PP-18955</td><td>2014</td><td>472.39</td></tr><tr><td>Paul Prost</td><td>PP-18955</td><td>2015</td><td>67.56</td></tr><tr><td>Paul Prost</td><td>PP-18955</td><td>2016</td><td>707.59</td></tr><tr><td>Paul Prost</td><td>PP-18955</td><td>2017</td><td>247.93</td></tr><tr><td>Patrick Ryan</td><td>PR-18880</td><td>2014</td><td>2.0</td></tr><tr><td>Patrick Ryan</td><td>PR-18880</td><td>2015</td><td>38.27</td></tr><tr><td>Patrick Ryan</td><td>PR-18880</td><td>2017</td><td>5555.93</td></tr><tr><td>Pamela Stobb</td><td>PS-18760</td><td>2014</td><td>11.88</td></tr><tr><td>Pamela Stobb</td><td>PS-18760</td><td>2015</td><td>-113.1</td></tr><tr><td>Pamela Stobb</td><td>PS-18760</td><td>2016</td><td>133.3</td></tr><tr><td>Pamela Stobb</td><td>PS-18760</td><td>2017</td><td>-166.52</td></tr><tr><td>Paul Stevenson</td><td>PS-18970</td><td>2014</td><td>108.0</td></tr><tr><td>Paul Stevenson</td><td>PS-18970</td><td>2015</td><td>42.15</td></tr><tr><td>Paul Stevenson</td><td>PS-18970</td><td>2016</td><td>3.44</td></tr><tr><td>Paul Stevenson</td><td>PS-18970</td><td>2017</td><td>44.94</td></tr><tr><td>Penelope Sewall</td><td>PS-19045</td><td>2014</td><td>623.2</td></tr><tr><td>Penelope Sewall</td><td>PS-19045</td><td>2015</td><td>1493.94</td></tr><tr><td>Penelope Sewall</td><td>PS-19045</td><td>2016</td><td>6.32</td></tr><tr><td>Penelope Sewall</td><td>PS-19045</td><td>2017</td><td>1060.32</td></tr><tr><td>Pete Takahito</td><td>PT-19090</td><td>2014</td><td>-8.03</td></tr><tr><td>Pete Takahito</td><td>PT-19090</td><td>2016</td><td>-17.52</td></tr><tr><td>Pete Takahito</td><td>PT-19090</td><td>2017</td><td>5.5</td></tr><tr><td>Paul Van Hugh</td><td>PV-18985</td><td>2014</td><td>-4.56</td></tr><tr><td>Paul Van Hugh</td><td>PV-18985</td><td>2016</td><td>155.32</td></tr><tr><td>Paul Van Hugh</td><td>PV-18985</td><td>2017</td><td>283.49</td></tr><tr><td>Pauline Webber</td><td>PW-19030</td><td>2014</td><td>17.47</td></tr><tr><td>Pauline Webber</td><td>PW-19030</td><td>2015</td><td>15.15</td></tr><tr><td>Pauline Webber</td><td>PW-19030</td><td>2016</td><td>437.4</td></tr><tr><td>Pauline Webber</td><td>PW-19030</td><td>2017</td><td>333.8</td></tr><tr><td>Pierre Wener</td><td>PW-19240</td><td>2014</td><td>-86.27</td></tr><tr><td>Pierre Wener</td><td>PW-19240</td><td>2015</td><td>1378.01</td></tr><tr><td>Pierre Wener</td><td>PW-19240</td><td>2016</td><td>-0.59</td></tr><tr><td>Quincy Jones</td><td>QJ-19255</td><td>2014</td><td>120.04</td></tr><tr><td>Quincy Jones</td><td>QJ-19255</td><td>2015</td><td>1014.47</td></tr><tr><td>Quincy Jones</td><td>QJ-19255</td><td>2016</td><td>168.88</td></tr><tr><td>Quincy Jones</td><td>QJ-19255</td><td>2017</td><td>-99.7</td></tr><tr><td>Ralph Arnett</td><td>RA-19285</td><td>2014</td><td>0.0</td></tr><tr><td>Ralph Arnett</td><td>RA-19285</td><td>2015</td><td>234.81</td></tr><tr><td>Ralph Arnett</td><td>RA-19285</td><td>2016</td><td>-6.57</td></tr><tr><td>Ralph Arnett</td><td>RA-19285</td><td>2017</td><td>317.48</td></tr><tr><td>Ruben Ausman</td><td>RA-19885</td><td>2014</td><td>776.48</td></tr><tr><td>Ruben Ausman</td><td>RA-19885</td><td>2015</td><td>1.67</td></tr><tr><td>Ruben Ausman</td><td>RA-19885</td><td>2016</td><td>3.89</td></tr><tr><td>Ruben Ausman</td><td>RA-19885</td><td>2017</td><td>510.77</td></tr><tr><td>Russell Applegate</td><td>RA-19915</td><td>2014</td><td>278.43</td></tr><tr><td>Russell Applegate</td><td>RA-19915</td><td>2015</td><td>-118.15</td></tr><tr><td>Russell Applegate</td><td>RA-19915</td><td>2016</td><td>115.46</td></tr><tr><td>Russell Applegate</td><td>RA-19915</td><td>2017</td><td>29.55</td></tr><tr><td>Ryan Akin</td><td>RA-19945</td><td>2014</td><td>-436.73</td></tr><tr><td>Ryan Akin</td><td>RA-19945</td><td>2015</td><td>96.54</td></tr><tr><td>Ryan Akin</td><td>RA-19945</td><td>2017</td><td>-105.5</td></tr><tr><td>Randy Bradley</td><td>RB-19330</td><td>2014</td><td>-90.1</td></tr><tr><td>Randy Bradley</td><td>RB-19330</td><td>2017</td><td>-74.31</td></tr><tr><td>Raymond Buch</td><td>RB-19360</td><td>2016</td><td>195.46</td></tr><tr><td>Raymond Buch</td><td>RB-19360</td><td>2017</td><td>6780.9</td></tr><tr><td>Richard Bierner</td><td>RB-19435</td><td>2014</td><td>65.12</td></tr><tr><td>Richard Bierner</td><td>RB-19435</td><td>2015</td><td>49.57</td></tr><tr><td>Richard Bierner</td><td>RB-19435</td><td>2017</td><td>362.94</td></tr><tr><td>Rick Bensley</td><td>RB-19465</td><td>2014</td><td>336.96</td></tr><tr><td>Rick Bensley</td><td>RB-19465</td><td>2016</td><td>123.81</td></tr><tr><td>Rick Bensley</td><td>RB-19465</td><td>2017</td><td>179.78</td></tr><tr><td>Rob Beeghly</td><td>RB-19570</td><td>2016</td><td>-5.98</td></tr><tr><td>Rob Beeghly</td><td>RB-19570</td><td>2017</td><td>82.88</td></tr><tr><td>Robert Barroso</td><td>RB-19645</td><td>2014</td><td>24.92</td></tr><tr><td>Robert Barroso</td><td>RB-19645</td><td>2015</td><td>28.43</td></tr><tr><td>Robert Barroso</td><td>RB-19645</td><td>2016</td><td>19.33</td></tr><tr><td>Roger Barcio</td><td>RB-19705</td><td>2015</td><td>-82.78</td></tr><tr><td>Roger Barcio</td><td>RB-19705</td><td>2017</td><td>325.86</td></tr><tr><td>Ross Baird</td><td>RB-19795</td><td>2014</td><td>7.49</td></tr><tr><td>Ross Baird</td><td>RB-19795</td><td>2015</td><td>-18.46</td></tr><tr><td>Ross Baird</td><td>RB-19795</td><td>2016</td><td>51.79</td></tr><tr><td>Ross Baird</td><td>RB-19795</td><td>2017</td><td>-502.56</td></tr><tr><td>Roy Collins</td><td>RC-19825</td><td>2014</td><td>6.88</td></tr><tr><td>Roy Collins</td><td>RC-19825</td><td>2016</td><td>56.69</td></tr><tr><td>Ryan Crowe</td><td>RC-19960</td><td>2014</td><td>-98.43</td></tr><tr><td>Ryan Crowe</td><td>RC-19960</td><td>2016</td><td>102.93</td></tr><tr><td>Ryan Crowe</td><td>RC-19960</td><td>2017</td><td>6.04</td></tr><tr><td>Rick Duston</td><td>RD-19480</td><td>2014</td><td>109.52</td></tr><tr><td>Rick Duston</td><td>RD-19480</td><td>2015</td><td>25.41</td></tr><tr><td>Rick Duston</td><td>RD-19480</td><td>2016</td><td>69.39</td></tr><tr><td>Rick Duston</td><td>RD-19480</td><td>2017</td><td>276.27</td></tr><tr><td>Rob Dowd</td><td>RD-19585</td><td>2014</td><td>341.38</td></tr><tr><td>Rob Dowd</td><td>RD-19585</td><td>2015</td><td>302.64</td></tr><tr><td>Rob Dowd</td><td>RD-19585</td><td>2016</td><td>24.23</td></tr><tr><td>Rob Dowd</td><td>RD-19585</td><td>2017</td><td>66.27</td></tr><tr><td>Robert Dilbeck</td><td>RD-19660</td><td>2015</td><td>-73.41</td></tr><tr><td>Robert Dilbeck</td><td>RD-19660</td><td>2016</td><td>151.77</td></tr><tr><td>Robert Dilbeck</td><td>RD-19660</td><td>2017</td><td>757.41</td></tr><tr><td>Roger Demir</td><td>RD-19720</td><td>2014</td><td>73.68</td></tr><tr><td>Roger Demir</td><td>RD-19720</td><td>2015</td><td>23.85</td></tr><tr><td>Roger Demir</td><td>RD-19720</td><td>2016</td><td>31.2</td></tr><tr><td>Roger Demir</td><td>RD-19720</td><td>2017</td><td>78.99</td></tr><tr><td>Ross De Vincentis</td><td>RD-19810</td><td>2014</td><td>7.66</td></tr><tr><td>Ross De Vincentis</td><td>RD-19810</td><td>2016</td><td>115.76</td></tr><tr><td>Ross De Vincentis</td><td>RD-19810</td><td>2017</td><td>195.03</td></tr><tr><td>Ruben Dartt</td><td>RD-19900</td><td>2014</td><td>186.49</td></tr><tr><td>Ruben Dartt</td><td>RD-19900</td><td>2015</td><td>9.09</td></tr><tr><td>Ruben Dartt</td><td>RD-19900</td><td>2016</td><td>177.1</td></tr><tr><td>Ruben Dartt</td><td>RD-19900</td><td>2017</td><td>82.84</td></tr><tr><td>Russell D Ascenzo</td><td>RD-19930</td><td>2014</td><td>-23.29</td></tr><tr><td>Russell D Ascenzo</td><td>RD-19930</td><td>2015</td><td>39.0</td></tr><tr><td>Russell D Ascenzo</td><td>RD-19930</td><td>2017</td><td>19.33</td></tr><tr><td>Ricardo Emerson</td><td>RE-19405</td><td>2014</td><td>6.05</td></tr><tr><td>Richard Eichhorn</td><td>RE-19450</td><td>2014</td><td>-24.87</td></tr><tr><td>Richard Eichhorn</td><td>RE-19450</td><td>2015</td><td>211.06</td></tr><tr><td>Richard Eichhorn</td><td>RE-19450</td><td>2016</td><td>13.32</td></tr><tr><td>Richard Eichhorn</td><td>RE-19450</td><td>2017</td><td>9.74</td></tr><tr><td>Randy Ferguson</td><td>RF-19345</td><td>2014</td><td>92.94</td></tr><tr><td>Randy Ferguson</td><td>RF-19345</td><td>2015</td><td>102.01</td></tr><tr><td>Randy Ferguson</td><td>RF-19345</td><td>2016</td><td>438.73</td></tr><tr><td>Roland Fjeld</td><td>RF-19735</td><td>2014</td><td>22.65</td></tr><tr><td>Roland Fjeld</td><td>RF-19735</td><td>2015</td><td>187.1</td></tr><tr><td>Roland Fjeld</td><td>RF-19735</td><td>2016</td><td>110.62</td></tr><tr><td>Roland Fjeld</td><td>RF-19735</td><td>2017</td><td>391.47</td></tr><tr><td>Roy Franzsisch</td><td>RF-19840</td><td>2014</td><td>16.17</td></tr><tr><td>Roy Franzsisch</td><td>RF-19840</td><td>2015</td><td>0.06</td></tr><tr><td>Roy Franzsisch</td><td>RF-19840</td><td>2016</td><td>264.16</td></tr><tr><td>Roy Franzsisch</td><td>RF-19840</td><td>2017</td><td>-0.3</td></tr><tr><td>Rick Hansen</td><td>RH-19495</td><td>2014</td><td>34.94</td></tr><tr><td>Rick Hansen</td><td>RH-19495</td><td>2015</td><td>480.63</td></tr><tr><td>Rick Hansen</td><td>RH-19495</td><td>2017</td><td>48.21</td></tr><tr><td>Rick Huthwaite</td><td>RH-19510</td><td>2014</td><td>10.96</td></tr><tr><td>Rick Huthwaite</td><td>RH-19510</td><td>2015</td><td>125.67</td></tr><tr><td>Rick Huthwaite</td><td>RH-19510</td><td>2016</td><td>1152.82</td></tr><tr><td>Ritsa Hightower</td><td>RH-19555</td><td>2015</td><td>-6.03</td></tr><tr><td>Ritsa Hightower</td><td>RH-19555</td><td>2016</td><td>6.34</td></tr><tr><td>Rob Haberlin</td><td>RH-19600</td><td>2015</td><td>165.38</td></tr><tr><td>Rob Haberlin</td><td>RH-19600</td><td>2016</td><td>7.25</td></tr><tr><td>Ralph Kennedy</td><td>RK-19300</td><td>2015</td><td>265.58</td></tr><tr><td>Ralph Kennedy</td><td>RK-19300</td><td>2017</td><td>4.11</td></tr><tr><td>Rob Lucas</td><td>RL-19615</td><td>2014</td><td>42.29</td></tr><tr><td>Rob Lucas</td><td>RL-19615</td><td>2015</td><td>110.11</td></tr><tr><td>Rob Lucas</td><td>RL-19615</td><td>2016</td><td>-6.57</td></tr><tr><td>Rob Lucas</td><td>RL-19615</td><td>2017</td><td>68.15</td></tr><tr><td>Raymond Messe</td><td>RM-19375</td><td>2014</td><td>13.83</td></tr><tr><td>Raymond Messe</td><td>RM-19375</td><td>2015</td><td>19.97</td></tr><tr><td>Raymond Messe</td><td>RM-19375</td><td>2016</td><td>162.05</td></tr><tr><td>Raymond Messe</td><td>RM-19375</td><td>2017</td><td>196.75</td></tr><tr><td>Robert Marley</td><td>RM-19675</td><td>2014</td><td>200.12</td></tr><tr><td>Robert Marley</td><td>RM-19675</td><td>2015</td><td>660.52</td></tr><tr><td>Robert Marley</td><td>RM-19675</td><td>2017</td><td>1041.91</td></tr><tr><td>Roland Murray</td><td>RM-19750</td><td>2017</td><td>28.68</td></tr><tr><td>Rose O Brian</td><td>RO-19780</td><td>2015</td><td>-998.0</td></tr><tr><td>Rose O Brian</td><td>RO-19780</td><td>2016</td><td>-90.48</td></tr><tr><td>Rose O Brian</td><td>RO-19780</td><td>2017</td><td>-174.32</td></tr><tr><td>Rachel Payne</td><td>RP-19270</td><td>2014</td><td>97.86</td></tr><tr><td>Rachel Payne</td><td>RP-19270</td><td>2015</td><td>-50.04</td></tr><tr><td>Rachel Payne</td><td>RP-19270</td><td>2016</td><td>11.7</td></tr><tr><td>Resi Plking</td><td>RP-19390</td><td>2014</td><td>262.81</td></tr><tr><td>Resi Plking</td><td>RP-19390</td><td>2015</td><td>19.71</td></tr><tr><td>Resi Plking</td><td>RP-19390</td><td>2016</td><td>154.14</td></tr><tr><td>Resi Plking</td><td>RP-19390</td><td>2017</td><td>28.3</td></tr><tr><td>Roy Phan</td><td>RP-19855</td><td>2014</td><td>56.53</td></tr><tr><td>Roy Phan</td><td>RP-19855</td><td>2015</td><td>375.38</td></tr><tr><td>Roy Phan</td><td>RP-19855</td><td>2016</td><td>143.06</td></tr><tr><td>Roy Phan</td><td>RP-19855</td><td>2017</td><td>19.81</td></tr><tr><td>Ralph Ritter</td><td>RR-19315</td><td>2016</td><td>3.47</td></tr><tr><td>Ralph Ritter</td><td>RR-19315</td><td>2017</td><td>-77.3</td></tr><tr><td>Rick Reed</td><td>RR-19525</td><td>2014</td><td>543.57</td></tr><tr><td>Rick Reed</td><td>RR-19525</td><td>2015</td><td>32.5</td></tr><tr><td>Rick Reed</td><td>RR-19525</td><td>2016</td><td>45.68</td></tr><tr><td>Rick Reed</td><td>RR-19525</td><td>2017</td><td>99.94</td></tr><tr><td>Ricardo Sperren</td><td>RS-19420</td><td>2014</td><td>318.93</td></tr><tr><td>Ricardo Sperren</td><td>RS-19420</td><td>2016</td><td>14.42</td></tr><tr><td>Ricardo Sperren</td><td>RS-19420</td><td>2017</td><td>300.1</td></tr><tr><td>Roland Schwarz</td><td>RS-19765</td><td>2014</td><td>552.0</td></tr><tr><td>Roland Schwarz</td><td>RS-19765</td><td>2015</td><td>5.01</td></tr><tr><td>Roland Schwarz</td><td>RS-19765</td><td>2017</td><td>649.38</td></tr><tr><td>Roy Skaria</td><td>RS-19870</td><td>2016</td><td>3.5</td></tr><tr><td>Roy Skaria</td><td>RS-19870</td><td>2017</td><td>6.08</td></tr><tr><td>Rick Wilson</td><td>RW-19540</td><td>2015</td><td>-74.62</td></tr><tr><td>Rick Wilson</td><td>RW-19540</td><td>2017</td><td>1660.85</td></tr><tr><td>Rob Williams</td><td>RW-19630</td><td>2014</td><td>30.78</td></tr><tr><td>Rob Williams</td><td>RW-19630</td><td>2016</td><td>346.37</td></tr><tr><td>Rob Williams</td><td>RW-19630</td><td>2017</td><td>321.91</td></tr><tr><td>Robert Waldorf</td><td>RW-19690</td><td>2016</td><td>-2.63</td></tr><tr><td>Robert Waldorf</td><td>RW-19690</td><td>2017</td><td>710.18</td></tr><tr><td>Sue Ann Reed</td><td>SA-20830</td><td>2014</td><td>351.32</td></tr><tr><td>Sue Ann Reed</td><td>SA-20830</td><td>2015</td><td>98.08</td></tr><tr><td>Sue Ann Reed</td><td>SA-20830</td><td>2016</td><td>-17.11</td></tr><tr><td>Sue Ann Reed</td><td>SA-20830</td><td>2017</td><td>177.85</td></tr><tr><td>Sarah Bern</td><td>SB-20170</td><td>2014</td><td>-33.39</td></tr><tr><td>Sarah Bern</td><td>SB-20170</td><td>2017</td><td>191.07</td></tr><tr><td>Sarah Brown</td><td>SB-20185</td><td>2014</td><td>-66.52</td></tr><tr><td>Sarah Brown</td><td>SB-20185</td><td>2015</td><td>939.16</td></tr><tr><td>Sarah Brown</td><td>SB-20185</td><td>2017</td><td>13.32</td></tr><tr><td>Sean Braxton</td><td>SB-20290</td><td>2014</td><td>-1272.35</td></tr><tr><td>Sean Braxton</td><td>SB-20290</td><td>2015</td><td>79.76</td></tr><tr><td>Sean Braxton</td><td>SB-20290</td><td>2016</td><td>16.89</td></tr><tr><td>Sean Braxton</td><td>SB-20290</td><td>2017</td><td>-907.05</td></tr><tr><td>Sam Craven</td><td>SC-20020</td><td>2014</td><td>-360.83</td></tr><tr><td>Sam Craven</td><td>SC-20020</td><td>2015</td><td>43.32</td></tr><tr><td>Sample Company A</td><td>SC-20050</td><td>2014</td><td>764.53</td></tr><tr><td>Sample Company A</td><td>SC-20050</td><td>2015</td><td>9.1</td></tr><tr><td>Sample Company A</td><td>SC-20050</td><td>2016</td><td>146.65</td></tr><tr><td>Sample Company A</td><td>SC-20050</td><td>2017</td><td>91.45</td></tr><tr><td>Sanjit Chand</td><td>SC-20095</td><td>2014</td><td>5462.59</td></tr><tr><td>Sanjit Chand</td><td>SC-20095</td><td>2015</td><td>92.68</td></tr><tr><td>Sanjit Chand</td><td>SC-20095</td><td>2016</td><td>196.19</td></tr><tr><td>Sanjit Chand</td><td>SC-20095</td><td>2017</td><td>5.84</td></tr><tr><td>Scot Coram</td><td>SC-20230</td><td>2016</td><td>435.65</td></tr><tr><td>Scot Coram</td><td>SC-20230</td><td>2017</td><td>4.18</td></tr><tr><td>Scott Cohen</td><td>SC-20260</td><td>2014</td><td>96.77</td></tr><tr><td>Scott Cohen</td><td>SC-20260</td><td>2015</td><td>373.95</td></tr><tr><td>Scott Cohen</td><td>SC-20260</td><td>2017</td><td>200.26</td></tr><tr><td>Sean Christensen</td><td>SC-20305</td><td>2014</td><td>93.4</td></tr><tr><td>Sean Christensen</td><td>SC-20305</td><td>2015</td><td>0.0</td></tr><tr><td>Sean Christensen</td><td>SC-20305</td><td>2016</td><td>37.46</td></tr><tr><td>Sean Christensen</td><td>SC-20305</td><td>2017</td><td>98.25</td></tr><tr><td>Shahi Collister</td><td>SC-20380</td><td>2014</td><td>-3462.2</td></tr><tr><td>Shahi Collister</td><td>SC-20380</td><td>2015</td><td>52.91</td></tr><tr><td>Shahi Collister</td><td>SC-20380</td><td>2016</td><td>-25.0</td></tr><tr><td>Shahi Collister</td><td>SC-20380</td><td>2017</td><td>270.29</td></tr><tr><td>Shaun Chance</td><td>SC-20440</td><td>2015</td><td>375.28</td></tr><tr><td>Shaun Chance</td><td>SC-20440</td><td>2017</td><td>4.29</td></tr><tr><td>Sonia Cooley</td><td>SC-20575</td><td>2014</td><td>32.39</td></tr><tr><td>Sonia Cooley</td><td>SC-20575</td><td>2015</td><td>-2.43</td></tr><tr><td>Sonia Cooley</td><td>SC-20575</td><td>2017</td><td>70.27</td></tr><tr><td>Steve Carroll</td><td>SC-20680</td><td>2014</td><td>31.53</td></tr><tr><td>Steve Carroll</td><td>SC-20680</td><td>2015</td><td>213.7</td></tr><tr><td>Steve Carroll</td><td>SC-20680</td><td>2016</td><td>109.82</td></tr><tr><td>Steve Carroll</td><td>SC-20680</td><td>2017</td><td>15.12</td></tr><tr><td>Steve Chapman</td><td>SC-20695</td><td>2014</td><td>52.53</td></tr><tr><td>Steve Chapman</td><td>SC-20695</td><td>2015</td><td>222.93</td></tr><tr><td>Steve Chapman</td><td>SC-20695</td><td>2016</td><td>347.96</td></tr><tr><td>Steve Chapman</td><td>SC-20695</td><td>2017</td><td>-11.6</td></tr><tr><td>Steven Cartwright</td><td>SC-20725</td><td>2014</td><td>114.84</td></tr><tr><td>Steven Cartwright</td><td>SC-20725</td><td>2015</td><td>404.63</td></tr><tr><td>Steven Cartwright</td><td>SC-20725</td><td>2016</td><td>273.18</td></tr><tr><td>Steven Cartwright</td><td>SC-20725</td><td>2017</td><td>483.77</td></tr><tr><td>Stewart Carmichael</td><td>SC-20770</td><td>2015</td><td>147.72</td></tr><tr><td>Stewart Carmichael</td><td>SC-20770</td><td>2016</td><td>-734.27</td></tr><tr><td>Stewart Carmichael</td><td>SC-20770</td><td>2017</td><td>-84.83</td></tr><tr><td>Stuart Calhoun</td><td>SC-20800</td><td>2015</td><td>40.63</td></tr><tr><td>Stuart Calhoun</td><td>SC-20800</td><td>2016</td><td>9.0</td></tr><tr><td>Stuart Calhoun</td><td>SC-20800</td><td>2017</td><td>2.58</td></tr><tr><td>Sung Chung</td><td>SC-20845</td><td>2016</td><td>1.23</td></tr><tr><td>Sung Chung</td><td>SC-20845</td><td>2017</td><td>29.95</td></tr><tr><td>Shirley Daniels</td><td>SD-20485</td><td>2014</td><td>122.77</td></tr><tr><td>Shirley Daniels</td><td>SD-20485</td><td>2015</td><td>1954.8</td></tr><tr><td>Shirley Daniels</td><td>SD-20485</td><td>2016</td><td>20.82</td></tr><tr><td>Shirley Daniels</td><td>SD-20485</td><td>2017</td><td>-113.2</td></tr><tr><td>Sanjit Engle</td><td>SE-20110</td><td>2014</td><td>54.41</td></tr><tr><td>Sanjit Engle</td><td>SE-20110</td><td>2015</td><td>159.32</td></tr><tr><td>Sanjit Engle</td><td>SE-20110</td><td>2016</td><td>2673.77</td></tr><tr><td>Sanjit Engle</td><td>SE-20110</td><td>2017</td><td>-236.83</td></tr><tr><td>Sandra Flanagan</td><td>SF-20065</td><td>2014</td><td>98.59</td></tr><tr><td>Sandra Flanagan</td><td>SF-20065</td><td>2015</td><td>15.98</td></tr><tr><td>Sandra Flanagan</td><td>SF-20065</td><td>2016</td><td>3.06</td></tr><tr><td>Sandra Flanagan</td><td>SF-20065</td><td>2017</td><td>110.13</td></tr><tr><td>Sarah Foster</td><td>SF-20200</td><td>2014</td><td>58.03</td></tr><tr><td>Sarah Foster</td><td>SF-20200</td><td>2015</td><td>-87.01</td></tr><tr><td>Sarah Foster</td><td>SF-20200</td><td>2016</td><td>21.14</td></tr><tr><td>Sarah Foster</td><td>SF-20200</td><td>2017</td><td>294.84</td></tr><tr><td>Sylvia Foulston</td><td>SF-20965</td><td>2014</td><td>12.27</td></tr><tr><td>Sylvia Foulston</td><td>SF-20965</td><td>2015</td><td>448.98</td></tr><tr><td>Sylvia Foulston</td><td>SF-20965</td><td>2016</td><td>70.2</td></tr><tr><td>Sylvia Foulston</td><td>SF-20965</td><td>2017</td><td>8.49</td></tr><tr><td>Sandra Glassco</td><td>SG-20080</td><td>2015</td><td>352.2</td></tr><tr><td>Sandra Glassco</td><td>SG-20080</td><td>2017</td><td>218.25</td></tr><tr><td>Sheri Gordon</td><td>SG-20470</td><td>2014</td><td>150.92</td></tr><tr><td>Sheri Gordon</td><td>SG-20470</td><td>2015</td><td>44.5</td></tr><tr><td>Sheri Gordon</td><td>SG-20470</td><td>2016</td><td>-18.45</td></tr><tr><td>Sheri Gordon</td><td>SG-20470</td><td>2017</td><td>-295.98</td></tr><tr><td>Speros Goranitis</td><td>SG-20605</td><td>2014</td><td>274.85</td></tr><tr><td>Speros Goranitis</td><td>SG-20605</td><td>2015</td><td>162.96</td></tr><tr><td>Speros Goranitis</td><td>SG-20605</td><td>2017</td><td>25.46</td></tr><tr><td>Susan Gilcrest</td><td>SG-20890</td><td>2014</td><td>2.94</td></tr><tr><td>Susan Gilcrest</td><td>SG-20890</td><td>2016</td><td>6.63</td></tr><tr><td>Susan Gilcrest</td><td>SG-20890</td><td>2017</td><td>-13.27</td></tr><tr><td>Na N</td><td>SH-19975</td><td>2014</td><td>54.47</td></tr><tr><td>Na N</td><td>SH-19975</td><td>2015</td><td>51.87</td></tr><tr><td>Na N</td><td>SH-19975</td><td>2016</td><td>317.46</td></tr><tr><td>Na N</td><td>SH-19975</td><td>2017</td><td>129.85</td></tr><tr><td>Shahi Hopkins</td><td>SH-20395</td><td>2014</td><td>-252.19</td></tr><tr><td>Shahi Hopkins</td><td>SH-20395</td><td>2015</td><td>2.24</td></tr><tr><td>Shahi Hopkins</td><td>SH-20395</td><td>2016</td><td>-1.48</td></tr><tr><td>Shahi Hopkins</td><td>SH-20395</td><td>2017</td><td>106.91</td></tr><tr><td>Stefanie Holloman</td><td>SH-20635</td><td>2014</td><td>70.2</td></tr><tr><td>Stefanie Holloman</td><td>SH-20635</td><td>2015</td><td>190.43</td></tr><tr><td>Sanjit Jacobs</td><td>SJ-20125</td><td>2015</td><td>-65.82</td></tr><tr><td>Sanjit Jacobs</td><td>SJ-20125</td><td>2016</td><td>266.13</td></tr><tr><td>Sanjit Jacobs</td><td>SJ-20125</td><td>2017</td><td>-56.58</td></tr><tr><td>Sarah Jordon</td><td>SJ-20215</td><td>2015</td><td>5.9</td></tr><tr><td>Sarah Jordon</td><td>SJ-20215</td><td>2016</td><td>-3.24</td></tr><tr><td>Sarah Jordon</td><td>SJ-20215</td><td>2017</td><td>-26.04</td></tr><tr><td>Shirley Jackson</td><td>SJ-20500</td><td>2014</td><td>57.93</td></tr><tr><td>Shirley Jackson</td><td>SJ-20500</td><td>2016</td><td>253.82</td></tr><tr><td>Shirley Jackson</td><td>SJ-20500</td><td>2017</td><td>-243.16</td></tr><tr><td>Sally Knutson</td><td>SK-19990</td><td>2016</td><td>3.44</td></tr><tr><td>Sally Knutson</td><td>SK-19990</td><td>2017</td><td>165.35</td></tr><tr><td>Sara Luxemburg</td><td>SL-20155</td><td>2014</td><td>22.25</td></tr><tr><td>Sara Luxemburg</td><td>SL-20155</td><td>2015</td><td>64.77</td></tr><tr><td>Sara Luxemburg</td><td>SL-20155</td><td>2016</td><td>3.11</td></tr><tr><td>Sara Luxemburg</td><td>SL-20155</td><td>2017</td><td>437.91</td></tr><tr><td>Sally Matthias</td><td>SM-20005</td><td>2014</td><td>51.25</td></tr><tr><td>Sally Matthias</td><td>SM-20005</td><td>2016</td><td>-77.84</td></tr><tr><td>Sean Miller</td><td>SM-20320</td><td>2014</td><td>-1789.74</td></tr><tr><td>Sean Miller</td><td>SM-20320</td><td>2015</td><td>-225.52</td></tr><tr><td>Sean Miller</td><td>SM-20320</td><td>2017</td><td>34.28</td></tr><tr><td>Susan Mac Kendrick</td><td>SM-20905</td><td>2016</td><td>-16510.34</td></tr><tr><td>Suzanne Mc Nair</td><td>SM-20950</td><td>2014</td><td>-372.11</td></tr><tr><td>Suzanne Mc Nair</td><td>SM-20950</td><td>2015</td><td>468.4</td></tr><tr><td>Suzanne Mc Nair</td><td>SM-20950</td><td>2016</td><td>43.0</td></tr><tr><td>Suzanne Mc Nair</td><td>SM-20950</td><td>2017</td><td>442.28</td></tr><tr><td>Skye Norling</td><td>SN-20560</td><td>2015</td><td>184.58</td></tr><tr><td>Skye Norling</td><td>SN-20560</td><td>2016</td><td>229.01</td></tr><tr><td>Skye Norling</td><td>SN-20560</td><td>2017</td><td>-1130.43</td></tr><tr><td>Steve Nguyen</td><td>SN-20710</td><td>2014</td><td>32.94</td></tr><tr><td>Steve Nguyen</td><td>SN-20710</td><td>2015</td><td>91.22</td></tr><tr><td>Steve Nguyen</td><td>SN-20710</td><td>2016</td><td>375.78</td></tr><tr><td>Steve Nguyen</td><td>SN-20710</td><td>2017</td><td>-18.19</td></tr><tr><td>Sean O Donnell</td><td>SO-20335</td><td>2015</td><td>-282.31</td></tr><tr><td>Sean O Donnell</td><td>SO-20335</td><td>2017</td><td>200.89</td></tr><tr><td>Sibella Parks</td><td>SP-20545</td><td>2014</td><td>2.81</td></tr><tr><td>Sibella Parks</td><td>SP-20545</td><td>2016</td><td>-203.15</td></tr><tr><td>Sibella Parks</td><td>SP-20545</td><td>2017</td><td>81.96</td></tr><tr><td>Stefania Perrino</td><td>SP-20620</td><td>2014</td><td>67.46</td></tr><tr><td>Stefania Perrino</td><td>SP-20620</td><td>2015</td><td>-0.62</td></tr><tr><td>Stefania Perrino</td><td>SP-20620</td><td>2016</td><td>-171.23</td></tr><tr><td>Stefania Perrino</td><td>SP-20620</td><td>2017</td><td>-165.8</td></tr><tr><td>Stephanie Phelps</td><td>SP-20650</td><td>2014</td><td>72.4</td></tr><tr><td>Stephanie Phelps</td><td>SP-20650</td><td>2015</td><td>95.84</td></tr><tr><td>Stephanie Phelps</td><td>SP-20650</td><td>2016</td><td>100.23</td></tr><tr><td>Sung Pak</td><td>SP-20860</td><td>2014</td><td>1.19</td></tr><tr><td>Sung Pak</td><td>SP-20860</td><td>2015</td><td>-65.06</td></tr><tr><td>Sung Pak</td><td>SP-20860</td><td>2016</td><td>619.14</td></tr><tr><td>Sung Pak</td><td>SP-20860</td><td>2017</td><td>11.85</td></tr><tr><td>Susan Pistek</td><td>SP-20920</td><td>2014</td><td>24.22</td></tr><tr><td>Susan Pistek</td><td>SP-20920</td><td>2016</td><td>8.7</td></tr><tr><td>Susan Pistek</td><td>SP-20920</td><td>2017</td><td>-18.55</td></tr><tr><td>Sharelle Roach</td><td>SR-20425</td><td>2014</td><td>57.49</td></tr><tr><td>Sharelle Roach</td><td>SR-20425</td><td>2017</td><td>-3391.66</td></tr><tr><td>Steven Roelle</td><td>SR-20740</td><td>2014</td><td>130.18</td></tr><tr><td>Steven Roelle</td><td>SR-20740</td><td>2015</td><td>2.4</td></tr><tr><td>Steven Roelle</td><td>SR-20740</td><td>2016</td><td>181.53</td></tr><tr><td>Steven Roelle</td><td>SR-20740</td><td>2017</td><td>1676.32</td></tr><tr><td>Saphhira Shifley</td><td>SS-20140</td><td>2014</td><td>-88.04</td></tr><tr><td>Saphhira Shifley</td><td>SS-20140</td><td>2015</td><td>25.79</td></tr><tr><td>Saphhira Shifley</td><td>SS-20140</td><td>2016</td><td>6.55</td></tr><tr><td>Saphhira Shifley</td><td>SS-20140</td><td>2017</td><td>387.73</td></tr><tr><td>Shahi Shariari</td><td>SS-20410</td><td>2014</td><td>-565.75</td></tr><tr><td>Shahi Shariari</td><td>SS-20410</td><td>2015</td><td>-504.24</td></tr><tr><td>Shahi Shariari</td><td>SS-20410</td><td>2017</td><td>58.91</td></tr><tr><td>Shirley Schmidt</td><td>SS-20515</td><td>2014</td><td>11.05</td></tr><tr><td>Shirley Schmidt</td><td>SS-20515</td><td>2015</td><td>174.01</td></tr><tr><td>Shirley Schmidt</td><td>SS-20515</td><td>2016</td><td>14.87</td></tr><tr><td>Sonia Sunley</td><td>SS-20590</td><td>2014</td><td>15.51</td></tr><tr><td>Sonia Sunley</td><td>SS-20590</td><td>2015</td><td>8.02</td></tr><tr><td>Sonia Sunley</td><td>SS-20590</td><td>2016</td><td>112.38</td></tr><tr><td>Sung Shariari</td><td>SS-20875</td><td>2014</td><td>-9.15</td></tr><tr><td>Sung Shariari</td><td>SS-20875</td><td>2015</td><td>-79.33</td></tr><tr><td>Sung Shariari</td><td>SS-20875</td><td>2016</td><td>-1.91</td></tr><tr><td>Sung Shariari</td><td>SS-20875</td><td>2017</td><td>14.82</td></tr><tr><td>Shui Tom</td><td>ST-20530</td><td>2014</td><td>45.32</td></tr><tr><td>Shui Tom</td><td>ST-20530</td><td>2015</td><td>27.01</td></tr><tr><td>Shui Tom</td><td>ST-20530</td><td>2017</td><td>12.79</td></tr><tr><td>Stephanie Ulpright</td><td>SU-20665</td><td>2015</td><td>76.4</td></tr><tr><td>Stephanie Ulpright</td><td>SU-20665</td><td>2016</td><td>64.19</td></tr><tr><td>Stephanie Ulpright</td><td>SU-20665</td><td>2017</td><td>623.11</td></tr><tr><td>Seth Vernon</td><td>SV-20365</td><td>2014</td><td>-218.93</td></tr><tr><td>Seth Vernon</td><td>SV-20365</td><td>2015</td><td>-191.64</td></tr><tr><td>Seth Vernon</td><td>SV-20365</td><td>2016</td><td>39.77</td></tr><tr><td>Seth Vernon</td><td>SV-20365</td><td>2017</td><td>1570.94</td></tr><tr><td>Stewart Visinsky</td><td>SV-20785</td><td>2014</td><td>189.13</td></tr><tr><td>Stewart Visinsky</td><td>SV-20785</td><td>2015</td><td>209.66</td></tr><tr><td>Stewart Visinsky</td><td>SV-20785</td><td>2016</td><td>76.77</td></tr><tr><td>Stewart Visinsky</td><td>SV-20785</td><td>2017</td><td>9.29</td></tr><tr><td>Stuart Van</td><td>SV-20815</td><td>2015</td><td>184.2</td></tr><tr><td>Stuart Van</td><td>SV-20815</td><td>2016</td><td>11.24</td></tr><tr><td>Stuart Van</td><td>SV-20815</td><td>2017</td><td>4.2</td></tr><tr><td>Susan Vittorini</td><td>SV-20935</td><td>2016</td><td>-30.2</td></tr><tr><td>Susan Vittorini</td><td>SV-20935</td><td>2017</td><td>136.82</td></tr><tr><td>Scot Wooten</td><td>SW-20245</td><td>2014</td><td>-27.2</td></tr><tr><td>Scot Wooten</td><td>SW-20245</td><td>2015</td><td>-10.84</td></tr><tr><td>Scot Wooten</td><td>SW-20245</td><td>2016</td><td>82.53</td></tr><tr><td>Scot Wooten</td><td>SW-20245</td><td>2017</td><td>-64.07</td></tr><tr><td>Scott Williamson</td><td>SW-20275</td><td>2014</td><td>11.0</td></tr><tr><td>Scott Williamson</td><td>SW-20275</td><td>2016</td><td>221.48</td></tr><tr><td>Scott Williamson</td><td>SW-20275</td><td>2017</td><td>100.28</td></tr><tr><td>Sean Wendt</td><td>SW-20350</td><td>2016</td><td>146.09</td></tr><tr><td>Sean Wendt</td><td>SW-20350</td><td>2017</td><td>-50.25</td></tr><tr><td>Shaun Weien</td><td>SW-20455</td><td>2015</td><td>618.44</td></tr><tr><td>Shaun Weien</td><td>SW-20455</td><td>2016</td><td>125.2</td></tr><tr><td>Shaun Weien</td><td>SW-20455</td><td>2017</td><td>50.0</td></tr><tr><td>Steven Ward</td><td>SW-20755</td><td>2014</td><td>19.72</td></tr><tr><td>Steven Ward</td><td>SW-20755</td><td>2016</td><td>48.52</td></tr><tr><td>Sam Zeldin</td><td>SZ-20035</td><td>2014</td><td>6.49</td></tr><tr><td>Sam Zeldin</td><td>SZ-20035</td><td>2015</td><td>260.19</td></tr><tr><td>Sam Zeldin</td><td>SZ-20035</td><td>2016</td><td>49.32</td></tr><tr><td>Sam Zeldin</td><td>SZ-20035</td><td>2017</td><td>50.42</td></tr><tr><td>Tom Ashbrook</td><td>TA-21385</td><td>2014</td><td>180.52</td></tr><tr><td>Tom Ashbrook</td><td>TA-21385</td><td>2016</td><td>-76.0</td></tr><tr><td>Tom Ashbrook</td><td>TA-21385</td><td>2017</td><td>4599.21</td></tr><tr><td>Ted Butterfield</td><td>TB-21055</td><td>2016</td><td>267.71</td></tr><tr><td>Ted Butterfield</td><td>TB-21055</td><td>2017</td><td>122.05</td></tr><tr><td>Thomas Boland</td><td>TB-21175</td><td>2014</td><td>6.04</td></tr><tr><td>Thomas Boland</td><td>TB-21175</td><td>2016</td><td>-6.98</td></tr><tr><td>Thomas Boland</td><td>TB-21175</td><td>2017</td><td>829.65</td></tr><tr><td>Thomas Brumley</td><td>TB-21190</td><td>2014</td><td>161.97</td></tr><tr><td>Thomas Brumley</td><td>TB-21190</td><td>2015</td><td>3.06</td></tr><tr><td>Thomas Brumley</td><td>TB-21190</td><td>2017</td><td>13.98</td></tr><tr><td>Tim Brockman</td><td>TB-21250</td><td>2014</td><td>13.81</td></tr><tr><td>Tim Brockman</td><td>TB-21250</td><td>2015</td><td>318.53</td></tr><tr><td>Tim Brockman</td><td>TB-21250</td><td>2016</td><td>-40.36</td></tr><tr><td>Tim Brockman</td><td>TB-21250</td><td>2017</td><td>-31.68</td></tr><tr><td>Toby Braunhardt</td><td>TB-21280</td><td>2014</td><td>200.15</td></tr><tr><td>Toby Braunhardt</td><td>TB-21280</td><td>2016</td><td>290.98</td></tr><tr><td>Todd Boyes</td><td>TB-21355</td><td>2016</td><td>62.39</td></tr><tr><td>Todd Boyes</td><td>TB-21355</td><td>2017</td><td>206.57</td></tr><tr><td>Tom Boeckenhauer</td><td>TB-21400</td><td>2014</td><td>2567.33</td></tr><tr><td>Tom Boeckenhauer</td><td>TB-21400</td><td>2016</td><td>12.18</td></tr><tr><td>Tom Boeckenhauer</td><td>TB-21400</td><td>2017</td><td>218.55</td></tr><tr><td>Tracy Blumstein</td><td>TB-21520</td><td>2014</td><td>-125.24</td></tr><tr><td>Tracy Blumstein</td><td>TB-21520</td><td>2015</td><td>-1524.02</td></tr><tr><td>Tracy Blumstein</td><td>TB-21520</td><td>2016</td><td>3.95</td></tr><tr><td>Tracy Blumstein</td><td>TB-21520</td><td>2017</td><td>42.26</td></tr><tr><td>Troy Blackwell</td><td>TB-21595</td><td>2014</td><td>6.75</td></tr><tr><td>Troy Blackwell</td><td>TB-21595</td><td>2016</td><td>-144.59</td></tr><tr><td>Troy Blackwell</td><td>TB-21595</td><td>2017</td><td>1.37</td></tr><tr><td>Trudy Brown</td><td>TB-21625</td><td>2014</td><td>83.99</td></tr><tr><td>Trudy Brown</td><td>TB-21625</td><td>2015</td><td>-8.47</td></tr><tr><td>Trudy Brown</td><td>TB-21625</td><td>2016</td><td>70.93</td></tr><tr><td>Trudy Brown</td><td>TB-21625</td><td>2017</td><td>233.36</td></tr><tr><td>Tamara Chand</td><td>TC-20980</td><td>2014</td><td>178.65</td></tr><tr><td>Tamara Chand</td><td>TC-20980</td><td>2015</td><td>37.72</td></tr><tr><td>Tamara Chand</td><td>TC-20980</td><td>2016</td><td>8764.95</td></tr><tr><td>Theresa Coyne</td><td>TC-21145</td><td>2017</td><td>265.59</td></tr><tr><td>Toby Carlisle</td><td>TC-21295</td><td>2014</td><td>402.54</td></tr><tr><td>Toby Carlisle</td><td>TC-21295</td><td>2016</td><td>-27.83</td></tr><tr><td>Toby Carlisle</td><td>TC-21295</td><td>2017</td><td>231.66</td></tr><tr><td>Tony Chapman</td><td>TC-21475</td><td>2014</td><td>-16.47</td></tr><tr><td>Tony Chapman</td><td>TC-21475</td><td>2015</td><td>27.0</td></tr><tr><td>Tony Chapman</td><td>TC-21475</td><td>2016</td><td>32.39</td></tr><tr><td>Tony Chapman</td><td>TC-21475</td><td>2017</td><td>76.21</td></tr><tr><td>Tracy Collins</td><td>TC-21535</td><td>2014</td><td>3.36</td></tr><tr><td>Tracy Collins</td><td>TC-21535</td><td>2015</td><td>30.65</td></tr><tr><td>Tracy Collins</td><td>TC-21535</td><td>2016</td><td>161.53</td></tr><tr><td>Tracy Collins</td><td>TC-21535</td><td>2017</td><td>22.41</td></tr><tr><td>Tamara Dahlen</td><td>TD-20995</td><td>2014</td><td>9.23</td></tr><tr><td>Tamara Dahlen</td><td>TD-20995</td><td>2015</td><td>-4.52</td></tr><tr><td>Tamara Dahlen</td><td>TD-20995</td><td>2016</td><td>70.25</td></tr><tr><td>Tamara Dahlen</td><td>TD-20995</td><td>2017</td><td>13.68</td></tr><tr><td>Toby Gnade</td><td>TG-21310</td><td>2015</td><td>-198.33</td></tr><tr><td>Toby Gnade</td><td>TG-21310</td><td>2016</td><td>844.64</td></tr><tr><td>Toby Gnade</td><td>TG-21310</td><td>2017</td><td>35.86</td></tr><tr><td>Trudy Glocke</td><td>TG-21640</td><td>2014</td><td>89.42</td></tr><tr><td>Trudy Glocke</td><td>TG-21640</td><td>2015</td><td>191.28</td></tr><tr><td>Trudy Glocke</td><td>TG-21640</td><td>2017</td><td>84.42</td></tr><tr><td>Thea Hendricks</td><td>TH-21100</td><td>2014</td><td>-155.27</td></tr><tr><td>Thea Hendricks</td><td>TH-21100</td><td>2015</td><td>0.81</td></tr><tr><td>Thea Hendricks</td><td>TH-21100</td><td>2016</td><td>9.19</td></tr><tr><td>Thea Hendricks</td><td>TH-21100</td><td>2017</td><td>10.05</td></tr><tr><td>Thea Hudgings</td><td>TH-21115</td><td>2014</td><td>5.45</td></tr><tr><td>Thea Hudgings</td><td>TH-21115</td><td>2016</td><td>-76.64</td></tr><tr><td>Thea Hudgings</td><td>TH-21115</td><td>2017</td><td>-181.36</td></tr><tr><td>Tiffany House</td><td>TH-21235</td><td>2014</td><td>-2.93</td></tr><tr><td>Tiffany House</td><td>TH-21235</td><td>2016</td><td>70.78</td></tr><tr><td>Tiffany House</td><td>TH-21235</td><td>2017</td><td>24.7</td></tr><tr><td>Tracy Hopkins</td><td>TH-21550</td><td>2014</td><td>26.63</td></tr><tr><td>Tracy Hopkins</td><td>TH-21550</td><td>2015</td><td>391.56</td></tr><tr><td>Tracy Hopkins</td><td>TH-21550</td><td>2017</td><td>-990.17</td></tr><tr><td>Tamara Manning</td><td>TM-21010</td><td>2014</td><td>112.58</td></tr><tr><td>Tamara Manning</td><td>TM-21010</td><td>2015</td><td>255.04</td></tr><tr><td>Tamara Manning</td><td>TM-21010</td><td>2017</td><td>205.84</td></tr><tr><td>Tony Molinari</td><td>TM-21490</td><td>2017</td><td>292.53</td></tr><tr><td>Tanja Norvell</td><td>TN-21040</td><td>2014</td><td>21.25</td></tr><tr><td>Tanja Norvell</td><td>TN-21040</td><td>2015</td><td>167.98</td></tr><tr><td>Tanja Norvell</td><td>TN-21040</td><td>2016</td><td>-903.28</td></tr><tr><td>Tanja Norvell</td><td>TN-21040</td><td>2017</td><td>22.0</td></tr><tr><td>Theone Pippenger</td><td>TP-21130</td><td>2015</td><td>-1.85</td></tr><tr><td>Theone Pippenger</td><td>TP-21130</td><td>2016</td><td>376.74</td></tr><tr><td>Theone Pippenger</td><td>TP-21130</td><td>2017</td><td>753.76</td></tr><tr><td>Tom Prescott</td><td>TP-21415</td><td>2015</td><td>64.52</td></tr><tr><td>Tom Prescott</td><td>TP-21415</td><td>2016</td><td>-91.11</td></tr><tr><td>Tom Prescott</td><td>TP-21415</td><td>2017</td><td>-1060.79</td></tr><tr><td>Tracy Poddar</td><td>TP-21565</td><td>2015</td><td>34.74</td></tr><tr><td>Tracy Poddar</td><td>TP-21565</td><td>2016</td><td>104.74</td></tr><tr><td>Tracy Poddar</td><td>TP-21565</td><td>2017</td><td>-0.04</td></tr><tr><td>Toby Ritter</td><td>TR-21325</td><td>2014</td><td>28.52</td></tr><tr><td>Toby Ritter</td><td>TR-21325</td><td>2016</td><td>115.04</td></tr><tr><td>Toby Ritter</td><td>TR-21325</td><td>2017</td><td>76.8</td></tr><tr><td>Thais Sissman</td><td>TS-21085</td><td>2015</td><td>-1.35</td></tr><tr><td>Thais Sissman</td><td>TS-21085</td><td>2017</td><td>-1.97</td></tr><tr><td>Theresa Swint</td><td>TS-21160</td><td>2014</td><td>-2.0</td></tr><tr><td>Theresa Swint</td><td>TS-21160</td><td>2015</td><td>311.54</td></tr><tr><td>Theresa Swint</td><td>TS-21160</td><td>2016</td><td>-48.91</td></tr><tr><td>Thomas Seio</td><td>TS-21205</td><td>2014</td><td>471.81</td></tr><tr><td>Thomas Seio</td><td>TS-21205</td><td>2016</td><td>104.77</td></tr><tr><td>Thomas Seio</td><td>TS-21205</td><td>2017</td><td>286.36</td></tr><tr><td>Toby Swindell</td><td>TS-21340</td><td>2014</td><td>-285.0</td></tr><tr><td>Toby Swindell</td><td>TS-21340</td><td>2015</td><td>92.71</td></tr><tr><td>Toby Swindell</td><td>TS-21340</td><td>2017</td><td>7.29</td></tr><tr><td>Todd Sumrall</td><td>TS-21370</td><td>2014</td><td>18.62</td></tr><tr><td>Todd Sumrall</td><td>TS-21370</td><td>2015</td><td>1135.1</td></tr><tr><td>Todd Sumrall</td><td>TS-21370</td><td>2017</td><td>1218.01</td></tr><tr><td>Tom Stivers</td><td>TS-21430</td><td>2014</td><td>17.14</td></tr><tr><td>Tom Stivers</td><td>TS-21430</td><td>2016</td><td>17.05</td></tr><tr><td>Tom Stivers</td><td>TS-21430</td><td>2017</td><td>14.71</td></tr><tr><td>Na N</td><td>TS-21505</td><td>2014</td><td>87.45</td></tr><tr><td>Na N</td><td>TS-21505</td><td>2016</td><td>-69.83</td></tr><tr><td>Na N</td><td>TS-21505</td><td>2017</td><td>-6.23</td></tr><tr><td>Troy Staebel</td><td>TS-21610</td><td>2014</td><td>-227.49</td></tr><tr><td>Troy Staebel</td><td>TS-21610</td><td>2016</td><td>-57.29</td></tr><tr><td>Troy Staebel</td><td>TS-21610</td><td>2017</td><td>-10.11</td></tr><tr><td>Trudy Schmidt</td><td>TS-21655</td><td>2015</td><td>-34.09</td></tr><tr><td>Trudy Schmidt</td><td>TS-21655</td><td>2016</td><td>364.87</td></tr><tr><td>Trudy Schmidt</td><td>TS-21655</td><td>2017</td><td>-110.05</td></tr><tr><td>Ted Trevino</td><td>TT-21070</td><td>2014</td><td>121.4</td></tr><tr><td>Ted Trevino</td><td>TT-21070</td><td>2015</td><td>205.15</td></tr><tr><td>Ted Trevino</td><td>TT-21070</td><td>2016</td><td>2.69</td></tr><tr><td>Ted Trevino</td><td>TT-21070</td><td>2017</td><td>422.93</td></tr><tr><td>Thomas Thornton</td><td>TT-21220</td><td>2014</td><td>18.38</td></tr><tr><td>Thomas Thornton</td><td>TT-21220</td><td>2015</td><td>52.51</td></tr><tr><td>Thomas Thornton</td><td>TT-21220</td><td>2016</td><td>60.39</td></tr><tr><td>Thomas Thornton</td><td>TT-21220</td><td>2017</td><td>147.47</td></tr><tr><td>Tim Taslimi</td><td>TT-21265</td><td>2015</td><td>61.39</td></tr><tr><td>Tim Taslimi</td><td>TT-21265</td><td>2016</td><td>32.53</td></tr><tr><td>Tonja Turnell</td><td>TT-21460</td><td>2015</td><td>281.0</td></tr><tr><td>Tonja Turnell</td><td>TT-21460</td><td>2016</td><td>2.4</td></tr><tr><td>Tonja Turnell</td><td>TT-21460</td><td>2017</td><td>840.98</td></tr><tr><td>Tamara Willingham</td><td>TW-21025</td><td>2014</td><td>100.14</td></tr><tr><td>Tamara Willingham</td><td>TW-21025</td><td>2015</td><td>610.3</td></tr><tr><td>Tamara Willingham</td><td>TW-21025</td><td>2016</td><td>33.01</td></tr><tr><td>Tamara Willingham</td><td>TW-21025</td><td>2017</td><td>-6.06</td></tr><tr><td>Tracy Zic</td><td>TZ-21580</td><td>2014</td><td>132.3</td></tr><tr><td>Tracy Zic</td><td>TZ-21580</td><td>2015</td><td>15.28</td></tr><tr><td>Tracy Zic</td><td>TZ-21580</td><td>2016</td><td>75.98</td></tr><tr><td>Tracy Zic</td><td>TZ-21580</td><td>2017</td><td>1.34</td></tr><tr><td>Victoria Brennan</td><td>VB-21745</td><td>2015</td><td>84.62</td></tr><tr><td>Victoria Brennan</td><td>VB-21745</td><td>2016</td><td>105.42</td></tr><tr><td>Victoria Brennan</td><td>VB-21745</td><td>2017</td><td>181.21</td></tr><tr><td>Valerie Dominguez</td><td>VD-21670</td><td>2014</td><td>576.56</td></tr><tr><td>Valerie Dominguez</td><td>VD-21670</td><td>2015</td><td>990.86</td></tr><tr><td>Valerie Dominguez</td><td>VD-21670</td><td>2016</td><td>50.19</td></tr><tr><td>Vicky Freymann</td><td>VF-21715</td><td>2014</td><td>-158.76</td></tr><tr><td>Vicky Freymann</td><td>VF-21715</td><td>2017</td><td>62.48</td></tr><tr><td>Vivek Gonzalez</td><td>VG-21790</td><td>2014</td><td>19.54</td></tr><tr><td>Vivek Gonzalez</td><td>VG-21790</td><td>2016</td><td>18.48</td></tr><tr><td>Vivek Gonzalez</td><td>VG-21790</td><td>2017</td><td>106.1</td></tr><tr><td>Vivek Grady</td><td>VG-21805</td><td>2014</td><td>-82.88</td></tr><tr><td>Vivek Grady</td><td>VG-21805</td><td>2016</td><td>28.14</td></tr><tr><td>Vivek Grady</td><td>VG-21805</td><td>2017</td><td>2.41</td></tr><tr><td>Valerie Mitchum</td><td>VM-21685</td><td>2014</td><td>78.23</td></tr><tr><td>Valerie Mitchum</td><td>VM-21685</td><td>2015</td><td>-3.71</td></tr><tr><td>Valerie Mitchum</td><td>VM-21685</td><td>2016</td><td>371.7</td></tr><tr><td>Valerie Mitchum</td><td>VM-21685</td><td>2017</td><td>67.41</td></tr><tr><td>Vivian Mathis</td><td>VM-21835</td><td>2014</td><td>6.51</td></tr><tr><td>Vivian Mathis</td><td>VM-21835</td><td>2016</td><td>103.16</td></tr><tr><td>Vivian Mathis</td><td>VM-21835</td><td>2017</td><td>6.97</td></tr><tr><td>Victor Preis</td><td>VP-21730</td><td>2015</td><td>8.93</td></tr><tr><td>Victor Preis</td><td>VP-21730</td><td>2017</td><td>196.46</td></tr><tr><td>Victoria Pisteka</td><td>VP-21760</td><td>2014</td><td>118.07</td></tr><tr><td>Victoria Pisteka</td><td>VP-21760</td><td>2015</td><td>-204.15</td></tr><tr><td>Victoria Pisteka</td><td>VP-21760</td><td>2016</td><td>31.65</td></tr><tr><td>Victoria Pisteka</td><td>VP-21760</td><td>2017</td><td>-964.48</td></tr><tr><td>Vivek Sundaresam</td><td>VS-21820</td><td>2014</td><td>-72.25</td></tr><tr><td>Vivek Sundaresam</td><td>VS-21820</td><td>2015</td><td>-176.6</td></tr><tr><td>Vivek Sundaresam</td><td>VS-21820</td><td>2016</td><td>-7.81</td></tr><tr><td>Vivek Sundaresam</td><td>VS-21820</td><td>2017</td><td>-6.42</td></tr><tr><td>Valerie Takahito</td><td>VT-21700</td><td>2014</td><td>33.0</td></tr><tr><td>Valerie Takahito</td><td>VT-21700</td><td>2015</td><td>-257.93</td></tr><tr><td>Victoria Wilson</td><td>VW-21775</td><td>2014</td><td>-65.32</td></tr><tr><td>Victoria Wilson</td><td>VW-21775</td><td>2015</td><td>-1186.41</td></tr><tr><td>Victoria Wilson</td><td>VW-21775</td><td>2016</td><td>-188.81</td></tr><tr><td>Victoria Wilson</td><td>VW-21775</td><td>2017</td><td>565.88</td></tr><tr><td>William Brown</td><td>WB-21850</td><td>2014</td><td>106.42</td></tr><tr><td>William Brown</td><td>WB-21850</td><td>2015</td><td>-87.06</td></tr><tr><td>William Brown</td><td>WB-21850</td><td>2016</td><td>293.65</td></tr><tr><td>William Brown</td><td>WB-21850</td><td>2017</td><td>401.51</td></tr><tr><td>Xylona Preis</td><td>XP-21865</td><td>2014</td><td>202.31</td></tr><tr><td>Xylona Preis</td><td>XP-21865</td><td>2015</td><td>24.85</td></tr><tr><td>Xylona Preis</td><td>XP-21865</td><td>2016</td><td>314.09</td></tr><tr><td>Xylona Preis</td><td>XP-21865</td><td>2017</td><td>80.12</td></tr><tr><td>Yoseph Carroll</td><td>YC-21895</td><td>2014</td><td>833.77</td></tr><tr><td>Yoseph Carroll</td><td>YC-21895</td><td>2015</td><td>7.07</td></tr><tr><td>Yoseph Carroll</td><td>YC-21895</td><td>2016</td><td>427.27</td></tr><tr><td>Yoseph Carroll</td><td>YC-21895</td><td>2017</td><td>37.53</td></tr><tr><td>Yana Sorensen</td><td>YS-21880</td><td>2015</td><td>254.18</td></tr><tr><td>Yana Sorensen</td><td>YS-21880</td><td>2017</td><td>1524.13</td></tr><tr><td>Zuschuss Carroll</td><td>ZC-21910</td><td>2014</td><td>328.83</td></tr><tr><td>Zuschuss Carroll</td><td>ZC-21910</td><td>2015</td><td>307.48</td></tr><tr><td>Zuschuss Carroll</td><td>ZC-21910</td><td>2016</td><td>-1731.01</td></tr><tr><td>Zuschuss Carroll</td><td>ZC-21910</td><td>2017</td><td>62.34</td></tr><tr><td>Zuschuss Donatelli</td><td>ZD-21925</td><td>2014</td><td>25.49</td></tr><tr><td>Zuschuss Donatelli</td><td>ZD-21925</td><td>2016</td><td>206.67</td></tr><tr><td>Zuschuss Donatelli</td><td>ZD-21925</td><td>2017</td><td>16.59</td></tr></tbody></table></div>"
      ]
     },
     "metadata": {
      "application/vnd.databricks.v1+output": {
       "addedWidgets": {},
       "aggData": [],
       "aggError": "",
       "aggOverflow": false,
       "aggSchema": [],
       "aggSeriesLimitReached": false,
       "aggType": "",
       "arguments": {},
       "columnCustomDisplayInfos": {},
       "data": [
        [
         "Alex Avila",
         "AA-10315",
         "2014",
         280.68
        ],
        [
         "Alex Avila",
         "AA-10315",
         "2015",
         7.0
        ],
        [
         "Alex Avila",
         "AA-10315",
         "2016",
         -747.09
        ],
        [
         "Alex Avila",
         "AA-10315",
         "2017",
         96.51
        ],
        [
         "Allen Armold",
         "AA-10375",
         "2014",
         16.72
        ],
        [
         "Allen Armold",
         "AA-10375",
         "2015",
         69.03
        ],
        [
         "Allen Armold",
         "AA-10375",
         "2016",
         122.73
        ],
        [
         "Allen Armold",
         "AA-10375",
         "2017",
         68.92
        ],
        [
         "Andrew Allen",
         "AA-10480",
         "2014",
         9.89
        ],
        [
         "Andrew Allen",
         "AA-10480",
         "2016",
         420.75
        ],
        [
         "Andrew Allen",
         "AA-10480",
         "2017",
         5.44
        ],
        [
         "Anna Andreadi",
         "AA-10645",
         "2014",
         77.64
        ],
        [
         "Anna Andreadi",
         "AA-10645",
         "2015",
         439.31
        ],
        [
         "Anna Andreadi",
         "AA-10645",
         "2016",
         334.63
        ],
        [
         "Anna Andreadi",
         "AA-10645",
         "2017",
         6.22
        ],
        [
         "Aaron Bergman",
         "AB-10015",
         "2014",
         12.82
        ],
        [
         "Aaron Bergman",
         "AB-10015",
         "2016",
         116.86
        ],
        [
         "Adam Bellavance",
         "AB-10060",
         "2015",
         8.71
        ],
        [
         "Adam Bellavance",
         "AB-10060",
         "2016",
         1568.05
        ],
        [
         "Adam Bellavance",
         "AB-10060",
         "2017",
         477.84
        ],
        [
         "Adrian Barton",
         "AB-10105",
         "2014",
         498.73
        ],
        [
         "Adrian Barton",
         "AB-10105",
         "2015",
         -142.67
        ],
        [
         "Adrian Barton",
         "AB-10105",
         "2016",
         4748.27
        ],
        [
         "Adrian Barton",
         "AB-10105",
         "2017",
         340.64
        ],
        [
         "Aimee Bixby",
         "AB-10150",
         "2014",
         261.2
        ],
        [
         "Aimee Bixby",
         "AB-10150",
         "2015",
         7.02
        ],
        [
         "Aimee Bixby",
         "AB-10150",
         "2016",
         5.44
        ],
        [
         "Aimee Bixby",
         "AB-10150",
         "2017",
         40.0
        ],
        [
         "Alan Barnes",
         "AB-10165",
         "2014",
         -1.07
        ],
        [
         "Alan Barnes",
         "AB-10165",
         "2015",
         79.95
        ],
        [
         "Alan Barnes",
         "AB-10165",
         "2017",
         141.73
        ],
        [
         "Alejandro Ballentine",
         "AB-10255",
         "2014",
         6.49
        ],
        [
         "Alejandro Ballentine",
         "AB-10255",
         "2015",
         34.34
        ],
        [
         "Alejandro Ballentine",
         "AB-10255",
         "2016",
         26.07
        ],
        [
         "Alejandro Ballentine",
         "AB-10255",
         "2017",
         197.67
        ],
        [
         "Ann Blume",
         "AB-10600",
         "2014",
         -23.89
        ],
        [
         "Ann Blume",
         "AB-10600",
         "2015",
         5.07
        ],
        [
         "Ann Blume",
         "AB-10600",
         "2017",
         -256.46
        ],
        [
         "Alyssa Crouse",
         "AC-10420",
         "2014",
         -14.66
        ],
        [
         "Alyssa Crouse",
         "AC-10420",
         "2016",
         21.59
        ],
        [
         "Alyssa Crouse",
         "AC-10420",
         "2017",
         -69.06
        ],
        [
         "Amy Cox",
         "AC-10450",
         "2014",
         84.0
        ],
        [
         "Amy Cox",
         "AC-10450",
         "2015",
         24.98
        ],
        [
         "Amy Cox",
         "AC-10450",
         "2016",
         381.04
        ],
        [
         "Amy Cox",
         "AC-10450",
         "2017",
         876.48
        ],
        [
         "Ann Chong",
         "AC-10615",
         "2015",
         -32.3
        ],
        [
         "Ann Chong",
         "AC-10615",
         "2017",
         330.91
        ],
        [
         "Anna Chung",
         "AC-10660",
         "2014",
         -4.97
        ],
        [
         "Anna Chung",
         "AC-10660",
         "2016",
         8.61
        ],
        [
         "Anna Chung",
         "AC-10660",
         "2017",
         -32.34
        ],
        [
         "Alan Dominguez",
         "AD-10180",
         "2014",
         -6.6
        ],
        [
         "Alan Dominguez",
         "AD-10180",
         "2015",
         9.6
        ],
        [
         "Alan Dominguez",
         "AD-10180",
         "2017",
         1866.92
        ],
        [
         "Art Ferguson",
         "AF-10870",
         "2015",
         2.02
        ],
        [
         "Art Ferguson",
         "AF-10870",
         "2016",
         390.8
        ],
        [
         "Art Ferguson",
         "AF-10870",
         "2017",
         -75.19
        ],
        [
         "Art Foster",
         "AF-10885",
         "2014",
         -258.56
        ],
        [
         "Art Foster",
         "AF-10885",
         "2015",
         101.18
        ],
        [
         "Art Foster",
         "AF-10885",
         "2016",
         -5.75
        ],
        [
         "Alejandro Grove",
         "AG-10270",
         "2014",
         17.99
        ],
        [
         "Alejandro Grove",
         "AG-10270",
         "2015",
         16.96
        ],
        [
         "Alejandro Grove",
         "AG-10270",
         "2016",
         696.3
        ],
        [
         "Alejandro Grove",
         "AG-10270",
         "2017",
         1.5
        ],
        [
         "Aleksandra Gannaway",
         "AG-10300",
         "2014",
         28.75
        ],
        [
         "Aleksandra Gannaway",
         "AG-10300",
         "2015",
         8.39
        ],
        [
         "Aleksandra Gannaway",
         "AG-10300",
         "2016",
         20.49
        ],
        [
         "Aleksandra Gannaway",
         "AG-10300",
         "2017",
         1.67
        ],
        [
         "Alex Grayson",
         "AG-10330",
         "2016",
         61.74
        ],
        [
         "Alex Grayson",
         "AG-10330",
         "2017",
         -67.1
        ],
        [
         "Allen Goldenen",
         "AG-10390",
         "2014",
         67.97
        ],
        [
         "Allen Goldenen",
         "AG-10390",
         "2016",
         -7.0
        ],
        [
         "Allen Goldenen",
         "AG-10390",
         "2017",
         8.3
        ],
        [
         "Andrew Gjertsen",
         "AG-10495",
         "2015",
         264.76
        ],
        [
         "Andrew Gjertsen",
         "AG-10495",
         "2016",
         6.03
        ],
        [
         "Andrew Gjertsen",
         "AG-10495",
         "2017",
         25.05
        ],
        [
         "Andy Gerbode",
         "AG-10525",
         "2014",
         -93.53
        ],
        [
         "Andy Gerbode",
         "AG-10525",
         "2015",
         -59.22
        ],
        [
         "Anna Gayman",
         "AG-10675",
         "2015",
         -25.99
        ],
        [
         "Anna Gayman",
         "AG-10675",
         "2016",
         -281.56
        ],
        [
         "Anna Gayman",
         "AG-10675",
         "2017",
         61.15
        ],
        [
         "Anthony Garverick",
         "AG-10765",
         "2014",
         -4.12
        ],
        [
         "Anthony Garverick",
         "AG-10765",
         "2015",
         61.71
        ],
        [
         "Anthony Garverick",
         "AG-10765",
         "2017",
         -66.01
        ],
        [
         "Arthur Gainer",
         "AG-10900",
         "2014",
         144.46
        ],
        [
         "Arthur Gainer",
         "AG-10900",
         "2015",
         18.82
        ],
        [
         "Arthur Gainer",
         "AG-10900",
         "2016",
         252.36
        ],
        [
         "Arthur Gainer",
         "AG-10900",
         "2017",
         -71.97
        ],
        [
         "Aaron Hawkins",
         "AH-10030",
         "2014",
         188.28
        ],
        [
         "Aaron Hawkins",
         "AH-10030",
         "2015",
         136.56
        ],
        [
         "Aaron Hawkins",
         "AH-10030",
         "2016",
         38.04
        ],
        [
         "Aaron Hawkins",
         "AH-10030",
         "2017",
         2.34
        ],
        [
         "Adam Hart",
         "AH-10075",
         "2014",
         2.4
        ],
        [
         "Adam Hart",
         "AH-10075",
         "2015",
         0.34
        ],
        [
         "Adam Hart",
         "AH-10075",
         "2016",
         332.64
        ],
        [
         "Adam Hart",
         "AH-10075",
         "2017",
         -54.58
        ],
        [
         "Adrian Hane",
         "AH-10120",
         "2014",
         -25.91
        ],
        [
         "Adrian Hane",
         "AH-10120",
         "2016",
         -299.15
        ],
        [
         "Adrian Hane",
         "AH-10120",
         "2017",
         322.56
        ],
        [
         "Alan Haines",
         "AH-10195",
         "2015",
         -12.1
        ],
        [
         "Alan Haines",
         "AH-10195",
         "2016",
         -349.36
        ],
        [
         "Alan Haines",
         "AH-10195",
         "2017",
         -16.58
        ],
        [
         "Alan Hwang",
         "AH-10210",
         "2014",
         87.19
        ],
        [
         "Alan Hwang",
         "AH-10210",
         "2015",
         269.15
        ],
        [
         "Alan Hwang",
         "AH-10210",
         "2016",
         5.57
        ],
        [
         "Alan Hwang",
         "AH-10210",
         "2017",
         946.65
        ],
        [
         "Amy Hunt",
         "AH-10465",
         "2015",
         -342.08
        ],
        [
         "Amy Hunt",
         "AH-10465",
         "2016",
         -1.78
        ],
        [
         "Amy Hunt",
         "AH-10465",
         "2017",
         147.87
        ],
        [
         "Angele Hood",
         "AH-10585",
         "2014",
         41.6
        ],
        [
         "Angele Hood",
         "AH-10585",
         "2016",
         13.45
        ],
        [
         "Angele Hood",
         "AH-10585",
         "2017",
         28.92
        ],
        [
         "Anna Hberlin",
         "AH-10690",
         "2014",
         46.2
        ],
        [
         "Anna Hberlin",
         "AH-10690",
         "2015",
         106.62
        ],
        [
         "Anna Hberlin",
         "AH-10690",
         "2016",
         1144.07
        ],
        [
         "Arianne Irving",
         "AI-10855",
         "2014",
         288.24
        ],
        [
         "Arianne Irving",
         "AI-10855",
         "2015",
         17.03
        ],
        [
         "Arianne Irving",
         "AI-10855",
         "2016",
         485.32
        ],
        [
         "Arianne Irving",
         "AI-10855",
         "2017",
         77.28
        ],
        [
         "Anthony Jacobs",
         "AJ-10780",
         "2014",
         -56.95
        ],
        [
         "Anthony Jacobs",
         "AJ-10780",
         "2015",
         5.32
        ],
        [
         "Anthony Jacobs",
         "AJ-10780",
         "2016",
         -5.7
        ],
        [
         "Anthony Jacobs",
         "AJ-10780",
         "2017",
         208.05
        ],
        [
         "Anthony Johnson",
         "AJ-10795",
         "2014",
         503.26
        ],
        [
         "Anthony Johnson",
         "AJ-10795",
         "2016",
         400.21
        ],
        [
         "Anthony Johnson",
         "AJ-10795",
         "2017",
         255.24
        ],
        [
         "Ashley Jarboe",
         "AJ-10945",
         "2014",
         3.4
        ],
        [
         "Ashley Jarboe",
         "AJ-10945",
         "2015",
         316.58
        ],
        [
         "Ashley Jarboe",
         "AJ-10945",
         "2016",
         33.22
        ],
        [
         "Ashley Jarboe",
         "AJ-10945",
         "2017",
         167.94
        ],
        [
         "Astrea Jones",
         "AJ-10960",
         "2014",
         57.66
        ],
        [
         "Astrea Jones",
         "AJ-10960",
         "2017",
         2.77
        ],
        [
         "Alice Mc Carthy",
         "AM-10360",
         "2014",
         7.68
        ],
        [
         "Alice Mc Carthy",
         "AM-10360",
         "2015",
         178.9
        ],
        [
         "Alice Mc Carthy",
         "AM-10360",
         "2016",
         9.98
        ],
        [
         "Alice Mc Carthy",
         "AM-10360",
         "2017",
         -1.57
        ],
        [
         "Anne Mc Farland",
         "AM-10705",
         "2014",
         472.09
        ],
        [
         "Anne Mc Farland",
         "AM-10705",
         "2015",
         14.7
        ],
        [
         "Anne Mc Farland",
         "AM-10705",
         "2016",
         90.26
        ],
        [
         "Anne Mc Farland",
         "AM-10705",
         "2017",
         392.01
        ],
        [
         "Anthony O Donnell",
         "AO-10810",
         "2016",
         12.1
        ],
        [
         "Anne Pryor",
         "AP-10720",
         "2014",
         54.65
        ],
        [
         "Anne Pryor",
         "AP-10720",
         "2015",
         -1.36
        ],
        [
         "Anne Pryor",
         "AP-10720",
         "2016",
         243.58
        ],
        [
         "Anne Pryor",
         "AP-10720",
         "2017",
         -11.07
        ],
        [
         "Arthur Prichep",
         "AP-10915",
         "2014",
         420.7
        ],
        [
         "Arthur Prichep",
         "AP-10915",
         "2016",
         338.86
        ],
        [
         "Arthur Prichep",
         "AP-10915",
         "2017",
         -179.86
        ],
        [
         "Alex Russell",
         "AR-10345",
         "2014",
         -242.44
        ],
        [
         "Alex Russell",
         "AR-10345",
         "2015",
         -2.57
        ],
        [
         "Alex Russell",
         "AR-10345",
         "2017",
         23.96
        ],
        [
         "Allen Rosenblatt",
         "AR-10405",
         "2014",
         17.59
        ],
        [
         "Allen Rosenblatt",
         "AR-10405",
         "2015",
         105.47
        ],
        [
         "Allen Rosenblatt",
         "AR-10405",
         "2017",
         -221.58
        ],
        [
         "Andrew Roberts",
         "AR-10510",
         "2014",
         -8.41
        ],
        [
         "Andrew Roberts",
         "AR-10510",
         "2015",
         27.99
        ],
        [
         "Andrew Roberts",
         "AR-10510",
         "2016",
         18.89
        ],
        [
         "Andrew Roberts",
         "AR-10510",
         "2017",
         5.18
        ],
        [
         "Andy Reiter",
         "AR-10540",
         "2014",
         20.12
        ],
        [
         "Andy Reiter",
         "AR-10540",
         "2015",
         247.28
        ],
        [
         "Andy Reiter",
         "AR-10540",
         "2016",
         9.53
        ],
        [
         "Andy Reiter",
         "AR-10540",
         "2017",
         2607.68
        ],
        [
         "Anemone Ratner",
         "AR-10570",
         "2016",
         32.64
        ],
        [
         "Anthony Rawles",
         "AR-10825",
         "2014",
         10.37
        ],
        [
         "Anthony Rawles",
         "AR-10825",
         "2015",
         9.33
        ],
        [
         "Anthony Rawles",
         "AR-10825",
         "2016",
         370.3
        ],
        [
         "Anthony Rawles",
         "AR-10825",
         "2017",
         105.07
        ],
        [
         "Aaron Smayling",
         "AS-10045",
         "2014",
         32.23
        ],
        [
         "Aaron Smayling",
         "AS-10045",
         "2016",
         92.14
        ],
        [
         "Aaron Smayling",
         "AS-10045",
         "2017",
         -377.96
        ],
        [
         "Adam Shillingsburg",
         "AS-10090",
         "2014",
         129.55
        ],
        [
         "Adam Shillingsburg",
         "AS-10090",
         "2015",
         243.86
        ],
        [
         "Adam Shillingsburg",
         "AS-10090",
         "2016",
         22.55
        ],
        [
         "Adam Shillingsburg",
         "AS-10090",
         "2017",
         -331.64
        ],
        [
         "Adrian Shami",
         "AS-10135",
         "2016",
         1.5
        ],
        [
         "Adrian Shami",
         "AS-10135",
         "2017",
         20.34
        ],
        [
         "Alan Schoenberger",
         "AS-10225",
         "2014",
         444.69
        ],
        [
         "Alan Schoenberger",
         "AS-10225",
         "2015",
         12.86
        ],
        [
         "Alan Schoenberger",
         "AS-10225",
         "2016",
         -6.21
        ],
        [
         "Alan Schoenberger",
         "AS-10225",
         "2017",
         268.43
        ],
        [
         "Alan Shonely",
         "AS-10240",
         "2014",
         37.35
        ],
        [
         "Alan Shonely",
         "AS-10240",
         "2015",
         5.08
        ],
        [
         "Alan Shonely",
         "AS-10240",
         "2016",
         23.18
        ],
        [
         "Alan Shonely",
         "AS-10240",
         "2017",
         -31.92
        ],
        [
         "Alejandro Savely",
         "AS-10285",
         "2016",
         331.37
        ],
        [
         "Alejandro Savely",
         "AS-10285",
         "2017",
         23.26
        ],
        [
         "Ann Steele",
         "AS-10630",
         "2014",
         71.95
        ],
        [
         "Ann Steele",
         "AS-10630",
         "2015",
         -10.81
        ],
        [
         "Ann Steele",
         "AS-10630",
         "2016",
         6.37
        ],
        [
         "Ann Steele",
         "AS-10630",
         "2017",
         69.09
        ],
        [
         "Alyssa Tate",
         "AT-10435",
         "2014",
         0.84
        ],
        [
         "Alyssa Tate",
         "AT-10435",
         "2015",
         -2.53
        ],
        [
         "Alyssa Tate",
         "AT-10435",
         "2016",
         6.43
        ],
        [
         "Alyssa Tate",
         "AT-10435",
         "2017",
         96.13
        ],
        [
         "Annie Thurman",
         "AT-10735",
         "2014",
         71.66
        ],
        [
         "Annie Thurman",
         "AT-10735",
         "2015",
         739.52
        ],
        [
         "Annie Thurman",
         "AT-10735",
         "2016",
         51.67
        ],
        [
         "Annie Thurman",
         "AT-10735",
         "2017",
         111.72
        ],
        [
         "Anthony Witt",
         "AW-10840",
         "2015",
         -13.5
        ],
        [
         "Anthony Witt",
         "AW-10840",
         "2017",
         79.28
        ],
        [
         "Arthur Wiediger",
         "AW-10930",
         "2014",
         -42.56
        ],
        [
         "Arthur Wiediger",
         "AW-10930",
         "2015",
         64.25
        ],
        [
         "Arthur Wiediger",
         "AW-10930",
         "2016",
         -213.35
        ],
        [
         "Arthur Wiediger",
         "AW-10930",
         "2017",
         87.22
        ],
        [
         "Andy Yotov",
         "AY-10555",
         "2014",
         65.6
        ],
        [
         "Andy Yotov",
         "AY-10555",
         "2016",
         6.7
        ],
        [
         "Andy Yotov",
         "AY-10555",
         "2017",
         31.04
        ],
        [
         "Annie Zypern",
         "AZ-10750",
         "2014",
         72.86
        ],
        [
         "Annie Zypern",
         "AZ-10750",
         "2015",
         34.34
        ],
        [
         "Annie Zypern",
         "AZ-10750",
         "2016",
         32.57
        ],
        [
         "Annie Zypern",
         "AZ-10750",
         "2017",
         15.0
        ],
        [
         "Barry Blumstein",
         "BB-10990",
         "2014",
         0.0
        ],
        [
         "Barry Blumstein",
         "BB-10990",
         "2015",
         -8.22
        ],
        [
         "Barry Blumstein",
         "BB-10990",
         "2016",
         12.87
        ],
        [
         "Barry Blumstein",
         "BB-10990",
         "2017",
         6.92
        ],
        [
         "Brenda Bowman",
         "BB-11545",
         "2015",
         -77.85
        ],
        [
         "Brenda Bowman",
         "BB-11545",
         "2016",
         431.81
        ],
        [
         "Brenda Bowman",
         "BB-11545",
         "2017",
         660.69
        ],
        [
         "Becky Castell",
         "BC-11125",
         "2014",
         38.13
        ],
        [
         "Becky Castell",
         "BC-11125",
         "2015",
         92.0
        ],
        [
         "Becky Castell",
         "BC-11125",
         "2016",
         62.26
        ],
        [
         "Becky Castell",
         "BC-11125",
         "2017",
         58.8
        ],
        [
         "Bil Donatelli",
         "BD-11320",
         "2015",
         799.49
        ],
        [
         "Bil Donatelli",
         "BD-11320",
         "2016",
         97.23
        ],
        [
         "Bil Donatelli",
         "BD-11320",
         "2017",
         197.79
        ],
        [
         "Bradley Drucker",
         "BD-11500",
         "2014",
         309.08
        ],
        [
         "Bradley Drucker",
         "BD-11500",
         "2015",
         70.98
        ],
        [
         "Bradley Drucker",
         "BD-11500",
         "2017",
         762.06
        ],
        [
         "Brendan Dodson",
         "BD-11560",
         "2015",
         36.47
        ],
        [
         "Brendan Dodson",
         "BD-11560",
         "2017",
         80.24
        ],
        [
         "Brian Dahlen",
         "BD-11605",
         "2014",
         342.92
        ],
        [
         "Brian Dahlen",
         "BD-11605",
         "2015",
         79.41
        ],
        [
         "Brian Dahlen",
         "BD-11605",
         "2016",
         124.51
        ],
        [
         "Brian Dahlen",
         "BD-11605",
         "2017",
         87.99
        ],
        [
         "Brian De Cherney",
         "BD-11620",
         "2014",
         108.74
        ],
        [
         "Brian De Cherney",
         "BD-11620",
         "2016",
         20.18
        ],
        [
         "Brian De Cherney",
         "BD-11620",
         "2017",
         78.1
        ],
        [
         "Brian Derr",
         "BD-11635",
         "2014",
         11.49
        ],
        [
         "Brian Derr",
         "BD-11635",
         "2015",
         102.25
        ],
        [
         "Brian Derr",
         "BD-11635",
         "2017",
         27.69
        ],
        [
         "Bruce Degenhardt",
         "BD-11725",
         "2015",
         149.49
        ],
        [
         "Bruce Degenhardt",
         "BD-11725",
         "2016",
         18.0
        ],
        [
         "Bruce Degenhardt",
         "BD-11725",
         "2017",
         166.98
        ],
        [
         "Bryan Davis",
         "BD-11770",
         "2016",
         110.7
        ],
        [
         "Bryan Davis",
         "BD-11770",
         "2017",
         30.58
        ],
        [
         "Bil Eplett",
         "BE-11335",
         "2016",
         47.24
        ],
        [
         "Bil Eplett",
         "BE-11335",
         "2017",
         1440.55
        ],
        [
         "Bobby Elias",
         "BE-11410",
         "2016",
         577.2
        ],
        [
         "Bobby Elias",
         "BE-11410",
         "2017",
         178.71
        ],
        [
         "Brad Eason",
         "BE-11455",
         "2015",
         120.21
        ],
        [
         "Brad Eason",
         "BE-11455",
         "2016",
         71.07
        ],
        [
         "Brad Eason",
         "BE-11455",
         "2017",
         -52.07
        ],
        [
         "Barbara Fisher",
         "BF-10975",
         "2014",
         61.99
        ],
        [
         "Barbara Fisher",
         "BF-10975",
         "2015",
         0.96
        ],
        [
         "Barbara Fisher",
         "BF-10975",
         "2016",
         157.38
        ],
        [
         "Barbara Fisher",
         "BF-10975",
         "2017",
         6.97
        ],
        [
         "Barry Franz",
         "BF-11005",
         "2014",
         2.37
        ],
        [
         "Barry Franz",
         "BF-11005",
         "2016",
         -365.72
        ],
        [
         "Barry Franz",
         "BF-11005",
         "2017",
         71.98
        ],
        [
         "Barry Franzsisch",
         "BF-11020",
         "2014",
         7.21
        ],
        [
         "Barry Franzsisch",
         "BF-11020",
         "2015",
         269.31
        ],
        [
         "Barry Franzsisch",
         "BF-11020",
         "2016",
         20.32
        ],
        [
         "Barry Franzsisch",
         "BF-11020",
         "2017",
         4.6
        ],
        [
         "Bart Folk",
         "BF-11080",
         "2014",
         3.96
        ],
        [
         "Bart Folk",
         "BF-11080",
         "2017",
         107.03
        ],
        [
         "Ben Ferrer",
         "BF-11170",
         "2014",
         666.39
        ],
        [
         "Ben Ferrer",
         "BF-11170",
         "2015",
         137.03
        ],
        [
         "Ben Ferrer",
         "BF-11170",
         "2016",
         697.47
        ],
        [
         "Ben Ferrer",
         "BF-11170",
         "2017",
         437.78
        ],
        [
         "Benjamin Farhat",
         "BF-11215",
         "2014",
         21.48
        ],
        [
         "Benjamin Farhat",
         "BF-11215",
         "2016",
         173.24
        ],
        [
         "Benjamin Farhat",
         "BF-11215",
         "2017",
         328.37
        ],
        [
         "Beth Fritzler",
         "BF-11275",
         "2014",
         -12.12
        ],
        [
         "Beth Fritzler",
         "BF-11275",
         "2017",
         38.0
        ],
        [
         "Barry Gonzalez",
         "BG-11035",
         "2014",
         54.19
        ],
        [
         "Barry Gonzalez",
         "BG-11035",
         "2015",
         -998.91
        ],
        [
         "Barry Gonzalez",
         "BG-11035",
         "2016",
         12.24
        ],
        [
         "Barry Gonzalez",
         "BG-11035",
         "2017",
         221.68
        ],
        [
         "Brooke Gillingham",
         "BG-11695",
         "2014",
         9.7
        ],
        [
         "Brooke Gillingham",
         "BG-11695",
         "2015",
         28.31
        ],
        [
         "Brooke Gillingham",
         "BG-11695",
         "2016",
         57.92
        ],
        [
         "Brooke Gillingham",
         "BG-11695",
         "2017",
         11.66
        ],
        [
         "Bruce Geld",
         "BG-11740",
         "2014",
         3.22
        ],
        [
         "Bruce Geld",
         "BG-11740",
         "2015",
         15.07
        ],
        [
         "Bruce Geld",
         "BG-11740",
         "2016",
         59.3
        ],
        [
         "Bruce Geld",
         "BG-11740",
         "2017",
         41.76
        ],
        [
         "Brosina Hoffman",
         "BH-11710",
         "2014",
         235.35
        ],
        [
         "Brosina Hoffman",
         "BH-11710",
         "2015",
         5.84
        ],
        [
         "Brosina Hoffman",
         "BH-11710",
         "2016",
         428.93
        ],
        [
         "Brosina Hoffman",
         "BH-11710",
         "2017",
         119.51
        ],
        [
         "Berenike Kampe",
         "BK-11260",
         "2014",
         -129.02
        ],
        [
         "Berenike Kampe",
         "BK-11260",
         "2015",
         42.04
        ],
        [
         "Berenike Kampe",
         "BK-11260",
         "2016",
         2.23
        ],
        [
         "Berenike Kampe",
         "BK-11260",
         "2017",
         21.45
        ],
        [
         "Becky Martin",
         "BM-11140",
         "2014",
         -1878.79
        ],
        [
         "Becky Martin",
         "BM-11140",
         "2016",
         118.92
        ],
        [
         "Becky Martin",
         "BM-11140",
         "2017",
         99.9
        ],
        [
         "Brendan Murry",
         "BM-11575",
         "2015",
         37.33
        ],
        [
         "Brendan Murry",
         "BM-11575",
         "2016",
         109.44
        ],
        [
         "Brendan Murry",
         "BM-11575",
         "2017",
         -51.19
        ],
        [
         "Brian Moss",
         "BM-11650",
         "2014",
         81.65
        ],
        [
         "Brian Moss",
         "BM-11650",
         "2015",
         181.48
        ],
        [
         "Brian Moss",
         "BM-11650",
         "2016",
         -2.03
        ],
        [
         "Brian Moss",
         "BM-11650",
         "2017",
         1937.73
        ],
        [
         "Bryan Mills",
         "BM-11785",
         "2014",
         114.1
        ],
        [
         "Bryan Mills",
         "BM-11785",
         "2015",
         -39.67
        ],
        [
         "Bryan Mills",
         "BM-11785",
         "2016",
         56.37
        ],
        [
         "Bryan Mills",
         "BM-11785",
         "2017",
         6.92
        ],
        [
         "Brad Norvell",
         "BN-11470",
         "2014",
         24.68
        ],
        [
         "Brad Norvell",
         "BN-11470",
         "2015",
         4.09
        ],
        [
         "Brad Norvell",
         "BN-11470",
         "2017",
         7.84
        ],
        [
         "Bradley Nguyen",
         "BN-11515",
         "2014",
         185.37
        ],
        [
         "Bradley Nguyen",
         "BN-11515",
         "2016",
         112.78
        ],
        [
         "Bradley Nguyen",
         "BN-11515",
         "2017",
         42.57
        ],
        [
         "Bil Overfelt",
         "BO-11350",
         "2016",
         358.03
        ],
        [
         "Bil Overfelt",
         "BO-11350",
         "2017",
         -79.6
        ],
        [
         "Bobby Odegard",
         "BO-11425",
         "2015",
         2.07
        ],
        [
         "Bobby Odegard",
         "BO-11425",
         "2017",
         57.39
        ],
        [
         "Barry Pond",
         "BP-11050",
         "2014",
         2.5
        ],
        [
         "Barry Pond",
         "BP-11050",
         "2016",
         182.98
        ],
        [
         "Barry Pond",
         "BP-11050",
         "2017",
         24.18
        ],
        [
         "Bart Pistole",
         "BP-11095",
         "2014",
         131.71
        ],
        [
         "Bart Pistole",
         "BP-11095",
         "2015",
         53.56
        ],
        [
         "Bart Pistole",
         "BP-11095",
         "2016",
         19.68
        ],
        [
         "Bart Pistole",
         "BP-11095",
         "2017",
         228.64
        ],
        [
         "Becky Pak",
         "BP-11155",
         "2015",
         431.98
        ],
        [
         "Becky Pak",
         "BP-11155",
         "2016",
         188.78
        ],
        [
         "Becky Pak",
         "BP-11155",
         "2017",
         26.24
        ],
        [
         "Ben Peterman",
         "BP-11185",
         "2015",
         66.76
        ],
        [
         "Ben Peterman",
         "BP-11185",
         "2016",
         -33.89
        ],
        [
         "Ben Peterman",
         "BP-11185",
         "2017",
         330.74
        ],
        [
         "Benjamin Patterson",
         "BP-11230",
         "2014",
         27.56
        ],
        [
         "Benjamin Patterson",
         "BP-11230",
         "2015",
         -255.74
        ],
        [
         "Benjamin Patterson",
         "BP-11230",
         "2016",
         10.21
        ],
        [
         "Benjamin Patterson",
         "BP-11230",
         "2017",
         20.58
        ],
        [
         "Beth Paige",
         "BP-11290",
         "2014",
         -70.1
        ],
        [
         "Beth Paige",
         "BP-11290",
         "2016",
         -65.75
        ],
        [
         "Beth Paige",
         "BP-11290",
         "2017",
         -183.0
        ],
        [
         "Bil Shonely",
         "BS-11365",
         "2014",
         210.7
        ],
        [
         "Bil Shonely",
         "BS-11365",
         "2016",
         2405.71
        ],
        [
         "Bil Stewart",
         "BS-11380",
         "2014",
         3.95
        ],
        [
         "Bil Stewart",
         "BS-11380",
         "2015",
         206.62
        ],
        [
         "Bil Stewart",
         "BS-11380",
         "2017",
         -228.1
        ],
        [
         "Brendan Sweed",
         "BS-11590",
         "2014",
         97.46
        ],
        [
         "Brendan Sweed",
         "BS-11590",
         "2015",
         103.1
        ],
        [
         "Brendan Sweed",
         "BS-11590",
         "2016",
         12.36
        ],
        [
         "Brendan Sweed",
         "BS-11590",
         "2017",
         168.47
        ],
        [
         "Brian Stugart",
         "BS-11665",
         "2014",
         1.08
        ],
        [
         "Brian Stugart",
         "BS-11665",
         "2015",
         175.39
        ],
        [
         "Brian Stugart",
         "BS-11665",
         "2016",
         62.26
        ],
        [
         "Bruce Stewart",
         "BS-11755",
         "2014",
         -330.55
        ],
        [
         "Bruce Stewart",
         "BS-11755",
         "2015",
         18.45
        ],
        [
         "Bruce Stewart",
         "BS-11755",
         "2016",
         82.95
        ],
        [
         "Bruce Stewart",
         "BS-11755",
         "2017",
         115.84
        ],
        [
         "Bryan Spruell",
         "BS-11800",
         "2015",
         77.11
        ],
        [
         "Bryan Spruell",
         "BS-11800",
         "2017",
         116.94
        ],
        [
         "Beth Thompson",
         "BT-11305",
         "2014",
         290.89
        ],
        [
         "Beth Thompson",
         "BT-11305",
         "2015",
         87.46
        ],
        [
         "Beth Thompson",
         "BT-11305",
         "2017",
         39.23
        ],
        [
         "Bil Tyler",
         "BT-11395",
         "2014",
         74.81
        ],
        [
         "Bil Tyler",
         "BT-11395",
         "2015",
         194.73
        ],
        [
         "Bil Tyler",
         "BT-11395",
         "2016",
         3.35
        ],
        [
         "Bil Tyler",
         "BT-11395",
         "2017",
         -14.99
        ],
        [
         "Bobby Trafton",
         "BT-11440",
         "2014",
         -5.37
        ],
        [
         "Bobby Trafton",
         "BT-11440",
         "2016",
         -71.9
        ],
        [
         "Brad Thomas",
         "BT-11485",
         "2015",
         117.39
        ],
        [
         "Brad Thomas",
         "BT-11485",
         "2016",
         9.48
        ],
        [
         "Bradley Talbott",
         "BT-11530",
         "2014",
         66.77
        ],
        [
         "Bradley Talbott",
         "BT-11530",
         "2016",
         -4.38
        ],
        [
         "Bradley Talbott",
         "BT-11530",
         "2017",
         347.1
        ],
        [
         "Brian Thompson",
         "BT-11680",
         "2014",
         -199.77
        ],
        [
         "Brian Thompson",
         "BT-11680",
         "2015",
         435.64
        ],
        [
         "Brian Thompson",
         "BT-11680",
         "2016",
         176.51
        ],
        [
         "Brian Thompson",
         "BT-11680",
         "2017",
         35.43
        ],
        [
         "Benjamin Venier",
         "BV-11245",
         "2015",
         82.28
        ],
        [
         "Benjamin Venier",
         "BV-11245",
         "2016",
         127.01
        ],
        [
         "Benjamin Venier",
         "BV-11245",
         "2017",
         105.94
        ],
        [
         "Barry Weirich",
         "BW-11065",
         "2014",
         6.73
        ],
        [
         "Barry Weirich",
         "BW-11065",
         "2015",
         12.11
        ],
        [
         "Barry Weirich",
         "BW-11065",
         "2017",
         -77.13
        ],
        [
         "Bart Watters",
         "BW-11110",
         "2015",
         103.49
        ],
        [
         "Bart Watters",
         "BW-11110",
         "2016",
         97.06
        ],
        [
         "Bart Watters",
         "BW-11110",
         "2017",
         720.83
        ],
        [
         "Ben Wallace",
         "BW-11200",
         "2014",
         87.45
        ],
        [
         "Ben Wallace",
         "BW-11200",
         "2016",
         173.66
        ],
        [
         "Ben Wallace",
         "BW-11200",
         "2017",
         -14.11
        ],
        [
         "Carol Adams",
         "CA-11965",
         "2014",
         44.77
        ],
        [
         "Carol Adams",
         "CA-11965",
         "2015",
         182.16
        ],
        [
         "Carol Adams",
         "CA-11965",
         "2016",
         899.98
        ],
        [
         "Carol Adams",
         "CA-11965",
         "2017",
         16.48
        ],
        [
         "Cthy Armstrong",
         "CA-12055",
         "2015",
         -47.73
        ],
        [
         "Cthy Armstrong",
         "CA-12055",
         "2016",
         259.37
        ],
        [
         "Christina Anderson",
         "CA-12265",
         "2014",
         16.97
        ],
        [
         "Christina Anderson",
         "CA-12265",
         "2015",
         118.66
        ],
        [
         "Christina Anderson",
         "CA-12265",
         "2016",
         24.6
        ],
        [
         "Christina Anderson",
         "CA-12265",
         "2017",
         119.67
        ],
        [
         "Christine Abelman",
         "CA-12310",
         "2014",
         101.4
        ],
        [
         "Christine Abelman",
         "CA-12310",
         "2016",
         2.1
        ],
        [
         "Christine Abelman",
         "CA-12310",
         "2017",
         143.36
        ],
        [
         "Cynthia Arntzen",
         "CA-12775",
         "2014",
         111.79
        ],
        [
         "Cynthia Arntzen",
         "CA-12775",
         "2015",
         -101.6
        ],
        [
         "Cynthia Arntzen",
         "CA-12775",
         "2016",
         1.67
        ],
        [
         "Cynthia Arntzen",
         "CA-12775",
         "2017",
         191.87
        ],
        [
         "Cassandra Brandow",
         "CB-12025",
         "2014",
         5.27
        ],
        [
         "Cassandra Brandow",
         "CB-12025",
         "2015",
         223.45
        ],
        [
         "Cassandra Brandow",
         "CB-12025",
         "2016",
         161.25
        ],
        [
         "Cassandra Brandow",
         "CB-12025",
         "2017",
         -239.46
        ],
        [
         "Christy Brittain",
         "CB-12415",
         "2015",
         -3.49
        ],
        [
         "Christy Brittain",
         "CB-12415",
         "2016",
         201.66
        ],
        [
         "Christy Brittain",
         "CB-12415",
         "2017",
         74.23
        ],
        [
         "Claudia Bergmann",
         "CB-12535",
         "2015",
         249.13
        ],
        [
         "Claudia Bergmann",
         "CB-12535",
         "2016",
         458.64
        ],
        [
         "Claudia Bergmann",
         "CB-12535",
         "2017",
         341.51
        ],
        [
         "Chad Cunningham",
         "CC-12100",
         "2014",
         142.85
        ],
        [
         "Chad Cunningham",
         "CC-12100",
         "2015",
         77.45
        ],
        [
         "Chad Cunningham",
         "CC-12100",
         "2016",
         -11.7
        ],
        [
         "Charles Crestani",
         "CC-12145",
         "2014",
         78.74
        ],
        [
         "Charles Crestani",
         "CC-12145",
         "2015",
         297.36
        ],
        [
         "Charles Crestani",
         "CC-12145",
         "2016",
         7.86
        ],
        [
         "Charles Crestani",
         "CC-12145",
         "2017",
         8.33
        ],
        [
         "Chris Cortes",
         "CC-12220",
         "2014",
         12.41
        ],
        [
         "Chris Cortes",
         "CC-12220",
         "2015",
         21.01
        ],
        [
         "Chris Cortes",
         "CC-12220",
         "2016",
         -33.05
        ],
        [
         "Chris Cortes",
         "CC-12220",
         "2017",
         393.6
        ],
        [
         "Christopher Conant",
         "CC-12370",
         "2016",
         2083.34
        ],
        [
         "Christopher Conant",
         "CC-12370",
         "2017",
         93.73
        ],
        [
         "Chuck Clark",
         "CC-12430",
         "2015",
         60.39
        ],
        [
         "Chuck Clark",
         "CC-12430",
         "2016",
         255.32
        ],
        [
         "Chuck Clark",
         "CC-12430",
         "2017",
         108.97
        ],
        [
         "Cindy Chapman",
         "CC-12475",
         "2014",
         3.38
        ],
        [
         "Cindy Chapman",
         "CC-12475",
         "2016",
         111.12
        ],
        [
         "Cindy Chapman",
         "CC-12475",
         "2017",
         40.35
        ],
        [
         "Clay Cheatham",
         "CC-12550",
         "2017",
         34.3
        ],
        [
         "Corey Catlett",
         "CC-12610",
         "2014",
         481.45
        ],
        [
         "Corey Catlett",
         "CC-12610",
         "2015",
         18.31
        ],
        [
         "Corey Catlett",
         "CC-12610",
         "2016",
         -202.27
        ],
        [
         "Corey Catlett",
         "CC-12610",
         "2017",
         33.78
        ],
        [
         "Craig Carreira",
         "CC-12670",
         "2014",
         11.3
        ],
        [
         "Craig Carreira",
         "CC-12670",
         "2015",
         8.57
        ],
        [
         "Craig Carreira",
         "CC-12670",
         "2016",
         53.66
        ],
        [
         "Craig Carreira",
         "CC-12670",
         "2017",
         114.35
        ],
        [
         "Craig Carroll",
         "CC-12685",
         "2014",
         -45.32
        ],
        [
         "Craig Carroll",
         "CC-12685",
         "2015",
         895.35
        ],
        [
         "Carlos Daly",
         "CD-11920",
         "2014",
         11.7
        ],
        [
         "Carlos Daly",
         "CD-11920",
         "2015",
         17.75
        ],
        [
         "Carlos Daly",
         "CD-11920",
         "2016",
         46.94
        ],
        [
         "Carlos Daly",
         "CD-11920",
         "2017",
         349.82
        ],
        [
         "Carol Darley",
         "CD-11980",
         "2016",
         7.75
        ],
        [
         "Carol Darley",
         "CD-11980",
         "2017",
         -214.46
        ],
        [
         "Christina De Moss",
         "CD-12280",
         "2017",
         233.48
        ],
        [
         "Cynthia Delaney",
         "CD-12790",
         "2014",
         40.21
        ],
        [
         "Cynthia Delaney",
         "CD-12790",
         "2015",
         2.53
        ],
        [
         "Cynthia Delaney",
         "CD-12790",
         "2016",
         346.71
        ],
        [
         "Catherine Glotzbach",
         "CG-12040",
         "2015",
         5.76
        ],
        [
         "Catherine Glotzbach",
         "CG-12040",
         "2016",
         58.68
        ],
        [
         "Catherine Glotzbach",
         "CG-12040",
         "2017",
         21.87
        ],
        [
         "Claire Gute",
         "CG-12520",
         "2015",
         -93.38
        ],
        [
         "Claire Gute",
         "CG-12520",
         "2016",
         261.49
        ],
        [
         "Claire Gute",
         "CG-12520",
         "2017",
         1.82
        ],
        [
         "Cathy Hwang",
         "CH-12070",
         "2015",
         57.39
        ],
        [
         "Cathy Hwang",
         "CH-12070",
         "2016",
         126.9
        ],
        [
         "Carl Jackson",
         "CJ-11875",
         "2016",
         1.65
        ],
        [
         "Caroline Jumper",
         "CJ-12010",
         "2016",
         1382.97
        ],
        [
         "Caroline Jumper",
         "CJ-12010",
         "2017",
         -524.22
        ],
        [
         "Chloris Kastensmidt",
         "CK-12205",
         "2014",
         82.99
        ],
        [
         "Chloris Kastensmidt",
         "CK-12205",
         "2015",
         5.53
        ],
        [
         "Chloris Kastensmidt",
         "CK-12205",
         "2016",
         -128.01
        ],
        [
         "Chloris Kastensmidt",
         "CK-12205",
         "2017",
         181.08
        ],
        [
         "Christine Kargatis",
         "CK-12325",
         "2014",
         326.42
        ],
        [
         "Christine Kargatis",
         "CK-12325",
         "2016",
         59.08
        ],
        [
         "Christine Kargatis",
         "CK-12325",
         "2017",
         -124.27
        ],
        [
         "Clytie Kelty",
         "CK-12595",
         "2014",
         1.23
        ],
        [
         "Clytie Kelty",
         "CK-12595",
         "2015",
         -36.93
        ],
        [
         "Clytie Kelty",
         "CK-12595",
         "2016",
         315.73
        ],
        [
         "Clytie Kelty",
         "CK-12595",
         "2017",
         211.09
        ],
        [
         "Cyma Kinney",
         "CK-12760",
         "2014",
         66.59
        ],
        [
         "Cyma Kinney",
         "CK-12760",
         "2015",
         14.5
        ],
        [
         "Cyma Kinney",
         "CK-12760",
         "2016",
         101.86
        ],
        [
         "Cyma Kinney",
         "CK-12760",
         "2017",
         -521.39
        ],
        [
         "Carl Ludwig",
         "CL-11890",
         "2014",
         -29.34
        ],
        [
         "Carl Ludwig",
         "CL-11890",
         "2016",
         4.35
        ],
        [
         "Carl Ludwig",
         "CL-11890",
         "2017",
         353.07
        ],
        [
         "Clay Ludtke",
         "CL-12565",
         "2014",
         199.77
        ],
        [
         "Clay Ludtke",
         "CL-12565",
         "2015",
         490.37
        ],
        [
         "Clay Ludtke",
         "CL-12565",
         "2016",
         713.45
        ],
        [
         "Clay Ludtke",
         "CL-12565",
         "2017",
         529.6
        ],
        [
         "Craig Leslie",
         "CL-12700",
         "2016",
         64.09
        ],
        [
         "Craig Leslie",
         "CL-12700",
         "2017",
         164.91
        ],
        [
         "Candace Mc Mahon",
         "CM-11815",
         "2014",
         25.23
        ],
        [
         "Candace Mc Mahon",
         "CM-11815",
         "2016",
         3.69
        ],
        [
         "Candace Mc Mahon",
         "CM-11815",
         "2017",
         185.93
        ],
        [
         "Carlos Meador",
         "CM-11935",
         "2015",
         13.17
        ],
        [
         "Carlos Meador",
         "CM-11935",
         "2016",
         -56.9
        ],
        [
         "Chad Mc Guire",
         "CM-12115",
         "2015",
         8.11
        ],
        [
         "Chad Mc Guire",
         "CM-12115",
         "2017",
         400.47
        ],
        [
         "Charles Mc Crossin",
         "CM-12160",
         "2016",
         -315.75
        ],
        [
         "Charles Mc Crossin",
         "CM-12160",
         "2017",
         -78.62
        ],
        [
         "Charlotte Melton",
         "CM-12190",
         "2015",
         16.89
        ],
        [
         "Charlotte Melton",
         "CM-12190",
         "2017",
         74.32
        ],
        [
         "Chris Mc Afee",
         "CM-12235",
         "2016",
         365.03
        ],
        [
         "Christopher Martinez",
         "CM-12385",
         "2015",
         3197.78
        ],
        [
         "Christopher Martinez",
         "CM-12385",
         "2017",
         702.26
        ],
        [
         "Chuck Magee",
         "CM-12445",
         "2014",
         10.78
        ],
        [
         "Chuck Magee",
         "CM-12445",
         "2016",
         53.19
        ],
        [
         "Corinna Mitchell",
         "CM-12655",
         "2015",
         116.62
        ],
        [
         "Corinna Mitchell",
         "CM-12655",
         "2016",
         599.89
        ],
        [
         "Corinna Mitchell",
         "CM-12655",
         "2017",
         855.93
        ],
        [
         "Craig Molinari",
         "CM-12715",
         "2014",
         206.22
        ],
        [
         "Craig Molinari",
         "CM-12715",
         "2015",
         -29.9
        ],
        [
         "Cathy Prescott",
         "CP-12085",
         "2014",
         62.39
        ],
        [
         "Cathy Prescott",
         "CP-12085",
         "2015",
         102.44
        ],
        [
         "Cathy Prescott",
         "CP-12085",
         "2016",
         31.54
        ],
        [
         "Cathy Prescott",
         "CP-12085",
         "2017",
         230.57
        ],
        [
         "Christine Phan",
         "CP-12340",
         "2014",
         -1031.67
        ],
        [
         "Christine Phan",
         "CP-12340",
         "2015",
         -1044.46
        ],
        [
         "Christine Phan",
         "CP-12340",
         "2016",
         242.84
        ],
        [
         "Christine Phan",
         "CP-12340",
         "2017",
         -17.02
        ],
        [
         "Clay Rozendal",
         "CR-12580",
         "2016",
         -34.4
        ],
        [
         "Clay Rozendal",
         "CR-12580",
         "2017",
         108.8
        ],
        [
         "Corey Roper",
         "CR-12625",
         "2014",
         114.4
        ],
        [
         "Corey Roper",
         "CR-12625",
         "2016",
         30.45
        ],
        [
         "Craig Reiter",
         "CR-12730",
         "2014",
         -6.02
        ],
        [
         "Craig Reiter",
         "CR-12730",
         "2016",
         59.57
        ],
        [
         "Craig Reiter",
         "CR-12730",
         "2017",
         253.37
        ],
        [
         "Cyra Reiten",
         "CR-12820",
         "2015",
         2.13
        ],
        [
         "Cyra Reiten",
         "CR-12820",
         "2017",
         81.14
        ],
        [
         "Cari Sayre",
         "CS-11845",
         "2014",
         -13.9
        ],
        [
         "Cari Sayre",
         "CS-11845",
         "2015",
         -5.73
        ],
        [
         "Cari Sayre",
         "CS-11845",
         "2017",
         205.18
        ],
        [
         "Cari Schnelling",
         "CS-11860",
         "2014",
         93.74
        ],
        [
         "Cari Schnelling",
         "CS-11860",
         "2015",
         -2.84
        ],
        [
         "Cari Schnelling",
         "CS-11860",
         "2017",
         14.92
        ],
        [
         "Carlos Soltero",
         "CS-11950",
         "2014",
         -88.07
        ],
        [
         "Carlos Soltero",
         "CS-11950",
         "2015",
         16.46
        ],
        [
         "Carlos Soltero",
         "CS-11950",
         "2016",
         -131.21
        ],
        [
         "Carlos Soltero",
         "CS-11950",
         "2017",
         76.2
        ],
        [
         "Chad Sievert",
         "CS-12130",
         "2014",
         84.36
        ],
        [
         "Chad Sievert",
         "CS-12130",
         "2015",
         45.72
        ],
        [
         "Chad Sievert",
         "CS-12130",
         "2016",
         13.75
        ],
        [
         "Charles Sheldon",
         "CS-12175",
         "2014",
         98.11
        ],
        [
         "Charles Sheldon",
         "CS-12175",
         "2016",
         18.35
        ],
        [
         "Charles Sheldon",
         "CS-12175",
         "2017",
         -3.31
        ],
        [
         "Chris Selesnick",
         "CS-12250",
         "2014",
         446.75
        ],
        [
         "Chris Selesnick",
         "CS-12250",
         "2015",
         95.26
        ],
        [
         "Chris Selesnick",
         "CS-12250",
         "2016",
         22.14
        ],
        [
         "Chris Selesnick",
         "CS-12250",
         "2017",
         174.26
        ],
        [
         "Christine Sundaresam",
         "CS-12355",
         "2014",
         77.03
        ],
        [
         "Christine Sundaresam",
         "CS-12355",
         "2015",
         288.11
        ],
        [
         "Christine Sundaresam",
         "CS-12355",
         "2016",
         10.32
        ],
        [
         "Christine Sundaresam",
         "CS-12355",
         "2017",
         456.48
        ],
        [
         "Christopher Schild",
         "CS-12400",
         "2014",
         80.63
        ],
        [
         "Christopher Schild",
         "CS-12400",
         "2015",
         75.7
        ],
        [
         "Christopher Schild",
         "CS-12400",
         "2016",
         -114.17
        ],
        [
         "Christopher Schild",
         "CS-12400",
         "2017",
         -384.96
        ],
        [
         "Chuck Sachs",
         "CS-12460",
         "2017",
         156.27
        ],
        [
         "Cindy Schnelling",
         "CS-12490",
         "2015",
         -58.13
        ],
        [
         "Cindy Schnelling",
         "CS-12490",
         "2016",
         -244.73
        ],
        [
         "Cindy Stewart",
         "CS-12505",
         "2014",
         9.0
        ],
        [
         "Cindy Stewart",
         "CS-12505",
         "2015",
         17.34
        ],
        [
         "Cindy Stewart",
         "CS-12505",
         "2016",
         -6696.29
        ],
        [
         "Cindy Stewart",
         "CS-12505",
         "2017",
         43.71
        ],
        [
         "Carol Triggs",
         "CT-11995",
         "2014",
         285.45
        ],
        [
         "Carol Triggs",
         "CT-11995",
         "2015",
         19.45
        ],
        [
         "Carol Triggs",
         "CT-11995",
         "2016",
         -303.26
        ],
        [
         "Carol Triggs",
         "CT-11995",
         "2017",
         159.26
        ],
        [
         "Christina Vander Zanden",
         "CV-12295",
         "2014",
         163.49
        ],
        [
         "Christina Vander Zanden",
         "CV-12295",
         "2016",
         51.98
        ],
        [
         "Christina Vander Zanden",
         "CV-12295",
         "2017",
         277.62
        ],
        [
         "Cynthia Voltz",
         "CV-12805",
         "2016",
         -35.39
        ],
        [
         "Cynthia Voltz",
         "CV-12805",
         "2017",
         134.09
        ],
        [
         "Carl Weiss",
         "CW-11905",
         "2014",
         17.16
        ],
        [
         "Carl Weiss",
         "CW-11905",
         "2015",
         21.11
        ],
        [
         "Carl Weiss",
         "CW-11905",
         "2016",
         22.77
        ],
        [
         "Carl Weiss",
         "CW-11905",
         "2017",
         309.8
        ],
        [
         "Craig Yedwab",
         "CY-12745",
         "2014",
         -336.63
        ],
        [
         "Craig Yedwab",
         "CY-12745",
         "2015",
         107.0
        ],
        [
         "Craig Yedwab",
         "CY-12745",
         "2016",
         49.73
        ],
        [
         "Craig Yedwab",
         "CY-12745",
         "2017",
         240.54
        ],
        [
         "Corey Lock",
         "Co-12640",
         "2014",
         142.68
        ],
        [
         "Corey Lock",
         "Co-12640",
         "2015",
         44.03
        ],
        [
         "Corey Lock",
         "Co-12640",
         "2016",
         19.19
        ],
        [
         "Dianna Arnett",
         "DA-13450",
         "2014",
         21.72
        ],
        [
         "Dianna Arnett",
         "DA-13450",
         "2017",
         35.07
        ],
        [
         "Daniel Byrd",
         "DB-12910",
         "2014",
         3.63
        ],
        [
         "Daniel Byrd",
         "DB-12910",
         "2016",
         146.83
        ],
        [
         "Daniel Byrd",
         "DB-12910",
         "2017",
         280.92
        ],
        [
         "Darren Budd",
         "DB-12970",
         "2014",
         17.78
        ],
        [
         "Darren Budd",
         "DB-12970",
         "2015",
         45.65
        ],
        [
         "Darren Budd",
         "DB-12970",
         "2016",
         84.3
        ],
        [
         "Darren Budd",
         "DB-12970",
         "2017",
         64.81
        ],
        [
         "Dave Brooks",
         "DB-13060",
         "2014",
         409.76
        ],
        [
         "Dave Brooks",
         "DB-13060",
         "2016",
         294.18
        ],
        [
         "Dave Brooks",
         "DB-13060",
         "2017",
         -231.31
        ],
        [
         "David Bremer",
         "DB-13120",
         "2015",
         -285.06
        ],
        [
         "David Bremer",
         "DB-13120",
         "2017",
         -1136.72
        ],
        [
         "Dean Braden",
         "DB-13210",
         "2015",
         -41.79
        ],
        [
         "Dean Braden",
         "DB-13210",
         "2016",
         -66.47
        ],
        [
         "Dean Braden",
         "DB-13210",
         "2017",
         277.97
        ],
        [
         "Deborah Brumfield",
         "DB-13270",
         "2014",
         45.1
        ],
        [
         "Deborah Brumfield",
         "DB-13270",
         "2015",
         1.72
        ],
        [
         "Deborah Brumfield",
         "DB-13270",
         "2016",
         810.57
        ],
        [
         "Deborah Brumfield",
         "DB-13270",
         "2017",
         -15.55
        ],
        [
         "Dennis Bolton",
         "DB-13360",
         "2014",
         79.89
        ],
        [
         "Dennis Bolton",
         "DB-13360",
         "2015",
         15.61
        ],
        [
         "Dennis Bolton",
         "DB-13360",
         "2016",
         81.97
        ],
        [
         "Dennis Bolton",
         "DB-13360",
         "2017",
         113.54
        ],
        [
         "Denny Blanton",
         "DB-13405",
         "2015",
         266.33
        ],
        [
         "Denny Blanton",
         "DB-13405",
         "2017",
         172.59
        ],
        [
         "Dorothy Badders",
         "DB-13555",
         "2014",
         8.35
        ],
        [
         "Dorothy Badders",
         "DB-13555",
         "2017",
         101.29
        ],
        [
         "Doug Bickford",
         "DB-13615",
         "2014",
         13.49
        ],
        [
         "Doug Bickford",
         "DB-13615",
         "2015",
         342.08
        ],
        [
         "Doug Bickford",
         "DB-13615",
         "2016",
         22.73
        ],
        [
         "Doug Bickford",
         "DB-13615",
         "2017",
         60.5
        ],
        [
         "Duane Benoit",
         "DB-13660",
         "2014",
         31.01
        ],
        [
         "Duane Benoit",
         "DB-13660",
         "2015",
         -17.29
        ],
        [
         "Duane Benoit",
         "DB-13660",
         "2016",
         -35.22
        ],
        [
         "Duane Benoit",
         "DB-13660",
         "2017",
         199.44
        ],
        [
         "Dan Campbell",
         "DC-12850",
         "2014",
         -77.87
        ],
        [
         "Dan Campbell",
         "DC-12850",
         "2015",
         4.89
        ],
        [
         "Dan Campbell",
         "DC-12850",
         "2016",
         -239.55
        ],
        [
         "Dan Campbell",
         "DC-12850",
         "2017",
         -1128.75
        ],
        [
         "Debra Catini",
         "DC-13285",
         "2014",
         54.8
        ],
        [
         "Debra Catini",
         "DC-13285",
         "2015",
         55.75
        ],
        [
         "Debra Catini",
         "DC-13285",
         "2016",
         10.47
        ],
        [
         "Debra Catini",
         "DC-13285",
         "2017",
         11.06
        ],
        [
         "Dorothy Dickinson",
         "DD-13570",
         "2014",
         -8.63
        ],
        [
         "Dorothy Dickinson",
         "DD-13570",
         "2016",
         -6.9
        ],
        [
         "Dorothy Dickinson",
         "DD-13570",
         "2017",
         51.97
        ],
        [
         "Na N",
         "DE-13255",
         "2014",
         9.85
        ],
        [
         "Na N",
         "DE-13255",
         "2015",
         438.48
        ],
        [
         "Na N",
         "DE-13255",
         "2016",
         16.15
        ],
        [
         "David Flashing",
         "DF-13135",
         "2014",
         37.88
        ],
        [
         "David Flashing",
         "DF-13135",
         "2015",
         99.94
        ],
        [
         "David Flashing",
         "DF-13135",
         "2016",
         -397.13
        ],
        [
         "Deirdre Greer",
         "DG-13300",
         "2014",
         22.07
        ],
        [
         "Deirdre Greer",
         "DG-13300",
         "2015",
         0.42
        ],
        [
         "Deirdre Greer",
         "DG-13300",
         "2016",
         9.33
        ],
        [
         "Deirdre Greer",
         "DG-13300",
         "2017",
         530.95
        ],
        [
         "Dave Hallsten",
         "DH-13075",
         "2014",
         323.13
        ],
        [
         "Dave Hallsten",
         "DH-13075",
         "2015",
         783.24
        ],
        [
         "Dave Hallsten",
         "DH-13075",
         "2016",
         -19.6
        ],
        [
         "Dave Hallsten",
         "DH-13075",
         "2017",
         106.98
        ],
        [
         "Duane Huffman",
         "DH-13675",
         "2014",
         87.79
        ],
        [
         "Duane Huffman",
         "DH-13675",
         "2015",
         28.89
        ],
        [
         "Denny Joy",
         "DJ-13420",
         "2014",
         39.77
        ],
        [
         "Denny Joy",
         "DJ-13420",
         "2015",
         64.99
        ],
        [
         "Denny Joy",
         "DJ-13420",
         "2016",
         378.27
        ],
        [
         "Don Jones",
         "DJ-13510",
         "2014",
         187.74
        ],
        [
         "Don Jones",
         "DJ-13510",
         "2016",
         100.2
        ],
        [
         "Don Jones",
         "DJ-13510",
         "2017",
         57.32
        ],
        [
         "Doug Jacobs",
         "DJ-13630",
         "2015",
         36.0
        ],
        [
         "Doug Jacobs",
         "DJ-13630",
         "2016",
         25.78
        ],
        [
         "Doug Jacobs",
         "DJ-13630",
         "2017",
         669.79
        ],
        [
         "Damala Kotsonis",
         "DK-12835",
         "2014",
         -22.36
        ],
        [
         "Damala Kotsonis",
         "DK-12835",
         "2015",
         369.26
        ],
        [
         "Damala Kotsonis",
         "DK-12835",
         "2016",
         185.34
        ],
        [
         "Damala Kotsonis",
         "DK-12835",
         "2017",
         349.28
        ],
        [
         "Dana Kaydos",
         "DK-12895",
         "2015",
         609.59
        ],
        [
         "Dana Kaydos",
         "DK-12895",
         "2017",
         316.38
        ],
        [
         "Darren Koutras",
         "DK-12985",
         "2014",
         -8.08
        ],
        [
         "Darren Koutras",
         "DK-12985",
         "2015",
         -76.43
        ],
        [
         "Darren Koutras",
         "DK-12985",
         "2017",
         -22.94
        ],
        [
         "Dave Kipp",
         "DK-13090",
         "2015",
         173.71
        ],
        [
         "Dave Kipp",
         "DK-13090",
         "2016",
         -38.31
        ],
        [
         "Dave Kipp",
         "DK-13090",
         "2017",
         400.99
        ],
        [
         "David Klendrick",
         "DK-13150",
         "2014",
         78.5
        ],
        [
         "David Klendrick",
         "DK-13150",
         "2017",
         171.77
        ],
        [
         "Dean Katz",
         "DK-13225",
         "2014",
         6.0
        ],
        [
         "Dean Katz",
         "DK-13225",
         "2015",
         -339.65
        ],
        [
         "Dean Katz",
         "DK-13225",
         "2016",
         227.45
        ],
        [
         "Dean Katz",
         "DK-13225",
         "2017",
         316.47
        ],
        [
         "Dennis Kane",
         "DK-13375",
         "2014",
         109.61
        ],
        [
         "Dennis Kane",
         "DK-13375",
         "2015",
         -95.8
        ],
        [
         "Dennis Kane",
         "DK-13375",
         "2016",
         360.97
        ],
        [
         "Dennis Kane",
         "DK-13375",
         "2017",
         2.65
        ],
        [
         "Dan Lawera",
         "DL-12865",
         "2014",
         7.73
        ],
        [
         "Dan Lawera",
         "DL-12865",
         "2015",
         9.04
        ],
        [
         "Dan Lawera",
         "DL-12865",
         "2016",
         311.98
        ],
        [
         "Dan Lawera",
         "DL-12865",
         "2017",
         -6.9
        ],
        [
         "Daniel Lacy",
         "DL-12925",
         "2014",
         -324.87
        ],
        [
         "Daniel Lacy",
         "DL-12925",
         "2015",
         304.39
        ],
        [
         "Daniel Lacy",
         "DL-12925",
         "2017",
         24.87
        ],
        [
         "Delfina Latchford",
         "DL-13315",
         "2014",
         -11.89
        ],
        [
         "Delfina Latchford",
         "DL-13315",
         "2016",
         206.58
        ],
        [
         "Delfina Latchford",
         "DL-13315",
         "2017",
         94.23
        ],
        [
         "Denise Leinenbach",
         "DL-13330",
         "2014",
         2.1
        ],
        [
         "Denise Leinenbach",
         "DL-13330",
         "2015",
         197.99
        ],
        [
         "Denise Leinenbach",
         "DL-13330",
         "2016",
         5.22
        ],
        [
         "Denise Leinenbach",
         "DL-13330",
         "2017",
         17.38
        ],
        [
         "Dionis Lloyd",
         "DL-13495",
         "2015",
         50.35
        ],
        [
         "Dionis Lloyd",
         "DL-13495",
         "2016",
         97.84
        ],
        [
         "Dionis Lloyd",
         "DL-13495",
         "2017",
         -200.58
        ],
        [
         "Dario Medina",
         "DM-12955",
         "2014",
         58.4
        ],
        [
         "Dario Medina",
         "DM-12955",
         "2015",
         42.96
        ],
        [
         "Dario Medina",
         "DM-12955",
         "2016",
         0.26
        ],
        [
         "Dario Medina",
         "DM-12955",
         "2017",
         7.14
        ],
        [
         "Darrin Martin",
         "DM-13015",
         "2014",
         1600.06
        ],
        [
         "Darrin Martin",
         "DM-13015",
         "2015",
         6.6
        ],
        [
         "Darrin Martin",
         "DM-13015",
         "2016",
         -35.45
        ],
        [
         "Darrin Martin",
         "DM-13015",
         "2017",
         106.77
        ],
        [
         "Denise Monton",
         "DM-13345",
         "2014",
         3.71
        ],
        [
         "Denise Monton",
         "DM-13345",
         "2015",
         2.84
        ],
        [
         "Denise Monton",
         "DM-13345",
         "2016",
         -61.9
        ],
        [
         "Denise Monton",
         "DM-13345",
         "2017",
         1374.42
        ],
        [
         "Don Miller",
         "DM-13525",
         "2014",
         14.49
        ],
        [
         "Don Miller",
         "DM-13525",
         "2015",
         167.54
        ],
        [
         "Don Miller",
         "DM-13525",
         "2016",
         18.17
        ],
        [
         "Duane Noonan",
         "DN-13690",
         "2014",
         179.72
        ],
        [
         "Duane Noonan",
         "DN-13690",
         "2016",
         222.39
        ],
        [
         "Duane Noonan",
         "DN-13690",
         "2017",
         138.42
        ],
        [
         "Denny Ordway",
         "DO-13435",
         "2014",
         6.09
        ],
        [
         "Denny Ordway",
         "DO-13435",
         "2015",
         -136.09
        ],
        [
         "Denny Ordway",
         "DO-13435",
         "2016",
         8.5
        ],
        [
         "Denny Ordway",
         "DO-13435",
         "2017",
         83.17
        ],
        [
         "Doug O Connell",
         "DO-13645",
         "2015",
         26.82
        ],
        [
         "Doug O Connell",
         "DO-13645",
         "2017",
         267.03
        ],
        [
         "Darren Powers",
         "DP-13000",
         "2014",
         24.24
        ],
        [
         "Darren Powers",
         "DP-13000",
         "2015",
         260.74
        ],
        [
         "Darren Powers",
         "DP-13000",
         "2016",
         4.88
        ],
        [
         "Darren Powers",
         "DP-13000",
         "2017",
         -48.17
        ],
        [
         "Dave Poirier",
         "DP-13105",
         "2015",
         16.29
        ],
        [
         "Dave Poirier",
         "DP-13105",
         "2016",
         486.12
        ],
        [
         "Dave Poirier",
         "DP-13105",
         "2017",
         60.54
        ],
        [
         "David Philippe",
         "DP-13165",
         "2014",
         -41.94
        ],
        [
         "David Philippe",
         "DP-13165",
         "2015",
         1.0
        ],
        [
         "Dennis Pardue",
         "DP-13390",
         "2014",
         83.79
        ],
        [
         "Dennis Pardue",
         "DP-13390",
         "2015",
         -223.85
        ],
        [
         "Dennis Pardue",
         "DP-13390",
         "2016",
         1694.64
        ],
        [
         "Dennis Pardue",
         "DP-13390",
         "2017",
         17.25
        ],
        [
         "Dan Reichenbach",
         "DR-12880",
         "2015",
         428.64
        ],
        [
         "Dan Reichenbach",
         "DR-12880",
         "2016",
         126.06
        ],
        [
         "Dan Reichenbach",
         "DR-12880",
         "2017",
         1086.84
        ],
        [
         "Daniel Raglin",
         "DR-12940",
         "2014",
         22.68
        ],
        [
         "Daniel Raglin",
         "DR-12940",
         "2015",
         296.67
        ],
        [
         "Daniel Raglin",
         "DR-12940",
         "2016",
         2337.76
        ],
        [
         "Daniel Raglin",
         "DR-12940",
         "2017",
         211.97
        ],
        [
         "Darrin Sayre",
         "DS-13030",
         "2014",
         29.47
        ],
        [
         "Darrin Sayre",
         "DS-13030",
         "2017",
         164.31
        ],
        [
         "David Smith",
         "DS-13180",
         "2014",
         57.59
        ],
        [
         "David Smith",
         "DS-13180",
         "2015",
         182.58
        ],
        [
         "David Smith",
         "DS-13180",
         "2016",
         -46.95
        ],
        [
         "David Smith",
         "DS-13180",
         "2017",
         -29.56
        ],
        [
         "Darrin Van Huff",
         "DV-13045",
         "2016",
         17.48
        ],
        [
         "Darrin Van Huff",
         "DV-13045",
         "2017",
         -445.11
        ],
        [
         "Dianna Vittorini",
         "DV-13465",
         "2014",
         9.72
        ],
        [
         "Dianna Vittorini",
         "DV-13465",
         "2015",
         101.77
        ],
        [
         "Dianna Vittorini",
         "DV-13465",
         "2016",
         89.95
        ],
        [
         "Dianna Vittorini",
         "DV-13465",
         "2017",
         151.65
        ],
        [
         "David Wiener",
         "DW-13195",
         "2014",
         55.47
        ],
        [
         "David Wiener",
         "DW-13195",
         "2016",
         -34.16
        ],
        [
         "David Wiener",
         "DW-13195",
         "2017",
         -108.28
        ],
        [
         "Dianna Wilson",
         "DW-13480",
         "2014",
         1154.67
        ],
        [
         "Dianna Wilson",
         "DW-13480",
         "2016",
         31.09
        ],
        [
         "Dianna Wilson",
         "DW-13480",
         "2017",
         162.99
        ],
        [
         "Don Weiss",
         "DW-13540",
         "2016",
         16.01
        ],
        [
         "Don Weiss",
         "DW-13540",
         "2017",
         53.65
        ],
        [
         "Dorothy Wardle",
         "DW-13585",
         "2014",
         6.63
        ],
        [
         "Dorothy Wardle",
         "DW-13585",
         "2015",
         -371.25
        ],
        [
         "Dorothy Wardle",
         "DW-13585",
         "2016",
         92.61
        ],
        [
         "Dorothy Wardle",
         "DW-13585",
         "2017",
         5.11
        ],
        [
         "Dorrisliebe",
         "Dl-13600",
         "2014",
         29.17
        ],
        [
         "Dorrisliebe",
         "Dl-13600",
         "2016",
         146.39
        ],
        [
         "Dorrisliebe",
         "Dl-13600",
         "2017",
         -0.33
        ],
        [
         "Deanperce R",
         "Dp-13240",
         "2014",
         100.92
        ],
        [
         "Deanperce R",
         "Dp-13240",
         "2015",
         1145.83
        ],
        [
         "Deanperce R",
         "Dp-13240",
         "2016",
         117.74
        ],
        [
         "Deanperce R",
         "Dp-13240",
         "2017",
         -1031.12
        ],
        [
         "Erin Ashbrook",
         "EA-14035",
         "2014",
         -53.44
        ],
        [
         "Erin Ashbrook",
         "EA-14035",
         "2015",
         321.74
        ],
        [
         "Erin Ashbrook",
         "EA-14035",
         "2016",
         -342.69
        ],
        [
         "Erin Ashbrook",
         "EA-14035",
         "2017",
         21.83
        ],
        [
         "Ed Braxton",
         "EB-13705",
         "2014",
         -127.42
        ],
        [
         "Ed Braxton",
         "EB-13705",
         "2015",
         47.96
        ],
        [
         "Ed Braxton",
         "EB-13705",
         "2016",
         82.42
        ],
        [
         "Ed Braxton",
         "EB-13705",
         "2017",
         10.6
        ],
        [
         "Edward Becker",
         "EB-13750",
         "2015",
         177.41
        ],
        [
         "Edward Becker",
         "EB-13750",
         "2016",
         139.81
        ],
        [
         "Edward Becker",
         "EB-13750",
         "2017",
         -397.51
        ],
        [
         "Ellis Ballard",
         "EB-13840",
         "2014",
         -36.36
        ],
        [
         "Ellis Ballard",
         "EB-13840",
         "2015",
         610.86
        ],
        [
         "Ellis Ballard",
         "EB-13840",
         "2016",
         0.0
        ],
        [
         "Ellis Ballard",
         "EB-13840",
         "2017",
         81.7
        ],
        [
         "Emily Burns",
         "EB-13870",
         "2014",
         16.02
        ],
        [
         "Emily Burns",
         "EB-13870",
         "2015",
         242.3
        ],
        [
         "Emily Burns",
         "EB-13870",
         "2016",
         84.07
        ],
        [
         "Emily Burns",
         "EB-13870",
         "2017",
         -80.44
        ],
        [
         "Eric Barreto",
         "EB-13930",
         "2014",
         1.35
        ],
        [
         "Eric Barreto",
         "EB-13930",
         "2016",
         74.27
        ],
        [
         "Eric Barreto",
         "EB-13930",
         "2017",
         -75.19
        ],
        [
         "Erica Bern",
         "EB-13975",
         "2016",
         151.89
        ],
        [
         "Erica Bern",
         "EB-13975",
         "2017",
         11.0
        ],
        [
         "Eugene Barchas",
         "EB-14110",
         "2015",
         44.54
        ],
        [
         "Eugene Barchas",
         "EB-14110",
         "2016",
         187.62
        ],
        [
         "Eugene Barchas",
         "EB-14110",
         "2017",
         -47.4
        ],
        [
         "Evan Bailliet",
         "EB-14170",
         "2014",
         155.02
        ],
        [
         "Evan Bailliet",
         "EB-14170",
         "2015",
         119.43
        ],
        [
         "Evan Bailliet",
         "EB-14170",
         "2016",
         4.44
        ],
        [
         "Evan Bailliet",
         "EB-14170",
         "2017",
         3.52
        ],
        [
         "Erin Creighton",
         "EC-14050",
         "2014",
         -4.02
        ],
        [
         "Erin Creighton",
         "EC-14050",
         "2016",
         43.09
        ],
        [
         "Erin Creighton",
         "EC-14050",
         "2017",
         57.37
        ],
        [
         "Na N",
         "ED-13885",
         "2014",
         18.48
        ],
        [
         "Na N",
         "ED-13885",
         "2015",
         574.81
        ],
        [
         "Na N",
         "ED-13885",
         "2016",
         185.14
        ],
        [
         "Na N",
         "ED-13885",
         "2017",
         -107.98
        ],
        [
         "Emily Grady",
         "EG-13900",
         "2015",
         55.0
        ],
        [
         "Emily Grady",
         "EG-13900",
         "2016",
         46.31
        ],
        [
         "Emily Grady",
         "EG-13900",
         "2017",
         2.59
        ],
        [
         "Edward Hooks",
         "EH-13765",
         "2014",
         4.05
        ],
        [
         "Edward Hooks",
         "EH-13765",
         "2015",
         224.83
        ],
        [
         "Edward Hooks",
         "EH-13765",
         "2016",
         758.8
        ],
        [
         "Edward Hooks",
         "EH-13765",
         "2017",
         405.82
        ],
        [
         "Eric Hoffmann",
         "EH-13945",
         "2014",
         22.15
        ],
        [
         "Eric Hoffmann",
         "EH-13945",
         "2015",
         10.62
        ],
        [
         "Eric Hoffmann",
         "EH-13945",
         "2016",
         -13.38
        ],
        [
         "Eric Hoffmann",
         "EH-13945",
         "2017",
         34.4
        ],
        [
         "Erica Hackney",
         "EH-13990",
         "2014",
         54.09
        ],
        [
         "Erica Hackney",
         "EH-13990",
         "2015",
         28.38
        ],
        [
         "Erica Hackney",
         "EH-13990",
         "2016",
         67.9
        ],
        [
         "Erica Hernandez",
         "EH-14005",
         "2014",
         -248.96
        ],
        [
         "Erica Hernandez",
         "EH-14005",
         "2016",
         9.95
        ],
        [
         "Erica Hernandez",
         "EH-14005",
         "2017",
         144.29
        ],
        [
         "Eugene Hildebrand",
         "EH-14125",
         "2014",
         20.1
        ],
        [
         "Eugene Hildebrand",
         "EH-14125",
         "2015",
         -117.87
        ],
        [
         "Eugene Hildebrand",
         "EH-14125",
         "2016",
         -71.64
        ],
        [
         "Eugene Hildebrand",
         "EH-14125",
         "2017",
         265.62
        ],
        [
         "Evan Henry",
         "EH-14185",
         "2014",
         26.43
        ],
        [
         "Evan Henry",
         "EH-14185",
         "2016",
         209.28
        ],
        [
         "Evan Henry",
         "EH-14185",
         "2017",
         6.42
        ],
        [
         "Ed Jacobs",
         "EJ-13720",
         "2014",
         -7403.61
        ],
        [
         "Ed Jacobs",
         "EJ-13720",
         "2015",
         15.86
        ],
        [
         "Ed Jacobs",
         "EJ-13720",
         "2017",
         423.72
        ],
        [
         "Eva Jacobs",
         "EJ-14155",
         "2014",
         -23.49
        ],
        [
         "Eva Jacobs",
         "EJ-14155",
         "2016",
         335.35
        ],
        [
         "Eva Jacobs",
         "EJ-14155",
         "2017",
         140.02
        ],
        [
         "Eileen Kiefer",
         "EK-13795",
         "2014",
         70.49
        ],
        [
         "Eileen Kiefer",
         "EK-13795",
         "2015",
         20.54
        ],
        [
         "Eileen Kiefer",
         "EK-13795",
         "2017",
         6.07
        ],
        [
         "Ed Ludwig",
         "EL-13735",
         "2016",
         8.66
        ],
        [
         "Ed Ludwig",
         "EL-13735",
         "2017",
         18.45
        ],
        [
         "Na N",
         "EM-13810",
         "2015",
         -202.06
        ],
        [
         "Na N",
         "EM-13810",
         "2016",
         57.59
        ],
        [
         "Na N",
         "EM-13810",
         "2017",
         10.48
        ],
        [
         "Elizabeth Moffitt",
         "EM-13825",
         "2014",
         7.99
        ],
        [
         "Elizabeth Moffitt",
         "EM-13825",
         "2015",
         238.47
        ],
        [
         "Elizabeth Moffitt",
         "EM-13825",
         "2016",
         -8.32
        ],
        [
         "Elizabeth Moffitt",
         "EM-13825",
         "2017",
         444.42
        ],
        [
         "Eric Murdock",
         "EM-13960",
         "2015",
         51.93
        ],
        [
         "Eric Murdock",
         "EM-13960",
         "2017",
         50.37
        ],
        [
         "Erin Mull",
         "EM-14065",
         "2014",
         59.26
        ],
        [
         "Erin Mull",
         "EM-14065",
         "2016",
         -4.79
        ],
        [
         "Erin Mull",
         "EM-14065",
         "2017",
         -14.44
        ],
        [
         "Eudokia Martin",
         "EM-14095",
         "2015",
         192.67
        ],
        [
         "Eudokia Martin",
         "EM-14095",
         "2016",
         30.63
        ],
        [
         "Eudokia Martin",
         "EM-14095",
         "2017",
         16.93
        ],
        [
         "Eugene Moren",
         "EM-14140",
         "2014",
         2.21
        ],
        [
         "Eugene Moren",
         "EM-14140",
         "2015",
         271.41
        ],
        [
         "Eugene Moren",
         "EM-14140",
         "2016",
         968.57
        ],
        [
         "Eugene Moren",
         "EM-14140",
         "2017",
         76.76
        ],
        [
         "Evan Minnotte",
         "EM-14200",
         "2015",
         4.0
        ],
        [
         "Evan Minnotte",
         "EM-14200",
         "2017",
         17.83
        ],
        [
         "Edward Nazzal",
         "EN-13780",
         "2015",
         51.27
        ],
        [
         "Edward Nazzal",
         "EN-13780",
         "2016",
         438.4
        ],
        [
         "Edward Nazzal",
         "EN-13780",
         "2017",
         6.55
        ],
        [
         "Emily Phan",
         "EP-13915",
         "2014",
         175.0
        ],
        [
         "Emily Phan",
         "EP-13915",
         "2015",
         361.2
        ],
        [
         "Emily Phan",
         "EP-13915",
         "2016",
         -393.66
        ],
        [
         "Emily Phan",
         "EP-13915",
         "2017",
         2.6
        ],
        [
         "Elpida Rittenbach",
         "ER-13855",
         "2015",
         4.57
        ],
        [
         "Elpida Rittenbach",
         "ER-13855",
         "2016",
         -299.9
        ],
        [
         "Erica Smith",
         "ES-14020",
         "2014",
         15.22
        ],
        [
         "Erica Smith",
         "ES-14020",
         "2015",
         44.05
        ],
        [
         "Erica Smith",
         "ES-14020",
         "2016",
         71.99
        ],
        [
         "Erica Smith",
         "ES-14020",
         "2017",
         871.82
        ],
        [
         "Erin Smith",
         "ES-14080",
         "2014",
         134.03
        ],
        [
         "Erin Smith",
         "ES-14080",
         "2015",
         -27.16
        ],
        [
         "Erin Smith",
         "ES-14080",
         "2016",
         -99.22
        ],
        [
         "Erin Smith",
         "ES-14080",
         "2017",
         239.29
        ],
        [
         "Frank Atkinson",
         "FA-14230",
         "2014",
         3.58
        ],
        [
         "Frank Atkinson",
         "FA-14230",
         "2015",
         224.56
        ],
        [
         "Frank Atkinson",
         "FA-14230",
         "2016",
         39.81
        ],
        [
         "Frank Atkinson",
         "FA-14230",
         "2017",
         252.38
        ],
        [
         "Frank Carlisle",
         "FC-14245",
         "2015",
         35.53
        ],
        [
         "Frank Carlisle",
         "FC-14245",
         "2016",
         972.25
        ],
        [
         "Frank Carlisle",
         "FC-14245",
         "2017",
         209.4
        ],
        [
         "Fred Chung",
         "FC-14335",
         "2014",
         112.57
        ],
        [
         "Fred Chung",
         "FC-14335",
         "2015",
         12.6
        ],
        [
         "Fred Chung",
         "FC-14335",
         "2016",
         86.15
        ],
        [
         "Fred Chung",
         "FC-14335",
         "2017",
         502.97
        ],
        [
         "Frank Gastineau",
         "FG-14260",
         "2014",
         314.52
        ],
        [
         "Frank Gastineau",
         "FG-14260",
         "2017",
         80.43
        ],
        [
         "Frank Hawley",
         "FH-14275",
         "2014",
         297.18
        ],
        [
         "Frank Hawley",
         "FH-14275",
         "2016",
         166.29
        ],
        [
         "Frank Hawley",
         "FH-14275",
         "2017",
         12936.86
        ],
        [
         "Fred Harton",
         "FH-14350",
         "2015",
         365.68
        ],
        [
         "Fred Harton",
         "FH-14350",
         "2017",
         340.37
        ],
        [
         "Fred Hopkins",
         "FH-14365",
         "2014",
         -172.46
        ],
        [
         "Fred Hopkins",
         "FH-14365",
         "2015",
         2139.74
        ],
        [
         "Fred Hopkins",
         "FH-14365",
         "2016",
         6.91
        ],
        [
         "Fred Hopkins",
         "FH-14365",
         "2017",
         76.82
        ],
        [
         "Filia Mc Adams",
         "FM-14215",
         "2014",
         228.77
        ],
        [
         "Filia Mc Adams",
         "FM-14215",
         "2016",
         45.93
        ],
        [
         "Filia Mc Adams",
         "FM-14215",
         "2017",
         -24.75
        ],
        [
         "Frank Merwin",
         "FM-14290",
         "2014",
         22.98
        ],
        [
         "Frank Merwin",
         "FM-14290",
         "2015",
         1.03
        ],
        [
         "Frank Merwin",
         "FM-14290",
         "2016",
         -356.98
        ],
        [
         "Frank Merwin",
         "FM-14290",
         "2017",
         530.86
        ],
        [
         "Fred Mc Math",
         "FM-14380",
         "2015",
         17.48
        ],
        [
         "Fred Mc Math",
         "FM-14380",
         "2016",
         134.91
        ],
        [
         "Fred Mc Math",
         "FM-14380",
         "2017",
         38.7
        ],
        [
         "Frank Olsen",
         "FO-14305",
         "2014",
         245.02
        ],
        [
         "Frank Olsen",
         "FO-14305",
         "2015",
         18.99
        ],
        [
         "Frank Olsen",
         "FO-14305",
         "2016",
         22.56
        ],
        [
         "Frank Olsen",
         "FO-14305",
         "2017",
         -70.98
        ],
        [
         "Frank Preis",
         "FP-14320",
         "2014",
         138.01
        ],
        [
         "Frank Preis",
         "FP-14320",
         "2015",
         -140.57
        ],
        [
         "Frank Preis",
         "FP-14320",
         "2016",
         359.7
        ],
        [
         "Frank Preis",
         "FP-14320",
         "2017",
         49.32
        ],
        [
         "Fred Waerman",
         "FW-14395",
         "2015",
         5.48
        ],
        [
         "Fred Waerman",
         "FW-14395",
         "2016",
         12.21
        ],
        [
         "Fred Waerman",
         "FW-14395",
         "2017",
         5.81
        ],
        [
         "George Ashbrook",
         "GA-14515",
         "2014",
         22.41
        ],
        [
         "George Ashbrook",
         "GA-14515",
         "2015",
         625.85
        ],
        [
         "George Ashbrook",
         "GA-14515",
         "2016",
         53.56
        ],
        [
         "George Ashbrook",
         "GA-14515",
         "2017",
         139.07
        ],
        [
         "Guy Armstrong",
         "GA-14725",
         "2014",
         101.45
        ],
        [
         "Guy Armstrong",
         "GA-14725",
         "2015",
         11.54
        ],
        [
         "Guy Armstrong",
         "GA-14725",
         "2017",
         23.5
        ],
        [
         "George Bell",
         "GB-14530",
         "2014",
         -33.19
        ],
        [
         "George Bell",
         "GB-14530",
         "2015",
         74.29
        ],
        [
         "George Bell",
         "GB-14530",
         "2016",
         -77.54
        ],
        [
         "George Bell",
         "GB-14530",
         "2017",
         44.29
        ],
        [
         "Giulietta Baptist",
         "GB-14575",
         "2015",
         767.6
        ],
        [
         "Giulietta Baptist",
         "GB-14575",
         "2016",
         73.22
        ],
        [
         "Giulietta Baptist",
         "GB-14575",
         "2017",
         295.02
        ],
        [
         "Giulietta Dortch",
         "GD-14590",
         "2014",
         21.66
        ],
        [
         "Giulietta Dortch",
         "GD-14590",
         "2016",
         -155.3
        ],
        [
         "Giulietta Dortch",
         "GD-14590",
         "2017",
         364.24
        ],
        [
         "Greg Guthrie",
         "GG-14650",
         "2014",
         122.55
        ],
        [
         "Greg Guthrie",
         "GG-14650",
         "2015",
         -115.72
        ],
        [
         "Greg Guthrie",
         "GG-14650",
         "2016",
         15.93
        ],
        [
         "Greg Guthrie",
         "GG-14650",
         "2017",
         -10.07
        ],
        [
         "Gary Hansen",
         "GH-14410",
         "2014",
         53.34
        ],
        [
         "Gary Hansen",
         "GH-14410",
         "2015",
         38.97
        ],
        [
         "Gary Hansen",
         "GH-14410",
         "2016",
         -173.08
        ],
        [
         "Gary Hansen",
         "GH-14410",
         "2017",
         -496.24
        ],
        [
         "Gary Hwang",
         "GH-14425",
         "2014",
         1073.14
        ],
        [
         "Gary Hwang",
         "GH-14425",
         "2015",
         59.65
        ],
        [
         "Gary Hwang",
         "GH-14425",
         "2017",
         43.6
        ],
        [
         "Gene Hale",
         "GH-14485",
         "2015",
         -71.0
        ],
        [
         "Gene Hale",
         "GH-14485",
         "2016",
         -24.49
        ],
        [
         "Greg Hansen",
         "GH-14665",
         "2015",
         3.07
        ],
        [
         "Greg Hansen",
         "GH-14665",
         "2017",
         -8.88
        ],
        [
         "Grace Kelly",
         "GK-14620",
         "2014",
         42.92
        ],
        [
         "Grace Kelly",
         "GK-14620",
         "2015",
         86.65
        ],
        [
         "Grace Kelly",
         "GK-14620",
         "2016",
         1315.57
        ],
        [
         "Grace Kelly",
         "GK-14620",
         "2017",
         3.45
        ],
        [
         "Gary Mc Garr",
         "GM-14440",
         "2014",
         202.78
        ],
        [
         "Gary Mc Garr",
         "GM-14440",
         "2016",
         108.18
        ],
        [
         "Gary Mc Garr",
         "GM-14440",
         "2017",
         36.31
        ],
        [
         "Gary Mitchum",
         "GM-14455",
         "2014",
         316.15
        ],
        [
         "Gary Mitchum",
         "GM-14455",
         "2016",
         102.52
        ],
        [
         "Gary Mitchum",
         "GM-14455",
         "2017",
         374.62
        ],
        [
         "Gene Mc Clure",
         "GM-14500",
         "2014",
         2.69
        ],
        [
         "Gene Mc Clure",
         "GM-14500",
         "2015",
         359.46
        ],
        [
         "Gene Mc Clure",
         "GM-14500",
         "2016",
         17.57
        ],
        [
         "Gene Mc Clure",
         "GM-14500",
         "2017",
         61.6
        ],
        [
         "Greg Matthias",
         "GM-14680",
         "2014",
         214.53
        ],
        [
         "Greg Matthias",
         "GM-14680",
         "2016",
         -121.94
        ],
        [
         "Greg Matthias",
         "GM-14680",
         "2017",
         -57.12
        ],
        [
         "Greg Maxwell",
         "GM-14695",
         "2014",
         112.28
        ],
        [
         "Greg Maxwell",
         "GM-14695",
         "2016",
         175.36
        ],
        [
         "Greg Maxwell",
         "GM-14695",
         "2017",
         -99.18
        ],
        [
         "Guy Phonely",
         "GP-14740",
         "2014",
         -35.93
        ],
        [
         "Guy Phonely",
         "GP-14740",
         "2015",
         67.77
        ],
        [
         "Georgia Rosenberg",
         "GR-14560",
         "2014",
         359.88
        ],
        [
         "Grant Thornton",
         "GT-14635",
         "2014",
         -292.19
        ],
        [
         "Grant Thornton",
         "GT-14635",
         "2015",
         8.87
        ],
        [
         "Grant Thornton",
         "GT-14635",
         "2017",
         -3825.34
        ],
        [
         "Greg Tran",
         "GT-14710",
         "2014",
         738.65
        ],
        [
         "Greg Tran",
         "GT-14710",
         "2015",
         974.31
        ],
        [
         "Greg Tran",
         "GT-14710",
         "2016",
         366.71
        ],
        [
         "Greg Tran",
         "GT-14710",
         "2017",
         83.62
        ],
        [
         "Guy Thornton",
         "GT-14755",
         "2015",
         27.2
        ],
        [
         "Guy Thornton",
         "GT-14755",
         "2016",
         6.3
        ],
        [
         "Guy Thornton",
         "GT-14755",
         "2017",
         -39.64
        ],
        [
         "Giulietta Weimer",
         "GW-14605",
         "2014",
         3.63
        ],
        [
         "Giulietta Weimer",
         "GW-14605",
         "2015",
         134.33
        ],
        [
         "Giulietta Weimer",
         "GW-14605",
         "2016",
         44.58
        ],
        [
         "Giulietta Weimer",
         "GW-14605",
         "2017",
         -451.09
        ],
        [
         "Gary Zandusky",
         "GZ-14470",
         "2014",
         50.43
        ],
        [
         "Gary Zandusky",
         "GZ-14470",
         "2015",
         126.31
        ],
        [
         "Gary Zandusky",
         "GZ-14470",
         "2016",
         652.32
        ],
        [
         "Gary Zandusky",
         "GZ-14470",
         "2017",
         259.1
        ],
        [
         "George Zrebassa",
         "GZ-14545",
         "2014",
         12.0
        ],
        [
         "George Zrebassa",
         "GZ-14545",
         "2017",
         816.17
        ],
        [
         "Helen Abelman",
         "HA-14905",
         "2014",
         108.8
        ],
        [
         "Helen Abelman",
         "HA-14905",
         "2015",
         111.29
        ],
        [
         "Helen Abelman",
         "HA-14905",
         "2016",
         129.77
        ],
        [
         "Helen Abelman",
         "HA-14905",
         "2017",
         -79.0
        ],
        [
         "Helen Andreada",
         "HA-14920",
         "2014",
         -57.04
        ],
        [
         "Helen Andreada",
         "HA-14920",
         "2015",
         197.84
        ],
        [
         "Helen Andreada",
         "HA-14920",
         "2016",
         -55.04
        ],
        [
         "Helen Andreada",
         "HA-14920",
         "2017",
         12.71
        ],
        [
         "Harold Dahlen",
         "HD-14785",
         "2014",
         -167.32
        ],
        [
         "Harold Dahlen",
         "HD-14785",
         "2015",
         30.99
        ],
        [
         "Harold Engle",
         "HE-14800",
         "2016",
         112.71
        ],
        [
         "Harold Engle",
         "HE-14800",
         "2017",
         161.26
        ],
        [
         "Herbert Flentye",
         "HF-14995",
         "2014",
         132.47
        ],
        [
         "Herbert Flentye",
         "HF-14995",
         "2016",
         -167.31
        ],
        [
         "Herbert Flentye",
         "HF-14995",
         "2017",
         20.49
        ],
        [
         "Harry Greene",
         "HG-14845",
         "2014",
         21.6
        ],
        [
         "Harry Greene",
         "HG-14845",
         "2015",
         -2.01
        ],
        [
         "Harry Greene",
         "HG-14845",
         "2017",
         127.42
        ],
        [
         "Henry Goldwyn",
         "HG-14965",
         "2014",
         2.45
        ],
        [
         "Henry Goldwyn",
         "HG-14965",
         "2015",
         34.84
        ],
        [
         "Henry Goldwyn",
         "HG-14965",
         "2016",
         136.14
        ],
        [
         "Henry Goldwyn",
         "HG-14965",
         "2017",
         -2971.38
        ],
        [
         "Hunter Glantz",
         "HG-15025",
         "2014",
         616.46
        ],
        [
         "Hunter Glantz",
         "HG-15025",
         "2015",
         55.9
        ],
        [
         "Hunter Glantz",
         "HG-15025",
         "2016",
         50.24
        ],
        [
         "Hunter Glantz",
         "HG-15025",
         "2017",
         82.02
        ],
        [
         "Hilary Holden",
         "HH-15010",
         "2014",
         60.27
        ],
        [
         "Hilary Holden",
         "HH-15010",
         "2017",
         26.46
        ],
        [
         "Heather Jas",
         "HJ-14875",
         "2015",
         28.71
        ],
        [
         "Heather Jas",
         "HJ-14875",
         "2016",
         55.99
        ],
        [
         "Heather Jas",
         "HJ-14875",
         "2017",
         13.97
        ],
        [
         "Heather Kirkland",
         "HK-14890",
         "2014",
         240.86
        ],
        [
         "Heather Kirkland",
         "HK-14890",
         "2015",
         300.07
        ],
        [
         "Heather Kirkland",
         "HK-14890",
         "2016",
         17.03
        ],
        [
         "Heather Kirkland",
         "HK-14890",
         "2017",
         399.01
        ],
        [
         "Hunter Lopez",
         "HL-15040",
         "2014",
         448.03
        ],
        [
         "Hunter Lopez",
         "HL-15040",
         "2016",
         128.54
        ],
        [
         "Hunter Lopez",
         "HL-15040",
         "2017",
         5045.86
        ],
        [
         "Harry Marie",
         "HM-14860",
         "2014",
         -79.13
        ],
        [
         "Harry Marie",
         "HM-14860",
         "2015",
         2451.01
        ],
        [
         "Harry Marie",
         "HM-14860",
         "2016",
         82.75
        ],
        [
         "Harry Marie",
         "HM-14860",
         "2017",
         -16.56
        ],
        [
         "Henry Mac Allister",
         "HM-14980",
         "2015",
         73.82
        ],
        [
         "Henry Mac Allister",
         "HM-14980",
         "2016",
         1.73
        ],
        [
         "Henry Mac Allister",
         "HM-14980",
         "2017",
         41.23
        ],
        [
         "Harold Pawlan",
         "HP-14815",
         "2014",
         101.69
        ],
        [
         "Harold Pawlan",
         "HP-14815",
         "2015",
         -21.7
        ],
        [
         "Harold Pawlan",
         "HP-14815",
         "2017",
         293.88
        ],
        [
         "Hallie Redmond",
         "HR-14770",
         "2014",
         1.6
        ],
        [
         "Hallie Redmond",
         "HR-14770",
         "2015",
         48.12
        ],
        [
         "Hallie Redmond",
         "HR-14770",
         "2017",
         135.68
        ],
        [
         "Harold Ryan",
         "HR-14830",
         "2014",
         79.74
        ],
        [
         "Harold Ryan",
         "HR-14830",
         "2015",
         116.94
        ],
        [
         "Harold Ryan",
         "HR-14830",
         "2017",
         1000.69
        ],
        [
         "Helen Waerman",
         "HW-14935",
         "2015",
         17.2
        ],
        [
         "Helen Waerman",
         "HW-14935",
         "2016",
         200.27
        ],
        [
         "Helen Waerman",
         "HW-14935",
         "2017",
         1946.7
        ],
        [
         "Henia Zydlo",
         "HZ-14950",
         "2016",
         6.29
        ],
        [
         "Henia Zydlo",
         "HZ-14950",
         "2017",
         -136.68
        ],
        [
         "Ivan Gibson",
         "IG-15085",
         "2014",
         28.35
        ],
        [
         "Ivan Gibson",
         "IG-15085",
         "2015",
         144.35
        ],
        [
         "Ivan Gibson",
         "IG-15085",
         "2016",
         54.86
        ],
        [
         "Ivan Gibson",
         "IG-15085",
         "2017",
         92.92
        ],
        [
         "Ivan Liston",
         "IL-15100",
         "2014",
         6.91
        ],
        [
         "Ivan Liston",
         "IL-15100",
         "2015",
         656.68
        ],
        [
         "Ivan Liston",
         "IL-15100",
         "2016",
         19.56
        ],
        [
         "Ivan Liston",
         "IL-15100",
         "2017",
         438.68
        ],
        [
         "Ionia Mc Grath",
         "IM-15055",
         "2014",
         19.24
        ],
        [
         "Ionia Mc Grath",
         "IM-15055",
         "2016",
         956.54
        ],
        [
         "Irene Maddox",
         "IM-15070",
         "2014",
         240.6
        ],
        [
         "Irene Maddox",
         "IM-15070",
         "2015",
         -55.7
        ],
        [
         "Irene Maddox",
         "IM-15070",
         "2016",
         329.3
        ],
        [
         "Joseph Airdo",
         "JA-15970",
         "2014",
         96.93
        ],
        [
         "Joseph Airdo",
         "JA-15970",
         "2016",
         114.19
        ],
        [
         "Joseph Airdo",
         "JA-15970",
         "2017",
         -1031.0
        ],
        [
         "Jennifer Braxton",
         "JB-15400",
         "2014",
         -124.57
        ],
        [
         "Jennifer Braxton",
         "JB-15400",
         "2015",
         128.05
        ],
        [
         "Jennifer Braxton",
         "JB-15400",
         "2016",
         -98.62
        ],
        [
         "Jennifer Braxton",
         "JB-15400",
         "2017",
         251.19
        ],
        [
         "Joni Blumstein",
         "JB-15925",
         "2014",
         72.58
        ],
        [
         "Joni Blumstein",
         "JB-15925",
         "2015",
         -359.56
        ],
        [
         "Joy Bell",
         "JB-16000",
         "2016",
         15.97
        ],
        [
         "Joy Bell",
         "JB-16000",
         "2017",
         111.09
        ],
        [
         "Julia Barnett",
         "JB-16045",
         "2015",
         106.54
        ],
        [
         "Julia Barnett",
         "JB-16045",
         "2016",
         84.97
        ],
        [
         "Julia Barnett",
         "JB-16045",
         "2017",
         9.89
        ],
        [
         "Jasper Cacioppo",
         "JC-15340",
         "2014",
         1.33
        ],
        [
         "Jasper Cacioppo",
         "JC-15340",
         "2016",
         -4.08
        ],
        [
         "Jasper Cacioppo",
         "JC-15340",
         "2017",
         2.4
        ],
        [
         "Jenna Caffey",
         "JC-15385",
         "2017",
         502.93
        ],
        [
         "John Castell",
         "JC-15775",
         "2014",
         64.08
        ],
        [
         "John Castell",
         "JC-15775",
         "2015",
         27.63
        ],
        [
         "John Castell",
         "JC-15775",
         "2016",
         70.55
        ],
        [
         "John Castell",
         "JC-15775",
         "2017",
         117.31
        ],
        [
         "Julie Creighton",
         "JC-16105",
         "2014",
         76.49
        ],
        [
         "Julie Creighton",
         "JC-16105",
         "2015",
         62.81
        ],
        [
         "Julie Creighton",
         "JC-16105",
         "2017",
         62.3
        ],
        [
         "John Dryer",
         "JD-15790",
         "2015",
         -313.52
        ],
        [
         "John Dryer",
         "JD-15790",
         "2016",
         36.47
        ],
        [
         "John Dryer",
         "JD-15790",
         "2017",
         10.49
        ],
        [
         "Jonathan Doherty",
         "JD-15895",
         "2014",
         -194.2
        ],
        [
         "Jonathan Doherty",
         "JD-15895",
         "2015",
         64.82
        ],
        [
         "Jonathan Doherty",
         "JD-15895",
         "2016",
         1179.82
        ],
        [
         "Joy Daniels",
         "JD-16015",
         "2014",
         -10.34
        ],
        [
         "Joy Daniels",
         "JD-16015",
         "2017",
         37.06
        ],
        [
         "Julia Dunbar",
         "JD-16060",
         "2014",
         8.48
        ],
        [
         "Julia Dunbar",
         "JD-16060",
         "2015",
         -29.25
        ],
        [
         "Julia Dunbar",
         "JD-16060",
         "2017",
         131.89
        ],
        [
         "Justin Deggeller",
         "JD-16150",
         "2014",
         17.56
        ],
        [
         "Justin Deggeller",
         "JD-16150",
         "2015",
         212.64
        ],
        [
         "Justin Deggeller",
         "JD-16150",
         "2016",
         272.2
        ],
        [
         "Justin Deggeller",
         "JD-16150",
         "2017",
         1116.34
        ],
        [
         "Jeremy Ellison",
         "JE-15475",
         "2015",
         57.22
        ],
        [
         "Jeremy Ellison",
         "JE-15475",
         "2016",
         185.63
        ],
        [
         "Jeremy Ellison",
         "JE-15475",
         "2017",
         33.6
        ],
        [
         "Jim Epp",
         "JE-15610",
         "2014",
         27.19
        ],
        [
         "Jim Epp",
         "JE-15610",
         "2015",
         -129.89
        ],
        [
         "Jim Epp",
         "JE-15610",
         "2016",
         22.24
        ],
        [
         "Jim Epp",
         "JE-15610",
         "2017",
         1703.57
        ],
        [
         "Joe Elijah",
         "JE-15715",
         "2014",
         -59.8
        ],
        [
         "Joe Elijah",
         "JE-15715",
         "2015",
         50.83
        ],
        [
         "Joe Elijah",
         "JE-15715",
         "2016",
         1210.66
        ],
        [
         "Joe Elijah",
         "JE-15715",
         "2017",
         60.42
        ],
        [
         "Joel Eaton",
         "JE-15745",
         "2014",
         42.09
        ],
        [
         "Joel Eaton",
         "JE-15745",
         "2015",
         -507.06
        ],
        [
         "Joel Eaton",
         "JE-15745",
         "2016",
         126.62
        ],
        [
         "Joel Eaton",
         "JE-15745",
         "2017",
         560.58
        ],
        [
         "Justin Ellison",
         "JE-16165",
         "2016",
         776.35
        ],
        [
         "Justin Ellison",
         "JE-16165",
         "2017",
         13.67
        ],
        [
         "Jamie Frazer",
         "JF-15190",
         "2014",
         37.4
        ],
        [
         "Jamie Frazer",
         "JF-15190",
         "2015",
         17.99
        ],
        [
         "Jamie Frazer",
         "JF-15190",
         "2016",
         173.31
        ],
        [
         "Jamie Frazer",
         "JF-15190",
         "2017",
         347.08
        ],
        [
         "Jason Fortune",
         "JF-15295",
         "2014",
         47.35
        ],
        [
         "Jason Fortune",
         "JF-15295",
         "2016",
         -9.88
        ],
        [
         "Jason Fortune",
         "JF-15295",
         "2017",
         59.94
        ],
        [
         "Jay Fein",
         "JF-15355",
         "2015",
         161.11
        ],
        [
         "Jay Fein",
         "JF-15355",
         "2016",
         40.75
        ],
        [
         "Jay Fein",
         "JF-15355",
         "2017",
         128.34
        ],
        [
         "Jennifer Ferguson",
         "JF-15415",
         "2014",
         28.14
        ],
        [
         "Jennifer Ferguson",
         "JF-15415",
         "2015",
         56.64
        ],
        [
         "Jennifer Ferguson",
         "JF-15415",
         "2017",
         550.86
        ],
        [
         "Jeremy Farry",
         "JF-15490",
         "2014",
         35.4
        ],
        [
         "Jeremy Farry",
         "JF-15490",
         "2015",
         -103.54
        ],
        [
         "Jeremy Farry",
         "JF-15490",
         "2016",
         13.11
        ],
        [
         "Jeremy Farry",
         "JF-15490",
         "2017",
         36.98
        ],
        [
         "Jill Fjeld",
         "JF-15565",
         "2014",
         78.55
        ],
        [
         "Jill Fjeld",
         "JF-15565",
         "2015",
         147.35
        ],
        [
         "Jill Fjeld",
         "JF-15565",
         "2016",
         849.66
        ],
        [
         "Jill Fjeld",
         "JF-15565",
         "2017",
         -1.49
        ],
        [
         "Jack Garza",
         "JG-15115",
         "2014",
         734.7
        ],
        [
         "Jack Garza",
         "JG-15115",
         "2015",
         -50.17
        ],
        [
         "James Galang",
         "JG-15160",
         "2014",
         378.39
        ],
        [
         "James Galang",
         "JG-15160",
         "2015",
         736.76
        ],
        [
         "James Galang",
         "JG-15160",
         "2016",
         230.36
        ],
        [
         "James Galang",
         "JG-15160",
         "2017",
         69.85
        ],
        [
         "Jason Gross",
         "JG-15310",
         "2016",
         -22.93
        ],
        [
         "Jason Gross",
         "JG-15310",
         "2017",
         26.52
        ],
        [
         "John Grady",
         "JG-15805",
         "2014",
         28.26
        ],
        [
         "John Grady",
         "JG-15805",
         "2015",
         8.69
        ],
        [
         "John Grady",
         "JG-15805",
         "2016",
         91.13
        ],
        [
         "John Grady",
         "JG-15805",
         "2017",
         78.02
        ],
        [
         "Jennifer Halladay",
         "JH-15430",
         "2014",
         18.79
        ],
        [
         "Jennifer Halladay",
         "JH-15430",
         "2017",
         -42.85
        ],
        [
         "John Huston",
         "JH-15820",
         "2014",
         26.41
        ],
        [
         "John Huston",
         "JH-15820",
         "2015",
         19.6
        ],
        [
         "John Huston",
         "JH-15820",
         "2017",
         -19.94
        ],
        [
         "Jonathan Howell",
         "JH-15910",
         "2015",
         48.66
        ],
        [
         "Jonathan Howell",
         "JH-15910",
         "2016",
         63.17
        ],
        [
         "Jonathan Howell",
         "JH-15910",
         "2017",
         -125.38
        ],
        [
         "Joseph Holt",
         "JH-15985",
         "2014",
         644.0
        ],
        [
         "Joseph Holt",
         "JH-15985",
         "2015",
         -1429.38
        ],
        [
         "Joseph Holt",
         "JH-15985",
         "2016",
         72.03
        ],
        [
         "Joseph Holt",
         "JH-15985",
         "2017",
         68.87
        ],
        [
         "Justin Hirsh",
         "JH-16180",
         "2015",
         106.41
        ],
        [
         "Justin Hirsh",
         "JH-16180",
         "2016",
         -203.37
        ],
        [
         "Jennifer Jackson",
         "JJ-15445",
         "2015",
         181.85
        ],
        [
         "Jennifer Jackson",
         "JJ-15445",
         "2016",
         18.71
        ],
        [
         "Joel Jenkins",
         "JJ-15760",
         "2015",
         34.46
        ],
        [
         "Jamie Kunitz",
         "JK-15205",
         "2014",
         47.81
        ],
        [
         "Jamie Kunitz",
         "JK-15205",
         "2015",
         615.03
        ],
        [
         "Jamie Kunitz",
         "JK-15205",
         "2016",
         1.03
        ],
        [
         "Jamie Kunitz",
         "JK-15205",
         "2017",
         557.69
        ],
        [
         "Jason Klamczynski",
         "JK-15325",
         "2014",
         17.55
        ],
        [
         "Jason Klamczynski",
         "JK-15325",
         "2016",
         11.68
        ],
        [
         "Jason Klamczynski",
         "JK-15325",
         "2017",
         26.35
        ],
        [
         "Jay Kimmel",
         "JK-15370",
         "2014",
         129.54
        ],
        [
         "Jay Kimmel",
         "JK-15370",
         "2015",
         37.34
        ],
        [
         "Jay Kimmel",
         "JK-15370",
         "2016",
         83.5
        ],
        [
         "Jay Kimmel",
         "JK-15370",
         "2017",
         79.47
        ],
        [
         "Jim Karlsson",
         "JK-15625",
         "2014",
         303.87
        ],
        [
         "Jim Karlsson",
         "JK-15625",
         "2015",
         438.0
        ],
        [
         "Jim Karlsson",
         "JK-15625",
         "2017",
         8.86
        ],
        [
         "Jim Kriz",
         "JK-15640",
         "2014",
         10.19
        ],
        [
         "Jim Kriz",
         "JK-15640",
         "2015",
         181.04
        ],
        [
         "Jim Kriz",
         "JK-15640",
         "2017",
         981.67
        ],
        [
         "Joe Kamberova",
         "JK-15730",
         "2014",
         -212.61
        ],
        [
         "Joe Kamberova",
         "JK-15730",
         "2015",
         42.08
        ],
        [
         "Joe Kamberova",
         "JK-15730",
         "2016",
         194.58
        ],
        [
         "Joe Kamberova",
         "JK-15730",
         "2017",
         30.95
        ],
        [
         "Juliana Krohn",
         "JK-16090",
         "2015",
         228.9
        ],
        [
         "Juliana Krohn",
         "JK-16090",
         "2017",
         357.77
        ],
        [
         "Julie Kriz",
         "JK-16120",
         "2014",
         239.98
        ],
        [
         "Julie Kriz",
         "JK-16120",
         "2015",
         47.93
        ],
        [
         "Julie Kriz",
         "JK-16120",
         "2016",
         108.52
        ],
        [
         "Julie Kriz",
         "JK-16120",
         "2017",
         -273.77
        ],
        [
         "Jack Lebron",
         "JL-15130",
         "2014",
         9.87
        ],
        [
         "Jack Lebron",
         "JL-15130",
         "2016",
         1.39
        ],
        [
         "Jack Lebron",
         "JL-15130",
         "2017",
         -218.57
        ],
        [
         "James Lanier",
         "JL-15175",
         "2014",
         59.49
        ],
        [
         "James Lanier",
         "JL-15175",
         "2015",
         41.14
        ],
        [
         "James Lanier",
         "JL-15175",
         "2016",
         -2.0
        ],
        [
         "James Lanier",
         "JL-15175",
         "2017",
         110.48
        ],
        [
         "Janet Lee",
         "JL-15235",
         "2014",
         -190.51
        ],
        [
         "Janet Lee",
         "JL-15235",
         "2015",
         53.47
        ],
        [
         "Janet Lee",
         "JL-15235",
         "2016",
         103.36
        ],
        [
         "Janet Lee",
         "JL-15235",
         "2017",
         88.19
        ],
        [
         "Jeremy Lonsdale",
         "JL-15505",
         "2014",
         41.27
        ],
        [
         "Jeremy Lonsdale",
         "JL-15505",
         "2016",
         21.75
        ],
        [
         "Jeremy Lonsdale",
         "JL-15505",
         "2017",
         529.02
        ],
        [
         "John Lee",
         "JL-15835",
         "2014",
         -863.93
        ],
        [
         "John Lee",
         "JL-15835",
         "2015",
         252.43
        ],
        [
         "John Lee",
         "JL-15835",
         "2016",
         2.8
        ],
        [
         "John Lee",
         "JL-15835",
         "2017",
         837.23
        ],
        [
         "John Lucas",
         "JL-15850",
         "2014",
         1.33
        ],
        [
         "John Lucas",
         "JL-15850",
         "2015",
         816.52
        ],
        [
         "John Lucas",
         "JL-15850",
         "2016",
         -37.95
        ],
        [
         "Janet Martin",
         "JM-15250",
         "2016",
         155.23
        ],
        [
         "Janet Martin",
         "JM-15250",
         "2017",
         -135.65
        ],
        [
         "Janet Molinari",
         "JM-15265",
         "2014",
         59.06
        ],
        [
         "Janet Molinari",
         "JM-15265",
         "2015",
         -11.9
        ],
        [
         "Janet Molinari",
         "JM-15265",
         "2016",
         306.55
        ],
        [
         "Janet Molinari",
         "JM-15265",
         "2017",
         149.28
        ],
        [
         "Jessica Myrick",
         "JM-15535",
         "2014",
         58.99
        ],
        [
         "Jessica Myrick",
         "JM-15535",
         "2015",
         46.85
        ],
        [
         "Jessica Myrick",
         "JM-15535",
         "2016",
         232.13
        ],
        [
         "Jessica Myrick",
         "JM-15535",
         "2017",
         18.56
        ],
        [
         "Jill Matthias",
         "JM-15580",
         "2016",
         113.72
        ],
        [
         "Jill Matthias",
         "JM-15580",
         "2017",
         -0.6
        ],
        [
         "Jim Mitchum",
         "JM-15655",
         "2014",
         7.72
        ],
        [
         "Jim Mitchum",
         "JM-15655",
         "2016",
         65.9
        ],
        [
         "Jim Mitchum",
         "JM-15655",
         "2017",
         43.58
        ],
        [
         "John Murray",
         "JM-15865",
         "2014",
         1228.18
        ],
        [
         "John Murray",
         "JM-15865",
         "2015",
         371.88
        ],
        [
         "John Murray",
         "JM-15865",
         "2016",
         -49.62
        ],
        [
         "John Murray",
         "JM-15865",
         "2017",
         24.63
        ],
        [
         "Justin Mac Kendrick",
         "JM-16195",
         "2014",
         273.4
        ],
        [
         "Justin Mac Kendrick",
         "JM-16195",
         "2015",
         221.33
        ],
        [
         "Justin Mac Kendrick",
         "JM-16195",
         "2016",
         23.86
        ],
        [
         "Justin Mac Kendrick",
         "JM-16195",
         "2017",
         235.11
        ],
        [
         "Jack O Briant",
         "JO-15145",
         "2014",
         101.03
        ],
        [
         "Jack O Briant",
         "JO-15145",
         "2016",
         440.01
        ],
        [
         "Jack O Briant",
         "JO-15145",
         "2017",
         40.4
        ],
        [
         "Jas O Carroll",
         "JO-15280",
         "2014",
         0.97
        ],
        [
         "Jas O Carroll",
         "JO-15280",
         "2015",
         203.94
        ],
        [
         "Jas O Carroll",
         "JO-15280",
         "2016",
         51.21
        ],
        [
         "Jas O Carroll",
         "JO-15280",
         "2017",
         -54.88
        ],
        [
         "Jesus Ocampo",
         "JO-15550",
         "2015",
         153.91
        ],
        [
         "Jesus Ocampo",
         "JO-15550",
         "2017",
         13.22
        ],
        [
         "Jennifer Patt",
         "JP-15460",
         "2014",
         10.81
        ],
        [
         "Jennifer Patt",
         "JP-15460",
         "2015",
         100.93
        ],
        [
         "Jennifer Patt",
         "JP-15460",
         "2016",
         307.34
        ],
        [
         "Jennifer Patt",
         "JP-15460",
         "2017",
         10.66
        ],
        [
         "Jeremy Pistek",
         "JP-15520",
         "2014",
         199.41
        ],
        [
         "Jeremy Pistek",
         "JP-15520",
         "2015",
         5.01
        ],
        [
         "Jeremy Pistek",
         "JP-15520",
         "2016",
         130.51
        ],
        [
         "Jeremy Pistek",
         "JP-15520",
         "2017",
         422.26
        ],
        [
         "Julie Prescott",
         "JP-16135",
         "2014",
         6.92
        ],
        [
         "Julie Prescott",
         "JP-16135",
         "2015",
         7.43
        ],
        [
         "Julie Prescott",
         "JP-16135",
         "2016",
         275.44
        ],
        [
         "Julie Prescott",
         "JP-16135",
         "2017",
         19.51
        ],
        [
         "Jim Radford",
         "JR-15670",
         "2015",
         -785.16
        ],
        [
         "Jim Radford",
         "JR-15670",
         "2016",
         0.0
        ],
        [
         "Jocasta Rupert",
         "JR-15700",
         "2017",
         107.99
        ],
        [
         "Justin Ritter",
         "JR-16210",
         "2015",
         152.39
        ],
        [
         "Justin Ritter",
         "JR-16210",
         "2016",
         44.21
        ],
        [
         "Justin Ritter",
         "JR-16210",
         "2017",
         255.77
        ],
        [
         "Ji Stevenson",
         "JS-15595",
         "2014",
         -204.14
        ],
        [
         "Ji Stevenson",
         "JS-15595",
         "2015",
         4.53
        ],
        [
         "Ji Stevenson",
         "JS-15595",
         "2016",
         78.4
        ],
        [
         "Ji Stevenson",
         "JS-15595",
         "2017",
         -53.73
        ],
        [
         "Jim Sink",
         "JS-15685",
         "2016",
         -99.99
        ],
        [
         "Jim Sink",
         "JS-15685",
         "2017",
         45.13
        ],
        [
         "John Stevenson",
         "JS-15880",
         "2014",
         -94.66
        ],
        [
         "John Stevenson",
         "JS-15880",
         "2015",
         392.89
        ],
        [
         "John Stevenson",
         "JS-15880",
         "2016",
         266.74
        ],
        [
         "Joni Sundaresam",
         "JS-15940",
         "2014",
         2.87
        ],
        [
         "Joni Sundaresam",
         "JS-15940",
         "2015",
         -312.06
        ],
        [
         "Joni Sundaresam",
         "JS-15940",
         "2016",
         -18.74
        ],
        [
         "Joy Smith",
         "JS-16030",
         "2014",
         3.4
        ],
        [
         "Joy Smith",
         "JS-16030",
         "2016",
         451.92
        ],
        [
         "Joy Smith",
         "JS-16030",
         "2017",
         -766.57
        ],
        [
         "Jane Waco",
         "JW-15220",
         "2015",
         89.2
        ],
        [
         "Jane Waco",
         "JW-15220",
         "2016",
         131.25
        ],
        [
         "Jane Waco",
         "JW-15220",
         "2017",
         1953.6
        ],
        [
         "Joni Waerman",
         "JW-15955",
         "2015",
         -201.65
        ],
        [
         "Joni Waerman",
         "JW-15955",
         "2016",
         1.2
        ],
        [
         "Joni Waerman",
         "JW-15955",
         "2017",
         170.87
        ],
        [
         "Julia West",
         "JW-16075",
         "2015",
         133.51
        ],
        [
         "Julia West",
         "JW-16075",
         "2016",
         20.38
        ],
        [
         "Kelly Andreada",
         "KA-16525",
         "2014",
         49.01
        ],
        [
         "Kelly Andreada",
         "KA-16525",
         "2015",
         77.97
        ],
        [
         "Kelly Andreada",
         "KA-16525",
         "2016",
         67.44
        ],
        [
         "Kelly Andreada",
         "KA-16525",
         "2017",
         39.94
        ],
        [
         "Karen Bern",
         "KB-16240",
         "2014",
         -1.0
        ],
        [
         "Karen Bern",
         "KB-16240",
         "2015",
         19.85
        ],
        [
         "Karen Bern",
         "KB-16240",
         "2016",
         -18.18
        ],
        [
         "Karen Bern",
         "KB-16240",
         "2017",
         763.56
        ],
        [
         "Karl Braun",
         "KB-16315",
         "2014",
         -29.74
        ],
        [
         "Karl Braun",
         "KB-16315",
         "2015",
         -18.21
        ],
        [
         "Karl Braun",
         "KB-16315",
         "2016",
         27.53
        ],
        [
         "Karl Braun",
         "KB-16315",
         "2017",
         69.64
        ],
        [
         "Katrina Bavinger",
         "KB-16405",
         "2015",
         42.96
        ],
        [
         "Katrina Bavinger",
         "KB-16405",
         "2017",
         230.9
        ],
        [
         "Ken Black",
         "KB-16585",
         "2014",
         175.16
        ],
        [
         "Ken Black",
         "KB-16585",
         "2015",
         66.42
        ],
        [
         "Ken Black",
         "KB-16585",
         "2016",
         96.32
        ],
        [
         "Ken Black",
         "KB-16585",
         "2017",
         240.99
        ],
        [
         "Ken Brennan",
         "KB-16600",
         "2014",
         2.85
        ],
        [
         "Ken Brennan",
         "KB-16600",
         "2015",
         17.0
        ],
        [
         "Ken Brennan",
         "KB-16600",
         "2016",
         14.62
        ],
        [
         "Ken Brennan",
         "KB-16600",
         "2017",
         259.43
        ],
        [
         "Karen Carlisle",
         "KC-16255",
         "2014",
         43.06
        ],
        [
         "Karen Carlisle",
         "KC-16255",
         "2015",
         279.99
        ],
        [
         "Karen Carlisle",
         "KC-16255",
         "2016",
         523.09
        ],
        [
         "Kelly Collister",
         "KC-16540",
         "2015",
         49.27
        ],
        [
         "Kelly Collister",
         "KC-16540",
         "2016",
         635.68
        ],
        [
         "Kelly Collister",
         "KC-16540",
         "2017",
         24.48
        ],
        [
         "Kimberly Carter",
         "KC-16675",
         "2014",
         5.82
        ],
        [
         "Kimberly Carter",
         "KC-16675",
         "2016",
         -4.95
        ],
        [
         "Kimberly Carter",
         "KC-16675",
         "2017",
         156.37
        ],
        [
         "Karen Danels",
         "KD-16270",
         "2014",
         -1340.6
        ],
        [
         "Karen Danels",
         "KD-16270",
         "2015",
         129.49
        ],
        [
         "Karen Danels",
         "KD-16270",
         "2016",
         2318.71
        ],
        [
         "Katherine Ducich",
         "KD-16345",
         "2014",
         64.7
        ],
        [
         "Katherine Ducich",
         "KD-16345",
         "2015",
         243.53
        ],
        [
         "Katherine Ducich",
         "KD-16345",
         "2017",
         20.36
        ],
        [
         "Keith Dawkins",
         "KD-16495",
         "2014",
         35.02
        ],
        [
         "Keith Dawkins",
         "KD-16495",
         "2015",
         2810.35
        ],
        [
         "Keith Dawkins",
         "KD-16495",
         "2016",
         58.72
        ],
        [
         "Keith Dawkins",
         "KD-16495",
         "2017",
         134.84
        ],
        [
         "Na N",
         "KD-16615",
         "2015",
         272.58
        ],
        [
         "Na N",
         "KD-16615",
         "2016",
         68.22
        ],
        [
         "Na N",
         "KD-16615",
         "2017",
         198.92
        ],
        [
         "Katrina Edelman",
         "KE-16420",
         "2014",
         161.63
        ],
        [
         "Katrina Edelman",
         "KE-16420",
         "2015",
         235.64
        ],
        [
         "Katrina Edelman",
         "KE-16420",
         "2016",
         19.0
        ],
        [
         "Katrina Edelman",
         "KE-16420",
         "2017",
         -18.38
        ],
        [
         "Karen Ferguson",
         "KF-16285",
         "2014",
         82.52
        ],
        [
         "Karen Ferguson",
         "KF-16285",
         "2016",
         371.05
        ],
        [
         "Karen Ferguson",
         "KF-16285",
         "2017",
         1206.84
        ],
        [
         "Katharine Harms",
         "KH-16330",
         "2014",
         261.33
        ],
        [
         "Katharine Harms",
         "KH-16330",
         "2016",
         43.9
        ],
        [
         "Katharine Harms",
         "KH-16330",
         "2017",
         150.46
        ],
        [
         "Katherine Hughes",
         "KH-16360",
         "2014",
         -32.05
        ],
        [
         "Katherine Hughes",
         "KH-16360",
         "2016",
         57.83
        ],
        [
         "Katherine Hughes",
         "KH-16360",
         "2017",
         502.51
        ],
        [
         "Keith Herrera",
         "KH-16510",
         "2014",
         -2.74
        ],
        [
         "Keith Herrera",
         "KH-16510",
         "2015",
         227.57
        ],
        [
         "Keith Herrera",
         "KH-16510",
         "2017",
         431.29
        ],
        [
         "Ken Heidel",
         "KH-16630",
         "2014",
         128.43
        ],
        [
         "Ken Heidel",
         "KH-16630",
         "2015",
         501.54
        ],
        [
         "Ken Heidel",
         "KH-16630",
         "2016",
         30.61
        ],
        [
         "Ken Heidel",
         "KH-16630",
         "2017",
         66.93
        ],
        [
         "Kristen Hastings",
         "KH-16690",
         "2014",
         1038.59
        ],
        [
         "Kristen Hastings",
         "KH-16690",
         "2015",
         -36.13
        ],
        [
         "Kristen Hastings",
         "KH-16690",
         "2016",
         7.18
        ],
        [
         "Kristen Hastings",
         "KH-16690",
         "2017",
         217.49
        ],
        [
         "Kelly Lampkin",
         "KL-16555",
         "2014",
         -69.25
        ],
        [
         "Kelly Lampkin",
         "KL-16555",
         "2016",
         50.12
        ],
        [
         "Kelly Lampkin",
         "KL-16555",
         "2017",
         -163.66
        ],
        [
         "Ken Lonsdale",
         "KL-16645",
         "2014",
         395.6
        ],
        [
         "Ken Lonsdale",
         "KL-16645",
         "2015",
         252.53
        ],
        [
         "Ken Lonsdale",
         "KL-16645",
         "2016",
         -3.35
        ],
        [
         "Ken Lonsdale",
         "KL-16645",
         "2017",
         161.72
        ],
        [
         "Kalyca Meade",
         "KM-16225",
         "2015",
         450.16
        ],
        [
         "Kalyca Meade",
         "KM-16225",
         "2016",
         56.34
        ],
        [
         "Kalyca Meade",
         "KM-16225",
         "2017",
         128.93
        ],
        [
         "Katherine Murray",
         "KM-16375",
         "2014",
         955.86
        ],
        [
         "Katherine Murray",
         "KM-16375",
         "2015",
         29.31
        ],
        [
         "Katherine Murray",
         "KM-16375",
         "2016",
         128.9
        ],
        [
         "Katherine Murray",
         "KM-16375",
         "2017",
         -140.7
        ],
        [
         "Khloe Miller",
         "KM-16660",
         "2014",
         3.0
        ],
        [
         "Khloe Miller",
         "KM-16660",
         "2015",
         34.35
        ],
        [
         "Khloe Miller",
         "KM-16660",
         "2016",
         11.83
        ],
        [
         "Khloe Miller",
         "KM-16660",
         "2017",
         41.49
        ],
        [
         "Kunst Miller",
         "KM-16720",
         "2014",
         213.7
        ],
        [
         "Kunst Miller",
         "KM-16720",
         "2015",
         112.1
        ],
        [
         "Kunst Miller",
         "KM-16720",
         "2016",
         54.92
        ],
        [
         "Kunst Miller",
         "KM-16720",
         "2017",
         364.68
        ],
        [
         "Katherine Nockton",
         "KN-16390",
         "2014",
         29.95
        ],
        [
         "Katherine Nockton",
         "KN-16390",
         "2015",
         -191.36
        ],
        [
         "Katherine Nockton",
         "KN-16390",
         "2017",
         10.26
        ],
        [
         "Kean Nguyen",
         "KN-16450",
         "2014",
         119.98
        ],
        [
         "Kean Nguyen",
         "KN-16450",
         "2015",
         -118.58
        ],
        [
         "Kean Nguyen",
         "KN-16450",
         "2017",
         112.42
        ],
        [
         "Kristina Nunn",
         "KN-16705",
         "2014",
         186.0
        ],
        [
         "Kristina Nunn",
         "KN-16705",
         "2015",
         -183.11
        ],
        [
         "Kristina Nunn",
         "KN-16705",
         "2016",
         25.0
        ],
        [
         "Kristina Nunn",
         "KN-16705",
         "2017",
         301.88
        ],
        [
         "Karen Seio",
         "KS-16300",
         "2015",
         6.49
        ],
        [
         "Karen Seio",
         "KS-16300",
         "2017",
         -6.38
        ],
        [
         "Kean Takahito",
         "KT-16465",
         "2014",
         68.8
        ],
        [
         "Kean Takahito",
         "KT-16465",
         "2015",
         28.81
        ],
        [
         "Kean Takahito",
         "KT-16465",
         "2016",
         156.14
        ],
        [
         "Kean Thornton",
         "KT-16480",
         "2014",
         103.44
        ],
        [
         "Kean Thornton",
         "KT-16480",
         "2015",
         36.7
        ],
        [
         "Kean Thornton",
         "KT-16480",
         "2016",
         19.61
        ],
        [
         "Kean Thornton",
         "KT-16480",
         "2017",
         34.32
        ],
        [
         "Katrina Willman",
         "KW-16435",
         "2015",
         1600.85
        ],
        [
         "Katrina Willman",
         "KW-16435",
         "2016",
         32.16
        ],
        [
         "Katrina Willman",
         "KW-16435",
         "2017",
         123.13
        ],
        [
         "Kelly Williams",
         "KW-16570",
         "2014",
         11.25
        ],
        [
         "Kelly Williams",
         "KW-16570",
         "2015",
         97.14
        ],
        [
         "Laura Armstrong",
         "LA-16780",
         "2014",
         482.57
        ],
        [
         "Laura Armstrong",
         "LA-16780",
         "2015",
         -0.12
        ],
        [
         "Laura Armstrong",
         "LA-16780",
         "2016",
         1526.67
        ],
        [
         "Laura Armstrong",
         "LA-16780",
         "2017",
         16.07
        ],
        [
         "Larry Blacks",
         "LB-16735",
         "2016",
         10.74
        ],
        [
         "Larry Blacks",
         "LB-16735",
         "2017",
         7.91
        ],
        [
         "Laurel Beltran",
         "LB-16795",
         "2014",
         -21.36
        ],
        [
         "Laurel Beltran",
         "LB-16795",
         "2016",
         -658.62
        ],
        [
         "Laurel Beltran",
         "LB-16795",
         "2017",
         627.99
        ],
        [
         "Na N",
         "LC-16870",
         "2015",
         107.63
        ],
        [
         "Na N",
         "LC-16870",
         "2016",
         -291.75
        ],
        [
         "Na N",
         "LC-16870",
         "2017",
         -3.9
        ],
        [
         "Lena Creighton",
         "LC-16885",
         "2014",
         201.07
        ],
        [
         "Lena Creighton",
         "LC-16885",
         "2015",
         1007.76
        ],
        [
         "Lena Creighton",
         "LC-16885",
         "2016",
         147.88
        ],
        [
         "Lena Creighton",
         "LC-16885",
         "2017",
         -67.97
        ],
        [
         "Linda Cazamias",
         "LC-16930",
         "2014",
         29.34
        ],
        [
         "Linda Cazamias",
         "LC-16930",
         "2016",
         246.91
        ],
        [
         "Linda Cazamias",
         "LC-16930",
         "2017",
         12.04
        ],
        [
         "Lindsay Castell",
         "LC-16960",
         "2015",
         278.2
        ],
        [
         "Lindsay Castell",
         "LC-16960",
         "2016",
         21.27
        ],
        [
         "Liz Carlisle",
         "LC-17050",
         "2014",
         -128.09
        ],
        [
         "Liz Carlisle",
         "LC-17050",
         "2016",
         225.26
        ],
        [
         "Liz Carlisle",
         "LC-17050",
         "2017",
         -10.4
        ],
        [
         "Logan Currie",
         "LC-17140",
         "2014",
         -26.6
        ],
        [
         "Logan Currie",
         "LC-17140",
         "2015",
         19.4
        ],
        [
         "Logan Currie",
         "LC-17140",
         "2016",
         235.33
        ],
        [
         "Logan Currie",
         "LC-17140",
         "2017",
         2.4
        ],
        [
         "Lela Donovan",
         "LD-16855",
         "2016",
         0.46
        ],
        [
         "Lisa De Cherney",
         "LD-17005",
         "2014",
         445.51
        ],
        [
         "Lisa De Cherney",
         "LD-17005",
         "2016",
         111.26
        ],
        [
         "Laurel Elliston",
         "LE-16810",
         "2014",
         -12.84
        ],
        [
         "Laurel Elliston",
         "LE-16810",
         "2015",
         5.08
        ],
        [
         "Laurel Elliston",
         "LE-16810",
         "2016",
         179.75
        ],
        [
         "Laurel Elliston",
         "LE-16810",
         "2017",
         -10.24
        ],
        [
         "Luke Foster",
         "LF-17185",
         "2014",
         -3802.08
        ],
        [
         "Luke Foster",
         "LF-17185",
         "2015",
         146.21
        ],
        [
         "Luke Foster",
         "LF-17185",
         "2016",
         0.72
        ],
        [
         "Luke Foster",
         "LF-17185",
         "2017",
         71.54
        ],
        [
         "Larry Hughes",
         "LH-16750",
         "2014",
         -5.04
        ],
        [
         "Larry Hughes",
         "LH-16750",
         "2017",
         17.67
        ],
        [
         "Lena Hernandez",
         "LH-16900",
         "2014",
         282.09
        ],
        [
         "Lena Hernandez",
         "LH-16900",
         "2015",
         121.11
        ],
        [
         "Lena Hernandez",
         "LH-16900",
         "2016",
         56.7
        ],
        [
         "Lena Hernandez",
         "LH-16900",
         "2017",
         65.22
        ],
        [
         "Lisa Hazard",
         "LH-17020",
         "2014",
         -79.34
        ],
        [
         "Lisa Hazard",
         "LH-17020",
         "2015",
         -27.0
        ],
        [
         "Lisa Hazard",
         "LH-17020",
         "2016",
         16.46
        ],
        [
         "Lisa Hazard",
         "LH-17020",
         "2017",
         -152.87
        ],
        [
         "Logan Haushalter",
         "LH-17155",
         "2014",
         9.58
        ],
        [
         "Logan Haushalter",
         "LH-17155",
         "2015",
         94.85
        ],
        [
         "Logan Haushalter",
         "LH-17155",
         "2016",
         212.1
        ],
        [
         "Lauren Leatherbury",
         "LL-16840",
         "2014",
         110.88
        ],
        [
         "Lauren Leatherbury",
         "LL-16840",
         "2015",
         404.91
        ],
        [
         "Lauren Leatherbury",
         "LL-16840",
         "2017",
         44.72
        ],
        [
         "Liz Mac Kendrick",
         "LM-17065",
         "2014",
         76.1
        ],
        [
         "Liz Mac Kendrick",
         "LM-17065",
         "2015",
         -142.52
        ],
        [
         "Liz Mac Kendrick",
         "LM-17065",
         "2016",
         21.54
        ],
        [
         "Lori Olson",
         "LO-17170",
         "2015",
         34.45
        ],
        [
         "Lori Olson",
         "LO-17170",
         "2017",
         115.71
        ],
        [
         "Liz Pelletier",
         "LP-17080",
         "2014",
         0.96
        ],
        [
         "Liz Pelletier",
         "LP-17080",
         "2016",
         21.94
        ],
        [
         "Liz Pelletier",
         "LP-17080",
         "2017",
         87.89
        ],
        [
         "Liz Preis",
         "LP-17095",
         "2016",
         79.36
        ],
        [
         "Liz Preis",
         "LP-17095",
         "2017",
         259.09
        ],
        [
         "Lena Radford",
         "LR-16915",
         "2014",
         604.58
        ],
        [
         "Lena Radford",
         "LR-16915",
         "2015",
         30.79
        ],
        [
         "Lena Radford",
         "LR-16915",
         "2016",
         172.5
        ],
        [
         "Lena Radford",
         "LR-16915",
         "2017",
         -272.58
        ],
        [
         "Lisa Ryan",
         "LR-17035",
         "2014",
         48.13
        ],
        [
         "Lisa Ryan",
         "LR-17035",
         "2015",
         -142.91
        ],
        [
         "Lisa Ryan",
         "LR-17035",
         "2016",
         -387.68
        ],
        [
         "Lisa Ryan",
         "LR-17035",
         "2017",
         99.27
        ],
        [
         "Linda Southworth",
         "LS-16945",
         "2015",
         9.82
        ],
        [
         "Linda Southworth",
         "LS-16945",
         "2016",
         21.74
        ],
        [
         "Linda Southworth",
         "LS-16945",
         "2017",
         -350.0
        ],
        [
         "Lindsay Shagiari",
         "LS-16975",
         "2014",
         138.16
        ],
        [
         "Lindsay Shagiari",
         "LS-16975",
         "2015",
         -108.2
        ],
        [
         "Lindsay Shagiari",
         "LS-16975",
         "2016",
         2.94
        ],
        [
         "Lindsay Shagiari",
         "LS-16975",
         "2017",
         229.37
        ],
        [
         "Luke Schmidt",
         "LS-17200",
         "2014",
         167.72
        ],
        [
         "Luke Schmidt",
         "LS-17200",
         "2016",
         18.28
        ],
        [
         "Luke Schmidt",
         "LS-17200",
         "2017",
         57.82
        ],
        [
         "Lycoris Saunders",
         "LS-17230",
         "2014",
         9.33
        ],
        [
         "Lycoris Saunders",
         "LS-17230",
         "2015",
         55.24
        ],
        [
         "Lynn Smith",
         "LS-17245",
         "2014",
         230.21
        ],
        [
         "Lynn Smith",
         "LS-17245",
         "2015",
         4.8
        ],
        [
         "Lynn Smith",
         "LS-17245",
         "2016",
         60.37
        ],
        [
         "Lynn Smith",
         "LS-17245",
         "2017",
         52.59
        ],
        [
         "Larry Tron",
         "LT-16765",
         "2014",
         15.64
        ],
        [
         "Larry Tron",
         "LT-16765",
         "2015",
         20.16
        ],
        [
         "Larry Tron",
         "LT-16765",
         "2017",
         23.24
        ],
        [
         "Liz Thompson",
         "LT-17110",
         "2014",
         238.4
        ],
        [
         "Liz Thompson",
         "LT-17110",
         "2015",
         76.22
        ],
        [
         "Liz Thompson",
         "LT-17110",
         "2016",
         28.38
        ],
        [
         "Liz Thompson",
         "LT-17110",
         "2017",
         -22.02
        ],
        [
         "Laurel Workman",
         "LW-16825",
         "2014",
         423.61
        ],
        [
         "Laurel Workman",
         "LW-16825",
         "2016",
         -393.34
        ],
        [
         "Laurel Workman",
         "LW-16825",
         "2017",
         2.32
        ],
        [
         "Lindsay Williams",
         "LW-16990",
         "2016",
         322.32
        ],
        [
         "Lindsay Williams",
         "LW-16990",
         "2017",
         340.51
        ],
        [
         "Liz Willingham",
         "LW-17125",
         "2014",
         21.75
        ],
        [
         "Liz Willingham",
         "LW-17125",
         "2016",
         165.8
        ],
        [
         "Liz Willingham",
         "LW-17125",
         "2017",
         5.08
        ],
        [
         "Luke Weiss",
         "LW-17215",
         "2014",
         420.59
        ],
        [
         "Luke Weiss",
         "LW-17215",
         "2016",
         350.01
        ],
        [
         "Luke Weiss",
         "LW-17215",
         "2017",
         67.07
        ],
        [
         "Matt Abelman",
         "MA-17560",
         "2014",
         562.98
        ],
        [
         "Matt Abelman",
         "MA-17560",
         "2015",
         619.07
        ],
        [
         "Matt Abelman",
         "MA-17560",
         "2016",
         28.38
        ],
        [
         "Matt Abelman",
         "MA-17560",
         "2017",
         30.13
        ],
        [
         "Michelle Arnett",
         "MA-17995",
         "2014",
         53.7
        ],
        [
         "Michelle Arnett",
         "MA-17995",
         "2015",
         3.48
        ],
        [
         "Michelle Arnett",
         "MA-17995",
         "2016",
         191.39
        ],
        [
         "Michelle Arnett",
         "MA-17995",
         "2017",
         31.94
        ],
        [
         "Maria Bertelson",
         "MB-17305",
         "2014",
         -13.83
        ],
        [
         "Maria Bertelson",
         "MB-17305",
         "2015",
         77.99
        ],
        [
         "Maria Bertelson",
         "MB-17305",
         "2016",
         83.51
        ],
        [
         "Maria Bertelson",
         "MB-17305",
         "2017",
         65.67
        ],
        [
         "Mick Brown",
         "MB-18085",
         "2014",
         4.88
        ],
        [
         "Mick Brown",
         "MB-18085",
         "2016",
         45.32
        ],
        [
         "Mick Brown",
         "MB-18085",
         "2017",
         67.85
        ],
        [
         "Marc Crier",
         "MC-17275",
         "2014",
         235.23
        ],
        [
         "Marc Crier",
         "MC-17275",
         "2015",
         197.66
        ],
        [
         "Marc Crier",
         "MC-17275",
         "2016",
         20.91
        ],
        [
         "Marc Crier",
         "MC-17275",
         "2017",
         7.22
        ],
        [
         "Mark Cousins",
         "MC-17425",
         "2014",
         135.0
        ],
        [
         "Mark Cousins",
         "MC-17425",
         "2015",
         57.2
        ],
        [
         "Mark Cousins",
         "MC-17425",
         "2016",
         1610.2
        ],
        [
         "Matt Collins",
         "MC-17575",
         "2014",
         -6.34
        ],
        [
         "Matt Collins",
         "MC-17575",
         "2015",
         62.77
        ],
        [
         "Matt Collins",
         "MC-17575",
         "2016",
         15.59
        ],
        [
         "Matt Collins",
         "MC-17575",
         "2017",
         138.9
        ],
        [
         "Matt Collister",
         "MC-17590",
         "2014",
         -137.2
        ],
        [
         "Matt Collister",
         "MC-17590",
         "2016",
         379.01
        ],
        [
         "Matt Collister",
         "MC-17590",
         "2017",
         47.18
        ],
        [
         "Matt Connell",
         "MC-17605",
         "2014",
         49.37
        ],
        [
         "Matt Connell",
         "MC-17605",
         "2015",
         13.08
        ],
        [
         "Matt Connell",
         "MC-17605",
         "2016",
         11.31
        ],
        [
         "Matt Connell",
         "MC-17605",
         "2017",
         121.69
        ],
        [
         "Matthew Clasen",
         "MC-17635",
         "2014",
         41.89
        ],
        [
         "Matthew Clasen",
         "MC-17635",
         "2016",
         27.42
        ],
        [
         "Matthew Clasen",
         "MC-17635",
         "2017",
         -317.03
        ],
        [
         "Michael Chen",
         "MC-17845",
         "2014",
         395.76
        ],
        [
         "Michael Chen",
         "MC-17845",
         "2016",
         60.54
        ],
        [
         "Michael Chen",
         "MC-17845",
         "2017",
         242.12
        ],
        [
         "Mick Crebagga",
         "MC-18100",
         "2014",
         -18.73
        ],
        [
         "Mick Crebagga",
         "MC-18100",
         "2015",
         -73.3
        ],
        [
         "Mick Crebagga",
         "MC-18100",
         "2016",
         0.93
        ],
        [
         "Mick Crebagga",
         "MC-18100",
         "2017",
         26.7
        ],
        [
         "Mike Caudle",
         "MC-18130",
         "2014",
         24.98
        ],
        [
         "Mike Caudle",
         "MC-18130",
         "2015",
         9.81
        ],
        [
         "Mike Caudle",
         "MC-18130",
         "2016",
         86.95
        ],
        [
         "Maribeth Dona",
         "MD-17350",
         "2014",
         -84.11
        ],
        [
         "Maribeth Dona",
         "MD-17350",
         "2015",
         51.66
        ],
        [
         "Maribeth Dona",
         "MD-17350",
         "2016",
         -14.22
        ],
        [
         "Maribeth Dona",
         "MD-17350",
         "2017",
         -194.56
        ],
        [
         "Michael Dominguez",
         "MD-17860",
         "2014",
         -47.36
        ],
        [
         "Michael Dominguez",
         "MD-17860",
         "2017",
         43.31
        ],
        [
         "Maria Etezadi",
         "ME-17320",
         "2014",
         1343.07
        ],
        [
         "Maria Etezadi",
         "ME-17320",
         "2015",
         -9.56
        ],
        [
         "Maria Etezadi",
         "ME-17320",
         "2016",
         451.46
        ],
        [
         "Maria Etezadi",
         "ME-17320",
         "2017",
         74.0
        ],
        [
         "Max Engle",
         "ME-17725",
         "2014",
         16.28
        ],
        [
         "Max Engle",
         "ME-17725",
         "2015",
         39.77
        ],
        [
         "Max Engle",
         "ME-17725",
         "2016",
         -1.62
        ],
        [
         "Max Engle",
         "ME-17725",
         "2017",
         23.16
        ],
        [
         "Michelle Ellison",
         "ME-18010",
         "2014",
         104.98
        ],
        [
         "Michelle Ellison",
         "ME-18010",
         "2015",
         8.77
        ],
        [
         "Michelle Ellison",
         "ME-18010",
         "2017",
         -6.4
        ],
        [
         "Maureen Fritzler",
         "MF-17665",
         "2014",
         -459.99
        ],
        [
         "Maureen Fritzler",
         "MF-17665",
         "2016",
         118.46
        ],
        [
         "Monica Federle",
         "MF-18250",
         "2014",
         16.89
        ],
        [
         "Monica Federle",
         "MF-18250",
         "2015",
         152.73
        ],
        [
         "Monica Federle",
         "MF-18250",
         "2017",
         287.24
        ],
        [
         "Matthew Grinstein",
         "MG-17650",
         "2014",
         24.37
        ],
        [
         "Matthew Grinstein",
         "MG-17650",
         "2016",
         204.85
        ],
        [
         "Matthew Grinstein",
         "MG-17650",
         "2017",
         112.69
        ],
        [
         "Maureen Gastineau",
         "MG-17680",
         "2014",
         12.91
        ],
        [
         "Maureen Gastineau",
         "MG-17680",
         "2015",
         -1.2
        ],
        [
         "Maureen Gastineau",
         "MG-17680",
         "2017",
         14.18
        ],
        [
         "Maureen Gnade",
         "MG-17695",
         "2014",
         -22.64
        ],
        [
         "Maureen Gnade",
         "MG-17695",
         "2015",
         -392.86
        ],
        [
         "Maureen Gnade",
         "MG-17695",
         "2016",
         16.7
        ],
        [
         "Michael Grace",
         "MG-17875",
         "2014",
         -4.52
        ],
        [
         "Michael Grace",
         "MG-17875",
         "2015",
         -499.05
        ],
        [
         "Michael Grace",
         "MG-17875",
         "2016",
         62.24
        ],
        [
         "Michael Grace",
         "MG-17875",
         "2017",
         -29.44
        ],
        [
         "Michael Granlund",
         "MG-17890",
         "2014",
         -4.8
        ],
        [
         "Michael Granlund",
         "MG-17890",
         "2015",
         112.33
        ],
        [
         "Michael Granlund",
         "MG-17890",
         "2016",
         25.93
        ],
        [
         "Michael Granlund",
         "MG-17890",
         "2017",
         37.99
        ],
        [
         "Mike Gockenbach",
         "MG-18145",
         "2014",
         -152.72
        ],
        [
         "Mike Gockenbach",
         "MG-18145",
         "2015",
         -137.49
        ],
        [
         "Mike Gockenbach",
         "MG-18145",
         "2017",
         196.72
        ],
        [
         "Mitch Gastineau",
         "MG-18205",
         "2017",
         -1.24
        ],
        [
         "Marc Harrigan",
         "MH-17290",
         "2014",
         12.21
        ],
        [
         "Marc Harrigan",
         "MH-17290",
         "2015",
         2.18
        ],
        [
         "Marc Harrigan",
         "MH-17290",
         "2016",
         57.21
        ],
        [
         "Marc Harrigan",
         "MH-17290",
         "2017",
         -42.62
        ],
        [
         "Mark Haberlin",
         "MH-17440",
         "2014",
         48.85
        ],
        [
         "Mark Haberlin",
         "MH-17440",
         "2016",
         12.58
        ],
        [
         "Mark Hamilton",
         "MH-17455",
         "2014",
         8.49
        ],
        [
         "Mark Hamilton",
         "MH-17455",
         "2015",
         16.18
        ],
        [
         "Mark Hamilton",
         "MH-17455",
         "2016",
         375.67
        ],
        [
         "Mark Hamilton",
         "MH-17455",
         "2017",
         84.94
        ],
        [
         "Matt Hagelstein",
         "MH-17620",
         "2015",
         14.67
        ],
        [
         "Matt Hagelstein",
         "MH-17620",
         "2016",
         -0.37
        ],
        [
         "Matt Hagelstein",
         "MH-17620",
         "2017",
         108.05
        ],
        [
         "Maya Herman",
         "MH-17785",
         "2014",
         133.96
        ],
        [
         "Maya Herman",
         "MH-17785",
         "2015",
         94.71
        ],
        [
         "Maya Herman",
         "MH-17785",
         "2016",
         7.0
        ],
        [
         "Maya Herman",
         "MH-17785",
         "2017",
         3.35
        ],
        [
         "Michelle Huthwaite",
         "MH-18025",
         "2014",
         10.65
        ],
        [
         "Michelle Huthwaite",
         "MH-18025",
         "2015",
         91.16
        ],
        [
         "Michelle Huthwaite",
         "MH-18025",
         "2017",
         374.93
        ],
        [
         "Mick Hernandez",
         "MH-18115",
         "2016",
         -216.22
        ],
        [
         "Mick Hernandez",
         "MH-18115",
         "2017",
         387.2
        ],
        [
         "Max Jones",
         "MJ-17740",
         "2015",
         -77.93
        ],
        [
         "Max Jones",
         "MJ-17740",
         "2016",
         728.75
        ],
        [
         "Max Jones",
         "MJ-17740",
         "2017",
         403.72
        ],
        [
         "Michael Kennedy",
         "MK-17905",
         "2014",
         43.22
        ],
        [
         "Michael Kennedy",
         "MK-17905",
         "2015",
         0.6
        ],
        [
         "Michael Kennedy",
         "MK-17905",
         "2016",
         -456.26
        ],
        [
         "Michael Kennedy",
         "MK-17905",
         "2017",
         7.01
        ],
        [
         "Mike Kennedy",
         "MK-18160",
         "2014",
         -22.69
        ],
        [
         "Mike Kennedy",
         "MK-18160",
         "2016",
         41.08
        ],
        [
         "Mike Kennedy",
         "MK-18160",
         "2017",
         209.04
        ],
        [
         "Marina Lichtenstein",
         "ML-17395",
         "2014",
         486.58
        ],
        [
         "Marina Lichtenstein",
         "ML-17395",
         "2015",
         -4.94
        ],
        [
         "Marina Lichtenstein",
         "ML-17395",
         "2016",
         192.19
        ],
        [
         "Marina Lichtenstein",
         "ML-17395",
         "2017",
         11.1
        ],
        [
         "Maris La Ware",
         "ML-17410",
         "2014",
         254.24
        ],
        [
         "Maris La Ware",
         "ML-17410",
         "2016",
         15.0
        ],
        [
         "Maris La Ware",
         "ML-17410",
         "2017",
         -345.71
        ],
        [
         "Max Ludwig",
         "ML-17755",
         "2016",
         63.83
        ],
        [
         "Max Ludwig",
         "ML-17755",
         "2017",
         346.16
        ],
        [
         "Michelle Lonsdale",
         "ML-18040",
         "2017",
         138.71
        ],
        [
         "Muhammed Lee",
         "ML-18265",
         "2015",
         1.16
        ],
        [
         "Muhammed Lee",
         "ML-18265",
         "2017",
         41.51
        ],
        [
         "Magdelene Morse",
         "MM-17260",
         "2014",
         51.36
        ],
        [
         "Magdelene Morse",
         "MM-17260",
         "2016",
         166.51
        ],
        [
         "Magdelene Morse",
         "MM-17260",
         "2017",
         -39.46
        ],
        [
         "Michael Moore",
         "MM-17920",
         "2014",
         55.03
        ],
        [
         "Michael Moore",
         "MM-17920",
         "2015",
         -373.3
        ],
        [
         "Michael Moore",
         "MM-17920",
         "2016",
         447.84
        ],
        [
         "Michael Moore",
         "MM-17920",
         "2017",
         -48.11
        ],
        [
         "Michelle Moray",
         "MM-18055",
         "2014",
         130.68
        ],
        [
         "Michelle Moray",
         "MM-18055",
         "2015",
         -247.37
        ],
        [
         "Michelle Moray",
         "MM-18055",
         "2017",
         -403.76
        ],
        [
         "Muhammed Mac Intyre",
         "MM-18280",
         "2014",
         -51.52
        ],
        [
         "Muhammed Mac Intyre",
         "MM-18280",
         "2015",
         68.2
        ],
        [
         "Muhammed Mac Intyre",
         "MM-18280",
         "2016",
         8.84
        ],
        [
         "Muhammed Mac Intyre",
         "MM-18280",
         "2017",
         33.04
        ],
        [
         "Michael Nguyen",
         "MN-17935",
         "2014",
         31.17
        ],
        [
         "Michael Nguyen",
         "MN-17935",
         "2016",
         5.52
        ],
        [
         "Michael Nguyen",
         "MN-17935",
         "2017",
         254.13
        ],
        [
         "Mary O Rourke",
         "MO-17500",
         "2014",
         6.04
        ],
        [
         "Mary O Rourke",
         "MO-17500",
         "2016",
         120.86
        ],
        [
         "Mary O Rourke",
         "MO-17500",
         "2017",
         -67.54
        ],
        [
         "Meg O Connel",
         "MO-17800",
         "2015",
         -16.97
        ],
        [
         "Meg O Connel",
         "MO-17800",
         "2016",
         5.5
        ],
        [
         "Meg O Connel",
         "MO-17800",
         "2017",
         180.45
        ],
        [
         "Michael Oakman",
         "MO-17950",
         "2015",
         -79.31
        ],
        [
         "Michael Oakman",
         "MO-17950",
         "2017",
         -2.7
        ],
        [
         "Mark Packer",
         "MP-17470",
         "2014",
         279.86
        ],
        [
         "Mark Packer",
         "MP-17470",
         "2015",
         311.5
        ],
        [
         "Mark Packer",
         "MP-17470",
         "2016",
         8.94
        ],
        [
         "Michael Paige",
         "MP-17965",
         "2015",
         255.75
        ],
        [
         "Michael Paige",
         "MP-17965",
         "2016",
         265.54
        ],
        [
         "Michael Paige",
         "MP-17965",
         "2017",
         116.45
        ],
        [
         "Mike Pelletier",
         "MP-18175",
         "2014",
         -125.29
        ],
        [
         "Mike Pelletier",
         "MP-18175",
         "2015",
         526.73
        ],
        [
         "Mike Pelletier",
         "MP-18175",
         "2016",
         -295.64
        ],
        [
         "Mike Pelletier",
         "MP-18175",
         "2017",
         119.69
        ],
        [
         "Mathew Reese",
         "MR-17545",
         "2014",
         9.11
        ],
        [
         "Mathew Reese",
         "MR-17545",
         "2017",
         153.35
        ],
        [
         "Maribethchnelling",
         "MS-17365",
         "2014",
         143.9
        ],
        [
         "Maribethchnelling",
         "MS-17365",
         "2015",
         145.51
        ],
        [
         "Maribethchnelling",
         "MS-17365",
         "2016",
         514.79
        ],
        [
         "Maribethchnelling",
         "MS-17365",
         "2017",
         40.75
        ],
        [
         "Mary Beth Skach",
         "MS-17530",
         "2014",
         2.69
        ],
        [
         "Mary Beth Skach",
         "MS-17530",
         "2015",
         45.29
        ],
        [
         "Mary Beth Skach",
         "MS-17530",
         "2016",
         36.04
        ],
        [
         "Maurice Satty",
         "MS-17710",
         "2014",
         40.73
        ],
        [
         "Maurice Satty",
         "MS-17710",
         "2015",
         299.8
        ],
        [
         "Maurice Satty",
         "MS-17710",
         "2016",
         -93.1
        ],
        [
         "Maxwell Schwartz",
         "MS-17770",
         "2014",
         -102.26
        ],
        [
         "Maxwell Schwartz",
         "MS-17770",
         "2015",
         209.33
        ],
        [
         "Maxwell Schwartz",
         "MS-17770",
         "2016",
         164.04
        ],
        [
         "Maxwell Schwartz",
         "MS-17770",
         "2017",
         9.7
        ],
        [
         "Melanie Seite",
         "MS-17830",
         "2014",
         10.92
        ],
        [
         "Melanie Seite",
         "MS-17830",
         "2015",
         32.45
        ],
        [
         "Melanie Seite",
         "MS-17830",
         "2016",
         -23.94
        ],
        [
         "Michael Stewart",
         "MS-17980",
         "2014",
         16.26
        ],
        [
         "Michael Stewart",
         "MS-17980",
         "2015",
         59.35
        ],
        [
         "Michael Stewart",
         "MS-17980",
         "2017",
         -20.38
        ],
        [
         "Meg Tillman",
         "MT-17815",
         "2015",
         1.78
        ],
        [
         "Meg Tillman",
         "MT-17815",
         "2016",
         432.26
        ],
        [
         "Meg Tillman",
         "MT-17815",
         "2017",
         74.98
        ],
        [
         "Michelle Tran",
         "MT-18070",
         "2014",
         -89.7
        ],
        [
         "Michelle Tran",
         "MT-18070",
         "2015",
         -6.29
        ],
        [
         "Michelle Tran",
         "MT-18070",
         "2016",
         70.49
        ],
        [
         "Michelle Tran",
         "MT-18070",
         "2017",
         2.05
        ],
        [
         "Mark Van Huff",
         "MV-17485",
         "2014",
         15.08
        ],
        [
         "Mark Van Huff",
         "MV-17485",
         "2015",
         -1.28
        ],
        [
         "Mark Van Huff",
         "MV-17485",
         "2016",
         106.42
        ],
        [
         "Mark Van Huff",
         "MV-17485",
         "2017",
         68.79
        ],
        [
         "Mike Vittorini",
         "MV-18190",
         "2014",
         11.9
        ],
        [
         "Mike Vittorini",
         "MV-18190",
         "2015",
         15.36
        ],
        [
         "Mike Vittorini",
         "MV-18190",
         "2016",
         225.26
        ],
        [
         "Mike Vittorini",
         "MV-18190",
         "2017",
         21.47
        ],
        [
         "Mitch Webber",
         "MW-18220",
         "2014",
         1204.43
        ],
        [
         "Mitch Webber",
         "MW-18220",
         "2015",
         24.5
        ],
        [
         "Mitch Webber",
         "MW-18220",
         "2016",
         0.5
        ],
        [
         "Mitch Webber",
         "MW-18220",
         "2017",
         8.49
        ],
        [
         "Mitch Willingham",
         "MW-18235",
         "2014",
         1449.52
        ],
        [
         "Mitch Willingham",
         "MW-18235",
         "2017",
         216.0
        ],
        [
         "Maribeth Yedwab",
         "MY-17380",
         "2015",
         2.65
        ],
        [
         "Maribeth Yedwab",
         "MY-17380",
         "2016",
         33.05
        ],
        [
         "Maribeth Yedwab",
         "MY-17380",
         "2017",
         283.44
        ],
        [
         "Muhammed Ye Dwab",
         "MY-18295",
         "2014",
         -103.13
        ],
        [
         "Muhammed Ye Dwab",
         "MY-18295",
         "2016",
         -290.17
        ],
        [
         "Muhammed Ye Dwab",
         "MY-18295",
         "2017",
         21.59
        ],
        [
         "Maria Zettner",
         "MZ-17335",
         "2015",
         69.35
        ],
        [
         "Maria Zettner",
         "MZ-17335",
         "2016",
         0.16
        ],
        [
         "Maria Zettner",
         "MZ-17335",
         "2017",
         15.51
        ],
        [
         "Mary Zewe",
         "MZ-17515",
         "2014",
         786.8
        ],
        [
         "Mary Zewe",
         "MZ-17515",
         "2015",
         8.21
        ],
        [
         "Mary Zewe",
         "MZ-17515",
         "2016",
         -25.24
        ],
        [
         "Mary Zewe",
         "MZ-17515",
         "2017",
         17.38
        ],
        [
         "Nicole Brennan",
         "NB-18580",
         "2014",
         24.79
        ],
        [
         "Nona Balk",
         "NB-18655",
         "2014",
         87.38
        ],
        [
         "Nona Balk",
         "NB-18655",
         "2015",
         127.06
        ],
        [
         "Nona Balk",
         "NB-18655",
         "2016",
         -157.96
        ],
        [
         "Nona Balk",
         "NB-18655",
         "2017",
         61.16
        ],
        [
         "Nat Carroll",
         "NC-18340",
         "2014",
         11.16
        ],
        [
         "Nat Carroll",
         "NC-18340",
         "2015",
         326.28
        ],
        [
         "Nat Carroll",
         "NC-18340",
         "2016",
         26.29
        ],
        [
         "Nat Carroll",
         "NC-18340",
         "2017",
         216.58
        ],
        [
         "Nathan Cano",
         "NC-18415",
         "2014",
         10.04
        ],
        [
         "Nathan Cano",
         "NC-18415",
         "2015",
         36.23
        ],
        [
         "Nathan Cano",
         "NC-18415",
         "2016",
         79.19
        ],
        [
         "Nathan Cano",
         "NC-18415",
         "2017",
         -2330.27
        ],
        [
         "Nick Crebassa",
         "NC-18535",
         "2014",
         690.2
        ],
        [
         "Nick Crebassa",
         "NC-18535",
         "2016",
         16.79
        ],
        [
         "Nick Crebassa",
         "NC-18535",
         "2017",
         607.03
        ],
        [
         "Noah Childs",
         "NC-18625",
         "2014",
         36.66
        ],
        [
         "Noah Childs",
         "NC-18625",
         "2015",
         16.85
        ],
        [
         "Noah Childs",
         "NC-18625",
         "2016",
         -461.2
        ],
        [
         "Noah Childs",
         "NC-18625",
         "2017",
         48.78
        ],
        [
         "Natalie De Cherney",
         "ND-18370",
         "2014",
         47.61
        ],
        [
         "Natalie De Cherney",
         "ND-18370",
         "2015",
         330.8
        ],
        [
         "Natalie De Cherney",
         "ND-18370",
         "2016",
         58.86
        ],
        [
         "Natalie De Cherney",
         "ND-18370",
         "2017",
         -84.03
        ],
        [
         "Neil Ducich",
         "ND-18460",
         "2014",
         45.43
        ],
        [
         "Neil Ducich",
         "ND-18460",
         "2015",
         18.66
        ],
        [
         "Neil Ducich",
         "ND-18460",
         "2017",
         379.25
        ],
        [
         "Natalie Fritzler",
         "NF-18385",
         "2014",
         186.74
        ],
        [
         "Natalie Fritzler",
         "NF-18385",
         "2015",
         -1980.38
        ],
        [
         "Natalie Fritzler",
         "NF-18385",
         "2016",
         -66.17
        ],
        [
         "Natalie Fritzler",
         "NF-18385",
         "2017",
         163.46
        ],
        [
         "Neil Franzsisch",
         "NF-18475",
         "2014",
         31.87
        ],
        [
         "Neil Franzsisch",
         "NF-18475",
         "2015",
         72.89
        ],
        [
         "Neil Franzsisch",
         "NF-18475",
         "2016",
         -18.84
        ],
        [
         "Nicole Fjeld",
         "NF-18595",
         "2014",
         42.35
        ],
        [
         "Nicole Fjeld",
         "NF-18595",
         "2015",
         258.1
        ],
        [
         "Nicole Fjeld",
         "NF-18595",
         "2017",
         87.86
        ],
        [
         "Nat Gilpin",
         "NG-18355",
         "2014",
         219.08
        ],
        [
         "Nat Gilpin",
         "NG-18355",
         "2015",
         8.05
        ],
        [
         "Nat Gilpin",
         "NG-18355",
         "2017",
         86.5
        ],
        [
         "Nathan Gelder",
         "NG-18430",
         "2014",
         134.82
        ],
        [
         "Nathan Gelder",
         "NG-18430",
         "2015",
         54.0
        ],
        [
         "Nathan Gelder",
         "NG-18430",
         "2017",
         28.28
        ],
        [
         "Nicole Hansen",
         "NH-18610",
         "2014",
         33.2
        ],
        [
         "Nicole Hansen",
         "NH-18610",
         "2015",
         85.83
        ],
        [
         "Nicole Hansen",
         "NH-18610",
         "2016",
         5.18
        ],
        [
         "Nicole Hansen",
         "NH-18610",
         "2017",
         635.96
        ],
        [
         "Neil Knudson",
         "NK-18490",
         "2015",
         1.79
        ],
        [
         "Neil Knudson",
         "NK-18490",
         "2016",
         39.41
        ],
        [
         "Neil Knudson",
         "NK-18490",
         "2017",
         80.03
        ],
        [
         "Nancy Lomonaco",
         "NL-18310",
         "2014",
         8.28
        ],
        [
         "Nancy Lomonaco",
         "NL-18310",
         "2015",
         34.59
        ],
        [
         "Nancy Lomonaco",
         "NL-18310",
         "2016",
         18.66
        ],
        [
         "Nancy Lomonaco",
         "NL-18310",
         "2017",
         282.27
        ],
        [
         "Nathan Mautz",
         "NM-18445",
         "2014",
         2413.85
        ],
        [
         "Nathan Mautz",
         "NM-18445",
         "2015",
         333.5
        ],
        [
         "Nathan Mautz",
         "NM-18445",
         "2017",
         4.35
        ],
        [
         "Neoma Murray",
         "NM-18520",
         "2015",
         -26.66
        ],
        [
         "Neoma Murray",
         "NM-18520",
         "2016",
         812.79
        ],
        [
         "Neoma Murray",
         "NM-18520",
         "2017",
         2.82
        ],
        [
         "Na N",
         "NP-18325",
         "2014",
         314.4
        ],
        [
         "Na N",
         "NP-18325",
         "2015",
         852.92
        ],
        [
         "Na N",
         "NP-18325",
         "2017",
         41.82
        ],
        [
         "Nra Paige",
         "NP-18670",
         "2015",
         80.84
        ],
        [
         "Nra Paige",
         "NP-18670",
         "2016",
         246.1
        ],
        [
         "Nra Paige",
         "NP-18670",
         "2017",
         186.21
        ],
        [
         "Nora Pelletier",
         "NP-18685",
         "2014",
         33.64
        ],
        [
         "Nora Pelletier",
         "NP-18685",
         "2015",
         449.44
        ],
        [
         "Nora Pelletier",
         "NP-18685",
         "2016",
         31.42
        ],
        [
         "Nora Preis",
         "NP-18700",
         "2014",
         285.95
        ],
        [
         "Nora Preis",
         "NP-18700",
         "2016",
         272.92
        ],
        [
         "Nora Preis",
         "NP-18700",
         "2017",
         71.95
        ],
        [
         "Nick Radford",
         "NR-18550",
         "2014",
         -123.79
        ],
        [
         "Nick Radford",
         "NR-18550",
         "2016",
         50.59
        ],
        [
         "Nick Radford",
         "NR-18550",
         "2017",
         48.07
        ],
        [
         "Neola Schneider",
         "NS-18505",
         "2016",
         19.55
        ],
        [
         "Neola Schneider",
         "NS-18505",
         "2017",
         -31.86
        ],
        [
         "Noel Staavos",
         "NS-18640",
         "2014",
         11.2
        ],
        [
         "Noel Staavos",
         "NS-18640",
         "2015",
         151.68
        ],
        [
         "Noel Staavos",
         "NS-18640",
         "2016",
         -298.25
        ],
        [
         "Noel Staavos",
         "NS-18640",
         "2017",
         -99.52
        ],
        [
         "Natalie Webber",
         "NW-18400",
         "2014",
         -387.79
        ],
        [
         "Natalie Webber",
         "NW-18400",
         "2015",
         1654.06
        ],
        [
         "Natalie Webber",
         "NW-18400",
         "2016",
         -255.46
        ],
        [
         "Natalie Webber",
         "NW-18400",
         "2017",
         11.82
        ],
        [
         "Nick Zandusky",
         "NZ-18565",
         "2014",
         248.03
        ],
        [
         "Nick Zandusky",
         "NZ-18565",
         "2015",
         82.82
        ],
        [
         "Nick Zandusky",
         "NZ-18565",
         "2016",
         -30.61
        ],
        [
         "Nick Zandusky",
         "NZ-18565",
         "2017",
         102.32
        ],
        [
         "Odella Nelson",
         "ON-18715",
         "2014",
         183.11
        ],
        [
         "Odella Nelson",
         "ON-18715",
         "2015",
         -31.11
        ],
        [
         "Odella Nelson",
         "ON-18715",
         "2016",
         -157.53
        ],
        [
         "Olvera Toch",
         "OT-18730",
         "2015",
         81.0
        ],
        [
         "Olvera Toch",
         "OT-18730",
         "2016",
         -1182.11
        ],
        [
         "Olvera Toch",
         "OT-18730",
         "2017",
         175.55
        ],
        [
         "Pete Armstrong",
         "PA-19060",
         "2014",
         45.84
        ],
        [
         "Pete Armstrong",
         "PA-19060",
         "2015",
         121.57
        ],
        [
         "Pete Armstrong",
         "PA-19060",
         "2016",
         22.56
        ],
        [
         "Pete Armstrong",
         "PA-19060",
         "2017",
         35.89
        ],
        [
         "Patrick Bzostek",
         "PB-18805",
         "2015",
         7.56
        ],
        [
         "Patrick Bzostek",
         "PB-18805",
         "2016",
         95.85
        ],
        [
         "Patrick Bzostek",
         "PB-18805",
         "2017",
         125.36
        ],
        [
         "Peter Bhler",
         "PB-19105",
         "2014",
         204.07
        ],
        [
         "Peter Bhler",
         "PB-19105",
         "2016",
         0.9
        ],
        [
         "Peter Bhler",
         "PB-19105",
         "2017",
         13.19
        ],
        [
         "Philip Brown",
         "PB-19150",
         "2014",
         12.3
        ],
        [
         "Philip Brown",
         "PB-19150",
         "2015",
         157.66
        ],
        [
         "Philip Brown",
         "PB-19150",
         "2016",
         38.38
        ],
        [
         "Philip Brown",
         "PB-19150",
         "2017",
         71.93
        ],
        [
         "Phillip Breyer",
         "PB-19210",
         "2014",
         21.2
        ],
        [
         "Phillip Breyer",
         "PB-19210",
         "2016",
         0.7
        ],
        [
         "Pamela Coakley",
         "PC-18745",
         "2014",
         196.69
        ],
        [
         "Pamela Coakley",
         "PC-18745",
         "2016",
         76.98
        ],
        [
         "Pamela Coakley",
         "PC-18745",
         "2017",
         -0.99
        ],
        [
         "Pauline Chand",
         "PC-19000",
         "2014",
         -11.83
        ],
        [
         "Pauline Chand",
         "PC-19000",
         "2015",
         -172.51
        ],
        [
         "Peter Fuller",
         "PF-19120",
         "2014",
         17.68
        ],
        [
         "Peter Fuller",
         "PF-19120",
         "2015",
         -631.7
        ],
        [
         "Philip Fox",
         "PF-19165",
         "2014",
         -407.68
        ],
        [
         "Philip Fox",
         "PF-19165",
         "2015",
         75.23
        ],
        [
         "Philip Fox",
         "PF-19165",
         "2016",
         478.68
        ],
        [
         "Philip Fox",
         "PF-19165",
         "2017",
         50.65
        ],
        [
         "Phillip Flathmann",
         "PF-19225",
         "2016",
         513.27
        ],
        [
         "Phillip Flathmann",
         "PF-19225",
         "2017",
         78.02
        ],
        [
         "Patrick Gardner",
         "PG-18820",
         "2014",
         54.45
        ],
        [
         "Patrick Gardner",
         "PG-18820",
         "2015",
         -564.68
        ],
        [
         "Patrick Gardner",
         "PG-18820",
         "2016",
         551.3
        ],
        [
         "Patrick Gardner",
         "PG-18820",
         "2017",
         96.42
        ],
        [
         "Paul Gonzalez",
         "PG-18895",
         "2014",
         -70.73
        ],
        [
         "Paul Gonzalez",
         "PG-18895",
         "2015",
         174.73
        ],
        [
         "Paul Gonzalez",
         "PG-18895",
         "2016",
         10.71
        ],
        [
         "Paul Gonzalez",
         "PG-18895",
         "2017",
         220.26
        ],
        [
         "Patricia Hirasaki",
         "PH-18790",
         "2017",
         47.89
        ],
        [
         "Patrick Jones",
         "PJ-18835",
         "2014",
         7.95
        ],
        [
         "Patrick Jones",
         "PJ-18835",
         "2015",
         382.38
        ],
        [
         "Patrick Jones",
         "PJ-18835",
         "2016",
         8.2
        ],
        [
         "Patrick Jones",
         "PJ-18835",
         "2017",
         43.61
        ],
        [
         "Pauline Johnson",
         "PJ-19015",
         "2014",
         2.78
        ],
        [
         "Pauline Johnson",
         "PJ-19015",
         "2015",
         40.07
        ],
        [
         "Pauline Johnson",
         "PJ-19015",
         "2016",
         30.4
        ],
        [
         "Pauline Johnson",
         "PJ-19015",
         "2017",
         609.43
        ],
        [
         "Paul Knutson",
         "PK-18910",
         "2014",
         9.07
        ],
        [
         "Paul Knutson",
         "PK-18910",
         "2016",
         -807.78
        ],
        [
         "Pete Kriz",
         "PK-19075",
         "2014",
         13.32
        ],
        [
         "Pete Kriz",
         "PK-19075",
         "2016",
         407.41
        ],
        [
         "Pete Kriz",
         "PK-19075",
         "2017",
         1617.17
        ],
        [
         "Paul Lucas",
         "PL-18925",
         "2014",
         31.83
        ],
        [
         "Paul Lucas",
         "PL-18925",
         "2016",
         -13.65
        ],
        [
         "Paul Lucas",
         "PL-18925",
         "2017",
         -18.94
        ],
        [
         "Paul Mac Intyre",
         "PM-18940",
         "2014",
         21.06
        ],
        [
         "Paul Mac Intyre",
         "PM-18940",
         "2015",
         -21.71
        ],
        [
         "Paul Mac Intyre",
         "PM-18940",
         "2016",
         158.53
        ],
        [
         "Peter Mc Vee",
         "PM-19135",
         "2015",
         426.81
        ],
        [
         "Peter Mc Vee",
         "PM-19135",
         "2016",
         30.35
        ],
        [
         "Peter Mc Vee",
         "PM-19135",
         "2017",
         69.6
        ],
        [
         "Parhena Norris",
         "PN-18775",
         "2015",
         6.46
        ],
        [
         "Parhena Norris",
         "PN-18775",
         "2016",
         137.23
        ],
        [
         "Parhena Norris",
         "PN-18775",
         "2017",
         48.35
        ],
        [
         "Patrick O Brill",
         "PO-18850",
         "2014",
         56.31
        ],
        [
         "Patrick O Brill",
         "PO-18850",
         "2015",
         7.32
        ],
        [
         "Patrick O Brill",
         "PO-18850",
         "2016",
         -316.63
        ],
        [
         "Patrick O Brill",
         "PO-18850",
         "2017",
         290.64
        ],
        [
         "Patrick O Donnell",
         "PO-18865",
         "2014",
         132.18
        ],
        [
         "Patrick O Donnell",
         "PO-18865",
         "2016",
         67.6
        ],
        [
         "Patrick O Donnell",
         "PO-18865",
         "2017",
         238.16
        ],
        [
         "Philisse Overcash",
         "PO-19180",
         "2015",
         823.24
        ],
        [
         "Philisse Overcash",
         "PO-19180",
         "2016",
         178.45
        ],
        [
         "Philisse Overcash",
         "PO-19180",
         "2017",
         153.55
        ],
        [
         "Phillina Ober",
         "PO-19195",
         "2014",
         -65.99
        ],
        [
         "Phillina Ober",
         "PO-19195",
         "2015",
         -12.5
        ],
        [
         "Phillina Ober",
         "PO-19195",
         "2017",
         28.8
        ],
        [
         "Paul Prost",
         "PP-18955",
         "2014",
         472.39
        ],
        [
         "Paul Prost",
         "PP-18955",
         "2015",
         67.56
        ],
        [
         "Paul Prost",
         "PP-18955",
         "2016",
         707.59
        ],
        [
         "Paul Prost",
         "PP-18955",
         "2017",
         247.93
        ],
        [
         "Patrick Ryan",
         "PR-18880",
         "2014",
         2.0
        ],
        [
         "Patrick Ryan",
         "PR-18880",
         "2015",
         38.27
        ],
        [
         "Patrick Ryan",
         "PR-18880",
         "2017",
         5555.93
        ],
        [
         "Pamela Stobb",
         "PS-18760",
         "2014",
         11.88
        ],
        [
         "Pamela Stobb",
         "PS-18760",
         "2015",
         -113.1
        ],
        [
         "Pamela Stobb",
         "PS-18760",
         "2016",
         133.3
        ],
        [
         "Pamela Stobb",
         "PS-18760",
         "2017",
         -166.52
        ],
        [
         "Paul Stevenson",
         "PS-18970",
         "2014",
         108.0
        ],
        [
         "Paul Stevenson",
         "PS-18970",
         "2015",
         42.15
        ],
        [
         "Paul Stevenson",
         "PS-18970",
         "2016",
         3.44
        ],
        [
         "Paul Stevenson",
         "PS-18970",
         "2017",
         44.94
        ],
        [
         "Penelope Sewall",
         "PS-19045",
         "2014",
         623.2
        ],
        [
         "Penelope Sewall",
         "PS-19045",
         "2015",
         1493.94
        ],
        [
         "Penelope Sewall",
         "PS-19045",
         "2016",
         6.32
        ],
        [
         "Penelope Sewall",
         "PS-19045",
         "2017",
         1060.32
        ],
        [
         "Pete Takahito",
         "PT-19090",
         "2014",
         -8.03
        ],
        [
         "Pete Takahito",
         "PT-19090",
         "2016",
         -17.52
        ],
        [
         "Pete Takahito",
         "PT-19090",
         "2017",
         5.5
        ],
        [
         "Paul Van Hugh",
         "PV-18985",
         "2014",
         -4.56
        ],
        [
         "Paul Van Hugh",
         "PV-18985",
         "2016",
         155.32
        ],
        [
         "Paul Van Hugh",
         "PV-18985",
         "2017",
         283.49
        ],
        [
         "Pauline Webber",
         "PW-19030",
         "2014",
         17.47
        ],
        [
         "Pauline Webber",
         "PW-19030",
         "2015",
         15.15
        ],
        [
         "Pauline Webber",
         "PW-19030",
         "2016",
         437.4
        ],
        [
         "Pauline Webber",
         "PW-19030",
         "2017",
         333.8
        ],
        [
         "Pierre Wener",
         "PW-19240",
         "2014",
         -86.27
        ],
        [
         "Pierre Wener",
         "PW-19240",
         "2015",
         1378.01
        ],
        [
         "Pierre Wener",
         "PW-19240",
         "2016",
         -0.59
        ],
        [
         "Quincy Jones",
         "QJ-19255",
         "2014",
         120.04
        ],
        [
         "Quincy Jones",
         "QJ-19255",
         "2015",
         1014.47
        ],
        [
         "Quincy Jones",
         "QJ-19255",
         "2016",
         168.88
        ],
        [
         "Quincy Jones",
         "QJ-19255",
         "2017",
         -99.7
        ],
        [
         "Ralph Arnett",
         "RA-19285",
         "2014",
         0.0
        ],
        [
         "Ralph Arnett",
         "RA-19285",
         "2015",
         234.81
        ],
        [
         "Ralph Arnett",
         "RA-19285",
         "2016",
         -6.57
        ],
        [
         "Ralph Arnett",
         "RA-19285",
         "2017",
         317.48
        ],
        [
         "Ruben Ausman",
         "RA-19885",
         "2014",
         776.48
        ],
        [
         "Ruben Ausman",
         "RA-19885",
         "2015",
         1.67
        ],
        [
         "Ruben Ausman",
         "RA-19885",
         "2016",
         3.89
        ],
        [
         "Ruben Ausman",
         "RA-19885",
         "2017",
         510.77
        ],
        [
         "Russell Applegate",
         "RA-19915",
         "2014",
         278.43
        ],
        [
         "Russell Applegate",
         "RA-19915",
         "2015",
         -118.15
        ],
        [
         "Russell Applegate",
         "RA-19915",
         "2016",
         115.46
        ],
        [
         "Russell Applegate",
         "RA-19915",
         "2017",
         29.55
        ],
        [
         "Ryan Akin",
         "RA-19945",
         "2014",
         -436.73
        ],
        [
         "Ryan Akin",
         "RA-19945",
         "2015",
         96.54
        ],
        [
         "Ryan Akin",
         "RA-19945",
         "2017",
         -105.5
        ],
        [
         "Randy Bradley",
         "RB-19330",
         "2014",
         -90.1
        ],
        [
         "Randy Bradley",
         "RB-19330",
         "2017",
         -74.31
        ],
        [
         "Raymond Buch",
         "RB-19360",
         "2016",
         195.46
        ],
        [
         "Raymond Buch",
         "RB-19360",
         "2017",
         6780.9
        ],
        [
         "Richard Bierner",
         "RB-19435",
         "2014",
         65.12
        ],
        [
         "Richard Bierner",
         "RB-19435",
         "2015",
         49.57
        ],
        [
         "Richard Bierner",
         "RB-19435",
         "2017",
         362.94
        ],
        [
         "Rick Bensley",
         "RB-19465",
         "2014",
         336.96
        ],
        [
         "Rick Bensley",
         "RB-19465",
         "2016",
         123.81
        ],
        [
         "Rick Bensley",
         "RB-19465",
         "2017",
         179.78
        ],
        [
         "Rob Beeghly",
         "RB-19570",
         "2016",
         -5.98
        ],
        [
         "Rob Beeghly",
         "RB-19570",
         "2017",
         82.88
        ],
        [
         "Robert Barroso",
         "RB-19645",
         "2014",
         24.92
        ],
        [
         "Robert Barroso",
         "RB-19645",
         "2015",
         28.43
        ],
        [
         "Robert Barroso",
         "RB-19645",
         "2016",
         19.33
        ],
        [
         "Roger Barcio",
         "RB-19705",
         "2015",
         -82.78
        ],
        [
         "Roger Barcio",
         "RB-19705",
         "2017",
         325.86
        ],
        [
         "Ross Baird",
         "RB-19795",
         "2014",
         7.49
        ],
        [
         "Ross Baird",
         "RB-19795",
         "2015",
         -18.46
        ],
        [
         "Ross Baird",
         "RB-19795",
         "2016",
         51.79
        ],
        [
         "Ross Baird",
         "RB-19795",
         "2017",
         -502.56
        ],
        [
         "Roy Collins",
         "RC-19825",
         "2014",
         6.88
        ],
        [
         "Roy Collins",
         "RC-19825",
         "2016",
         56.69
        ],
        [
         "Ryan Crowe",
         "RC-19960",
         "2014",
         -98.43
        ],
        [
         "Ryan Crowe",
         "RC-19960",
         "2016",
         102.93
        ],
        [
         "Ryan Crowe",
         "RC-19960",
         "2017",
         6.04
        ],
        [
         "Rick Duston",
         "RD-19480",
         "2014",
         109.52
        ],
        [
         "Rick Duston",
         "RD-19480",
         "2015",
         25.41
        ],
        [
         "Rick Duston",
         "RD-19480",
         "2016",
         69.39
        ],
        [
         "Rick Duston",
         "RD-19480",
         "2017",
         276.27
        ],
        [
         "Rob Dowd",
         "RD-19585",
         "2014",
         341.38
        ],
        [
         "Rob Dowd",
         "RD-19585",
         "2015",
         302.64
        ],
        [
         "Rob Dowd",
         "RD-19585",
         "2016",
         24.23
        ],
        [
         "Rob Dowd",
         "RD-19585",
         "2017",
         66.27
        ],
        [
         "Robert Dilbeck",
         "RD-19660",
         "2015",
         -73.41
        ],
        [
         "Robert Dilbeck",
         "RD-19660",
         "2016",
         151.77
        ],
        [
         "Robert Dilbeck",
         "RD-19660",
         "2017",
         757.41
        ],
        [
         "Roger Demir",
         "RD-19720",
         "2014",
         73.68
        ],
        [
         "Roger Demir",
         "RD-19720",
         "2015",
         23.85
        ],
        [
         "Roger Demir",
         "RD-19720",
         "2016",
         31.2
        ],
        [
         "Roger Demir",
         "RD-19720",
         "2017",
         78.99
        ],
        [
         "Ross De Vincentis",
         "RD-19810",
         "2014",
         7.66
        ],
        [
         "Ross De Vincentis",
         "RD-19810",
         "2016",
         115.76
        ],
        [
         "Ross De Vincentis",
         "RD-19810",
         "2017",
         195.03
        ],
        [
         "Ruben Dartt",
         "RD-19900",
         "2014",
         186.49
        ],
        [
         "Ruben Dartt",
         "RD-19900",
         "2015",
         9.09
        ],
        [
         "Ruben Dartt",
         "RD-19900",
         "2016",
         177.1
        ],
        [
         "Ruben Dartt",
         "RD-19900",
         "2017",
         82.84
        ],
        [
         "Russell D Ascenzo",
         "RD-19930",
         "2014",
         -23.29
        ],
        [
         "Russell D Ascenzo",
         "RD-19930",
         "2015",
         39.0
        ],
        [
         "Russell D Ascenzo",
         "RD-19930",
         "2017",
         19.33
        ],
        [
         "Ricardo Emerson",
         "RE-19405",
         "2014",
         6.05
        ],
        [
         "Richard Eichhorn",
         "RE-19450",
         "2014",
         -24.87
        ],
        [
         "Richard Eichhorn",
         "RE-19450",
         "2015",
         211.06
        ],
        [
         "Richard Eichhorn",
         "RE-19450",
         "2016",
         13.32
        ],
        [
         "Richard Eichhorn",
         "RE-19450",
         "2017",
         9.74
        ],
        [
         "Randy Ferguson",
         "RF-19345",
         "2014",
         92.94
        ],
        [
         "Randy Ferguson",
         "RF-19345",
         "2015",
         102.01
        ],
        [
         "Randy Ferguson",
         "RF-19345",
         "2016",
         438.73
        ],
        [
         "Roland Fjeld",
         "RF-19735",
         "2014",
         22.65
        ],
        [
         "Roland Fjeld",
         "RF-19735",
         "2015",
         187.1
        ],
        [
         "Roland Fjeld",
         "RF-19735",
         "2016",
         110.62
        ],
        [
         "Roland Fjeld",
         "RF-19735",
         "2017",
         391.47
        ],
        [
         "Roy Franzsisch",
         "RF-19840",
         "2014",
         16.17
        ],
        [
         "Roy Franzsisch",
         "RF-19840",
         "2015",
         0.06
        ],
        [
         "Roy Franzsisch",
         "RF-19840",
         "2016",
         264.16
        ],
        [
         "Roy Franzsisch",
         "RF-19840",
         "2017",
         -0.3
        ],
        [
         "Rick Hansen",
         "RH-19495",
         "2014",
         34.94
        ],
        [
         "Rick Hansen",
         "RH-19495",
         "2015",
         480.63
        ],
        [
         "Rick Hansen",
         "RH-19495",
         "2017",
         48.21
        ],
        [
         "Rick Huthwaite",
         "RH-19510",
         "2014",
         10.96
        ],
        [
         "Rick Huthwaite",
         "RH-19510",
         "2015",
         125.67
        ],
        [
         "Rick Huthwaite",
         "RH-19510",
         "2016",
         1152.82
        ],
        [
         "Ritsa Hightower",
         "RH-19555",
         "2015",
         -6.03
        ],
        [
         "Ritsa Hightower",
         "RH-19555",
         "2016",
         6.34
        ],
        [
         "Rob Haberlin",
         "RH-19600",
         "2015",
         165.38
        ],
        [
         "Rob Haberlin",
         "RH-19600",
         "2016",
         7.25
        ],
        [
         "Ralph Kennedy",
         "RK-19300",
         "2015",
         265.58
        ],
        [
         "Ralph Kennedy",
         "RK-19300",
         "2017",
         4.11
        ],
        [
         "Rob Lucas",
         "RL-19615",
         "2014",
         42.29
        ],
        [
         "Rob Lucas",
         "RL-19615",
         "2015",
         110.11
        ],
        [
         "Rob Lucas",
         "RL-19615",
         "2016",
         -6.57
        ],
        [
         "Rob Lucas",
         "RL-19615",
         "2017",
         68.15
        ],
        [
         "Raymond Messe",
         "RM-19375",
         "2014",
         13.83
        ],
        [
         "Raymond Messe",
         "RM-19375",
         "2015",
         19.97
        ],
        [
         "Raymond Messe",
         "RM-19375",
         "2016",
         162.05
        ],
        [
         "Raymond Messe",
         "RM-19375",
         "2017",
         196.75
        ],
        [
         "Robert Marley",
         "RM-19675",
         "2014",
         200.12
        ],
        [
         "Robert Marley",
         "RM-19675",
         "2015",
         660.52
        ],
        [
         "Robert Marley",
         "RM-19675",
         "2017",
         1041.91
        ],
        [
         "Roland Murray",
         "RM-19750",
         "2017",
         28.68
        ],
        [
         "Rose O Brian",
         "RO-19780",
         "2015",
         -998.0
        ],
        [
         "Rose O Brian",
         "RO-19780",
         "2016",
         -90.48
        ],
        [
         "Rose O Brian",
         "RO-19780",
         "2017",
         -174.32
        ],
        [
         "Rachel Payne",
         "RP-19270",
         "2014",
         97.86
        ],
        [
         "Rachel Payne",
         "RP-19270",
         "2015",
         -50.04
        ],
        [
         "Rachel Payne",
         "RP-19270",
         "2016",
         11.7
        ],
        [
         "Resi Plking",
         "RP-19390",
         "2014",
         262.81
        ],
        [
         "Resi Plking",
         "RP-19390",
         "2015",
         19.71
        ],
        [
         "Resi Plking",
         "RP-19390",
         "2016",
         154.14
        ],
        [
         "Resi Plking",
         "RP-19390",
         "2017",
         28.3
        ],
        [
         "Roy Phan",
         "RP-19855",
         "2014",
         56.53
        ],
        [
         "Roy Phan",
         "RP-19855",
         "2015",
         375.38
        ],
        [
         "Roy Phan",
         "RP-19855",
         "2016",
         143.06
        ],
        [
         "Roy Phan",
         "RP-19855",
         "2017",
         19.81
        ],
        [
         "Ralph Ritter",
         "RR-19315",
         "2016",
         3.47
        ],
        [
         "Ralph Ritter",
         "RR-19315",
         "2017",
         -77.3
        ],
        [
         "Rick Reed",
         "RR-19525",
         "2014",
         543.57
        ],
        [
         "Rick Reed",
         "RR-19525",
         "2015",
         32.5
        ],
        [
         "Rick Reed",
         "RR-19525",
         "2016",
         45.68
        ],
        [
         "Rick Reed",
         "RR-19525",
         "2017",
         99.94
        ],
        [
         "Ricardo Sperren",
         "RS-19420",
         "2014",
         318.93
        ],
        [
         "Ricardo Sperren",
         "RS-19420",
         "2016",
         14.42
        ],
        [
         "Ricardo Sperren",
         "RS-19420",
         "2017",
         300.1
        ],
        [
         "Roland Schwarz",
         "RS-19765",
         "2014",
         552.0
        ],
        [
         "Roland Schwarz",
         "RS-19765",
         "2015",
         5.01
        ],
        [
         "Roland Schwarz",
         "RS-19765",
         "2017",
         649.38
        ],
        [
         "Roy Skaria",
         "RS-19870",
         "2016",
         3.5
        ],
        [
         "Roy Skaria",
         "RS-19870",
         "2017",
         6.08
        ],
        [
         "Rick Wilson",
         "RW-19540",
         "2015",
         -74.62
        ],
        [
         "Rick Wilson",
         "RW-19540",
         "2017",
         1660.85
        ],
        [
         "Rob Williams",
         "RW-19630",
         "2014",
         30.78
        ],
        [
         "Rob Williams",
         "RW-19630",
         "2016",
         346.37
        ],
        [
         "Rob Williams",
         "RW-19630",
         "2017",
         321.91
        ],
        [
         "Robert Waldorf",
         "RW-19690",
         "2016",
         -2.63
        ],
        [
         "Robert Waldorf",
         "RW-19690",
         "2017",
         710.18
        ],
        [
         "Sue Ann Reed",
         "SA-20830",
         "2014",
         351.32
        ],
        [
         "Sue Ann Reed",
         "SA-20830",
         "2015",
         98.08
        ],
        [
         "Sue Ann Reed",
         "SA-20830",
         "2016",
         -17.11
        ],
        [
         "Sue Ann Reed",
         "SA-20830",
         "2017",
         177.85
        ],
        [
         "Sarah Bern",
         "SB-20170",
         "2014",
         -33.39
        ],
        [
         "Sarah Bern",
         "SB-20170",
         "2017",
         191.07
        ],
        [
         "Sarah Brown",
         "SB-20185",
         "2014",
         -66.52
        ],
        [
         "Sarah Brown",
         "SB-20185",
         "2015",
         939.16
        ],
        [
         "Sarah Brown",
         "SB-20185",
         "2017",
         13.32
        ],
        [
         "Sean Braxton",
         "SB-20290",
         "2014",
         -1272.35
        ],
        [
         "Sean Braxton",
         "SB-20290",
         "2015",
         79.76
        ],
        [
         "Sean Braxton",
         "SB-20290",
         "2016",
         16.89
        ],
        [
         "Sean Braxton",
         "SB-20290",
         "2017",
         -907.05
        ],
        [
         "Sam Craven",
         "SC-20020",
         "2014",
         -360.83
        ],
        [
         "Sam Craven",
         "SC-20020",
         "2015",
         43.32
        ],
        [
         "Sample Company A",
         "SC-20050",
         "2014",
         764.53
        ],
        [
         "Sample Company A",
         "SC-20050",
         "2015",
         9.1
        ],
        [
         "Sample Company A",
         "SC-20050",
         "2016",
         146.65
        ],
        [
         "Sample Company A",
         "SC-20050",
         "2017",
         91.45
        ],
        [
         "Sanjit Chand",
         "SC-20095",
         "2014",
         5462.59
        ],
        [
         "Sanjit Chand",
         "SC-20095",
         "2015",
         92.68
        ],
        [
         "Sanjit Chand",
         "SC-20095",
         "2016",
         196.19
        ],
        [
         "Sanjit Chand",
         "SC-20095",
         "2017",
         5.84
        ],
        [
         "Scot Coram",
         "SC-20230",
         "2016",
         435.65
        ],
        [
         "Scot Coram",
         "SC-20230",
         "2017",
         4.18
        ],
        [
         "Scott Cohen",
         "SC-20260",
         "2014",
         96.77
        ],
        [
         "Scott Cohen",
         "SC-20260",
         "2015",
         373.95
        ],
        [
         "Scott Cohen",
         "SC-20260",
         "2017",
         200.26
        ],
        [
         "Sean Christensen",
         "SC-20305",
         "2014",
         93.4
        ],
        [
         "Sean Christensen",
         "SC-20305",
         "2015",
         0.0
        ],
        [
         "Sean Christensen",
         "SC-20305",
         "2016",
         37.46
        ],
        [
         "Sean Christensen",
         "SC-20305",
         "2017",
         98.25
        ],
        [
         "Shahi Collister",
         "SC-20380",
         "2014",
         -3462.2
        ],
        [
         "Shahi Collister",
         "SC-20380",
         "2015",
         52.91
        ],
        [
         "Shahi Collister",
         "SC-20380",
         "2016",
         -25.0
        ],
        [
         "Shahi Collister",
         "SC-20380",
         "2017",
         270.29
        ],
        [
         "Shaun Chance",
         "SC-20440",
         "2015",
         375.28
        ],
        [
         "Shaun Chance",
         "SC-20440",
         "2017",
         4.29
        ],
        [
         "Sonia Cooley",
         "SC-20575",
         "2014",
         32.39
        ],
        [
         "Sonia Cooley",
         "SC-20575",
         "2015",
         -2.43
        ],
        [
         "Sonia Cooley",
         "SC-20575",
         "2017",
         70.27
        ],
        [
         "Steve Carroll",
         "SC-20680",
         "2014",
         31.53
        ],
        [
         "Steve Carroll",
         "SC-20680",
         "2015",
         213.7
        ],
        [
         "Steve Carroll",
         "SC-20680",
         "2016",
         109.82
        ],
        [
         "Steve Carroll",
         "SC-20680",
         "2017",
         15.12
        ],
        [
         "Steve Chapman",
         "SC-20695",
         "2014",
         52.53
        ],
        [
         "Steve Chapman",
         "SC-20695",
         "2015",
         222.93
        ],
        [
         "Steve Chapman",
         "SC-20695",
         "2016",
         347.96
        ],
        [
         "Steve Chapman",
         "SC-20695",
         "2017",
         -11.6
        ],
        [
         "Steven Cartwright",
         "SC-20725",
         "2014",
         114.84
        ],
        [
         "Steven Cartwright",
         "SC-20725",
         "2015",
         404.63
        ],
        [
         "Steven Cartwright",
         "SC-20725",
         "2016",
         273.18
        ],
        [
         "Steven Cartwright",
         "SC-20725",
         "2017",
         483.77
        ],
        [
         "Stewart Carmichael",
         "SC-20770",
         "2015",
         147.72
        ],
        [
         "Stewart Carmichael",
         "SC-20770",
         "2016",
         -734.27
        ],
        [
         "Stewart Carmichael",
         "SC-20770",
         "2017",
         -84.83
        ],
        [
         "Stuart Calhoun",
         "SC-20800",
         "2015",
         40.63
        ],
        [
         "Stuart Calhoun",
         "SC-20800",
         "2016",
         9.0
        ],
        [
         "Stuart Calhoun",
         "SC-20800",
         "2017",
         2.58
        ],
        [
         "Sung Chung",
         "SC-20845",
         "2016",
         1.23
        ],
        [
         "Sung Chung",
         "SC-20845",
         "2017",
         29.95
        ],
        [
         "Shirley Daniels",
         "SD-20485",
         "2014",
         122.77
        ],
        [
         "Shirley Daniels",
         "SD-20485",
         "2015",
         1954.8
        ],
        [
         "Shirley Daniels",
         "SD-20485",
         "2016",
         20.82
        ],
        [
         "Shirley Daniels",
         "SD-20485",
         "2017",
         -113.2
        ],
        [
         "Sanjit Engle",
         "SE-20110",
         "2014",
         54.41
        ],
        [
         "Sanjit Engle",
         "SE-20110",
         "2015",
         159.32
        ],
        [
         "Sanjit Engle",
         "SE-20110",
         "2016",
         2673.77
        ],
        [
         "Sanjit Engle",
         "SE-20110",
         "2017",
         -236.83
        ],
        [
         "Sandra Flanagan",
         "SF-20065",
         "2014",
         98.59
        ],
        [
         "Sandra Flanagan",
         "SF-20065",
         "2015",
         15.98
        ],
        [
         "Sandra Flanagan",
         "SF-20065",
         "2016",
         3.06
        ],
        [
         "Sandra Flanagan",
         "SF-20065",
         "2017",
         110.13
        ],
        [
         "Sarah Foster",
         "SF-20200",
         "2014",
         58.03
        ],
        [
         "Sarah Foster",
         "SF-20200",
         "2015",
         -87.01
        ],
        [
         "Sarah Foster",
         "SF-20200",
         "2016",
         21.14
        ],
        [
         "Sarah Foster",
         "SF-20200",
         "2017",
         294.84
        ],
        [
         "Sylvia Foulston",
         "SF-20965",
         "2014",
         12.27
        ],
        [
         "Sylvia Foulston",
         "SF-20965",
         "2015",
         448.98
        ],
        [
         "Sylvia Foulston",
         "SF-20965",
         "2016",
         70.2
        ],
        [
         "Sylvia Foulston",
         "SF-20965",
         "2017",
         8.49
        ],
        [
         "Sandra Glassco",
         "SG-20080",
         "2015",
         352.2
        ],
        [
         "Sandra Glassco",
         "SG-20080",
         "2017",
         218.25
        ],
        [
         "Sheri Gordon",
         "SG-20470",
         "2014",
         150.92
        ],
        [
         "Sheri Gordon",
         "SG-20470",
         "2015",
         44.5
        ],
        [
         "Sheri Gordon",
         "SG-20470",
         "2016",
         -18.45
        ],
        [
         "Sheri Gordon",
         "SG-20470",
         "2017",
         -295.98
        ],
        [
         "Speros Goranitis",
         "SG-20605",
         "2014",
         274.85
        ],
        [
         "Speros Goranitis",
         "SG-20605",
         "2015",
         162.96
        ],
        [
         "Speros Goranitis",
         "SG-20605",
         "2017",
         25.46
        ],
        [
         "Susan Gilcrest",
         "SG-20890",
         "2014",
         2.94
        ],
        [
         "Susan Gilcrest",
         "SG-20890",
         "2016",
         6.63
        ],
        [
         "Susan Gilcrest",
         "SG-20890",
         "2017",
         -13.27
        ],
        [
         "Na N",
         "SH-19975",
         "2014",
         54.47
        ],
        [
         "Na N",
         "SH-19975",
         "2015",
         51.87
        ],
        [
         "Na N",
         "SH-19975",
         "2016",
         317.46
        ],
        [
         "Na N",
         "SH-19975",
         "2017",
         129.85
        ],
        [
         "Shahi Hopkins",
         "SH-20395",
         "2014",
         -252.19
        ],
        [
         "Shahi Hopkins",
         "SH-20395",
         "2015",
         2.24
        ],
        [
         "Shahi Hopkins",
         "SH-20395",
         "2016",
         -1.48
        ],
        [
         "Shahi Hopkins",
         "SH-20395",
         "2017",
         106.91
        ],
        [
         "Stefanie Holloman",
         "SH-20635",
         "2014",
         70.2
        ],
        [
         "Stefanie Holloman",
         "SH-20635",
         "2015",
         190.43
        ],
        [
         "Sanjit Jacobs",
         "SJ-20125",
         "2015",
         -65.82
        ],
        [
         "Sanjit Jacobs",
         "SJ-20125",
         "2016",
         266.13
        ],
        [
         "Sanjit Jacobs",
         "SJ-20125",
         "2017",
         -56.58
        ],
        [
         "Sarah Jordon",
         "SJ-20215",
         "2015",
         5.9
        ],
        [
         "Sarah Jordon",
         "SJ-20215",
         "2016",
         -3.24
        ],
        [
         "Sarah Jordon",
         "SJ-20215",
         "2017",
         -26.04
        ],
        [
         "Shirley Jackson",
         "SJ-20500",
         "2014",
         57.93
        ],
        [
         "Shirley Jackson",
         "SJ-20500",
         "2016",
         253.82
        ],
        [
         "Shirley Jackson",
         "SJ-20500",
         "2017",
         -243.16
        ],
        [
         "Sally Knutson",
         "SK-19990",
         "2016",
         3.44
        ],
        [
         "Sally Knutson",
         "SK-19990",
         "2017",
         165.35
        ],
        [
         "Sara Luxemburg",
         "SL-20155",
         "2014",
         22.25
        ],
        [
         "Sara Luxemburg",
         "SL-20155",
         "2015",
         64.77
        ],
        [
         "Sara Luxemburg",
         "SL-20155",
         "2016",
         3.11
        ],
        [
         "Sara Luxemburg",
         "SL-20155",
         "2017",
         437.91
        ],
        [
         "Sally Matthias",
         "SM-20005",
         "2014",
         51.25
        ],
        [
         "Sally Matthias",
         "SM-20005",
         "2016",
         -77.84
        ],
        [
         "Sean Miller",
         "SM-20320",
         "2014",
         -1789.74
        ],
        [
         "Sean Miller",
         "SM-20320",
         "2015",
         -225.52
        ],
        [
         "Sean Miller",
         "SM-20320",
         "2017",
         34.28
        ],
        [
         "Susan Mac Kendrick",
         "SM-20905",
         "2016",
         -16510.34
        ],
        [
         "Suzanne Mc Nair",
         "SM-20950",
         "2014",
         -372.11
        ],
        [
         "Suzanne Mc Nair",
         "SM-20950",
         "2015",
         468.4
        ],
        [
         "Suzanne Mc Nair",
         "SM-20950",
         "2016",
         43.0
        ],
        [
         "Suzanne Mc Nair",
         "SM-20950",
         "2017",
         442.28
        ],
        [
         "Skye Norling",
         "SN-20560",
         "2015",
         184.58
        ],
        [
         "Skye Norling",
         "SN-20560",
         "2016",
         229.01
        ],
        [
         "Skye Norling",
         "SN-20560",
         "2017",
         -1130.43
        ],
        [
         "Steve Nguyen",
         "SN-20710",
         "2014",
         32.94
        ],
        [
         "Steve Nguyen",
         "SN-20710",
         "2015",
         91.22
        ],
        [
         "Steve Nguyen",
         "SN-20710",
         "2016",
         375.78
        ],
        [
         "Steve Nguyen",
         "SN-20710",
         "2017",
         -18.19
        ],
        [
         "Sean O Donnell",
         "SO-20335",
         "2015",
         -282.31
        ],
        [
         "Sean O Donnell",
         "SO-20335",
         "2017",
         200.89
        ],
        [
         "Sibella Parks",
         "SP-20545",
         "2014",
         2.81
        ],
        [
         "Sibella Parks",
         "SP-20545",
         "2016",
         -203.15
        ],
        [
         "Sibella Parks",
         "SP-20545",
         "2017",
         81.96
        ],
        [
         "Stefania Perrino",
         "SP-20620",
         "2014",
         67.46
        ],
        [
         "Stefania Perrino",
         "SP-20620",
         "2015",
         -0.62
        ],
        [
         "Stefania Perrino",
         "SP-20620",
         "2016",
         -171.23
        ],
        [
         "Stefania Perrino",
         "SP-20620",
         "2017",
         -165.8
        ],
        [
         "Stephanie Phelps",
         "SP-20650",
         "2014",
         72.4
        ],
        [
         "Stephanie Phelps",
         "SP-20650",
         "2015",
         95.84
        ],
        [
         "Stephanie Phelps",
         "SP-20650",
         "2016",
         100.23
        ],
        [
         "Sung Pak",
         "SP-20860",
         "2014",
         1.19
        ],
        [
         "Sung Pak",
         "SP-20860",
         "2015",
         -65.06
        ],
        [
         "Sung Pak",
         "SP-20860",
         "2016",
         619.14
        ],
        [
         "Sung Pak",
         "SP-20860",
         "2017",
         11.85
        ],
        [
         "Susan Pistek",
         "SP-20920",
         "2014",
         24.22
        ],
        [
         "Susan Pistek",
         "SP-20920",
         "2016",
         8.7
        ],
        [
         "Susan Pistek",
         "SP-20920",
         "2017",
         -18.55
        ],
        [
         "Sharelle Roach",
         "SR-20425",
         "2014",
         57.49
        ],
        [
         "Sharelle Roach",
         "SR-20425",
         "2017",
         -3391.66
        ],
        [
         "Steven Roelle",
         "SR-20740",
         "2014",
         130.18
        ],
        [
         "Steven Roelle",
         "SR-20740",
         "2015",
         2.4
        ],
        [
         "Steven Roelle",
         "SR-20740",
         "2016",
         181.53
        ],
        [
         "Steven Roelle",
         "SR-20740",
         "2017",
         1676.32
        ],
        [
         "Saphhira Shifley",
         "SS-20140",
         "2014",
         -88.04
        ],
        [
         "Saphhira Shifley",
         "SS-20140",
         "2015",
         25.79
        ],
        [
         "Saphhira Shifley",
         "SS-20140",
         "2016",
         6.55
        ],
        [
         "Saphhira Shifley",
         "SS-20140",
         "2017",
         387.73
        ],
        [
         "Shahi Shariari",
         "SS-20410",
         "2014",
         -565.75
        ],
        [
         "Shahi Shariari",
         "SS-20410",
         "2015",
         -504.24
        ],
        [
         "Shahi Shariari",
         "SS-20410",
         "2017",
         58.91
        ],
        [
         "Shirley Schmidt",
         "SS-20515",
         "2014",
         11.05
        ],
        [
         "Shirley Schmidt",
         "SS-20515",
         "2015",
         174.01
        ],
        [
         "Shirley Schmidt",
         "SS-20515",
         "2016",
         14.87
        ],
        [
         "Sonia Sunley",
         "SS-20590",
         "2014",
         15.51
        ],
        [
         "Sonia Sunley",
         "SS-20590",
         "2015",
         8.02
        ],
        [
         "Sonia Sunley",
         "SS-20590",
         "2016",
         112.38
        ],
        [
         "Sung Shariari",
         "SS-20875",
         "2014",
         -9.15
        ],
        [
         "Sung Shariari",
         "SS-20875",
         "2015",
         -79.33
        ],
        [
         "Sung Shariari",
         "SS-20875",
         "2016",
         -1.91
        ],
        [
         "Sung Shariari",
         "SS-20875",
         "2017",
         14.82
        ],
        [
         "Shui Tom",
         "ST-20530",
         "2014",
         45.32
        ],
        [
         "Shui Tom",
         "ST-20530",
         "2015",
         27.01
        ],
        [
         "Shui Tom",
         "ST-20530",
         "2017",
         12.79
        ],
        [
         "Stephanie Ulpright",
         "SU-20665",
         "2015",
         76.4
        ],
        [
         "Stephanie Ulpright",
         "SU-20665",
         "2016",
         64.19
        ],
        [
         "Stephanie Ulpright",
         "SU-20665",
         "2017",
         623.11
        ],
        [
         "Seth Vernon",
         "SV-20365",
         "2014",
         -218.93
        ],
        [
         "Seth Vernon",
         "SV-20365",
         "2015",
         -191.64
        ],
        [
         "Seth Vernon",
         "SV-20365",
         "2016",
         39.77
        ],
        [
         "Seth Vernon",
         "SV-20365",
         "2017",
         1570.94
        ],
        [
         "Stewart Visinsky",
         "SV-20785",
         "2014",
         189.13
        ],
        [
         "Stewart Visinsky",
         "SV-20785",
         "2015",
         209.66
        ],
        [
         "Stewart Visinsky",
         "SV-20785",
         "2016",
         76.77
        ],
        [
         "Stewart Visinsky",
         "SV-20785",
         "2017",
         9.29
        ],
        [
         "Stuart Van",
         "SV-20815",
         "2015",
         184.2
        ],
        [
         "Stuart Van",
         "SV-20815",
         "2016",
         11.24
        ],
        [
         "Stuart Van",
         "SV-20815",
         "2017",
         4.2
        ],
        [
         "Susan Vittorini",
         "SV-20935",
         "2016",
         -30.2
        ],
        [
         "Susan Vittorini",
         "SV-20935",
         "2017",
         136.82
        ],
        [
         "Scot Wooten",
         "SW-20245",
         "2014",
         -27.2
        ],
        [
         "Scot Wooten",
         "SW-20245",
         "2015",
         -10.84
        ],
        [
         "Scot Wooten",
         "SW-20245",
         "2016",
         82.53
        ],
        [
         "Scot Wooten",
         "SW-20245",
         "2017",
         -64.07
        ],
        [
         "Scott Williamson",
         "SW-20275",
         "2014",
         11.0
        ],
        [
         "Scott Williamson",
         "SW-20275",
         "2016",
         221.48
        ],
        [
         "Scott Williamson",
         "SW-20275",
         "2017",
         100.28
        ],
        [
         "Sean Wendt",
         "SW-20350",
         "2016",
         146.09
        ],
        [
         "Sean Wendt",
         "SW-20350",
         "2017",
         -50.25
        ],
        [
         "Shaun Weien",
         "SW-20455",
         "2015",
         618.44
        ],
        [
         "Shaun Weien",
         "SW-20455",
         "2016",
         125.2
        ],
        [
         "Shaun Weien",
         "SW-20455",
         "2017",
         50.0
        ],
        [
         "Steven Ward",
         "SW-20755",
         "2014",
         19.72
        ],
        [
         "Steven Ward",
         "SW-20755",
         "2016",
         48.52
        ],
        [
         "Sam Zeldin",
         "SZ-20035",
         "2014",
         6.49
        ],
        [
         "Sam Zeldin",
         "SZ-20035",
         "2015",
         260.19
        ],
        [
         "Sam Zeldin",
         "SZ-20035",
         "2016",
         49.32
        ],
        [
         "Sam Zeldin",
         "SZ-20035",
         "2017",
         50.42
        ],
        [
         "Tom Ashbrook",
         "TA-21385",
         "2014",
         180.52
        ],
        [
         "Tom Ashbrook",
         "TA-21385",
         "2016",
         -76.0
        ],
        [
         "Tom Ashbrook",
         "TA-21385",
         "2017",
         4599.21
        ],
        [
         "Ted Butterfield",
         "TB-21055",
         "2016",
         267.71
        ],
        [
         "Ted Butterfield",
         "TB-21055",
         "2017",
         122.05
        ],
        [
         "Thomas Boland",
         "TB-21175",
         "2014",
         6.04
        ],
        [
         "Thomas Boland",
         "TB-21175",
         "2016",
         -6.98
        ],
        [
         "Thomas Boland",
         "TB-21175",
         "2017",
         829.65
        ],
        [
         "Thomas Brumley",
         "TB-21190",
         "2014",
         161.97
        ],
        [
         "Thomas Brumley",
         "TB-21190",
         "2015",
         3.06
        ],
        [
         "Thomas Brumley",
         "TB-21190",
         "2017",
         13.98
        ],
        [
         "Tim Brockman",
         "TB-21250",
         "2014",
         13.81
        ],
        [
         "Tim Brockman",
         "TB-21250",
         "2015",
         318.53
        ],
        [
         "Tim Brockman",
         "TB-21250",
         "2016",
         -40.36
        ],
        [
         "Tim Brockman",
         "TB-21250",
         "2017",
         -31.68
        ],
        [
         "Toby Braunhardt",
         "TB-21280",
         "2014",
         200.15
        ],
        [
         "Toby Braunhardt",
         "TB-21280",
         "2016",
         290.98
        ],
        [
         "Todd Boyes",
         "TB-21355",
         "2016",
         62.39
        ],
        [
         "Todd Boyes",
         "TB-21355",
         "2017",
         206.57
        ],
        [
         "Tom Boeckenhauer",
         "TB-21400",
         "2014",
         2567.33
        ],
        [
         "Tom Boeckenhauer",
         "TB-21400",
         "2016",
         12.18
        ],
        [
         "Tom Boeckenhauer",
         "TB-21400",
         "2017",
         218.55
        ],
        [
         "Tracy Blumstein",
         "TB-21520",
         "2014",
         -125.24
        ],
        [
         "Tracy Blumstein",
         "TB-21520",
         "2015",
         -1524.02
        ],
        [
         "Tracy Blumstein",
         "TB-21520",
         "2016",
         3.95
        ],
        [
         "Tracy Blumstein",
         "TB-21520",
         "2017",
         42.26
        ],
        [
         "Troy Blackwell",
         "TB-21595",
         "2014",
         6.75
        ],
        [
         "Troy Blackwell",
         "TB-21595",
         "2016",
         -144.59
        ],
        [
         "Troy Blackwell",
         "TB-21595",
         "2017",
         1.37
        ],
        [
         "Trudy Brown",
         "TB-21625",
         "2014",
         83.99
        ],
        [
         "Trudy Brown",
         "TB-21625",
         "2015",
         -8.47
        ],
        [
         "Trudy Brown",
         "TB-21625",
         "2016",
         70.93
        ],
        [
         "Trudy Brown",
         "TB-21625",
         "2017",
         233.36
        ],
        [
         "Tamara Chand",
         "TC-20980",
         "2014",
         178.65
        ],
        [
         "Tamara Chand",
         "TC-20980",
         "2015",
         37.72
        ],
        [
         "Tamara Chand",
         "TC-20980",
         "2016",
         8764.95
        ],
        [
         "Theresa Coyne",
         "TC-21145",
         "2017",
         265.59
        ],
        [
         "Toby Carlisle",
         "TC-21295",
         "2014",
         402.54
        ],
        [
         "Toby Carlisle",
         "TC-21295",
         "2016",
         -27.83
        ],
        [
         "Toby Carlisle",
         "TC-21295",
         "2017",
         231.66
        ],
        [
         "Tony Chapman",
         "TC-21475",
         "2014",
         -16.47
        ],
        [
         "Tony Chapman",
         "TC-21475",
         "2015",
         27.0
        ],
        [
         "Tony Chapman",
         "TC-21475",
         "2016",
         32.39
        ],
        [
         "Tony Chapman",
         "TC-21475",
         "2017",
         76.21
        ],
        [
         "Tracy Collins",
         "TC-21535",
         "2014",
         3.36
        ],
        [
         "Tracy Collins",
         "TC-21535",
         "2015",
         30.65
        ],
        [
         "Tracy Collins",
         "TC-21535",
         "2016",
         161.53
        ],
        [
         "Tracy Collins",
         "TC-21535",
         "2017",
         22.41
        ],
        [
         "Tamara Dahlen",
         "TD-20995",
         "2014",
         9.23
        ],
        [
         "Tamara Dahlen",
         "TD-20995",
         "2015",
         -4.52
        ],
        [
         "Tamara Dahlen",
         "TD-20995",
         "2016",
         70.25
        ],
        [
         "Tamara Dahlen",
         "TD-20995",
         "2017",
         13.68
        ],
        [
         "Toby Gnade",
         "TG-21310",
         "2015",
         -198.33
        ],
        [
         "Toby Gnade",
         "TG-21310",
         "2016",
         844.64
        ],
        [
         "Toby Gnade",
         "TG-21310",
         "2017",
         35.86
        ],
        [
         "Trudy Glocke",
         "TG-21640",
         "2014",
         89.42
        ],
        [
         "Trudy Glocke",
         "TG-21640",
         "2015",
         191.28
        ],
        [
         "Trudy Glocke",
         "TG-21640",
         "2017",
         84.42
        ],
        [
         "Thea Hendricks",
         "TH-21100",
         "2014",
         -155.27
        ],
        [
         "Thea Hendricks",
         "TH-21100",
         "2015",
         0.81
        ],
        [
         "Thea Hendricks",
         "TH-21100",
         "2016",
         9.19
        ],
        [
         "Thea Hendricks",
         "TH-21100",
         "2017",
         10.05
        ],
        [
         "Thea Hudgings",
         "TH-21115",
         "2014",
         5.45
        ],
        [
         "Thea Hudgings",
         "TH-21115",
         "2016",
         -76.64
        ],
        [
         "Thea Hudgings",
         "TH-21115",
         "2017",
         -181.36
        ],
        [
         "Tiffany House",
         "TH-21235",
         "2014",
         -2.93
        ],
        [
         "Tiffany House",
         "TH-21235",
         "2016",
         70.78
        ],
        [
         "Tiffany House",
         "TH-21235",
         "2017",
         24.7
        ],
        [
         "Tracy Hopkins",
         "TH-21550",
         "2014",
         26.63
        ],
        [
         "Tracy Hopkins",
         "TH-21550",
         "2015",
         391.56
        ],
        [
         "Tracy Hopkins",
         "TH-21550",
         "2017",
         -990.17
        ],
        [
         "Tamara Manning",
         "TM-21010",
         "2014",
         112.58
        ],
        [
         "Tamara Manning",
         "TM-21010",
         "2015",
         255.04
        ],
        [
         "Tamara Manning",
         "TM-21010",
         "2017",
         205.84
        ],
        [
         "Tony Molinari",
         "TM-21490",
         "2017",
         292.53
        ],
        [
         "Tanja Norvell",
         "TN-21040",
         "2014",
         21.25
        ],
        [
         "Tanja Norvell",
         "TN-21040",
         "2015",
         167.98
        ],
        [
         "Tanja Norvell",
         "TN-21040",
         "2016",
         -903.28
        ],
        [
         "Tanja Norvell",
         "TN-21040",
         "2017",
         22.0
        ],
        [
         "Theone Pippenger",
         "TP-21130",
         "2015",
         -1.85
        ],
        [
         "Theone Pippenger",
         "TP-21130",
         "2016",
         376.74
        ],
        [
         "Theone Pippenger",
         "TP-21130",
         "2017",
         753.76
        ],
        [
         "Tom Prescott",
         "TP-21415",
         "2015",
         64.52
        ],
        [
         "Tom Prescott",
         "TP-21415",
         "2016",
         -91.11
        ],
        [
         "Tom Prescott",
         "TP-21415",
         "2017",
         -1060.79
        ],
        [
         "Tracy Poddar",
         "TP-21565",
         "2015",
         34.74
        ],
        [
         "Tracy Poddar",
         "TP-21565",
         "2016",
         104.74
        ],
        [
         "Tracy Poddar",
         "TP-21565",
         "2017",
         -0.04
        ],
        [
         "Toby Ritter",
         "TR-21325",
         "2014",
         28.52
        ],
        [
         "Toby Ritter",
         "TR-21325",
         "2016",
         115.04
        ],
        [
         "Toby Ritter",
         "TR-21325",
         "2017",
         76.8
        ],
        [
         "Thais Sissman",
         "TS-21085",
         "2015",
         -1.35
        ],
        [
         "Thais Sissman",
         "TS-21085",
         "2017",
         -1.97
        ],
        [
         "Theresa Swint",
         "TS-21160",
         "2014",
         -2.0
        ],
        [
         "Theresa Swint",
         "TS-21160",
         "2015",
         311.54
        ],
        [
         "Theresa Swint",
         "TS-21160",
         "2016",
         -48.91
        ],
        [
         "Thomas Seio",
         "TS-21205",
         "2014",
         471.81
        ],
        [
         "Thomas Seio",
         "TS-21205",
         "2016",
         104.77
        ],
        [
         "Thomas Seio",
         "TS-21205",
         "2017",
         286.36
        ],
        [
         "Toby Swindell",
         "TS-21340",
         "2014",
         -285.0
        ],
        [
         "Toby Swindell",
         "TS-21340",
         "2015",
         92.71
        ],
        [
         "Toby Swindell",
         "TS-21340",
         "2017",
         7.29
        ],
        [
         "Todd Sumrall",
         "TS-21370",
         "2014",
         18.62
        ],
        [
         "Todd Sumrall",
         "TS-21370",
         "2015",
         1135.1
        ],
        [
         "Todd Sumrall",
         "TS-21370",
         "2017",
         1218.01
        ],
        [
         "Tom Stivers",
         "TS-21430",
         "2014",
         17.14
        ],
        [
         "Tom Stivers",
         "TS-21430",
         "2016",
         17.05
        ],
        [
         "Tom Stivers",
         "TS-21430",
         "2017",
         14.71
        ],
        [
         "Na N",
         "TS-21505",
         "2014",
         87.45
        ],
        [
         "Na N",
         "TS-21505",
         "2016",
         -69.83
        ],
        [
         "Na N",
         "TS-21505",
         "2017",
         -6.23
        ],
        [
         "Troy Staebel",
         "TS-21610",
         "2014",
         -227.49
        ],
        [
         "Troy Staebel",
         "TS-21610",
         "2016",
         -57.29
        ],
        [
         "Troy Staebel",
         "TS-21610",
         "2017",
         -10.11
        ],
        [
         "Trudy Schmidt",
         "TS-21655",
         "2015",
         -34.09
        ],
        [
         "Trudy Schmidt",
         "TS-21655",
         "2016",
         364.87
        ],
        [
         "Trudy Schmidt",
         "TS-21655",
         "2017",
         -110.05
        ],
        [
         "Ted Trevino",
         "TT-21070",
         "2014",
         121.4
        ],
        [
         "Ted Trevino",
         "TT-21070",
         "2015",
         205.15
        ],
        [
         "Ted Trevino",
         "TT-21070",
         "2016",
         2.69
        ],
        [
         "Ted Trevino",
         "TT-21070",
         "2017",
         422.93
        ],
        [
         "Thomas Thornton",
         "TT-21220",
         "2014",
         18.38
        ],
        [
         "Thomas Thornton",
         "TT-21220",
         "2015",
         52.51
        ],
        [
         "Thomas Thornton",
         "TT-21220",
         "2016",
         60.39
        ],
        [
         "Thomas Thornton",
         "TT-21220",
         "2017",
         147.47
        ],
        [
         "Tim Taslimi",
         "TT-21265",
         "2015",
         61.39
        ],
        [
         "Tim Taslimi",
         "TT-21265",
         "2016",
         32.53
        ],
        [
         "Tonja Turnell",
         "TT-21460",
         "2015",
         281.0
        ],
        [
         "Tonja Turnell",
         "TT-21460",
         "2016",
         2.4
        ],
        [
         "Tonja Turnell",
         "TT-21460",
         "2017",
         840.98
        ],
        [
         "Tamara Willingham",
         "TW-21025",
         "2014",
         100.14
        ],
        [
         "Tamara Willingham",
         "TW-21025",
         "2015",
         610.3
        ],
        [
         "Tamara Willingham",
         "TW-21025",
         "2016",
         33.01
        ],
        [
         "Tamara Willingham",
         "TW-21025",
         "2017",
         -6.06
        ],
        [
         "Tracy Zic",
         "TZ-21580",
         "2014",
         132.3
        ],
        [
         "Tracy Zic",
         "TZ-21580",
         "2015",
         15.28
        ],
        [
         "Tracy Zic",
         "TZ-21580",
         "2016",
         75.98
        ],
        [
         "Tracy Zic",
         "TZ-21580",
         "2017",
         1.34
        ],
        [
         "Victoria Brennan",
         "VB-21745",
         "2015",
         84.62
        ],
        [
         "Victoria Brennan",
         "VB-21745",
         "2016",
         105.42
        ],
        [
         "Victoria Brennan",
         "VB-21745",
         "2017",
         181.21
        ],
        [
         "Valerie Dominguez",
         "VD-21670",
         "2014",
         576.56
        ],
        [
         "Valerie Dominguez",
         "VD-21670",
         "2015",
         990.86
        ],
        [
         "Valerie Dominguez",
         "VD-21670",
         "2016",
         50.19
        ],
        [
         "Vicky Freymann",
         "VF-21715",
         "2014",
         -158.76
        ],
        [
         "Vicky Freymann",
         "VF-21715",
         "2017",
         62.48
        ],
        [
         "Vivek Gonzalez",
         "VG-21790",
         "2014",
         19.54
        ],
        [
         "Vivek Gonzalez",
         "VG-21790",
         "2016",
         18.48
        ],
        [
         "Vivek Gonzalez",
         "VG-21790",
         "2017",
         106.1
        ],
        [
         "Vivek Grady",
         "VG-21805",
         "2014",
         -82.88
        ],
        [
         "Vivek Grady",
         "VG-21805",
         "2016",
         28.14
        ],
        [
         "Vivek Grady",
         "VG-21805",
         "2017",
         2.41
        ],
        [
         "Valerie Mitchum",
         "VM-21685",
         "2014",
         78.23
        ],
        [
         "Valerie Mitchum",
         "VM-21685",
         "2015",
         -3.71
        ],
        [
         "Valerie Mitchum",
         "VM-21685",
         "2016",
         371.7
        ],
        [
         "Valerie Mitchum",
         "VM-21685",
         "2017",
         67.41
        ],
        [
         "Vivian Mathis",
         "VM-21835",
         "2014",
         6.51
        ],
        [
         "Vivian Mathis",
         "VM-21835",
         "2016",
         103.16
        ],
        [
         "Vivian Mathis",
         "VM-21835",
         "2017",
         6.97
        ],
        [
         "Victor Preis",
         "VP-21730",
         "2015",
         8.93
        ],
        [
         "Victor Preis",
         "VP-21730",
         "2017",
         196.46
        ],
        [
         "Victoria Pisteka",
         "VP-21760",
         "2014",
         118.07
        ],
        [
         "Victoria Pisteka",
         "VP-21760",
         "2015",
         -204.15
        ],
        [
         "Victoria Pisteka",
         "VP-21760",
         "2016",
         31.65
        ],
        [
         "Victoria Pisteka",
         "VP-21760",
         "2017",
         -964.48
        ],
        [
         "Vivek Sundaresam",
         "VS-21820",
         "2014",
         -72.25
        ],
        [
         "Vivek Sundaresam",
         "VS-21820",
         "2015",
         -176.6
        ],
        [
         "Vivek Sundaresam",
         "VS-21820",
         "2016",
         -7.81
        ],
        [
         "Vivek Sundaresam",
         "VS-21820",
         "2017",
         -6.42
        ],
        [
         "Valerie Takahito",
         "VT-21700",
         "2014",
         33.0
        ],
        [
         "Valerie Takahito",
         "VT-21700",
         "2015",
         -257.93
        ],
        [
         "Victoria Wilson",
         "VW-21775",
         "2014",
         -65.32
        ],
        [
         "Victoria Wilson",
         "VW-21775",
         "2015",
         -1186.41
        ],
        [
         "Victoria Wilson",
         "VW-21775",
         "2016",
         -188.81
        ],
        [
         "Victoria Wilson",
         "VW-21775",
         "2017",
         565.88
        ],
        [
         "William Brown",
         "WB-21850",
         "2014",
         106.42
        ],
        [
         "William Brown",
         "WB-21850",
         "2015",
         -87.06
        ],
        [
         "William Brown",
         "WB-21850",
         "2016",
         293.65
        ],
        [
         "William Brown",
         "WB-21850",
         "2017",
         401.51
        ],
        [
         "Xylona Preis",
         "XP-21865",
         "2014",
         202.31
        ],
        [
         "Xylona Preis",
         "XP-21865",
         "2015",
         24.85
        ],
        [
         "Xylona Preis",
         "XP-21865",
         "2016",
         314.09
        ],
        [
         "Xylona Preis",
         "XP-21865",
         "2017",
         80.12
        ],
        [
         "Yoseph Carroll",
         "YC-21895",
         "2014",
         833.77
        ],
        [
         "Yoseph Carroll",
         "YC-21895",
         "2015",
         7.07
        ],
        [
         "Yoseph Carroll",
         "YC-21895",
         "2016",
         427.27
        ],
        [
         "Yoseph Carroll",
         "YC-21895",
         "2017",
         37.53
        ],
        [
         "Yana Sorensen",
         "YS-21880",
         "2015",
         254.18
        ],
        [
         "Yana Sorensen",
         "YS-21880",
         "2017",
         1524.13
        ],
        [
         "Zuschuss Carroll",
         "ZC-21910",
         "2014",
         328.83
        ],
        [
         "Zuschuss Carroll",
         "ZC-21910",
         "2015",
         307.48
        ],
        [
         "Zuschuss Carroll",
         "ZC-21910",
         "2016",
         -1731.01
        ],
        [
         "Zuschuss Carroll",
         "ZC-21910",
         "2017",
         62.34
        ],
        [
         "Zuschuss Donatelli",
         "ZD-21925",
         "2014",
         25.49
        ],
        [
         "Zuschuss Donatelli",
         "ZD-21925",
         "2016",
         206.67
        ],
        [
         "Zuschuss Donatelli",
         "ZD-21925",
         "2017",
         16.59
        ]
       ],
       "datasetInfos": [],
       "dbfsResultPath": null,
       "isJsonSchema": true,
       "metadata": {},
       "overflow": false,
       "plotOptions": {
        "customPlotOptions": {},
        "displayType": "table",
        "pivotAggregation": null,
        "pivotColumns": null,
        "xColumns": null,
        "yColumns": null
       },
       "removedWidgets": [],
       "schema": [
        {
         "metadata": "{}",
         "name": "Customer_Name",
         "type": "\"string\""
        },
        {
         "metadata": "{}",
         "name": "Customer_ID",
         "type": "\"string\""
        },
        {
         "metadata": "{}",
         "name": "ORDER_YEAR",
         "type": "\"string\""
        },
        {
         "metadata": "{}",
         "name": "Total_Profit",
         "type": "\"double\""
        }
       ],
       "type": "table"
      }
     },
     "output_type": "display_data"
    }
   ],
   "source": [
    "%sql\n",
    "SELECT max(CUSTOMER_NAME) as Customer_Name,\n",
    "  Customer_ID,\n",
    "  ORDER_YEAR,\n",
    "  ROUND(SUM(Total_Profit),2) AS Total_Profit\n",
    "FROM agg_profit\n",
    "GROUP BY Customer_ID,\n",
    "  ORDER_YEAR;"
   ]
  }
 ],
 "metadata": {
  "application/vnd.databricks.v1+notebook": {
   "dashboards": [],
   "language": "python",
   "notebookMetadata": {
    "mostRecentlyExecutedCommandWithImplicitDF": {
     "commandId": 3293369728793480,
     "dataframes": [
      "_sqldf"
     ]
    },
    "pythonIndentUnit": 4
   },
   "notebookName": "Question 5:SQL_queries",
   "widgets": {}
  }
 },
 "nbformat": 4,
 "nbformat_minor": 0
}

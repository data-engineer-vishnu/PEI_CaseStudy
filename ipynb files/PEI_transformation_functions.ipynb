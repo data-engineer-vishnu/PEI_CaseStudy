{
 "cells": [
  {
   "cell_type": "markdown",
   "metadata": {
    "application/vnd.databricks.v1+cell": {
     "cellMetadata": {
      "byteLimit": 2048000,
      "rowLimit": 10000
     },
     "inputWidgets": {},
     "nuid": "7cb65964-db96-4f75-a05a-f4a1cd21ba06",
     "showTitle": false,
     "title": ""
    }
   },
   "source": [
    "##### Functions:\n",
    "##### 1. remove_non_alphabet(df, column_name): removes non-alphabets in the column passed\n",
    "##### 2. remove_spaces_hyphen(df): removes spaces and hyphens(-) in the column names and replace with (_)\n",
    "##### 3. enrich_name(df,name,email): incase the name is empty, the string in email main part is used for enriching. and a new column is created for flagging attention\n",
    "##### 4. clean_phone_number(df, column_name): clean the phone number to the format of +1(xxx)xxx-xxxx or 'Invalid Number' based on the field value.\n",
    "##### 5. aggregate_dataframe(df, col1,col2,col3,col4,col5): groupBy the dstaframe using col1,col2,col3,col4 and find the aggregated sum of the col5"
   ]
  },
  {
   "cell_type": "code",
   "execution_count": 0,
   "metadata": {
    "application/vnd.databricks.v1+cell": {
     "cellMetadata": {
      "byteLimit": 2048000,
      "rowLimit": 10000
     },
     "inputWidgets": {},
     "nuid": "58390af7-2ed2-49d5-b722-9e3d815e59d7",
     "showTitle": false,
     "title": ""
    }
   },
   "outputs": [],
   "source": [
    "from pyspark.sql import DataFrame\n",
    "from pyspark.sql.functions import regexp_replace,col, udf,when,regexp_extract,sum\n",
    "from pyspark.sql.types import StringType\n",
    "import re"
   ]
  },
  {
   "cell_type": "code",
   "execution_count": 0,
   "metadata": {
    "application/vnd.databricks.v1+cell": {
     "cellMetadata": {
      "byteLimit": 2048000,
      "rowLimit": 10000
     },
     "inputWidgets": {},
     "nuid": "9d2d228f-a166-4194-b7c8-68596f84c8ad",
     "showTitle": false,
     "title": "Function for cleaning Name"
    }
   },
   "outputs": [],
   "source": [
    "def remove_non_alphabet(df, column_name):\n",
    "    \"\"\"\n",
    "    Input arguments: dataframe, col1\n",
    "    Returns: dataframe\n",
    "    Description: transforms a single column in the input dataframe. Non-alphabetic charatcers in the column is removed. \n",
    "        Title character is made uppercase. \n",
    "        Whitepace is inserted before the Uppercase characxters except the first uppercase character.\n",
    "    \"\"\"\n",
    "\n",
    "    try:\n",
    "        # Define UDF to remove non-alphabet characters\n",
    "        def clean_text(text):\n",
    "            # Remove non-alphabetic characters and whitespace\n",
    "            cleaned_text = re.sub(r'[^a-zA-Z]', '', text)\n",
    "            # Add whitespace before uppercase characters (except for the first character)\n",
    "            cleaned_text = re.sub(r'(?<!^)(?=[A-Z])', ' ', cleaned_text)\n",
    "            # Make sure the first character is Upper case\n",
    "            cleaned_text = cleaned_text.title()\n",
    "            return cleaned_text\n",
    "        \n",
    "        # Register UDF\n",
    "        clean_text_udf = udf(clean_text, StringType())\n",
    "        \n",
    "        # Apply UDF to the specified column and overwrite the original column\n",
    "        cleaned_df = df.withColumn(column_name, clean_text_udf(col(column_name)))\n",
    "        \n",
    "        return cleaned_df\n",
    "    except Exception as e:\n",
    "        print(\"Error occurred while removing non-alphabet characters:\", str(e))\n",
    "        return df  # Return original DataFrame in case of error"
   ]
  },
  {
   "cell_type": "code",
   "execution_count": 0,
   "metadata": {
    "application/vnd.databricks.v1+cell": {
     "cellMetadata": {
      "byteLimit": 2048000,
      "rowLimit": 10000
     },
     "inputWidgets": {},
     "nuid": "0ce9bcd1-2688-4460-b230-f2b90d595e63",
     "showTitle": false,
     "title": "function for removing the hyphens and white spaces in column names"
    }
   },
   "outputs": [],
   "source": [
    "def remove_spaces_hyphen(df) -> DataFrame:\n",
    "    \"\"\"\n",
    "    Input arguments: dataframe\n",
    "    Returns: dataframe\n",
    "    Description: Transforms the column names in the given dataframe. Any whitespaces is removed and replaced with '_'\n",
    "    \"\"\"\n",
    "    try:\n",
    "        new_df = df.select([col(i).alias(i.replace(' ','_').replace('-','_')) for i in df.columns])\n",
    "        return new_df\n",
    "    except Exception as e:\n",
    "        print(\"Error occurred while removing spaces and hyphens:\", str(e))\n",
    "        return df  # Return original DataFrame in case of error"
   ]
  },
  {
   "cell_type": "code",
   "execution_count": 0,
   "metadata": {
    "application/vnd.databricks.v1+cell": {
     "cellMetadata": {
      "byteLimit": 2048000,
      "rowLimit": 10000
     },
     "inputWidgets": {},
     "nuid": "97361615-50b6-4969-aeb3-362f64213b7a",
     "showTitle": false,
     "title": "function for removing double quotes from a column"
    }
   },
   "outputs": [],
   "source": [
    "def clean_product_name(df, column_name):\n",
    "    \"\"\"\n",
    "    Input arguments: dataframe, col1\n",
    "    Returns: dataframe\n",
    "    Description: transforms a single column, col1, in the input dataframe. Removes non-ASCII characters from the given column.\n",
    "    \"\"\"\n",
    "    try:\n",
    "        # Define UDF to remove non-ASCII characters\n",
    "        def remove_non_ascii(s):\n",
    "            return re.sub(r'[^\\x00-\\x7F\\s]+', '', s)\n",
    "        \n",
    "        # Register UDF\n",
    "        clean_text_udf = udf(remove_non_ascii, StringType())\n",
    "        \n",
    "        # Apply UDF to the specified column and overwrite the original column\n",
    "        cleaned_df = df.withColumn(column_name, clean_text_udf(col(column_name)))\n",
    "        \n",
    "        return cleaned_df\n",
    "    except Exception as e:\n",
    "        print(\"Error occurred while cleaning product name:\", str(e))\n",
    "        return df  # Return original DataFrame in case of error"
   ]
  },
  {
   "cell_type": "code",
   "execution_count": 0,
   "metadata": {
    "application/vnd.databricks.v1+cell": {
     "cellMetadata": {
      "byteLimit": 2048000,
      "rowLimit": 10000
     },
     "inputWidgets": {},
     "nuid": "2cbf628c-e725-4dee-8cb8-1bb062d37178",
     "showTitle": false,
     "title": "Function for enriching the Name column from email column"
    }
   },
   "outputs": [],
   "source": [
    "def enrich_name(df, name, email) -> DataFrame:\n",
    "    \"\"\"\n",
    "    Input arguments: dataframe, col1, col2\n",
    "    Returns: dataframe\n",
    "    Description: checks if col1 is empty. If so, the alphabetic part before '@' in col2 isfilled into col1.\n",
    "        The flag is set to True in a newly created column name_filled\n",
    "    \"\"\"\n",
    "    try:\n",
    "        customers_enriched = df.withColumn(\n",
    "            \"name_filled\",\n",
    "            when(col(name) != \"\", False).otherwise(True)  # Set to True if name is empty\n",
    "        ).withColumn(\n",
    "            name,\n",
    "            when(col(name) == \"\", \n",
    "                when(col(email).contains(\"@\"),\n",
    "                    regexp_extract(col(email), \"([^@]+)@\", 1)  # Extract characters before '@'\n",
    "                    ).otherwise(regexp_replace(col(email), \"[^a-zA-Z]\", \"\"))  # Remove numbers from the email column\n",
    "                ).otherwise(col(name))  # Retain the existing value in the name column if it's not empty\n",
    "        )\n",
    "\n",
    "        customers_enriched = customers_enriched.withColumn(\n",
    "            name,\n",
    "            when(col(\"name_filled\") == True, regexp_replace(col(name), \"[^a-zA-Z]\", \"\")).otherwise(col(name))\n",
    "        )\n",
    "        return customers_enriched\n",
    "    except Exception as e:\n",
    "        print(\"Error occurred while enriching name:\", str(e))\n",
    "        return df  # Return original DataFrame in case of error"
   ]
  },
  {
   "cell_type": "code",
   "execution_count": 0,
   "metadata": {
    "application/vnd.databricks.v1+cell": {
     "cellMetadata": {
      "byteLimit": 2048000,
      "rowLimit": 10000
     },
     "inputWidgets": {},
     "nuid": "9fed6728-53f5-4d48-aa1d-3554f6564590",
     "showTitle": false,
     "title": "function for cleaning phone number and write to North American Numbering plan"
    }
   },
   "outputs": [],
   "source": [
    "def clean_phone_number(df, column_name):\n",
    "    \"\"\"\n",
    "    Input arguments: dataframe, col1\n",
    "    Returns: dataframe\n",
    "    Description: checks for the compatability of the given col1 with North American Numbering Plan. If valid, the column is filled in +1(***)***-****x**** format.\n",
    "        Otherwise \"Invalid number\" will be filled in col1\n",
    "    \"\"\"\n",
    "    try:\n",
    "        # Define the cleaning logic as a separate function\n",
    "        def clean_phone_number_func(phone_number):\n",
    "            # Split the string with the first 'x' from the right\n",
    "            split_phone = phone_number.rsplit('x', 1)\n",
    "            if len(split_phone) == 2:\n",
    "                remaining_number = split_phone[0]\n",
    "                extension = split_phone[1]\n",
    "            else:\n",
    "                remaining_number = phone_number\n",
    "                extension = ''\n",
    "            \n",
    "            # Remove all non-digit characters from both extension and remaining string\n",
    "            remaining_number = re.sub(r'\\D', '', remaining_number)\n",
    "            extension = re.sub(r'\\D', '', extension)\n",
    "            \n",
    "            # Check the length of the remaining string\n",
    "            if len(remaining_number) < 10:\n",
    "                return 'Invalid phone number'\n",
    "            elif len(remaining_number) == 10:\n",
    "                # Format the number to +1(xxx)xxx-xxx format\n",
    "                formatted_number = '+1' + '(' + remaining_number[:3] + ')' + remaining_number[3:6] + '-' + remaining_number[6:]\n",
    "            elif len(remaining_number) > 10:\n",
    "                # Check if the extra digits from the left are 1\n",
    "                extra_digits = remaining_number[:-10]\n",
    "                if int(extra_digits) == 1:\n",
    "                    # Format the number to +1(xxx)xxx-xxx format\n",
    "                    formatted_number = '+1' + '(' + remaining_number[-10:-7] + ')' + remaining_number[-7:-4] + '-' + remaining_number[-4:]\n",
    "                else:\n",
    "                    return 'Invalid phone number'\n",
    "            \n",
    "            # Add extension (if not empty)\n",
    "            if extension:\n",
    "                formatted_number += 'x' + extension\n",
    "            \n",
    "            return formatted_number\n",
    "        \n",
    "        # Register UDF\n",
    "        clean_text_udf = udf(clean_phone_number_func, StringType())\n",
    "        \n",
    "        # Apply UDF to the specified column and overwrite the original column\n",
    "        cleaned_df = df.withColumn('_cleaned_'+column_name, clean_text_udf(col(column_name)))\n",
    "        \n",
    "        return cleaned_df\n",
    "    except Exception as e:\n",
    "        print(\"Error occurred while cleaning phone number:\", str(e))\n",
    "        return df  # Return original DataFrame in case of error\n"
   ]
  },
  {
   "cell_type": "code",
   "execution_count": 0,
   "metadata": {
    "application/vnd.databricks.v1+cell": {
     "cellMetadata": {
      "byteLimit": 2048000,
      "rowLimit": 10000
     },
     "inputWidgets": {},
     "nuid": "e2cde491-ba8b-4a50-9dce-6611f6f8e1cb",
     "showTitle": false,
     "title": "Function for aggregating columns and find total sales"
    }
   },
   "outputs": [],
   "source": [
    "def aggregate_dataframe(df, Order_year, Customer_ID, Category, Sub_Category, Profit) -> DataFrame:\n",
    "    \"\"\"\n",
    "    Input arguments: dataframe, col1, col2, col3, col4, col5\n",
    "    Returns: dataframe\n",
    "    Description: groups the given dataframe by col1, col2, col3, col4 aggregating with the sum of col5\n",
    "    \"\"\"\n",
    "    try:\n",
    "        # Aggregate the DataFrame based on four columns and compute the sum of the fifth column\n",
    "        aggregated_df = df.groupBy(Order_year, Customer_ID, Category, Sub_Category).agg(sum(col(Profit)).alias('Total_Profit'))\n",
    "        return aggregated_df\n",
    "    except Exception as e:\n",
    "        print(\"Error occurred while aggregating DataFrame:\", str(e))\n",
    "        return df  # Return original DataFrame in case of error\n"
   ]
  }
 ],
 "metadata": {
  "application/vnd.databricks.v1+notebook": {
   "dashboards": [],
   "language": "python",
   "notebookMetadata": {
    "pythonIndentUnit": 4
   },
   "notebookName": "PEI_transformation_functions",
   "widgets": {}
  }
 },
 "nbformat": 4,
 "nbformat_minor": 0
}
